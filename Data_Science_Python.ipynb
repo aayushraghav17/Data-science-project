{
  "nbformat": 4,
  "nbformat_minor": 0,
  "metadata": {
    "colab": {
      "provenance": [],
      "toc_visible": true
    },
    "kernelspec": {
      "name": "python3",
      "display_name": "Python 3"
    },
    "language_info": {
      "name": "python"
    }
  },
  "cells": [
    {
      "cell_type": "markdown",
      "source": [
        "# String"
      ],
      "metadata": {
        "id": "MvOOHIflQpYF"
      }
    },
    {
      "cell_type": "code",
      "source": [
        "#to print multiple elements\n",
        "name = 'Aayush'\n",
        "name[0:4]"
      ],
      "metadata": {
        "id": "PZZPHsVLQwRh",
        "colab": {
          "base_uri": "https://localhost:8080/",
          "height": 36
        },
        "outputId": "5fd7b1c3-3466-4f3b-a156-c4197d2d849e"
      },
      "execution_count": 1,
      "outputs": [
        {
          "output_type": "execute_result",
          "data": {
            "text/plain": [
              "'Aayu'"
            ],
            "application/vnd.google.colaboratory.intrinsic+json": {
              "type": "string"
            }
          },
          "metadata": {},
          "execution_count": 1
        }
      ]
    },
    {
      "cell_type": "code",
      "source": [
        "#to print length of string\n",
        "len(name)"
      ],
      "metadata": {
        "id": "Os0CBMeIRCsO",
        "colab": {
          "base_uri": "https://localhost:8080/"
        },
        "outputId": "2e7da7f3-f880-437a-8a9d-d74edc3c9a4f"
      },
      "execution_count": 2,
      "outputs": [
        {
          "output_type": "execute_result",
          "data": {
            "text/plain": [
              "6"
            ]
          },
          "metadata": {},
          "execution_count": 2
        }
      ]
    },
    {
      "cell_type": "code",
      "source": [
        "#to add aditional things in existing string\n",
        "updated_name = name + ' ' + 'Raghav'\n",
        "updated_name"
      ],
      "metadata": {
        "id": "B2SpF8wQRh_F",
        "colab": {
          "base_uri": "https://localhost:8080/",
          "height": 36
        },
        "outputId": "028b56d8-0986-47cf-d18f-439d5f61193e"
      },
      "execution_count": 3,
      "outputs": [
        {
          "output_type": "execute_result",
          "data": {
            "text/plain": [
              "'Aayush Raghav'"
            ],
            "application/vnd.google.colaboratory.intrinsic+json": {
              "type": "string"
            }
          },
          "metadata": {},
          "execution_count": 3
        }
      ]
    },
    {
      "cell_type": "code",
      "source": [
        "#to create multiple copies of original strings\n",
        "copies = 3*name\n",
        "copies"
      ],
      "metadata": {
        "id": "EzUlvIBBSAiU",
        "colab": {
          "base_uri": "https://localhost:8080/",
          "height": 36
        },
        "outputId": "6921207e-2979-4cd9-e35a-edb713a022e9"
      },
      "execution_count": 4,
      "outputs": [
        {
          "output_type": "execute_result",
          "data": {
            "text/plain": [
              "'AayushAayushAayush'"
            ],
            "application/vnd.google.colaboratory.intrinsic+json": {
              "type": "string"
            }
          },
          "metadata": {},
          "execution_count": 4
        }
      ]
    },
    {
      "cell_type": "code",
      "source": [
        "#used to make all letter in capital\n",
        "capital = updated_name.upper()\n",
        "capital"
      ],
      "metadata": {
        "id": "cFBmPGATSb69",
        "colab": {
          "base_uri": "https://localhost:8080/",
          "height": 36
        },
        "outputId": "8e69e72e-918d-437e-b44b-4363759acfe9"
      },
      "execution_count": 5,
      "outputs": [
        {
          "output_type": "execute_result",
          "data": {
            "text/plain": [
              "'AAYUSH RAGHAV'"
            ],
            "application/vnd.google.colaboratory.intrinsic+json": {
              "type": "string"
            }
          },
          "metadata": {},
          "execution_count": 5
        }
      ]
    },
    {
      "cell_type": "code",
      "source": [
        "#used to replace a string with another\n",
        "updated_name = updated_name.replace('Raghav','Thakur')\n",
        "updated_name"
      ],
      "metadata": {
        "id": "hpti1c76UN49",
        "colab": {
          "base_uri": "https://localhost:8080/",
          "height": 36
        },
        "outputId": "b75a29a2-2158-4e49-bf84-19e75fb51213"
      },
      "execution_count": 6,
      "outputs": [
        {
          "output_type": "execute_result",
          "data": {
            "text/plain": [
              "'Aayush Thakur'"
            ],
            "application/vnd.google.colaboratory.intrinsic+json": {
              "type": "string"
            }
          },
          "metadata": {},
          "execution_count": 6
        }
      ]
    },
    {
      "cell_type": "markdown",
      "source": [
        "#Tuples"
      ],
      "metadata": {
        "id": "40ddylnC9RjZ"
      }
    },
    {
      "cell_type": "markdown",
      "source": [
        "Tuples are immuitable we can't change it.\n",
        "we just add or make a new tuple as a refrence."
      ],
      "metadata": {
        "id": "Q1iVhXqP_C9u"
      }
    },
    {
      "cell_type": "code",
      "source": [
        "#we can add float, int and string together in a tuple\n",
        "x = (\"disco\", 11, 24.6)\n",
        "x"
      ],
      "metadata": {
        "id": "CchMoLqtUkzk",
        "colab": {
          "base_uri": "https://localhost:8080/"
        },
        "outputId": "9325b062-605d-4dd5-c6ce-1cbcf7ecb527"
      },
      "execution_count": 7,
      "outputs": [
        {
          "output_type": "execute_result",
          "data": {
            "text/plain": [
              "('disco', 11, 24.6)"
            ]
          },
          "metadata": {},
          "execution_count": 7
        }
      ]
    },
    {
      "cell_type": "code",
      "source": [
        "#to add something in a existing tuple\n",
        "update_x = x + (\"dance\", 10)\n",
        "update_x"
      ],
      "metadata": {
        "colab": {
          "base_uri": "https://localhost:8080/"
        },
        "id": "25fxYU-NUps5",
        "outputId": "0f15b1f7-700e-482f-983a-00588780f94d"
      },
      "execution_count": 8,
      "outputs": [
        {
          "output_type": "execute_result",
          "data": {
            "text/plain": [
              "('disco', 11, 24.6, 'dance', 10)"
            ]
          },
          "metadata": {},
          "execution_count": 8
        }
      ]
    },
    {
      "cell_type": "code",
      "source": [
        "#to sort a tuple\n",
        "num = (4,5,8,9,6,3,7,2,1)\n",
        "(sorted(num))\n"
      ],
      "metadata": {
        "id": "gzxT6lMq-F_r",
        "colab": {
          "base_uri": "https://localhost:8080/"
        },
        "outputId": "edbcaf78-0417-43c9-d12b-b50a463885f2"
      },
      "execution_count": 9,
      "outputs": [
        {
          "output_type": "execute_result",
          "data": {
            "text/plain": [
              "[1, 2, 3, 4, 5, 6, 7, 8, 9]"
            ]
          },
          "metadata": {},
          "execution_count": 9
        }
      ]
    },
    {
      "cell_type": "code",
      "source": [
        "#Tuple nesting --> add multiple tuples in a tuple\n",
        "my_tuple = ('hii', 'ayush', ('phone', 8,9,5,8,(9,7,5),6,8,8), 'pin', 2,0,2,4,1,2)\n",
        "\n",
        "#to access phone\n",
        "my_tuple[2][0]\n",
        "#to find the index of 7\n",
        "my_tuple[2][5].index(7)"
      ],
      "metadata": {
        "id": "vAW43RVm-nwQ",
        "colab": {
          "base_uri": "https://localhost:8080/"
        },
        "outputId": "fe287b1b-de21-447b-f912-b9e3642790f9"
      },
      "execution_count": 10,
      "outputs": [
        {
          "output_type": "execute_result",
          "data": {
            "text/plain": [
              "1"
            ]
          },
          "metadata": {},
          "execution_count": 10
        }
      ]
    },
    {
      "cell_type": "code",
      "source": [
        "#to access 975\n",
        "my_tuple[2][5]"
      ],
      "metadata": {
        "id": "BExR-KP4CNUx",
        "colab": {
          "base_uri": "https://localhost:8080/"
        },
        "outputId": "28f898d5-e958-48a7-a153-e5a358ec486b"
      },
      "execution_count": 11,
      "outputs": [
        {
          "output_type": "execute_result",
          "data": {
            "text/plain": [
              "(9, 7, 5)"
            ]
          },
          "metadata": {},
          "execution_count": 11
        }
      ]
    },
    {
      "cell_type": "markdown",
      "source": [
        "#List"
      ],
      "metadata": {
        "id": "FEM8O0TBEDLN"
      }
    },
    {
      "cell_type": "code",
      "source": [
        "#we can add list in a list, tuple, float, int in a list\n",
        "my_list = ['ayush', 1, 3, [1,7, 22.6, ('Raghav')], 'haaa']\n",
        "my_list"
      ],
      "metadata": {
        "id": "OFKpoPnNC-yK",
        "colab": {
          "base_uri": "https://localhost:8080/"
        },
        "outputId": "7939ec5d-4c30-458e-e8d2-258024aecb98"
      },
      "execution_count": 12,
      "outputs": [
        {
          "output_type": "execute_result",
          "data": {
            "text/plain": [
              "['ayush', 1, 3, [1, 7, 22.6, 'Raghav'], 'haaa']"
            ]
          },
          "metadata": {},
          "execution_count": 12
        }
      ]
    },
    {
      "cell_type": "code",
      "source": [
        "#to access 22.6\n",
        "my_list[3][2]"
      ],
      "metadata": {
        "id": "zbhbkCDCEv-s",
        "colab": {
          "base_uri": "https://localhost:8080/"
        },
        "outputId": "be9e0473-00fc-4a17-ec32-7108b0879967"
      },
      "execution_count": 13,
      "outputs": [
        {
          "output_type": "execute_result",
          "data": {
            "text/plain": [
              "22.6"
            ]
          },
          "metadata": {},
          "execution_count": 13
        }
      ]
    },
    {
      "cell_type": "code",
      "source": [
        "#to access raghav\n",
        "my_list[3][3]"
      ],
      "metadata": {
        "id": "MNhRTdYAFU2Y",
        "colab": {
          "base_uri": "https://localhost:8080/",
          "height": 36
        },
        "outputId": "87d90a7c-a430-42d9-fee4-e9291f645e9c"
      },
      "execution_count": 14,
      "outputs": [
        {
          "output_type": "execute_result",
          "data": {
            "text/plain": [
              "'Raghav'"
            ],
            "application/vnd.google.colaboratory.intrinsic+json": {
              "type": "string"
            }
          },
          "metadata": {},
          "execution_count": 14
        }
      ]
    },
    {
      "cell_type": "code",
      "source": [
        "# to add something in a old list\n",
        "new_list_1 = ['hello', 8, 99.9]\n",
        "new_list_1.extend(['hii', 44])     # .extend method use to add elements in a list\n",
        "len(new_list_1)"
      ],
      "metadata": {
        "id": "R5gJM4WyFmfK",
        "colab": {
          "base_uri": "https://localhost:8080/"
        },
        "outputId": "fd90affa-7fc8-4dce-f773-2b10b8b1f837"
      },
      "execution_count": 15,
      "outputs": [
        {
          "output_type": "execute_result",
          "data": {
            "text/plain": [
              "5"
            ]
          },
          "metadata": {},
          "execution_count": 15
        }
      ]
    },
    {
      "cell_type": "code",
      "source": [
        " # .append method use to add list in a list\n",
        "new_list_2 = ['hello', 8, 99.9]\n",
        "new_list_2.append(['hii', 44])\n",
        "len(new_list_2)"
      ],
      "metadata": {
        "id": "YmsuqjgbG2Mw",
        "colab": {
          "base_uri": "https://localhost:8080/"
        },
        "outputId": "0004d687-8632-4326-b1e4-ea9b27f0cadc"
      },
      "execution_count": 16,
      "outputs": [
        {
          "output_type": "execute_result",
          "data": {
            "text/plain": [
              "4"
            ]
          },
          "metadata": {},
          "execution_count": 16
        }
      ]
    },
    {
      "cell_type": "code",
      "source": [
        "#to change perticular element with another\n",
        "#change hii-->bye\n",
        "\n",
        "new_list_2[3][0] = 'bye'\n",
        "new_list_2"
      ],
      "metadata": {
        "id": "4HLLeOIQJSYI",
        "colab": {
          "base_uri": "https://localhost:8080/"
        },
        "outputId": "7a639ddd-2686-4826-83da-b4e73902bca2"
      },
      "execution_count": 17,
      "outputs": [
        {
          "output_type": "execute_result",
          "data": {
            "text/plain": [
              "['hello', 8, 99.9, ['bye', 44]]"
            ]
          },
          "metadata": {},
          "execution_count": 17
        }
      ]
    },
    {
      "cell_type": "code",
      "source": [
        "#to delete any element in a list\n",
        "# here we going to delete \"hii\"\n",
        "del(new_list_1[3])\n",
        "new_list_1"
      ],
      "metadata": {
        "id": "-wC1yUqhKZrP",
        "colab": {
          "base_uri": "https://localhost:8080/"
        },
        "outputId": "68ce2b51-9980-4f92-dade-db58a8c5e6ea"
      },
      "execution_count": 18,
      "outputs": [
        {
          "output_type": "execute_result",
          "data": {
            "text/plain": [
              "['hello', 8, 99.9, 44]"
            ]
          },
          "metadata": {},
          "execution_count": 18
        }
      ]
    },
    {
      "cell_type": "code",
      "source": [
        "#using split function to seperate elements\n",
        "\n",
        "string = \"ayush raghav\"\n",
        "x = string.split()\n",
        "x"
      ],
      "metadata": {
        "id": "eDH9oPi4LVoH",
        "colab": {
          "base_uri": "https://localhost:8080/"
        },
        "outputId": "200bc4a2-5e99-49a1-fc21-0bf3204ced69"
      },
      "execution_count": 19,
      "outputs": [
        {
          "output_type": "execute_result",
          "data": {
            "text/plain": [
              "['ayush', 'raghav']"
            ]
          },
          "metadata": {},
          "execution_count": 19
        }
      ]
    },
    {
      "cell_type": "markdown",
      "source": [
        "#Dictionaries"
      ],
      "metadata": {
        "id": "5s9unVs31rnW"
      }
    },
    {
      "cell_type": "code",
      "source": [
        "#to create a Dictionaries use these brackets {}\n",
        "         # {'key' : value}\n",
        "dic = {'Avengers Endgame':2019, 'Baby Driver':2017, 'Titanic':1997, 'Terminator':1984}\n",
        "dic"
      ],
      "metadata": {
        "id": "hX0ZaB1_MsAx",
        "colab": {
          "base_uri": "https://localhost:8080/"
        },
        "outputId": "bed2ccc8-dc2a-48d1-a9cc-3a8b4f9c801e"
      },
      "execution_count": 20,
      "outputs": [
        {
          "output_type": "execute_result",
          "data": {
            "text/plain": [
              "{'Avengers Endgame': 2019,\n",
              " 'Baby Driver': 2017,\n",
              " 'Titanic': 1997,\n",
              " 'Terminator': 1984}"
            ]
          },
          "metadata": {},
          "execution_count": 20
        }
      ]
    },
    {
      "cell_type": "code",
      "source": [
        "#to find value of particular key\n",
        "dic['Baby Driver']"
      ],
      "metadata": {
        "id": "I7u733xw4uwf",
        "colab": {
          "base_uri": "https://localhost:8080/"
        },
        "outputId": "6d798808-d985-4d1a-9151-dd394f573bb7"
      },
      "execution_count": 21,
      "outputs": [
        {
          "output_type": "execute_result",
          "data": {
            "text/plain": [
              "2017"
            ]
          },
          "metadata": {},
          "execution_count": 21
        }
      ]
    },
    {
      "cell_type": "code",
      "source": [
        "#to add another key in the existing dictionary\n",
        "\n",
        "dic['Joker'] = '2019'\n",
        "dic"
      ],
      "metadata": {
        "id": "1APvxRy72m20",
        "colab": {
          "base_uri": "https://localhost:8080/"
        },
        "outputId": "59b0b14a-9f02-4915-dcc7-15f8580b2ede"
      },
      "execution_count": 22,
      "outputs": [
        {
          "output_type": "execute_result",
          "data": {
            "text/plain": [
              "{'Avengers Endgame': 2019,\n",
              " 'Baby Driver': 2017,\n",
              " 'Titanic': 1997,\n",
              " 'Terminator': 1984,\n",
              " 'Joker': '2019'}"
            ]
          },
          "metadata": {},
          "execution_count": 22
        }
      ]
    },
    {
      "cell_type": "code",
      "source": [
        "#to delete particular key\n",
        "del(dic['Titanic'])"
      ],
      "metadata": {
        "id": "Of1bY-G83cAD"
      },
      "execution_count": 23,
      "outputs": []
    },
    {
      "cell_type": "code",
      "source": [
        "#to check particular key is present in a dictionary\n",
        "'Baby Driver' in dic"
      ],
      "metadata": {
        "id": "qmWh1D0d3fZO",
        "colab": {
          "base_uri": "https://localhost:8080/"
        },
        "outputId": "91b0d6a4-ffdf-4ee0-82ce-31d768ee97b1"
      },
      "execution_count": 24,
      "outputs": [
        {
          "output_type": "execute_result",
          "data": {
            "text/plain": [
              "True"
            ]
          },
          "metadata": {},
          "execution_count": 24
        }
      ]
    },
    {
      "cell_type": "code",
      "source": [
        "#to see all keys in a dictionary\n",
        "dic.keys()\n"
      ],
      "metadata": {
        "id": "SoeoEhJx3zFy",
        "colab": {
          "base_uri": "https://localhost:8080/"
        },
        "outputId": "66d654f0-4675-4ae7-f3c3-eea199e2eabe"
      },
      "execution_count": 25,
      "outputs": [
        {
          "output_type": "execute_result",
          "data": {
            "text/plain": [
              "dict_keys(['Avengers Endgame', 'Baby Driver', 'Terminator', 'Joker'])"
            ]
          },
          "metadata": {},
          "execution_count": 25
        }
      ]
    },
    {
      "cell_type": "code",
      "source": [
        "#to see all values in a dictionary\n",
        "dic.values()"
      ],
      "metadata": {
        "id": "DPu_dh9M4Vvu",
        "colab": {
          "base_uri": "https://localhost:8080/"
        },
        "outputId": "b1a2e650-4a94-4793-fb84-f4720c48e324"
      },
      "execution_count": 26,
      "outputs": [
        {
          "output_type": "execute_result",
          "data": {
            "text/plain": [
              "dict_values([2019, 2017, 1984, '2019'])"
            ]
          },
          "metadata": {},
          "execution_count": 26
        }
      ]
    },
    {
      "cell_type": "markdown",
      "source": [
        "#Sets"
      ],
      "metadata": {
        "id": "4dWW2zg48Kze"
      }
    },
    {
      "cell_type": "code",
      "source": [
        "#create a set & set not contain duplicate values\n",
        "my_set = {'hii', 'hello', 'bye', 'welcome','hii'}\n",
        "my_set"
      ],
      "metadata": {
        "id": "k_4KeKIW8M7s",
        "colab": {
          "base_uri": "https://localhost:8080/"
        },
        "outputId": "91392ab0-143f-405b-d0d3-42210980f043"
      },
      "execution_count": 27,
      "outputs": [
        {
          "output_type": "execute_result",
          "data": {
            "text/plain": [
              "{'bye', 'hello', 'hii', 'welcome'}"
            ]
          },
          "metadata": {},
          "execution_count": 27
        }
      ]
    },
    {
      "cell_type": "code",
      "source": [
        "#you can convert list in to set\n",
        "demo_list = ['ayush', 'arpit', 'abhishek', 'ayush', 'vishant', 'arpit']\n",
        "set(demo_list)"
      ],
      "metadata": {
        "id": "PXik_he98fdO",
        "colab": {
          "base_uri": "https://localhost:8080/"
        },
        "outputId": "99aa2293-0f45-44da-d9d9-42e2be6cf4cb"
      },
      "execution_count": 28,
      "outputs": [
        {
          "output_type": "execute_result",
          "data": {
            "text/plain": [
              "{'abhishek', 'arpit', 'ayush', 'vishant'}"
            ]
          },
          "metadata": {},
          "execution_count": 28
        }
      ]
    },
    {
      "cell_type": "code",
      "source": [
        "#to add something in a set\n",
        "my_set.add('music')\n",
        "my_set"
      ],
      "metadata": {
        "id": "9t-cwZqo88CV",
        "colab": {
          "base_uri": "https://localhost:8080/"
        },
        "outputId": "a4c084a8-e582-41a6-d1bd-457450a5219d"
      },
      "execution_count": 29,
      "outputs": [
        {
          "output_type": "execute_result",
          "data": {
            "text/plain": [
              "{'bye', 'hello', 'hii', 'music', 'welcome'}"
            ]
          },
          "metadata": {},
          "execution_count": 29
        }
      ]
    },
    {
      "cell_type": "code",
      "source": [
        "#to remove something in a set\n",
        "my_set.remove('music')\n",
        "my_set"
      ],
      "metadata": {
        "id": "cBBVtYuc-YsW",
        "colab": {
          "base_uri": "https://localhost:8080/"
        },
        "outputId": "544241df-0914-4fa7-a3a2-afcefb6e5dc2"
      },
      "execution_count": 30,
      "outputs": [
        {
          "output_type": "execute_result",
          "data": {
            "text/plain": [
              "{'bye', 'hello', 'hii', 'welcome'}"
            ]
          },
          "metadata": {},
          "execution_count": 30
        }
      ]
    },
    {
      "cell_type": "code",
      "source": [
        "#to check particular element is present in a set\n",
        "'hii' in my_set"
      ],
      "metadata": {
        "id": "0DeZP8qD_dv3",
        "colab": {
          "base_uri": "https://localhost:8080/"
        },
        "outputId": "ba2b8973-92e3-44bf-a7cc-0653a6b21c1f"
      },
      "execution_count": 31,
      "outputs": [
        {
          "output_type": "execute_result",
          "data": {
            "text/plain": [
              "True"
            ]
          },
          "metadata": {},
          "execution_count": 31
        }
      ]
    },
    {
      "cell_type": "code",
      "source": [
        "#to find common values between two sets\n",
        "set_1 = {1,2,3,4,5,6}\n",
        "set_2 = {4,5,6,7,8,9}\n",
        "\n",
        "com_set = set_1 & set_2\n",
        "com_set"
      ],
      "metadata": {
        "id": "qAvqbTcg_yZZ",
        "colab": {
          "base_uri": "https://localhost:8080/"
        },
        "outputId": "15c2aea7-d4b3-45b5-923c-e7c527f30ae0"
      },
      "execution_count": 32,
      "outputs": [
        {
          "output_type": "execute_result",
          "data": {
            "text/plain": [
              "{4, 5, 6}"
            ]
          },
          "metadata": {},
          "execution_count": 32
        }
      ]
    },
    {
      "cell_type": "code",
      "source": [
        "# to find all the elements of two sets\n",
        "set_1.union(set_2)"
      ],
      "metadata": {
        "id": "lNBBHImeBuHy",
        "colab": {
          "base_uri": "https://localhost:8080/"
        },
        "outputId": "97ff79b8-ee01-4c02-aae6-e1e44e3116e2"
      },
      "execution_count": 33,
      "outputs": [
        {
          "output_type": "execute_result",
          "data": {
            "text/plain": [
              "{1, 2, 3, 4, 5, 6, 7, 8, 9}"
            ]
          },
          "metadata": {},
          "execution_count": 33
        }
      ]
    },
    {
      "cell_type": "code",
      "source": [
        "# to check particular set all elements present in another\n",
        "set_1.issubset(set_2)"
      ],
      "metadata": {
        "id": "rkQpy7dUCIva",
        "colab": {
          "base_uri": "https://localhost:8080/"
        },
        "outputId": "0cd5c37c-ab07-4f33-9307-897c1958cf79"
      },
      "execution_count": 34,
      "outputs": [
        {
          "output_type": "execute_result",
          "data": {
            "text/plain": [
              "False"
            ]
          },
          "metadata": {},
          "execution_count": 34
        }
      ]
    },
    {
      "cell_type": "code",
      "source": [
        "com_set.issubset(set_2)"
      ],
      "metadata": {
        "id": "xVFsEgNHCmsc",
        "colab": {
          "base_uri": "https://localhost:8080/"
        },
        "outputId": "f83b5161-d7c8-44e3-e4b0-b772586591da"
      },
      "execution_count": 35,
      "outputs": [
        {
          "output_type": "execute_result",
          "data": {
            "text/plain": [
              "True"
            ]
          },
          "metadata": {},
          "execution_count": 35
        }
      ]
    },
    {
      "cell_type": "markdown",
      "source": [
        "#If else conditions"
      ],
      "metadata": {
        "id": "wvl77jl8TIOx"
      }
    },
    {
      "cell_type": "code",
      "source": [
        "#syntx\n",
        "#The else statement should be at the same indentation level as the if statement\n",
        "age = 17\n",
        "if age>18:\n",
        "  print('you can enter in the club')\n",
        "else:\n",
        "    print('move on')\n"
      ],
      "metadata": {
        "id": "3alYX2YbCyQk",
        "colab": {
          "base_uri": "https://localhost:8080/"
        },
        "outputId": "92e2254a-5ffd-4a13-887d-6b4a53f84cb6"
      },
      "execution_count": 36,
      "outputs": [
        {
          "output_type": "stream",
          "name": "stdout",
          "text": [
            "move on\n"
          ]
        }
      ]
    },
    {
      "cell_type": "code",
      "source": [
        "#code for age category like kid, teenage, adult\n",
        "\n",
        "age = int(input('enter your age: '))\n",
        "\n",
        "if (age<=10):\n",
        "  print('you are kid')\n",
        "elif(age>10 and age<18):\n",
        "  print('you are teenager')\n",
        "else:\n",
        "  print('you are an adult')"
      ],
      "metadata": {
        "id": "VXoNrohqT3__",
        "colab": {
          "base_uri": "https://localhost:8080/"
        },
        "outputId": "0491a5c4-735f-41e3-d578-600b12d27b2f"
      },
      "execution_count": 37,
      "outputs": [
        {
          "output_type": "stream",
          "name": "stdout",
          "text": [
            "enter your age: 5\n",
            "you are kid\n"
          ]
        }
      ]
    },
    {
      "cell_type": "code",
      "source": [
        "# code for largest of three\n",
        "a=100\n",
        "b=15\n",
        "c=500\n",
        "if a>b:\n",
        "  if a>c:\n",
        "     print('a is larger')\n",
        "  else:\n",
        "     print('c is larger')\n",
        "else:\n",
        "  if b>c:\n",
        "     print('b is larger')\n",
        "  else:\n",
        "     print('c is larger')\n",
        "\n"
      ],
      "metadata": {
        "id": "_sRc8M5r5N4s",
        "colab": {
          "base_uri": "https://localhost:8080/"
        },
        "outputId": "72e07ff8-4f01-4074-9e42-ee1388d44081"
      },
      "execution_count": 38,
      "outputs": [
        {
          "output_type": "stream",
          "name": "stdout",
          "text": [
            "c is larger\n"
          ]
        }
      ]
    },
    {
      "cell_type": "markdown",
      "source": [
        "#Loops"
      ],
      "metadata": {
        "id": "Doxj6S9BIYow"
      }
    },
    {
      "cell_type": "markdown",
      "source": [
        "syntax of for loop is\n",
        "----> for variable in iterable:\n",
        "     code block to be executed for each iteration\n"
      ],
      "metadata": {
        "id": "HeieZ4PZIdLj"
      }
    },
    {
      "cell_type": "code",
      "source": [
        "#using for loop to change the all elements color in the list\n",
        "squares = ['red', 'green', 'yellow', 'blue']\n",
        "\n",
        "for i in range(0,4):    #using function---> range() this function is used for index values\n",
        " squares[i] = 'grey'\n",
        " print(squares[i][0:4])"
      ],
      "metadata": {
        "id": "p0hoQ_kwWvLw",
        "colab": {
          "base_uri": "https://localhost:8080/"
        },
        "outputId": "0467330d-6df0-4e62-e84d-d8bb7b4f97f3"
      },
      "execution_count": 39,
      "outputs": [
        {
          "output_type": "stream",
          "name": "stdout",
          "text": [
            "grey\n",
            "grey\n",
            "grey\n",
            "grey\n"
          ]
        }
      ]
    },
    {
      "cell_type": "code",
      "source": [
        "# to find the index of each element using loop\n",
        "squares = ['red', 'green', 'yellow', 'blue']\n",
        "\n",
        "for index,element in enumerate(squares):    #using function enumerate()\n",
        " print(index,element)\n"
      ],
      "metadata": {
        "id": "uxCvL27OKmUv",
        "colab": {
          "base_uri": "https://localhost:8080/"
        },
        "outputId": "67668c59-9e91-4a75-de9e-0b2a6952d91c"
      },
      "execution_count": 40,
      "outputs": [
        {
          "output_type": "stream",
          "name": "stdout",
          "text": [
            "0 red\n",
            "1 green\n",
            "2 yellow\n",
            "3 blue\n"
          ]
        }
      ]
    },
    {
      "cell_type": "code",
      "source": [
        "#Write a for loop the prints out all the element between -5 and 5 using the range function.\n",
        "n = [-5,-4,-3,-2,-1,0,1,2,3,4,5]\n",
        "\n",
        "for i in range(-4,5):\n",
        "    print(i)"
      ],
      "metadata": {
        "id": "MOcoloKDTVuU",
        "colab": {
          "base_uri": "https://localhost:8080/"
        },
        "outputId": "cd161776-aa98-44d0-aa29-144c5fe6712c"
      },
      "execution_count": 41,
      "outputs": [
        {
          "output_type": "stream",
          "name": "stdout",
          "text": [
            "-4\n",
            "-3\n",
            "-2\n",
            "-1\n",
            "0\n",
            "1\n",
            "2\n",
            "3\n",
            "4\n"
          ]
        }
      ]
    },
    {
      "cell_type": "code",
      "source": [
        "#Print the elements of the following list:\n",
        "Genres=[ 'rock', 'R&B', 'Soundtrack', 'R&B', 'soul', 'pop']\n",
        "for i in range(0,6):\n",
        " print(Genres[i])"
      ],
      "metadata": {
        "id": "MkeKkzVeTwjU",
        "colab": {
          "base_uri": "https://localhost:8080/"
        },
        "outputId": "173badf4-bd81-4079-97a4-ad0663e69dfe"
      },
      "execution_count": 42,
      "outputs": [
        {
          "output_type": "stream",
          "name": "stdout",
          "text": [
            "rock\n",
            "R&B\n",
            "Soundtrack\n",
            "R&B\n",
            "soul\n",
            "pop\n"
          ]
        }
      ]
    },
    {
      "cell_type": "code",
      "source": [
        "# another way to print all elements of the list\n",
        "for i in Genres:\n",
        "  print(i)"
      ],
      "metadata": {
        "id": "HpNiCSKlTw2g",
        "colab": {
          "base_uri": "https://localhost:8080/"
        },
        "outputId": "42897b2b-acf3-4649-dec8-95cdaf093f79"
      },
      "execution_count": 43,
      "outputs": [
        {
          "output_type": "stream",
          "name": "stdout",
          "text": [
            "rock\n",
            "R&B\n",
            "Soundtrack\n",
            "R&B\n",
            "soul\n",
            "pop\n"
          ]
        }
      ]
    },
    {
      "cell_type": "code",
      "source": [
        "# to print even no\n",
        "for i in range(2, 11, 2):    # range( starting, ending, addition)\n",
        "    print(i)"
      ],
      "metadata": {
        "id": "nvfb-1L97a8X",
        "colab": {
          "base_uri": "https://localhost:8080/"
        },
        "outputId": "e7438e52-bbb0-4c93-93b8-adc1bc1b034f"
      },
      "execution_count": 44,
      "outputs": [
        {
          "output_type": "stream",
          "name": "stdout",
          "text": [
            "2\n",
            "4\n",
            "6\n",
            "8\n",
            "10\n"
          ]
        }
      ]
    },
    {
      "cell_type": "code",
      "source": [
        "#check no is prime or not\n",
        "num = int(input(\"Enter a number: \"))\n",
        "\n",
        "if num > 1:\n",
        "    for i in range(2, num):\n",
        "        if num % i == 0:\n",
        "            print(num, \"is not a prime number\")\n",
        "            break\n",
        "    else:\n",
        "        print(num, \"is a prime number\")\n",
        "else:\n",
        "    print(num, \"is not a prime number\")\n"
      ],
      "metadata": {
        "id": "3SRYMwYG8Hxz",
        "colab": {
          "base_uri": "https://localhost:8080/"
        },
        "outputId": "735deaeb-4f7b-42b2-99ca-071b428dda90"
      },
      "execution_count": 45,
      "outputs": [
        {
          "output_type": "stream",
          "name": "stdout",
          "text": [
            "Enter a number: 5\n",
            "5 is a prime number\n"
          ]
        }
      ]
    },
    {
      "cell_type": "code",
      "source": [
        "# print hello in 10 times\n",
        "for i in range(1,11):\n",
        "  print('hello')"
      ],
      "metadata": {
        "id": "vFIQZeWB-5jx",
        "colab": {
          "base_uri": "https://localhost:8080/"
        },
        "outputId": "c73a4853-a2b6-4980-dfd2-d2fafb117a1d"
      },
      "execution_count": 46,
      "outputs": [
        {
          "output_type": "stream",
          "name": "stdout",
          "text": [
            "hello\n",
            "hello\n",
            "hello\n",
            "hello\n",
            "hello\n",
            "hello\n",
            "hello\n",
            "hello\n",
            "hello\n",
            "hello\n"
          ]
        }
      ]
    },
    {
      "cell_type": "markdown",
      "source": [
        "**while loop**"
      ],
      "metadata": {
        "id": "b7isARJnOaYu"
      }
    },
    {
      "cell_type": "code",
      "source": [
        "squares = ['red', 'green', 'yellow', 'blue']\n",
        "\n",
        "i = 0\n",
        "while i < 4:\n",
        "    squares[i] = 'grey'\n",
        "    print(squares[i][0:4])\n",
        "    i += 1"
      ],
      "metadata": {
        "id": "VvweWe2ANFy2",
        "colab": {
          "base_uri": "https://localhost:8080/"
        },
        "outputId": "1d34612f-f87b-484f-e4bc-2bf29b733460"
      },
      "execution_count": 47,
      "outputs": [
        {
          "output_type": "stream",
          "name": "stdout",
          "text": [
            "grey\n",
            "grey\n",
            "grey\n",
            "grey\n"
          ]
        }
      ]
    },
    {
      "cell_type": "code",
      "source": [
        "squares = ['red', 'green', 'yellow', 'blue']\n",
        "\n",
        "index = 0\n",
        "while index < len(squares):\n",
        "    print(index, squares[index])\n",
        "    index += 1\n"
      ],
      "metadata": {
        "id": "ALId0WMEOikO",
        "colab": {
          "base_uri": "https://localhost:8080/"
        },
        "outputId": "1e09216f-65f4-45ef-b8a3-542d1270462d"
      },
      "execution_count": 48,
      "outputs": [
        {
          "output_type": "stream",
          "name": "stdout",
          "text": [
            "0 red\n",
            "1 green\n",
            "2 yellow\n",
            "3 blue\n"
          ]
        }
      ]
    },
    {
      "cell_type": "code",
      "source": [
        "#Write a while loop to display the values of the Rating of an album playlist stored in the list PlayListRatings.\n",
        "#If the score is less than 6, exit the loop.\n",
        "PlayListRatings = [10, 9.5, 10, 8, 7.5, 5, 10, 10]\n",
        "\n",
        "i = 0\n",
        "rating = PlayListRatings[i]\n",
        "while(i < len(PlayListRatings) and rating >= 6):\n",
        "    print(rating)\n",
        "    i = i + 1\n",
        "    rating = PlayListRatings[i]"
      ],
      "metadata": {
        "id": "1cEMrFqMO7CW",
        "colab": {
          "base_uri": "https://localhost:8080/"
        },
        "outputId": "cd958126-0977-49f0-d38e-d1e0507c8aa3"
      },
      "execution_count": 49,
      "outputs": [
        {
          "output_type": "stream",
          "name": "stdout",
          "text": [
            "10\n",
            "9.5\n",
            "10\n",
            "8\n",
            "7.5\n"
          ]
        }
      ]
    },
    {
      "cell_type": "code",
      "source": [
        "PlayListRatings = [10, 9.5, 10, 8, 7.5, 5, 10, 10]\n",
        "\n",
        "i = 0\n",
        "rating = 0\n",
        "while (i < len(PlayListRatings) and rating >= 6):\n",
        "    rating = PlayListRatings[i]\n",
        "    print(rating)\n",
        "    i += 1\n",
        ""
      ],
      "metadata": {
        "id": "jG1B0GXhQLdQ"
      },
      "execution_count": 50,
      "outputs": []
    },
    {
      "cell_type": "code",
      "source": [
        "# print hello world in 10 times\n",
        "count = 0\n",
        "while count < 10:\n",
        "    print(\"Hello, World!\")\n",
        "    count += 1\n"
      ],
      "metadata": {
        "id": "aJKfE7FtV4EL",
        "colab": {
          "base_uri": "https://localhost:8080/"
        },
        "outputId": "5d67df60-6db3-4ae9-e223-73dc7eb9ba44"
      },
      "execution_count": 51,
      "outputs": [
        {
          "output_type": "stream",
          "name": "stdout",
          "text": [
            "Hello, World!\n",
            "Hello, World!\n",
            "Hello, World!\n",
            "Hello, World!\n",
            "Hello, World!\n",
            "Hello, World!\n",
            "Hello, World!\n",
            "Hello, World!\n",
            "Hello, World!\n",
            "Hello, World!\n"
          ]
        }
      ]
    },
    {
      "cell_type": "markdown",
      "source": [
        "#Function"
      ],
      "metadata": {
        "id": "-GgqlpUpW2Zz"
      }
    },
    {
      "cell_type": "code",
      "source": [
        "def add():\n",
        "  return(1+2)\n",
        "   #to call this function\n",
        "add()"
      ],
      "metadata": {
        "id": "a2SG5_eOcUnR",
        "colab": {
          "base_uri": "https://localhost:8080/"
        },
        "outputId": "e0e4ce1c-8eec-4c13-d888-c5ae52f8e25e"
      },
      "execution_count": 52,
      "outputs": [
        {
          "output_type": "execute_result",
          "data": {
            "text/plain": [
              "3"
            ]
          },
          "metadata": {},
          "execution_count": 52
        }
      ]
    },
    {
      "cell_type": "code",
      "source": [
        "def mult(a,b):\n",
        "  return(a*b)\n",
        "\n",
        "mult(5,3)\n"
      ],
      "metadata": {
        "id": "WdLaOdjwXLCl",
        "colab": {
          "base_uri": "https://localhost:8080/"
        },
        "outputId": "0f072e1f-1289-44c2-917b-4e69c8dcf75d"
      },
      "execution_count": 53,
      "outputs": [
        {
          "output_type": "execute_result",
          "data": {
            "text/plain": [
              "15"
            ]
          },
          "metadata": {},
          "execution_count": 53
        }
      ]
    },
    {
      "cell_type": "code",
      "source": [
        "#Write a Python function to sum all the numbers in a list.\n",
        "my_list = [1,2,3,5,6,1,4]\n",
        "\n",
        "def sums():\n",
        "    s = sum(my_list)\n",
        "\n",
        "    return s\n",
        "sums()"
      ],
      "metadata": {
        "id": "Zc-shSiJXf-g",
        "colab": {
          "base_uri": "https://localhost:8080/"
        },
        "outputId": "19dd60cc-047b-49d9-abac-6b32a1658bf2"
      },
      "execution_count": 54,
      "outputs": [
        {
          "output_type": "execute_result",
          "data": {
            "text/plain": [
              "22"
            ]
          },
          "metadata": {},
          "execution_count": 54
        }
      ]
    },
    {
      "cell_type": "code",
      "source": [
        "#Write a Python function to multiply all the numbers in a list\n",
        "my_list = [1,3,4,3]\n",
        "\n",
        "def mlty(my_list):\n",
        "  result = 1\n",
        "  for i in my_list:      # also we can write like --> for i in my_list[0:4:2]:   [starting:ending:addition]\n",
        "      result = result*i\n",
        "  return result\n",
        "print(mlty(my_list))"
      ],
      "metadata": {
        "id": "4UGleEmJed5e",
        "colab": {
          "base_uri": "https://localhost:8080/"
        },
        "outputId": "5a910d78-64cd-41f6-a38a-fc35b6123f27"
      },
      "execution_count": 55,
      "outputs": [
        {
          "output_type": "stream",
          "name": "stdout",
          "text": [
            "36\n"
          ]
        }
      ]
    },
    {
      "cell_type": "markdown",
      "source": [
        "# try : except:"
      ],
      "metadata": {
        "id": "5vziesxqz3e1"
      }
    },
    {
      "cell_type": "code",
      "source": [
        "# here we use exceptional handeling coz we that if we put string value in place of integer we got an error..\n",
        "try:\n",
        "    table = int(input('enter the no: '))\n",
        "    for i in range(1,11):\n",
        "       result = table*i\n",
        "       print(f\"{table}x{i}={result}\")\n",
        "except:\n",
        "   print('invalid input..!')\n"
      ],
      "metadata": {
        "id": "HcTEInTjez6Q",
        "colab": {
          "base_uri": "https://localhost:8080/"
        },
        "outputId": "809602a6-8911-44ff-99bb-c0289eae04b7"
      },
      "execution_count": 56,
      "outputs": [
        {
          "output_type": "stream",
          "name": "stdout",
          "text": [
            "enter the no: 2\n",
            "2x1=2\n",
            "2x2=4\n",
            "2x3=6\n",
            "2x4=8\n",
            "2x5=10\n",
            "2x6=12\n",
            "2x7=14\n",
            "2x8=16\n",
            "2x9=18\n",
            "2x10=20\n"
          ]
        }
      ]
    },
    {
      "cell_type": "code",
      "source": [
        "def divide():\n",
        "    try:\n",
        "        x = int(input('enter no: '))\n",
        "        y = int(input('enter no: '))\n",
        "        result = x // y\n",
        "        print(\"Yeah ! Your answer is :\", result)\n",
        "    except ZeroDivisionError:\n",
        "        print(\"Sorry ! You are dividing by zero \")\n",
        "\n",
        "divide()"
      ],
      "metadata": {
        "id": "ftodKKWqBDxY",
        "colab": {
          "base_uri": "https://localhost:8080/"
        },
        "outputId": "c957324f-047c-4b98-f588-77509f5be5a7"
      },
      "execution_count": 57,
      "outputs": [
        {
          "output_type": "stream",
          "name": "stdout",
          "text": [
            "enter no: 4\n",
            "enter no: 2\n",
            "Yeah ! Your answer is : 2\n"
          ]
        }
      ]
    },
    {
      "cell_type": "markdown",
      "source": [
        "#object & classes"
      ],
      "metadata": {
        "id": "MGL2guWf7V8F"
      }
    },
    {
      "cell_type": "code",
      "source": [
        "# Import the library to draw figures\n",
        "\n",
        "import matplotlib.pyplot as plt\n",
        "%matplotlib inline"
      ],
      "metadata": {
        "id": "NHBMwFs67drh"
      },
      "execution_count": 58,
      "outputs": []
    },
    {
      "cell_type": "code",
      "source": [
        "class circle(object):\n",
        "\n",
        "   #constructor\n",
        "   def __init__(self,radius,color):\n",
        "      self.radius = radius\n",
        "      self.color = color\n",
        "   #method\n",
        "   def add_radius(self,r):\n",
        "      self.radius = self.radius + r\n",
        "      return (self.radius)\n",
        "\n",
        "   #method\n",
        "   def drawcircle(self):\n",
        "       plt.gca().add_patch(plt.Circle((0, 0), radius=self.radius, fc=self.color))\n",
        "       plt.axis('scaled')\n",
        "       plt.show()"
      ],
      "metadata": {
        "id": "cdn4B0sA4QHS"
      },
      "execution_count": 59,
      "outputs": []
    },
    {
      "cell_type": "code",
      "source": [
        "#Creating an instance of a class Circle\n",
        "redcircle = circle(10,'red')"
      ],
      "metadata": {
        "id": "g7nA9-qO7eFJ"
      },
      "execution_count": 60,
      "outputs": []
    },
    {
      "cell_type": "code",
      "source": [
        "# Print the object attribute radius\n",
        "redcircle.radius"
      ],
      "metadata": {
        "id": "Qw4s43HY9gXN",
        "colab": {
          "base_uri": "https://localhost:8080/"
        },
        "outputId": "f37df2d8-2660-4bfe-88f6-5d86a6398587"
      },
      "execution_count": 61,
      "outputs": [
        {
          "output_type": "execute_result",
          "data": {
            "text/plain": [
              "10"
            ]
          },
          "metadata": {},
          "execution_count": 61
        }
      ]
    },
    {
      "cell_type": "code",
      "source": [
        "# Print the object attribute color\n",
        "redcircle.color"
      ],
      "metadata": {
        "id": "c6OmtqTz91sf",
        "colab": {
          "base_uri": "https://localhost:8080/",
          "height": 36
        },
        "outputId": "7f9171c1-5400-4a9c-8e82-543d0eb69808"
      },
      "execution_count": 62,
      "outputs": [
        {
          "output_type": "execute_result",
          "data": {
            "text/plain": [
              "'red'"
            ],
            "application/vnd.google.colaboratory.intrinsic+json": {
              "type": "string"
            }
          },
          "metadata": {},
          "execution_count": 62
        }
      ]
    },
    {
      "cell_type": "code",
      "source": [
        "#We can change the object's data attributes:\n",
        "redcircle.radius = 12\n",
        "redcircle.radius"
      ],
      "metadata": {
        "id": "_aBv5Us491v-",
        "colab": {
          "base_uri": "https://localhost:8080/"
        },
        "outputId": "90af73e4-0cfb-4716-c9b7-6a36ab78a91c"
      },
      "execution_count": 63,
      "outputs": [
        {
          "output_type": "execute_result",
          "data": {
            "text/plain": [
              "12"
            ]
          },
          "metadata": {},
          "execution_count": 63
        }
      ]
    },
    {
      "cell_type": "code",
      "source": [
        "#We can draw the object by using the method drawCircle():\n",
        "redcircle.drawcircle()"
      ],
      "metadata": {
        "id": "e0B2lSDj91zW",
        "colab": {
          "base_uri": "https://localhost:8080/",
          "height": 430
        },
        "outputId": "f8fab125-5d0f-4ada-98a9-aa5e2c9e1a05"
      },
      "execution_count": 64,
      "outputs": [
        {
          "output_type": "display_data",
          "data": {
            "text/plain": [
              "<Figure size 640x480 with 1 Axes>"
            ],
            "image/png": "[encoded data removed]"
          },
          "metadata": {}
        }
      ]
    },
    {
      "cell_type": "code",
      "source": [
        "#Creating an another instance of a class Circle\n",
        "bluecircle = circle(20,'blue')"
      ],
      "metadata": {
        "id": "ZXhdK2ra_YwD"
      },
      "execution_count": 65,
      "outputs": []
    },
    {
      "cell_type": "code",
      "source": [
        "bluecircle.radius"
      ],
      "metadata": {
        "id": "fIfzqrwI_Y5d",
        "colab": {
          "base_uri": "https://localhost:8080/"
        },
        "outputId": "81812fb6-5899-42d5-93d8-9234b58fd00e"
      },
      "execution_count": 66,
      "outputs": [
        {
          "output_type": "execute_result",
          "data": {
            "text/plain": [
              "20"
            ]
          },
          "metadata": {},
          "execution_count": 66
        }
      ]
    },
    {
      "cell_type": "code",
      "source": [
        "bluecircle.color"
      ],
      "metadata": {
        "id": "306-x84M_Y8P",
        "colab": {
          "base_uri": "https://localhost:8080/",
          "height": 36
        },
        "outputId": "1f939bff-5f53-43eb-eec2-d23ae15c8fad"
      },
      "execution_count": 67,
      "outputs": [
        {
          "output_type": "execute_result",
          "data": {
            "text/plain": [
              "'blue'"
            ],
            "application/vnd.google.colaboratory.intrinsic+json": {
              "type": "string"
            }
          },
          "metadata": {},
          "execution_count": 67
        }
      ]
    },
    {
      "cell_type": "code",
      "source": [
        "bluecircle.drawcircle()"
      ],
      "metadata": {
        "id": "1EU35T16_Y_J",
        "colab": {
          "base_uri": "https://localhost:8080/",
          "height": 430
        },
        "outputId": "75d275a3-ecc0-40a6-cd5e-87b7f0d606e2"
      },
      "execution_count": 68,
      "outputs": [
        {
          "output_type": "display_data",
          "data": {
            "text/plain": [
              "<Figure size 640x480 with 1 Axes>"
            ],
            "image/png": "[encoded data removed]"
          },
          "metadata": {}
        }
      ]
    },
    {
      "cell_type": "code",
      "source": [
        "class Rectangle(object):\n",
        "\n",
        "   def __init__(self,length,width,color):\n",
        "      self.length = length\n",
        "      self.width = width\n",
        "      self.color = color\n",
        "\n",
        "   def drawRectangle(self):\n",
        "        plt.gca().add_patch(plt.Rectangle((0, 0), self.width, self.length ,fc=self.color))\n",
        "        plt.axis('scaled')\n",
        "        plt.show()\n"
      ],
      "metadata": {
        "id": "ATUlzX7X_ZBg"
      },
      "execution_count": 69,
      "outputs": []
    },
    {
      "cell_type": "code",
      "source": [
        "yellow_rectangle = Rectangle(5,10,'yellow')"
      ],
      "metadata": {
        "id": "Hwq6t0jz_ZEI"
      },
      "execution_count": 70,
      "outputs": []
    },
    {
      "cell_type": "code",
      "source": [
        "yellow_rectangle.length"
      ],
      "metadata": {
        "id": "1_03Urvo_ZHJ",
        "colab": {
          "base_uri": "https://localhost:8080/"
        },
        "outputId": "b6593688-5818-4d7e-8f5e-1bf4c1224c2f"
      },
      "execution_count": 71,
      "outputs": [
        {
          "output_type": "execute_result",
          "data": {
            "text/plain": [
              "5"
            ]
          },
          "metadata": {},
          "execution_count": 71
        }
      ]
    },
    {
      "cell_type": "code",
      "source": [
        "yellow_rectangle.width"
      ],
      "metadata": {
        "id": "lacFrS08_ZLp",
        "colab": {
          "base_uri": "https://localhost:8080/"
        },
        "outputId": "08669751-508f-461f-908f-02b51eb61b9a"
      },
      "execution_count": 72,
      "outputs": [
        {
          "output_type": "execute_result",
          "data": {
            "text/plain": [
              "10"
            ]
          },
          "metadata": {},
          "execution_count": 72
        }
      ]
    },
    {
      "cell_type": "code",
      "source": [
        "yellow_rectangle.color"
      ],
      "metadata": {
        "id": "WmOp1FIMA81n",
        "colab": {
          "base_uri": "https://localhost:8080/",
          "height": 36
        },
        "outputId": "68326912-1ef9-42f6-eb3c-89ed40066a84"
      },
      "execution_count": 73,
      "outputs": [
        {
          "output_type": "execute_result",
          "data": {
            "text/plain": [
              "'yellow'"
            ],
            "application/vnd.google.colaboratory.intrinsic+json": {
              "type": "string"
            }
          },
          "metadata": {},
          "execution_count": 73
        }
      ]
    },
    {
      "cell_type": "code",
      "source": [
        "yellow_rectangle.drawRectangle()"
      ],
      "metadata": {
        "id": "YtmDPpi7A-zO",
        "colab": {
          "base_uri": "https://localhost:8080/",
          "height": 308
        },
        "outputId": "1045520b-003d-4ddc-e946-fb98522773fe"
      },
      "execution_count": 74,
      "outputs": [
        {
          "output_type": "display_data",
          "data": {
            "text/plain": [
              "<Figure size 640x480 with 1 Axes>"
            ],
            "image/png": "[encoded data removed]"
          },
          "metadata": {}
        }
      ]
    },
    {
      "cell_type": "markdown",
      "source": [
        "# Way to read txt file\n"
      ],
      "metadata": {
        "id": "4l0XDS_yYhyD"
      }
    },
    {
      "cell_type": "code",
      "source": [
        "#open any txt file using OPEN method download this file from keggle\n",
        "file = open('/content/IMDB Top 250 Movies.csv','r')"
      ],
      "metadata": {
        "id": "Iqbyw6cfBE5K"
      },
      "execution_count": 76,
      "outputs": []
    },
    {
      "cell_type": "code",
      "source": [
        "file.name"
      ],
      "metadata": {
        "id": "MD-6CRyRZWef",
        "colab": {
          "base_uri": "https://localhost:8080/",
          "height": 36
        },
        "outputId": "c64b0ccb-53f3-440d-a7fd-d928cce5d853"
      },
      "execution_count": 77,
      "outputs": [
        {
          "output_type": "execute_result",
          "data": {
            "text/plain": [
              "'/content/IMDB Top 250 Movies.csv'"
            ],
            "application/vnd.google.colaboratory.intrinsic+json": {
              "type": "string"
            }
          },
          "metadata": {},
          "execution_count": 77
        }
      ]
    },
    {
      "cell_type": "code",
      "source": [
        "content = file.read()\n",
        "content"
      ],
      "metadata": {
        "id": "GDQVG2sHZ5oH",
        "colab": {
          "base_uri": "https://localhost:8080/",
          "height": 165
        },
        "outputId": "946e0e8f-be6c-424b-c5fe-2860219e699e"
      },
      "execution_count": 78,
      "outputs": [
        {
          "output_type": "execute_result",
          "data": {
            "text/plain": [
              "'rank,name,year,rating,genre,certificate,run_time,tagline,budget,box_office,casts,directors,writers\\n1,The Shawshank Redemption,1994,9.3,Drama,R,2h 22m,Fear can hold you prisoner. Hope can set you free.,25000000,28884504,\"Tim Robbins,Morgan Freeman,Bob Gunton,William Sadler,Clancy Brown,Gil Bellows,Mark Rolston,James Whitmore,Jeffrey DeMunn,Larry Brandenburg,Neil Giuntoli,Brian Libby,David Proval,Joseph Ragno,Jude Ciccolella,Paul McCrane,Renee Blaine,Scott Mann\",Frank Darabont,\"Stephen King,Frank Darabont\"\\n2,The Godfather,1972,9.2,\"Crime,Drama\",R,2h 55m,An offer you can\\'t refuse.,6000000,250341816,\"Marlon Brando,Al Pacino,James Caan,Diane Keaton,Richard S. Castellano,Robert Duvall,Sterling Hayden,John Marley,Richard Conte,Al Lettieri,Abe Vigoda,Talia Shire,Gianni Russo,John Cazale,Rudy Bond,Al Martino,Morgana King,Lenny Montana\",Francis Ford Coppola,\"Mario Puzo,Francis Ford Coppola\"\\n3,The Dark Knight,2008,9.0,\"Action,Crime,Drama\",PG-13,2h 32m,Why So Serious?,185000000,1006234167,\"Christian Bale,Heath Ledger,Aaron Eckhart,Michael Caine,Maggie Gyllenhaal,Gary Oldman,Morgan Freeman,Monique Gabriela Curnen,Ron Dean,Cillian Murphy,Chin Han,Nestor Carbonell,Eric Roberts,Ritchie Coster,Anthony Michael Hall,Keith Szarabajka,Colin McFarlane,Joshua Harto\",Christopher Nolan,\"Jonathan Nolan,Christopher Nolan,David S. Goyer\"\\n4,The Godfather Part II,1974,9.0,\"Crime,Drama\",R,3h 22m,All the power on earth can\\'t change destiny.,13000000,47961919,\"Al Pacino,Robert De Niro,Robert Duvall,Diane Keaton,John Cazale,Talia Shire,Lee Strasberg,Michael V. Gazzo,G.D. Spradlin,Richard Bright,Gastone Moschin,Tom Rosqui,Bruno Kirby,Frank Sivero,Francesca De Sapio,Morgana King,Marianna Hill,Leopoldo Trieste\",Francis Ford Coppola,\"Francis Ford Coppola,Mario Puzo\"\\n5,12 Angry Men,1957,9.0,\"Crime,Drama\",Approved,1h 36m,Life Is In Their Hands -- Death Is On Their Minds!,350000,955,\"Henry Fonda,Lee J. Cobb,Martin Balsam,John Fiedler,E.G. Marshall,Jack Klugman,Edward Binns,Jack Warden,Joseph Sweeney,Ed Begley,George Voskovec,Robert Webber,Rudy Bond,Tom Gorman,James Kelly,Billy Nelson,John Savoca,Walter Stocker\",Sidney Lumet,Reginald Rose\\n6,Schindler\\'s List,1993,9.0,\"Biography,Drama,History\",R,3h 15m,\"Whoever saves one life, saves the world entire.\",22000000,322161245,\"Liam Neeson,Ralph Fiennes,Ben Kingsley,Caroline Goodall,Jonathan Sagall,Embeth Davidtz,Malgorzata Gebel,Shmuel Levy,Mark Ivanir,Béatrice Macola,Andrzej Seweryn,Friedrich von Thun,Krzysztof Luft,Harry Nehring,Norbert Weisser,Adi Nitzan,Michael Schneider,Miri Fabian\",Steven Spielberg,\"Thomas Keneally,Steven Zaillian\"\\n7,The Lord of the Rings: The Return of the King,2003,9.0,\"Action,Adventure,Drama\",PG-13,3h 21m,The eye of the enemy is moving.,94000000,1146457748,\"Elijah Wood,Viggo Mortensen,Ian McKellen,Orlando Bloom,Noel Appleby,Ali Astin,Sean Astin,David Aston,John Bach,Sean Bean,Cate Blanchett,Billy Boyd,Sadwyn Brophy,Alistair Browning,Marton Csokas,Richard Edge,Jason Fitch,Bernard Hill\",Peter Jackson,\"J.R.R. Tolkien,Fran Walsh,Philippa Boyens\"\\n8,Pulp Fiction,1994,8.9,\"Crime,Drama\",R,2h 34m,Girls like me don\\'t make invitations like this to just anyone!,8000000,213928762,\"John Travolta,Uma Thurman,Samuel L. Jackson,Bruce Willis,Tim Roth,Amanda Plummer,Laura Lovelace,Phil LaMarr,Frank Whaley,Burr Steers,Ving Rhames,Paul Calderon,Bronagh Gallagher,Rosanna Arquette,Eric Stoltz,Jerome Patrick Hoban,Michael Gilden,Gary Shorelle\",Quentin Tarantino,\"Quentin Tarantino,Roger Avary\"\\n9,The Lord of the Rings: The Fellowship of the Ring,2001,8.8,\"Action,Adventure,Drama\",PG-13,2h 58m,The Legend Comes to Life,93000000,898204420,\"Elijah Wood,Ian McKellen,Orlando Bloom,Sean Bean,Alan Howard,Noel Appleby,Sean Astin,Sala Baker,Billy Boyd,Andy Serkis,Marton Csokas,Viggo Mortensen,Megan Edwards,Michael Elsworth,Cate Blanchett,Mark Ferguson,Ian Holm,Christopher Lee\",Peter Jackson,\"J.R.R. Tolkien,Fran Walsh,Philippa Boyens\"\\n10,\"The Good, the Bad and the Ugly\",1966,8.8,\"Adventure,Western\",Approved,2h 58m,They formed an alliance of hate to steal a fortune in dead man\\'s gold,1200000,25253887,\"Clint Eastwood,Eli Wallach,Lee Van Cleef,Aldo Giuffrè,Luigi Pistilli,Rada Rassimov,Enzo Petito,Claudio Scarchilli,John Bartha,Livio Lorenzon,Antonio Casale,Sandro Scarchilli,Benito Stefanelli,Angelo Novi,Antonio Casas,Aldo Sambrell,Al Mulock,Sergio Mendizábal\",Sergio Leone,\"Luciano Vincenzoni,Sergio Leone,Agenore Incrocci\"\\n11,Forrest Gump,1994,8.8,\"Drama,Romance\",PG-13,2h 22m,The story of a lifetime.,55000000,678226465,\"Tom Hanks,Robin Wright,Gary Sinise,Sally Field,Rebecca Williams,Michael Conner Humphreys,Harold G. Herthum,George Kelly,Bob Penny,John Randall,Sam Anderson,Margo Moorer,Ione M. Telech,Christine Seabrook,John Worsham,Peter Dobson,Siobhan Fallon Hogan,Alexander Zemeckis\",Robert Zemeckis,\"Winston Groom,Eric Roth\"\\n12,Fight Club,1999,8.8,Drama,R,2h 19m,How much can you know about yourself if you\\'ve never been in a fight?,63000000,101209702,\"Brad Pitt,Edward Norton,Meat Loaf,Zach Grenier,Richmond Arquette,David Andrews,George Maguire,Eugenie Bondurant,Christina Cabot,Helena Bonham Carter,Sydney \\'Big Dawg\\' Colston,Rachel Singer,Christie Cronenweth,Tim DeZarn,Ezra Buzzington,Dierdre Downing-Jackson,Bob Stephenson,Charlie Dell\",David Fincher,\"Chuck Palahniuk,Jim Uhls\"\\n13,The Lord of the Rings: The Two Towers,2002,8.8,\"Action,Adventure,Drama\",PG-13,2h 59m,A New Power Is Rising.,94000000,947944270,\"Elijah Wood,Ian McKellen,Viggo Mortensen,Orlando Bloom,Bruce Allpress,Sean Astin,John Bach,Sala Baker,Cate Blanchett,Billy Boyd,Jed Brophy,Sam Comery,Brad Dourif,Calum Gittins,Bernard Hill,Bruce Hopkins,Paris Howe Strewe,Christopher Lee\",Peter Jackson,\"J.R.R. Tolkien,Fran Walsh,Philippa Boyens\"\\n14,Inception,2010,8.8,\"Action,Adventure,Sci-Fi\",PG-13,2h 28m,Your mind is the scene of the crime,160000000,836848102,\"Leonardo DiCaprio,Joseph Gordon-Levitt,Elliot Page,Ken Watanabe,Tom Hardy,Dileep Rao,Cillian Murphy,Tom Berenger,Marion Cotillard,Pete Postlethwaite,Michael Caine,Lukas Haas,Tai-Li Lee,Claire Geare,Magnus Nolan,Taylor Geare,Johnathan Geare,Tohoru Masamune\",Christopher Nolan,Christopher Nolan\\n15,Star Wars: Episode V - The Empire Strikes Back,1980,8.7,\"Action,Adventure,Fantasy\",PG,2h 4m,The Adventure Continues...,18000000,538375067,\"Mark Hamill,Harrison Ford,Carrie Fisher,Billy Dee Williams,Anthony Daniels,David Prowse,Peter Mayhew,Kenny Baker,Frank Oz,Alec Guinness,Jeremy Bulloch,John Hollis,Jack Purvis,Des Webb,Clive Revill,Kenneth Colley,Julian Glover,Michael Sheard\",Irvin Kershner,\"Leigh Brackett,Lawrence Kasdan,George Lucas\"\\n16,The Matrix,1999,8.7,\"Action,Sci-Fi\",R,2h 16m,Free your mind,63000000,467222728,\"Keanu Reeves,Laurence Fishburne,Carrie-Anne Moss,Hugo Weaving,Gloria Foster,Joe Pantoliano,Marcus Chong,Julian Arahanga,Matt Doran,Belinda McClory,Anthony Ray Parker,Paul Goddard,Robert Taylor,David Aston,Marc Aden Gray,Ada Nicodemou,Deni Gordon,Rowan Witt\",\"Lana Wachowski,Lilly Wachowski\",\"Lilly Wachowski,Lana Wachowski\"\\n17,Goodfellas,1990,8.7,\"Biography,Crime,Drama\",R,2h 25m,\"\"\"As far back as I can remember, I\\'ve always wanted to be a gangster.\"\" -- Henry Hill, Brooklyn, N.Y. 1955.\",25000000,47036784,\"Robert De Niro,Ray Liotta,Joe Pesci,Lorraine Bracco,Paul Sorvino,Frank Sivero,Tony Darrow,Mike Starr,Frank Vincent,Chuck Low,Frank DiLeo,Henny Youngman,Gina Mastrogiacomo,Catherine Scorsese,Charles Scorsese,Suzanne Shepherd,Debi Mazar,Margo Winkler\",Martin Scorsese,\"Nicholas Pileggi,Martin Scorsese\"\\n18,One Flew Over the Cuckoo\\'s Nest,1975,8.7,Drama,18+,2h 13m,\"If he\\'s crazy, what does that make you?\",3000000,109114817,\"Jack Nicholson,Louise Fletcher,Michael Berryman,Peter Brocco,Dean R. Brooks,Alonzo Brown,Scatman Crothers,Mwako Cumbuka,Danny DeVito,William Duell,Josip Elic,Lan Fendors,Nathan George,Ken Kenny,Mel Lambert,Sydney Lassick,Kay Lee,Christopher Lloyd\",Milos Forman,\"Lawrence Hauben,Bo Goldman,Ken Kesey\"\\n19,Se7en,1995,8.6,\"Crime,Drama,Mystery\",R,2h 7m,\"Long is the way, and hard, that out of hell leads up to light.\",33000000,327333559,\"Morgan Freeman,Brad Pitt,Kevin Spacey,Andrew Kevin Walker,Daniel Zacapa,Gwyneth Paltrow,John Cassini,Bob Mack,Peter Crombie,Reg E. Cathey,R. Lee Ermey,George Christy,Endre Hules,Hawthorne James,William Davidson,Bob Collins,Jimmy Dale Hartsell,Richard Roundtree\",David Fincher,Andrew Kevin Walker\\n20,Seven Samurai,1954,8.6,\"Action,Drama\",Not Rated,3h 27m,Will Take Its Place With the Seven Greatest Films of All Time!,125000000,346258,\"Toshirô Mifune,Takashi Shimura,Keiko Tsushima,Yukiko Shimazaki,Kamatari Fujiwara,Daisuke Katô,Isao Kimura,Minoru Chiaki,Seiji Miyaguchi,Yoshio Kosugi,Bokuzen Hidari,Yoshio Inaba,Yoshio Tsuchiya,Kokuten Kôdô,Eijirô Tôno,Kichijirô Ueda,Jun Tatara,Atsushi Watanabe\",Akira Kurosawa,\"Akira Kurosawa,Shinobu Hashimoto,Hideo Oguni\"\\n21,It\\'s a Wonderful Life,1946,8.6,\"Drama,Family,Fantasy\",PG,2h 10m,\"Frank Capra\\'s...\"\"It\\'s a Wonderful Life\"\".\",3180000,8574081,\"James Stewart,Donna Reed,Lionel Barrymore,Thomas Mitchell,Henry Travers,Beulah Bondi,Frank Faylen,Ward Bond,Gloria Grahame,H.B. Warner,Frank Albertson,Todd Karns,Samuel S. Hinds,Mary Treen,Virginia Patton,Charles Williams,Sarah Edwards,William Edmunds\",Frank Capra,\"Frances Goodrich,Albert Hackett,Frank Capra\"\\n22,The Silence of the Lambs,1991,8.6,\"Crime,Drama,Thriller\",R,1h 58m,\"Dr. Hannibal Lecter. Brilliant. Cunning. Psychotic. In his mind lies the clue to a ruthless killer. - Clarice Starling, FBI. Brilliant. Vulnerable. Alone. She must trust him to stop the killer.\",19000000,272742922,\"Jodie Foster,Anthony Hopkins,Lawrence A. Bonney,Kasi Lemmons,Lawrence T. Wrentz,Scott Glenn,Anthony Heald,Frankie Faison,Don Brockett,Frank Seals Jr.,Stuart Rudin,Maria Skorobogatov,Jeffrie Lane,Leib Lensky,George \\'Red\\' Schwartz,Jim Roche,Brooke Smith,Ted Levine\",Jonathan Demme,\"Thomas Harris,Ted Tally\"\\n23,City of God,2002,8.6,\"Crime,Drama\",R,2h 10m,\"If you run, the beast will get you. If you stay, the beast will eat you\",$3300000,30680793,\"Alexandre Rodrigues,Leandro Firmino,Matheus Nachtergaele,Phellipe Haagensen,Douglas Silva,Jonathan Haagensen,Seu Jorge,Jefechander Suplino,Alice Braga,Emerson Gomes,Edson Oliveira,Michel Gomes,Roberta Rodrigues,Luis Otávio,Kiko Marques,Gustavo Engrácia,Darlan Cunha,Robson Rocha\",\"Fernando Meirelles,Kátia Lund(co-director)\",\"Paulo Lins,Bráulio Mantovani\"\\n24,Saving Private Ryan,1998,8.6,\"Drama,War\",R,2h 49m,\"In the Last Great Invasion of the Last Great War, The Greatest Danger for Eight Men was Saving... One.\",70000000,482349603,\"Tom Hanks,Matt Damon,Tom Sizemore,Edward Burns,Barry Pepper,Adam Goldberg,Vin Diesel,Giovanni Ribisi,Jeremy Davies,Ted Danson,Paul Giamatti,Dennis Farina,Joerg Stadler,Max Martini,Dylan Bruno,Daniel Cerqueira,Demetri Goritsas,Ian Porter\",Steven Spielberg,Robert Rodat\\n25,Interstellar,2014,8.6,\"Adventure,Drama,Sci-Fi\",PG-13,2h 49m,Mankind was born on Earth. It was never meant to die here.,165000000,773867216,\"Matthew McConaughey,Anne Hathaway,Jessica Chastain,Mackenzie Foy,Ellen Burstyn,John Lithgow,Timothée Chalamet,David Oyelowo,Collette Wolfe,Francis X. McCarthy,Bill Irwin,Andrew Borba,Wes Bentley,William Devane,Michael Caine,David Gyasi,Josh Stewart,Casey Affleck\",Christopher Nolan,\"Jonathan Nolan,Christopher Nolan\"\\n26,Life Is Beautiful,1997,8.6,\"Comedy,Drama,Romance\",PG-13,1h 56m,\"An unforgettable fable that proves love, family and imagination conquer all. (Canadian one sheet)\",20000000,230098753,\"Roberto Benigni,Nicoletta Braschi,Giorgio Cantarini,Giustino Durano,Sergio Bini Bustric,Marisa Paredes,Horst Buchholz,Lidia Alfonsi,Giuliana Lojodice,Amerigo Fontani,Pietro De Silva,Francesco Guzzo,Raffaella Lebboroni,Claudio Alfonsi,Gil Baroni,Massimo Bianchi,Jürgen Bohn,Verena Buratti\",Roberto Benigni,\"Vincenzo Cerami,Roberto Benigni\"\\n27,The Green Mile,1999,8.6,\"Crime,Drama,Fantasy\",R,3h 9m,Miracles do happen.,60000000,286801374,\"Tom Hanks,Michael Clarke Duncan,David Morse,Bonnie Hunt,James Cromwell,Michael Jeter,Graham Greene,Doug Hutchison,Sam Rockwell,Barry Pepper,Jeffrey DeMunn,Patricia Clarkson,Harry Dean Stanton,Dabbs Greer,Eve Brent,William Sadler,Mack Miles,Rai Tasco\",Frank Darabont,\"Stephen King,Frank Darabont\"\\n28,Star Wars: Episode IV - A New Hope,1977,8.6,\"Action,Adventure,Fantasy\",PG,2h 1m,It\\'s Back! The Force will be with you for three weeks only. (1979 Reissue Poster),11000000,775398007,\"Mark Hamill,Harrison Ford,Carrie Fisher,Alec Guinness,Peter Cushing,Anthony Daniels,Kenny Baker,Peter Mayhew,David Prowse,Phil Brown,Shelagh Fraser,Jack Purvis,Alex McCrindle,Eddie Byrne,Drewe Henley,Denis Lawson,Garrick Hagon,Jack Klaff\",George Lucas,George Lucas\\n29,Terminator 2: Judgment Day,1991,8.6,\"Action,Sci-Fi\",R,2h 17m,It\\'s nothing personal.,102000000,520881154,\"Arnold Schwarzenegger,Linda Hamilton,Edward Furlong,Robert Patrick,Earl Boen,Joe Morton,S. Epatha Merkerson,Castulo Guerra,Danny Cooksey,Jenette Goldstein,Xander Berkeley,Leslie Hamilton Gearren,Ken Gibbel,Robert Winley,Peter Schrum,Shane Wilder,Michael Edwards,Jared Lounsbery\",James Cameron,\"James Cameron,William Wisher\"\\n30,Back to the Future,1985,8.5,\"Adventure,Comedy,Sci-Fi\",PG,1h 56m,He\\'s the only kid ever to get into trouble before he was born. [UK],19000000,383336762,\"Michael J. Fox,Christopher Lloyd,Lea Thompson,Crispin Glover,Tom Wilson,Claudia Wells,Marc McClure,Wendie Jo Sperber,George DiCenzo,Frances Lee McCain,James Tolkan,J.J. Cohen,Casey Siemaszko,Billy Zane,Harry Waters Jr.,Donald Fullilove,Lisa Freeman,Cristen Kauffman\",Robert Zemeckis,\"Robert Zemeckis,Bob Gale\"\\n31,Spirited Away,2001,8.6,\"Animation,Adventure,Family\",PG,2h 5m,The tunnel led Chihiro to a mysterious town.,19000000,355822319,\"Daveigh Chase,Suzanne Pleshette,Miyu Irino,Rumi Hiiragi,Mari Natsuki,Takashi Naitô,Yasuko Sawaguchi,Tatsuya Gashûin,Ryûnosuke Kamiki,Yumi Tamai,Yô Ôizumi,Koba Hayashi,Tsunehiko Kamijô,Takehiko Ono,Bunta Sugawara,Shigeru Wakita,Shirô Saitô,Michiko Yamamoto\",Hayao Miyazaki,Hayao Miyazaki\\n32,The Pianist,2002,8.5,\"Biography,Drama,Music\",R,2h 30m,Music was his passion. Survival was his masterpiece.,35000000,120072577,\"Adrien Brody,Thomas Kretschmann,Frank Finlay,Emilia Fox,Michal Zebrowski,Ed Stoppard,Maureen Lipman,Jessica Kate Meyer,Julia Rayner,Wanja Mues,Richard Ridings,Nomi Sharron,Anthony Milner,Lucy Skeaping,Roddy Skeaping,Ben Harlan,Thomas Lawinky,Joachim Paul Assböck\",Roman Polanski,\"Ronald Harwood,Wladyslaw Szpilman\"\\n33,Psycho,1960,8.5,\"Horror,Mystery,Thriller\",R,1h 49m,The picture you MUST see from the beginning... Or not at all!... For no one will be seated after the start of... Alfred Hitchcock\\'s greatest shocker Psycho.,806947,32052925,\"Anthony Perkins,Janet Leigh,Vera Miles,John Gavin,Martin Balsam,John McIntire,Simon Oakland,Frank Albertson,Patricia Hitchcock,Vaughn Taylor,Lurene Tuttle,John Anderson,Mort Mills,Fletcher Allen,Walter Bacon,Prudence Beers,Kit Carson,Francis De Sales\",Alfred Hitchcock,\"Joseph Stefano,Robert Bloch\"\\n34,Parasite,2019,8.5,\"Drama,Thriller\",R,2h 12m,Misplaced familyhood (Australia/New Zealand/Singapore),11400000,262676096,\"Song Kang-ho,Lee Sun-kyun,Cho Yeo-jeong,Choi Woo-sik,Park So-dam,Lee Jeong-eun,Jang Hye-jin,Park Myeong-hoon,Jung Ji-so,Jung Hyun-jun,Park Keun-rok,Jung Yi-seo,Jo Jae-myeong,Jung Ik-han,Kim Kyu-baek,Hwang In-kyung,Ahn Seong-bong,Kim Jin-hyung\",Bong Joon Ho,\"Bong Joon Ho,Han Jin-won\"\\n35,Léon: The Professional,1994,8.5,\"Action,Crime,Drama\",R,1h 50m,\"If you want the job done right, hire a professional.\",RF\\xa0115000000,19569225,\"Jean Reno,Gary Oldman,Natalie Portman,Danny Aiello,Peter Appel,Willi One Blood,Don Creech,Keith A. Glascoe,Randolph Scott,Michael Badalucco,Ellen Greene,Elizabeth Regen,Carl J. Matusovich,Frank Senger,Lucius Wyatt Cherokee,Eric Challier,Luc Bernard,Maïwenn\",Luc Besson,Luc Besson\\n36,The Lion King,1994,8.5,\"Animation,Adventure,Drama\",G,1h 28m,See it for the first time ever in 3D (2011 3D re-release),45000000,968511805,\"Matthew Broderick,Jeremy Irons,James Earl Jones,Whoopi Goldberg,Rowan Atkinson,Niketa Calame-Harris,Jim Cummings,Robert Guillaume,Moira Kelly,Nathan Lane,Zoe Leader,Cheech Marin,Ernie Sabella,Madge Sinclair,Jonathan Taylor Thomas,Frank Welker,Cathy Cavadini,Judi M. Durand\",\"Roger Allers,Rob Minkoff\",\"Irene Mecchi,Jonathan Roberts,Linda Woolverton\"\\n37,Gladiator,2000,8.5,\"Action,Adventure,Drama\",R,2h 35m,\"Father of a murdered son, husband to a murdered wife and I shall have my vengeance in this life or the next\",103000000,503162313,\"Russell Crowe,Joaquin Phoenix,Connie Nielsen,Oliver Reed,Richard Harris,Derek Jacobi,Djimon Hounsou,David Schofield,John Shrapnel,Tomas Arana,Ralf Moeller,Spencer Treat Clark,David Hemmings,Tommy Flanagan,Sven-Ole Thorsen,Omid Djalili,Nicholas McGaughey,Chris Kell\",Ridley Scott,\"David Franzoni,John Logan,William Nicholson\"\\n38,American History X,1998,8.5,\"Crime,Drama\",R,1h 59m,His father taught him to hate. His friends taught him rage. His enemies gave him hope.,20000000,23875127,\"Edward Norton,Edward Furlong,Beverly D\\'Angelo,Jennifer Lien,Ethan Suplee,Fairuza Balk,Avery Brooks,Elliott Gould,Stacy Keach,William Russ,Guy Torry,Joe Cortese,Jason Bose Smith,Antonio David Lyons,Alex Sol,Keram Malicki-Sánchez,Giuseppe Andrews,Michelle Christine White\",Tony Kaye,David McKenna\\n39,The Departed,2006,8.5,\"Crime,Drama,Thriller\",R,2h 31m,Lies. Betrayal. Sacrifice. How far will you take it?,90000000,291480452,\"Leonardo DiCaprio,Matt Damon,Jack Nicholson,Mark Wahlberg,Martin Sheen,Ray Winstone,Vera Farmiga,Anthony Anderson,Alec Baldwin,Kevin Corrigan,James Badge Dale,David O\\'Hara,Mark Rolston,Robert Wahlberg,Kristen Dalton,Thomas B. Duffy,Richard Hughes,J.C. MacKenzie\",Martin Scorsese,\"William Monahan,Alan Mak,Felix Chong\"\\n40,The Usual Suspects,1995,8.5,\"Crime,Drama,Mystery\",R,1h 46m,The greatest trick the devil ever pulled was to convince the world he didn\\'t exist,6000000,23341568,\"Kevin Spacey,Gabriel Byrne,Chazz Palminteri,Stephen Baldwin,Benicio Del Toro,Kevin Pollak,Pete Postlethwaite,Suzy Amis,Giancarlo Esposito,Dan Hedaya,Paul Bartel,Carl Bressler,Phillipe Simon,Jack Shearer,Christine Estabrook,Clark Gregg,Morgan Hunter,Ken Daly\",Bryan Singer,Christopher McQuarrie\\n41,The Prestige,2006,8.5,\"Drama,Mystery,Sci-Fi\",PG-13,2h 10m,A Friendship That Became a Rivalry.,40000000,109676311,\"Christian Bale,Hugh Jackman,Scarlett Johansson,Michael Caine,Piper Perabo,Rebecca Hall,Samantha Mahurin,David Bowie,Andy Serkis,Daniel Davis,Jim Piddock,Christopher Neame,Mark Ryan,Roger Rees,Jamie Harris,Monty Stuart,Ron Perkins,Ricky Jay\",Christopher Nolan,\"Jonathan Nolan,Christopher Nolan,Christopher Priest\"\\n42,Whiplash,2014,8.5,\"Drama,Music\",R,1h 46m,The road to greatness can take you to the edge,3300000,49396747,\"Miles Teller,J.K. Simmons,Melissa Benoist,Paul Reiser,Austin Stowell,Nate Lang,Chris Mulkey,Damon Gupton,Suanne Spoke,Max Kasch,Charlie Ian,Jayson Blair,Kofi Siriboe,Kavita Patil,C.J. Vana,Tarik Lowe,Tyler Kimball,Rogelio Douglas Jr.\",Damien Chazelle,Damien Chazelle\\n43,Casablanca,1942,8.5,\"Drama,Romance,War\",PG,1h 42m,Where Love Cuts as Deep as a Dagger!,950000,4626532,\"Humphrey Bogart,Ingrid Bergman,Paul Henreid,Claude Rains,Conrad Veidt,Sydney Greenstreet,Peter Lorre,S.Z. Sakall,Madeleine Lebeau,Dooley Wilson,Joy Page,John Qualen,Leonid Kinskey,Curt Bois,Abdullah Abbas,Enrique Acosta,Ed Agresti,Arnet Amos\",Michael Curtiz,\"Julius J. Epstein,Philip G. Epstein,Howard Koch\"\\n44,Grave of the Fireflies,1988,8.5,\"Animation,Drama,War\",Not Rated,1h 29m,imationDramaWar,3700000,516962,\"Tsutomu Tatsumi,Ayano Shiraishi,Akemi Yamaguchi,Yoshiko Shinohara,Kôzô Hashida,Masayo Sakai,Kazumi Nozaki,Yoshio Matsuoka,Masahiro Kanetake,Kiyoshi Yanagawa,Hajime Maki,Atsuo Omote,Teruhisa Harita,Hiroshi Tanaka,Michio Denpô,Shirô Tamaki,Tadashi Nakamura,Mika Sekita\",Isao Takahata,\"Akiyuki Nosaka,Isao Takahata\"\\n45,Harakiri,1962,8.6,\"Action,Drama,Mystery\",Not Rated,2h 13m,The World Has Never Understood Why the Japanese Prefer Death to Dishonor! This Samurai Picture Provides The Answer!!,Not Available,Not Available,\"Tatsuya Nakadai,Akira Ishihama,Shima Iwashita,Tetsurô Tanba,Masao Mishima,Ichirô Nakatani,Kei Satô,Yoshio Inaba,Hisashi Igawa,Tôru Takeuchi,Yoshirô Aoki,Tatsuo Matsumura,Akiji Kobayashi,Kôichi Hayashi,Ryûtarô Gomi,Jô Azumi,Nakajirô Tomita,Shichisaburô Amatsu\",Masaki Kobayashi,\"Yasuhiko Takiguchi,Shinobu Hashimoto\"\\n46,The Intouchables,2011,8.5,\"Biography,Comedy,Drama\",R,1h 52m,Sometimes you have to reach into someone else\\'s world to find out what\\'s missing in your own.,9500000,426588510,\"François Cluzet,Omar Sy,Anne Le Ny,Audrey Fleurot,Joséphine de Meaux,Clotilde Mollet,Alba Gaïa Bellugi,Cyril Mendy,Salimata Kamate,Absa Diatou Toure,Grégoire Oestermann,Dominique Daguier,François Caron,Christian Ameri,Thomas Solivérès,Dorothée Brière,Marie-Laure Descoureaux,Émilie Caen\",\"Olivier Nakache,Éric Toledano\",\"Olivier Nakache,Éric Toledano,Philippe Pozzo di Borgo\"\\n47,Modern Times,1936,8.5,\"Comedy,Drama,Romance\",G,1h 27m,\"He stands alone as the greatest entertainer of modern times! No one on earth can make you laugh as heartily or touch your heart as deeply...the whole world laughs, cries and thrills to his priceless genius!\",1500000,463618,\"Charles Chaplin,Paulette Goddard,Henry Bergman,Tiny Sandford,Chester Conklin,Hank Mann,Stanley Blystone,Al Ernest Garcia,Richard Alexander,Cecil Reynolds,Mira McKinney,Murdock MacQuarrie,Wilfred Lucas,Edward LeSaint,Fred Malatesta,Sammy Stein,Juana Sutton,Ted Oliver\",Charles Chaplin,Charles Chaplin\\n48,Once Upon a Time in the West,1968,8.5,Western,PG-13,2h 45m,There were three men in her life. One knew her past. One wanted her land. One wanted revenge.,5000000,5435024,\"Henry Fonda,Charles Bronson,Claudia Cardinale,Jason Robards,Gabriele Ferzetti,Paolo Stoppa,Woody Strode,Jack Elam,Keenan Wynn,Frank Wolff,Lionel Stander,Livio Andronico,Salvatore Basile,Aldo Berti,Joseph Bradley,Frank Braña,Marilù Carteny,Saturno Cerra\",Sergio Leone,\"Sergio Donati,Sergio Leone,Dario Argento\"\\n49,Rear Window,1954,8.5,\"Mystery,Thriller\",PG,1h 52m,The Essential Hitchcock,1000000,37034579,\"James Stewart,Grace Kelly,Wendell Corey,Thelma Ritter,Raymond Burr,Judith Evelyn,Ross Bagdasarian,Georgine Darcy,Sara Berner,Frank Cady,Jesslyn Fax,Rand Harper,Irene Winston,Havis Davenport,Jerry Antes,Barbara Bailey,Benny Bartlett,Nick Borgani\",Alfred Hitchcock,\"John Michael Hayes,Cornell Woolrich\"\\n50,Cinema Paradiso,1988,8.5,\"Drama,Romance\",PG,2h 35m,\"A celebration of youth, friendship, and the everlasting magic of the movies.\",5000000,13019063,\"Philippe Noiret,Enzo Cannavale,Antonella Attili,Isa Danieli,Leo Gullotta,Marco Leonardi,Pupella Maggio,Agnese Nano,Leopoldo Trieste,Salvatore Cascio,Tano Cimarosa,Nicola Di Pinto,Roberta Lena,Nino Terzo,Jacques Perrin,Nellina Laganà,Turi Giuffrida,Mariella Lo Giudice\",Giuseppe Tornatore,\"Giuseppe Tornatore,Vanna Paoli\"\\n51,Alien,1979,8.5,\"Horror,Sci-Fi\",R,1h 57m,In space no one can hear you scream.,11000000,106285522,\"Sigourney Weaver,Tom Skerritt,John Hurt,Veronica Cartwright,Harry Dean Stanton,Ian Holm,Yaphet Kotto,Bolaji Badejo,Helen Horton,Eddie Powell\",Ridley Scott,\"Dan O\\'Bannon,Ronald Shusett\"\\n52,City Lights,1931,8.5,\"Comedy,Drama,Romance\",G,1h 27m,\"HE RETURNS -And the world rocks again with laughter. (Print Ad-Daily Examiner, ((Grafton, NSW)) 6 July 1931)\",1500000,50419,\"Charles Chaplin,Virginia Cherrill,Florence Lee,Harry Myers,Al Ernest Garcia,Hank Mann,Johnny Aber,Jack Alexander,T.S. Alexander,Victor Alexander,Albert Austin,Harry Ayers,Eddie Baker,Henry Bergman,Edward Biby,Betty Blair,Buster Brodie,Jeanne Carpenter\",Charles Chaplin,\"Charles Chaplin,Harry Carr,Harry Crocker\"\\n53,Apocalypse Now,1979,8.5,\"Drama,Mystery,War\",R,2h 27m,The Horror. . . The Horror. . .,31500000,104880868,\"Martin Sheen,Marlon Brando,Robert Duvall,Frederic Forrest,Sam Bottoms,Laurence Fishburne,Albert Hall,Harrison Ford,Dennis Hopper,G.D. Spradlin,Jerry Ziesmer,Scott Glenn,Bo Byers,James Keane,Kerry Rossall,Ron McQueen,Tom Mason,Cynthia Wood\",Francis Ford Coppola,\"John Milius,Francis Ford Coppola,Michael Herr\"\\n54,Memento,2000,8.4,\"Mystery,Thriller\",R,1h 53m,Some memories are best forgotten,9000000,40047078,\"Guy Pearce,Carrie-Anne Moss,Joe Pantoliano,Mark Boone Junior,Russ Fega,Jorja Fox,Stephen Tobolowsky,Harriet Sansom Harris,Thomas Lennon,Callum Keith Rennie,Kimberly Campbell,Marianne Muellerleile,Larry Holden,Stephanie Searson,Buzz Visconti\",Christopher Nolan,\"Christopher Nolan,Jonathan Nolan\"\\n55,Django Unchained,2012,8.4,\"Drama,Western\",R,2h 45m,\"Life, liberty and the pursuit of vengeance.\",100000000,426074373,\"Jamie Foxx,Christoph Waltz,Leonardo DiCaprio,Kerry Washington,Samuel L. Jackson,Walton Goggins,Dennis Christopher,James Remar,David Steen,Dana Gourrier,Nichole Galicia,Laura Cayouette,Ato Essandoh,Sammi Rotibi,Clay Donahue Fontenot,Escalante Lundy,Miriam F. Glover,Don Johnson\",Quentin Tarantino,Quentin Tarantino\\n56,Indiana Jones and the Raiders of the Lost Ark,1981,8.4,\"Action,Adventure\",PG,1h 55m,Indiana Jones - the new hero from the creators of JAWS and STAR WARS.,18000000,389925971,\"Harrison Ford,Karen Allen,Paul Freeman,John Rhys-Davies,Ronald Lacey,Denholm Elliott,Alfred Molina,Wolf Kahler,Anthony Higgins,Vic Tablian,Don Fellows,William Hootkins,Bill Reimbold,Fred Sorenson,Patrick Durkin,Matthew Scurfield,Malcolm Weaver,Sonny Caldinez\",Steven Spielberg,\"Lawrence Kasdan,George Lucas,Philip Kaufman\"\\n57,WALL·E,2008,8.4,\"Animation,Adventure,Family\",G,1h 38m,After 700 years of doing what he was built for - he\\'ll discover what he\\'s meant for.,180000000,521311890,\"Ben Burtt,Elissa Knight,Jeff Garlin,Fred Willard,MacInTalk,John Ratzenberger,Kathy Najimy,Sigourney Weaver,Karleen Griffin,Kim Kopf,Niki McElroy,Garrett Palmer,Jessica Skelton,Kai Steel Smith,Michael Toy\",Andrew Stanton,\"Andrew Stanton,Pete Docter,Jim Reardon\"\\n58,The Lives of Others,2006,8.4,\"Drama,Mystery,Thriller\",R,2h 17m,\"Before the Fall of the Berlin Wall, East Germany\\'s Secret Police Listened to Your Secrets\",2000000,77356942,\"Ulrich Mühe,Martina Gedeck,Sebastian Koch,Ulrich Tukur,Thomas Thieme,Hans-Uwe Bauer,Volkmar Kleinert,Matthias Brenner,Charly Hübner,Herbert Knaup,Bastian Trost,Marie Gruber,Volker Michalowski,Werner Daehn,Martin Brambach,Hubertus Hartmann,Thomas Arnold,Hinnerk Schönemann\",Florian Henckel von Donnersmarck,Florian Henckel von Donnersmarck\\n59,Sunset Blvd.,1950,8.4,\"Drama,Film-Noir\",Passed,1h 50m,A Hollywood Story,1752000,300073,\"William Holden,Gloria Swanson,Erich von Stroheim,Nancy Olson,Fred Clark,Lloyd Gough,Jack Webb,Franklyn Farnum,Larry J. Blake,Charles Dayton,Cecil B. DeMille,Hedda Hopper,Buster Keaton,Anna Q. Nilsson,H.B. Warner,Ray Evans,Jay Livingston,Fred Aldrich\",Billy Wilder,\"Charles Brackett,Billy Wilder,D.M. Marshman Jr.\"\\n60,Paths of Glory,1957,8.4,\"Drama,War\",Approved,1h 28m,Never has the screen thrust so deeply into the guts of war!,935000,5252,\"Kirk Douglas,Ralph Meeker,Adolphe Menjou,George Macready,Wayne Morris,Richard Anderson,Joe Turkel,Christiane Kubrick,Jerry Hausner,Peter Capell,Emile Meyer,Bert Freed,Kem Dibbs,Timothy Carey,Fred Bell,John Stein,Harold Benedict,Leon Briggs\",Stanley Kubrick,\"Stanley Kubrick,Calder Willingham,Jim Thompson\"\\n61,The Shining,1980,8.4,\"Drama,Horror\",R,2h 26m,Iconic terror from the No 1 bestselling writer.,19000000,47335804,\"Jack Nicholson,Shelley Duvall,Danny Lloyd,Scatman Crothers,Barry Nelson,Philip Stone,Joe Turkel,Anne Jackson,Tony Burton,Lia Beldam,Billie Gibson,Barry Dennen,David Baxt,Manning Redwood,Lisa Burns,Louise Burns,Robin Pappas,Alison Coleridge\",Stanley Kubrick,\"Stephen King,Stanley Kubrick,Diane Johnson\"\\n62,The Great Dictator,1940,8.4,\"Comedy,Drama,War\",G,2h 5m,The Comedy Masterpiece!,2000000,970263,\"Charles Chaplin,Paulette Goddard,Jack Oakie,Reginald Gardiner,Henry Daniell,Billy Gilbert,Grace Hayle,Carter DeHaven,Maurice Moscovitch,Emma Dunn,Bernard Gorcey,Paul Weigel,Chester Conklin,Esther Michelson,Hank Mann,Florence Wright,Eddie Gribbon,Rudolph Anders\",Charles Chaplin,Charles Chaplin\\n63,Avengers: Infinity War,2018,8.4,\"Action,Adventure,Sci-Fi\",PG-13,2h 29m,An entire universe. Once and for all.,321000000,2052415039,\"Robert Downey Jr.,Chris Hemsworth,Mark Ruffalo,Chris Evans,Scarlett Johansson,Don Cheadle,Benedict Cumberbatch,Tom Holland,Chadwick Boseman,Zoe Saldana,Karen Gillan,Tom Hiddleston,Paul Bettany,Elizabeth Olsen,Anthony Mackie,Sebastian Stan,Idris Elba,Danai Gurira\",\"Anthony Russo,Joe Russo\",\"Christopher Markus,Stephen McFeely,Stan Lee\"\\n64,Witness for the Prosecution,1957,8.4,\"Crime,Drama,Mystery\",Approved,1h 56m,The most electrifying entertainment of our time!,3000000,7693,\"Tyrone Power,Marlene Dietrich,Charles Laughton,Elsa Lanchester,John Williams,Henry Daniell,Ian Wolfe,Torin Thatcher,Norma Varden,Una O\\'Connor,Francis Compton,Philip Tonge,Ruta Lee,Patrick Aherne,Don Ames,Walter Bacon,Eddie Baker,Benjie Bancroft\",Billy Wilder,\"Agatha Christie,Billy Wilder,Harry Kurnitz\"\\n65,Aliens,1986,8.4,\"Action,Adventure,Sci-Fi\",R,2h 17m,This time there\\'s more.,18500000,131060248,\"Sigourney Weaver,Michael Biehn,Carrie Henn,Paul Reiser,Lance Henriksen,Bill Paxton,William Hope,Jenette Goldstein,Al Matthews,Mark Rolston,Ricco Ross,Colette Hiller,Daniel Kash,Cynthia Dale Scott,Tip Tipping,Trevor Steedman,Paul Maxwell,Valerie Colgan\",James Cameron,\"James Cameron,David Giler,Walter Hill\"\\n66,Spider-Man: Into the Spider-Verse,2018,8.4,\"Animation,Action,Adventure\",PG,1h 57m,Enter a universe where more than one wears the mask.,Not Available,Not Available,\"Shameik Moore,Jake Johnson,Hailee Steinfeld,Mahershala Ali,Brian Tyree Henry,Lily Tomlin,Luna Lauren Velez,Zoë Kravitz,John Mulaney,Kimiko Glenn,Nicolas Cage,Kathryn Hahn,Liev Schreiber,Chris Pine,Natalie Morales,Edwin R. Habacon,Oscar Isaac,Greta Lee\",\"Bob Persichetti,Peter Ramsey,Rodney Rothman\",\"Phil Lord,Rodney Rothman\"\\n67,American Beauty,1999,8.4,Drama,R,2h 2m,... look closer,15000000,356296601,\"Kevin Spacey,Annette Bening,Thora Birch,Wes Bentley,Mena Suvari,Peter Gallagher,Allison Janney,Chris Cooper,Scott Bakula,Sam Robards,Barry Del Sherman,Ara Celi,John Cho,Fort Atkinson,Sue Casey,Kent Faulcon,Brenda Wehle,Lisa Cloud\",Sam Mendes,Alan Ball\\n68,Dr. Strangelove or: How I Learned to Stop Worrying and Love the Bomb,1964,8.4,\"Comedy,War\",PG,1h 35m,The comedy classic from celebrated director STANLEY KUBRICK,1800000,9523464,\"Peter Sellers,George C. Scott,Sterling Hayden,Keenan Wynn,Slim Pickens,Peter Bull,James Earl Jones,Tracy Reed,Jack Creley,Frank Berry,Robert O\\'Neil,Glenn Beck,Roy Stephens,Shane Rimmer,Hal Galili,Paul Tamarin,Laurence Herder,Gordon Tanner\",Stanley Kubrick,\"Stanley Kubrick,Terry Southern,Peter George\"\\n69,The Dark Knight Rises,2012,8.4,\"Action,Drama\",PG-13,2h 44m,The Legend Ends,250000000,1081169825,\"Christian Bale,Tom Hardy,Anne Hathaway,Gary Oldman,Joseph Gordon-Levitt,Marion Cotillard,Morgan Freeman,Michael Caine,Matthew Modine,Alon Aboutboul,Ben Mendelsohn,Burn Gorman,Daniel Sunjata,Aidan Gillen,Sam Kennard,Aliash Tepina,Nestor Carbonell,Brett Cullen\",Christopher Nolan,\"Jonathan Nolan,Christopher Nolan,David S. Goyer\"\\n70,Oldboy,2003,8.4,\"Action,Drama,Mystery\",R,2h,\"15 years of imprisonment, five days of vengeance\",3000000,15421226,\"Choi Min-sik,Yoo Ji-tae,Kang Hye-jeong,Kim Byeong-Ok,Dae-han Ji,Dal-su Oh,Seung-shin Lee,Jin-Seo Yoon,Tae-kyung Oh,Yoo Yeon-Seok,Il-han Oo,Young-hee Lee,Young-ae Kim,Mi Mi Lee,Jae-Duk Han,Jung Ae Kwak,San Kim,Chae-soo Jang\",Park Chan-wook,\"Garon Tsuchiya,Nobuaki Minegishi,Park Chan-wook\"\\n71,Inglourious Basterds,2009,8.3,\"Adventure,Drama,War\",R,2h 33m,Once upon a time in Nazi occupied France...,70000000,321457747,\"Brad Pitt,Diane Kruger,Eli Roth,Mélanie Laurent,Christoph Waltz,Michael Fassbender,Daniel Brühl,Til Schweiger,Gedeon Burkhard,Jacky Ido,B.J. Novak,Omar Doom,August Diehl,Denis Ménochet,Sylvester Groth,Martin Wuttke,Mike Myers,Julie Dreyfus\",Quentin Tarantino,Quentin Tarantino\\n72,Amadeus,1984,8.4,\"Biography,Drama,Music\",PG,2h 40m,The man... The music... The madness... The murder... The motion picture...,18000000,52066791,\"F. Murray Abraham,Tom Hulce,Elizabeth Berridge,Roy Dotrice,Simon Callow,Christine Ebersole,Jeffrey Jones,Charles Kay,Kenneth McMillan,Kenny Baker,Lisbeth Bartlett,Barbara Bryne,Martin Cavina,Roderick Cook,Milan Demjanenko,Peter DiGesu,Richard Frank,Patrick Hines\",Milos Forman,\"Peter Shaffer,Zdenek Mahler\"\\n73,Coco,2017,8.4,\"Animation,Adventure,Comedy\",PG,1h 45m,The celebration of a lifetime,175000000,814337054,\"Anthony Gonzalez,Gael García Bernal,Benjamin Bratt,Alanna Ubach,Renee Victor,Jaime Camil,Alfonso Arau,Herbert Siguenza,Gabriel Iglesias,Lombardo Boyar,Ana Ofelia Murguía,Natalia Cordova-Buckley,Selene Luna,Edward James Olmos,Sofía Espinosa,Carla Medina,Dyana Ortelli,Luis Valdez\",\"Lee Unkrich,Adrian Molina(co-directed by)\",\"Lee Unkrich,Jason Katz,Matthew Aldrich\"\\n74,Toy Story,1995,8.3,\"Animation,Adventure,Comedy\",G,1h 21m,\"\"\"Oooh...3-D\"\" (USA 2009 re-release)\",30000000,394436586,\"Tom Hanks,Tim Allen,Don Rickles,Jim Varney,Wallace Shawn,John Ratzenberger,Annie Potts,John Morris,Erik von Detten,Laurie Metcalf,R. Lee Ermey,Sarah Rayne,Penn Jillette,Jack Angel,Spencer Aste,Greg Berg,Lisa Bradley,Kendall Cunningham\",John Lasseter,\"John Lasseter,Pete Docter,Andrew Stanton\"\\n75,Joker,2019,8.4,\"Crime,Drama,Thriller\",R,2h 2m,Put on a happy face.,55000000,1074458282,\"Joaquin Phoenix,Robert De Niro,Zazie Beetz,Frances Conroy,Brett Cullen,Shea Whigham,Bill Camp,Glenn Fleshler,Leigh Gill,Josh Pais,Rocco Luna,Marc Maron,Sondra James,Murphy Guyer,Douglas Hodge,Dante Pereira-Olson,Carrie Louise Putrello,Sharon Washington\",Todd Phillips,\"Todd Phillips,Scott Silver,Bob Kane\"\\n76,Braveheart,1995,8.4,\"Biography,Drama,History\",R,2h 58m,The story of a man with a free soul...and with the courage to follow it.,72000000,213216216,\"Mel Gibson,Sophie Marceau,Patrick McGoohan,Angus Macfadyen,James Robinson,Sean Lawlor,Sandy Nelson,James Cosmo,Sean McGinley,Alan Tall,Andrew Weir,Gerda Stevenson,Ralph Riach,Mhairi Calvey,Brian Cox,Peter Hanly,Stephen Billington,Barry McGovern\",Mel Gibson,Randall Wallace\\n77,The Boat,1981,8.4,\"Drama,War\",Not Available,Not Available,\"This is the story of 42 raw recruits caught up in a war they didn\\'t understand, and the Captain who must lead them in their struggle to survive.\",EM\\xa032000000,11487676,\"Jürgen Prochnow,Herbert Grönemeyer,Klaus Wennemann,Hubertus Bengsch,Martin Semmelrogge,Bernd Tauber,Erwin Leder,Martin May,Heinz Hoenig,Uwe Ochsenknecht,Claude-Oliver Rudolph,Jan Fedder,Ralf Richter,Joachim Bernhard,Oliver Stritzel,Konrad Becker,Lutz Schnell,Martin Hemme\",Wolfgang Petersen,\"Wolfgang Petersen,Lothar G. Buchheim\"\\n78,Avengers: Endgame,2019,8.4,\"Action,Adventure,Drama\",PG-13,3h 1m,Avenge the fallen.,356000000,2799439100,\"Robert Downey Jr.,Chris Evans,Mark Ruffalo,Chris Hemsworth,Scarlett Johansson,Jeremy Renner,Don Cheadle,Paul Rudd,Benedict Cumberbatch,Chadwick Boseman,Brie Larson,Tom Holland,Karen Gillan,Zoe Saldana,Evangeline Lilly,Tessa Thompson,Rene Russo,Elizabeth Olsen\",\"Anthony Russo,Joe Russo\",\"Christopher Markus,Stephen McFeely,Stan Lee\"\\n79,Princess Mononoke,1997,8.4,\"Animation,Action,Adventure\",PG-13,2h 14m,Live on.,2400000000,170005875,\"Yôji Matsuda,Yuriko Ishida,Yûko Tanaka,Billy Crudup,Billy Bob Thornton,Minnie Driver,John DiMaggio,Claire Danes,John DeMita,Jada Pinkett Smith,Gillian Anderson,Keith David,Corey Burton,Tara Strong,Julia Fletcher,Debi Derryberry,Alex Fernandez,Jack Fletcher\",Hayao Miyazaki,\"Hayao Miyazaki,Neil Gaiman\"\\n80,Once Upon a Time in America,1984,8.3,\"Crime,Drama\",R,3h 49m,\"Crime, passion and lust for power - Sergio Leone\\'s explosive saga of gangland America.\",30000000,5473337,\"Robert De Niro,James Woods,Elizabeth McGovern,Treat Williams,Tuesday Weld,Burt Young,Joe Pesci,Danny Aiello,William Forsythe,James Hayden,Darlanne Fluegel,Larry Rapp,Dutch Miller,Robert Harper,Richard Bright,Gerard Murphy,Amy Ryder,Olga Karlatos\",Sergio Leone,\"Harry Grey,Leonardo Benvenuti,Piero De Bernardi\"\\n81,Good Will Hunting,1997,8.3,\"Drama,Romance\",R,2h 6m,\"Some people can never believe in themselves, until someone believes in them.\",Not Available,Not Available,\"Robin Williams,Matt Damon,Ben Affleck,Stellan Skarsgård,John Mighton,Rachel Majorowski,Colleen McCauley,Casey Affleck,Cole Hauser,Matt Mercier,Ralph St. George,Rob Lynds,Dan Washington,Alison Folland,Derrick Bridgeman,Vik Sahay,Shannon Egleson,Rob Lyons\",Gus Van Sant,\"Matt Damon,Ben Affleck\"\\n82,Your Name.,2016,8.4,\"Animation,Drama,Fantasy\",TV-PG,1h 46m,\"Experience Japan\\'s #1 film of 2016, from visionary director Makoto Shinkai\",Not Available,Not Available,\"Ryûnosuke Kamiki,Mone Kamishiraishi,Ryô Narita,Aoi Yûki,Nobunaga Shimazaki,Kaito Ishikawa,Kanon Tani,Masaki Terasoma,Sayaka Ôhara,Kazuhiko Inoue,Chafûrin,Kana Hanazawa,Yuka Terasaki,Takashi Onozuka,Yôhei Namekawa,Miyu Tsuji,Shin\\'ya Hamazoe,Kanami Satô\",Makoto Shinkai,\"Makoto Shinkai,Clark Cheng\"\\n83,3 Idiots,2009,8.4,\"Comedy,Drama\",PG-13,2h 50m,Don\\'t be Stupid. Be an I.D.I.O.T.,550000000,60262836,\"Aamir Khan,Madhavan,Mona Singh,Sharman Joshi,Kareena Kapoor,Boman Irani,Omi Vaidya,Olivier Lafont,Rahul Kumar,Parikshit Sahni,Farida Dadi,Amardeep Jha,Mukund Bhatt,Chaitali Bose,Jaaved Jaaferi,Jayant Kripalani,Arun Bali,Shoaib Ahmed\",Rajkumar Hirani,\"Rajkumar Hirani,Abhijat Joshi,Vidhu Vinod Chopra\"\\n84,Singin\\' in the Rain,1952,8.3,\"Comedy,Musical,Romance\",G,1h 43m,Singin\\' Swingin\\' Glorious Feelin\\' Technicolor Musical,2540800,2000288,\"Gene Kelly,Donald O\\'Connor,Debbie Reynolds,Jean Hagen,Millard Mitchell,Cyd Charisse,Douglas Fowley,Rita Moreno,Dawn Addams,John Albright,Betty Allen,Sue Allen,John Angelo,Marie Ardell,Bette Arlen,David Bair,Lynn Bari,Jimmy Bates\",\"Stanley Donen,Gene Kelly\",\"Betty Comden,Adolph Green\"\\n85,Requiem for a Dream,2000,8.3,Drama,Unrated,1h 42m,From the director of [Pi],4500000,7390108,\"Ellen Burstyn,Jared Leto,Jennifer Connelly,Marlon Wayans,Christopher McDonald,Louise Lasser,Marcia Jean Kurtz,Janet Sarno,Suzanne Shepherd,Joanne Gordon,Charlotte Aronofsky,Mark Margolis,Michael Kaycheck,Jack O\\'Connell,Chas Mastin,Ajay Naidu,Sean Gullette,Samia Shoaib\",Darren Aronofsky,\"Hubert Selby Jr.,Darren Aronofsky\"\\n86,Toy Story 3,2010,8.3,\"Animation,Adventure,Comedy\",G,1h 43m,The Breakout Comedy Of The Summer,200000000,1067316101,\"Tom Hanks,Tim Allen,Joan Cusack,Ned Beatty,Don Rickles,Michael Keaton,Wallace Shawn,John Ratzenberger,Estelle Harris,John Morris,Jodi Benson,Emily Ricks Hahn,Laurie Metcalf,Blake Clark,Teddy Newton,Bud Luckey,Bea Miller,Javier Fernández-Peña\",Lee Unkrich,\"John Lasseter,Andrew Stanton,Lee Unkrich\"\\n87,High and Low,1963,8.4,\"Crime,Drama,Mystery\",Not Rated,2h 23m,142 Screenful Minutes of Thrills and Suspense!,Not Available,Not Available,\"Toshirô Mifune,Yutaka Sada,Tatsuya Nakadai,Kyôko Kagawa,Tatsuya Mihashi,Isao Kimura,Kenjirô Ishiyama,Takeshi Katô,Takashi Shimura,Jun Tazaki,Nobuo Nakamura,Yûnosuke Itô,Tsutomu Yamazaki,Minoru Chiaki,Eijirô Tôno,Masao Shimizu,Masahiko Shimazu,Toshio Egi\",Akira Kurosawa,\"Hideo Oguni,Ryûzô Kikushima,Eijirô Hisaita\"\\n88,Capernaum,2018,8.4,Drama,R,2h 6m,\"\"\"Why are you suing your parents?\"\" \"\"For giving me life.\"\"\",Not Available,Not Available,\"Zain Al Rafeea,Yordanos Shiferaw,Boluwatife Treasure Bankole,Kawsar Al Haddad,Fadi Yousef,Cedra Izzam,Alaa Chouchnieh,Elias Khoury,Mohammad Al Abdallah,Mohamad Abdellatif,Abdo Abdo,Hampig Abraham,Jamil Ahmad,Mohamad Akkar,Elias Akobegia,Riman Al Rafeea,Legamett Alamou,Majd Nabil Alhalabi\",Nadine Labaki,\"Nadine Labaki,Jihad Hojeily,Michelle Keserwany\"\\n89,Star Wars: Episode VI - Return of the Jedi,1983,8.3,\"Action,Adventure,Fantasy\",PG,2h 11m,\"Coming May 25, 1983 to your galaxy. [Second Advance poster]\",32500000,475106177,\"Mark Hamill,Harrison Ford,Carrie Fisher,Billy Dee Williams,Anthony Daniels,Peter Mayhew,Sebastian Shaw,Ian McDiarmid,Frank Oz,James Earl Jones,David Prowse,Alec Guinness,Kenny Baker,Michael Pennington,Kenneth Colley,Michael Carter,Denis Lawson,Tim Rose\",Richard Marquand,\"Lawrence Kasdan,George Lucas\"\\n90,Eternal Sunshine of the Spotless Mind,2004,8.3,\"Drama,Romance,Sci-Fi\",R,1h 48m,I already forget how I used to feel about you.,20000000,74036715,\"Jim Carrey,Kate Winslet,Tom Wilkinson,Gerry Robert Byrne,Elijah Wood,Thomas Jay Ryan,Mark Ruffalo,Jane Adams,David Cross,Kirsten Dunst,Ryan Whitney,Debbon Ayer,Amir Ali Said,Brian Price,Paulie Litt,Josh Flitter,Lola Daehler,Deirdre O\\'Connell\",Michel Gondry,\"Charlie Kaufman,Michel Gondry,Pierre Bismuth\"\\n91,2001: A Space Odyssey,1968,8.3,\"Adventure,Sci-Fi\",G,2h 29m,Let the Awe and Mystery of a Journey Unlike Any Other Begin,12000000,65889846,\"Keir Dullea,Gary Lockwood,William Sylvester,Daniel Richter,Leonard Rossiter,Margaret Tyzack,Robert Beatty,Sean Sullivan,Douglas Rain,Frank Miller,Bill Weston,Ed Bishop,Glenn Beck,Alan Gifford,Ann Gillis,Edwina Carroll,Penny Brahms,Heather Downham\",Stanley Kubrick,\"Stanley Kubrick,Arthur C. Clarke\"\\n92,Reservoir Dogs,1992,8.3,\"Crime,Thriller\",R,1h 39m,Seven Total Strangers Team Up For The Perfect Crime. They Don\\'t Know Each Other\\'s Name. But They\\'ve Got Each Other\\'s Color,1200000,2913644,\"Harvey Keitel,Tim Roth,Michael Madsen,Chris Penn,Steve Buscemi,Lawrence Tierney,Randy Brooks,Kirk Baltz,Edward Bunker,Quentin Tarantino,Rich Turner,David Steen,Tony Cosmo,Stevo Polyi,Michael Sottile,Robert Ruth,Lawrence Bender,Linda Kaye\",Quentin Tarantino,\"Quentin Tarantino,Roger Avary\"\\n93,Come and See,1985,8.4,\"Drama,Thriller,War\",Not Rated,2h 22m,The cruelest side of war.,Not Available,Not Available,\"Aleksey Kravchenko,Olga Mironova,Liubomiras Laucevicius,Vladas Bagdonas,Jüri Lumiste,Viktors Lorencs,Kazimir Rabetsky,Evgeniy Tilicheev,G. Velts,V. Vasilyev,Aleksandr Berda,Vasiliy Domrachyov,Nina Evdokimova,Igor Gnevashev,Adolf Hitler,Valery Kravchenko,Evgeniy Kryzhanovskiy,N. Lisichenok\",Elem Klimov,\"Ales Adamovich,Elem Klimov\"\\n94,The Hunt,2012,8.3,Drama,R,1h 55m,The lie is spreading.,Not Available,Not Available,\"Mads Mikkelsen,Thomas Bo Larsen,Annika Wedderkopp,Lasse Fogelstrøm,Susse Wold,Anne Louise Hassing,Lars Ranthe,Alexandra Rapaport,Sebastian Bull,Steen Ordell Guldbrand Jensen,Daniel Engstrup,Troels Thorsen,Søren Rønholt,Hana Shuan,Jytte Kvinesdal,Josefine Gråbøl,Bjarne Henriksen,Nicolai Dahl Hamilton\",Thomas Vinterberg,\"Thomas Vinterberg,Tobias Lindholm\"\\n95,Citizen Kane,1941,8.3,\"Drama,Mystery\",PG,1h 59m,Radio\\'s Most Dynamic Artist . . The Man At Whose Voice A Nation Trembled . . . Now the screen\\'s most exciting NEW star ! ORSON WELLES in the picture Hollywood said he\\'d never make,839727,1645133,\"Orson Welles,Joseph Cotten,Dorothy Comingore,Agnes Moorehead,Ruth Warrick,Ray Collins,Erskine Sanford,Everett Sloane,William Alland,Paul Stewart,George Coulouris,Fortunio Bonanova,Gus Schilling,Philip Van Zandt,Georgia Backus,Harry Shannon,Sonny Bupp,Buddy Swan\",Orson Welles,\"Herman J. Mankiewicz,Orson Welles,John Houseman\"\\n96,M,1931,8.3,\"Crime,Mystery,Thriller\",Passed,1h 39m,IT STAGGERS THE SENSES!...SHOCKS the Imagination - It will leave you Gasping - It is the Sensation of 3 Continents!,Not Available,35566,\"Peter Lorre,Ellen Widmann,Inge Landgut,Otto Wernicke,Theodor Loos,Gustaf Gründgens,Friedrich Gnaß,Fritz Odemar,Paul Kemp,Theo Lingen,Rudolf Blümner,Georg John,Franz Stein,Ernst Stahl-Nachbaur,Gerhard Bienert,Karl Platen,Rosa Valetti,Hertha von Walther\",Fritz Lang,\"Thea von Harbou,Fritz Lang,Egon Jacobsohn\"\\n97,Lawrence of Arabia,1962,8.3,\"Adventure,Biography,Drama\",Approved,3h 38m,A Mighty Motion Picture Of Action And Adventure!,15000000,45720631,\"Peter O\\'Toole,Alec Guinness,Anthony Quinn,Jack Hawkins,Omar Sharif,José Ferrer,Anthony Quayle,Claude Rains,Arthur Kennedy,Donald Wolfit,I.S. Johar,Gamil Ratib,Michel Ray,John Dimech,Zia Mohyeddin,Howard Marion-Crawford,Jack Gwillim,Hugh Miller\",David Lean,\"Robert Bolt,Michael Wilson\"\\n98,North by Northwest,1959,8.3,\"Action,Adventure,Mystery\",Approved,2h 16m,Alfred Hitchcock takes you.... North by Northwest!,3101000,142319,\"Cary Grant,Eva Marie Saint,James Mason,Jessie Royce Landis,Leo G. Carroll,Josephine Hutchinson,Philip Ober,Martin Landau,Adam Williams,Edward Platt,Robert Ellenstein,Les Tremayne,Philip Coolidge,Patrick McVey,Edward Binns,Ken Lynch,Stanley Adams,John Alban\",Alfred Hitchcock,Ernest Lehman\\n99,Vertigo,1958,8.3,\"Mystery,Romance,Thriller\",PG,2h 8m,A Hitchcock thriller. You should see it from the beginning!,2479000,7798146,\"James Stewart,Kim Novak,Barbara Bel Geddes,Tom Helmore,Henry Jones,Raymond Bailey,Ellen Corby,Konstantin Shayne,Lee Patrick,David Ahdar,Isabel Analla,Jack Ano,Margaret Bacon,John Benson,Danny Borzage,Margaret Brayton,Paul Bryar,Boyd Cabeen\",Alfred Hitchcock,\"Alec Coppel,Samuel A. Taylor,Pierre Boileau\"\\n100,Ikiru,1952,8.3,Drama,Not Rated,2h 23m,One of the Great Films of Our Time!,Not Available,96302,\"Takashi Shimura,Nobuo Kaneko,Shin\\'ichi Himori,Haruo Tanaka,Minoru Chiaki,Miki Odagiri,Bokuzen Hidari,Minosuke Yamada,Kamatari Fujiwara,Makoto Kobori,Nobuo Nakamura,Atsushi Watanabe,Isao Kimura,Masao Shimizu,Yûnosuke Itô,Kumeko Urabe,Eiko Miyoshi,Noriko Honma\",Akira Kurosawa,\"Akira Kurosawa,Shinobu Hashimoto,Hideo Oguni\"\\n101,Amélie,2001,8.3,\"Comedy,Romance\",R,2h 2m,One person can change your life forever.,10000000,174122191,\"Audrey Tautou,Mathieu Kassovitz,Rufus,Lorella Cravotta,Serge Merlin,Jamel Debbouze,Clotilde Mollet,Claire Maurier,Isabelle Nanty,Dominique Pinon,Artus de Penguern,Yolande Moreau,Urbain Cancelier,Maurice Bénichou,Michel Robin,Andrée Damant,Claude Perron,Armelle\",Jean-Pierre Jeunet,\"Guillaume Laurant,Jean-Pierre Jeunet\"\\n102,The Apartment,1960,8.3,\"Comedy,Drama,Romance\",Approved,2h 5m,\"Movie-wise, there has never been anything like \"\"THE APARTMENT\"\" love-wise, laugh-wise or otherwise-wise!\",3000000,18778738,\"Jack Lemmon,Shirley MacLaine,Fred MacMurray,Ray Walston,Jack Kruschen,David Lewis,Hope Holiday,Joan Shawlee,Naomi Stevens,Johnny Seven,Joyce Jameson,Willard Waterman,David White,Edie Adams,Dorothy Abbott,Bill Baldwin,Paul Bradley,Benny Burt\",Billy Wilder,\"Billy Wilder,I.A.L. Diamond\"\\n103,A Clockwork Orange,1971,8.3,\"Crime,Sci-Fi\",X,2h 16m,\"Being the adventures of a young man ... who couldn\\'t resist pretty girls ... or a bit of the old ultra-violence ... went to jail, was re-conditioned ... and came out a different young man ... or was he ?\",2200000,26960374,\"Malcolm McDowell,Patrick Magee,Michael Bates,Warren Clarke,John Clive,Adrienne Corri,Carl Duering,Paul Farrell,Clive Francis,Michael Gover,Miriam Karlin,James Marcus,Aubrey Morris,Godfrey Quigley,Sheila Raynor,Madge Ryan,John Savident,Anthony Sharp\",Stanley Kubrick,\"Stanley Kubrick,Anthony Burgess\"\\n104,Double Indemnity,1944,8.3,\"Crime,Drama,Film-Noir\",Passed,1h 47m,\"IT\\'S LOVE AND MURDER AT FIRST SIGHT! (print ad - Lubbock Morning Avalanche - Lindsey Theatre - Lubbock, Texas - September 1, 1944 - all caps)\",927262,14651,\"Fred MacMurray,Barbara Stanwyck,Edward G. Robinson,Byron Barr,Porter Hall,Jean Heather,Tom Powers,Richard Gaines,Fortunio Bonanova,John Philliber,Lev Abramov,James Adamson,John Berry,Raymond Chandler,Edmund Cobb,Kernan Cripps,Betty Farrington,Bess Flowers\",Billy Wilder,\"Billy Wilder,Raymond Chandler,James M. Cain\"\\n105,Full Metal Jacket,1987,8.3,\"Drama,War\",R,1h 56m,An Epic Story of the Vietnam War [Australia Theatrical],30000000,46358827,\"Matthew Modine,R. Lee Ermey,Vincent D\\'Onofrio,Adam Baldwin,Dorian Harewood,Kevyn Major Howard,Arliss Howard,Ed O\\'Ross,John Terry,Kieron Jecchinis,Kirk Taylor,Tim Colceri,Jon Stafford,Bruce Boa,Ian Tyler,Sal Lopez,Gary Landon Mills,Papillon Soo\",Stanley Kubrick,\"Stanley Kubrick,Michael Herr,Gustav Hasford\"\\n106,Top Gun: Maverick,2022,8.3,\"Action,Drama\",PG-13,2h 10m,Feel the need... The need for speed.,170000000,1488732821,\"Tom Cruise,Jennifer Connelly,Miles Teller,Val Kilmer,Bashir Salahuddin,Jon Hamm,Charles Parnell,Monica Barbaro,Lewis Pullman,Jay Ellis,Danny Ramirez,Glen Powell,Jack Schumacher,Manny Jacinto,Kara Wang,Greg Tarzan Davis,Jake Picking,Raymond Lee\",Joseph Kosinski,\"Jim Cash,Jack Epps Jr.,Peter Craig\"\\n107,Scarface,1983,8.3,\"Crime,Drama\",R,2h 50m,He was Tony Montana. The world will remember him by another name...SCARFACE.,25000000,65884703,\"Al Pacino,Michelle Pfeiffer,Steven Bauer,Mary Elizabeth Mastrantonio,Robert Loggia,Miriam Colon,F. Murray Abraham,Paul Shenar,Harris Yulin,Ángel Salazar,Arnaldo Santana,Pepe Serna,Michael P. Moran,Al Israel,Dennis Holahan,Mark Margolis,Michael Alldredge,Ted Beniades\",Brian De Palma,\"Oliver Stone,Howard Hawks,Ben Hecht\"\\n108,Hamilton,2020,8.4,\"Biography,Drama,History\",PG-13,2h 40m,An American Musical,Not Available,Not Available,\"Lin-Manuel Miranda,Phillipa Soo,Leslie Odom Jr.,Renée Elise Goldsberry,Daveed Diggs,Jonathan Groff,Chris Jackson,Jasmine Cephas Jones,Okieriete Onaodowan,Anthony Ramos,Carleigh Bettiol,Ariana DeBose,Hope Easterbrook,Sydney James Harcourt,Sasha Hutchings,Thayne Jasperson,Elizabeth Judd,Jon Rua\",Thomas Kail,\"Lin-Manuel Miranda,Ron Chernow\"\\n109,Incendies,2010,8.3,\"Drama,Mystery\",R,2h 11m,The search began at the opening of their mother\\'s will.,6800000,6788659,\"Lubna Azabal,Mélissa Désormeaux-Poulin,Maxim Gaudette,Mustafa Kamel,Hussein Sami,Rémy Girard,Dominique Briand,Frédéric Paquet,Hamed Najem,Ahmad Massad,Bader Alami,Majida Hussein,Asriah Nijres,John Dunn-Hill,Nadia Essadiqi,Chaouki Charbel,Axel Garbi,Amine Benzenine\",Denis Villeneuve,\"Denis Villeneuve,Wajdi Mouawad,Valérie Beaugrand-Champagne\"\\n110,To Kill a Mockingbird,1962,8.3,\"Crime,Drama\",Approved,2h 9m,The most beloved and widely read Pulitzer Prize Winner now comes vividly alive on the screen!,2000000,599146,\"Gregory Peck,John Megna,Frank Overton,Rosemary Murphy,Ruth White,Brock Peters,Estelle Evans,Paul Fix,Collin Wilcox Paxton,James Anderson,Alice Ghostley,Robert Duvall,William Windom,Crahan Denton,Richard Hale,Mary Badham,Phillip Alford,R.L. Armstrong\",Robert Mulligan,\"Harper Lee,Horton Foote\"\\n111,Heat,1995,8.3,\"Action,Crime,Drama\",R,2h 50m,An L.A. Redemption,60000000,187436818,\"Al Pacino,Robert De Niro,Val Kilmer,Jon Voight,Tom Sizemore,Diane Venora,Amy Brenneman,Ashley Judd,Mykelti Williamson,Wes Studi,Ted Levine,Dennis Haysbert,William Fichtner,Natalie Portman,Tom Noonan,Kevin Gage,Hank Azaria,Susan Traylor\",Michael Mann,Michael Mann\\n112,The Sting,1973,8.3,\"Comedy,Crime,Drama\",PG,2h 9m,\"Recapture \"\"the STING Experience\"\". REMEMBER HOW GOOD THE FEEL WAS THE FIRST TIME (re-release)\",5500000,156000000,\"Paul Newman,Robert Redford,Robert Shaw,Charles Durning,Ray Walston,Eileen Brennan,Harold Gould,John Heffernan,Dana Elcar,Jack Kehoe,Dimitra Arliss,Robert Earl Jones,James Sloyan,Charles Dierkop,Lee Paul,Sally Kirkland,Avon Long,Arch Johnson\",George Roy Hill,David S. Ward\\n113,Up,2009,8.3,\"Animation,Adventure,Comedy\",PG,1h 36m,Fly Up to Venezuela,175000000,735099102,\"Edward Asner,Jordan Nagai,John Ratzenberger,Christopher Plummer,Bob Peterson,Delroy Lindo,Jerome Ranft,David Kaye,Elie Docter,Jeremy Leary,Mickie McGowan,Danny Mann,Donald Fullilove,Jess Harnell,Josh Cooley,Pete Docter,Mark Andrews,Bob Bergen\",\"Pete Docter,Bob Peterson(co-director)\",\"Pete Docter,Bob Peterson,Tom McCarthy\"\\n114,A Separation,2011,8.3,Drama,PG-13,2h 3m,\"Ugly truth, sweet lies\",500000,22926076,\"Payman Maadi,Leila Hatami,Sareh Bayat,Shahab Hosseini,Sarina Farhadi,Merila Zare\\'i,Ali-Asghar Shahbazi,Babak Karimi,Kimia Hosseini,Shirin Yazdanbakhsh,Sohibanoo Zolqadr,Mohammadhasan Asghari,Shirin Azimiyannezhad,Hamid Dadju,Mohammad Ebrahimian,Samad Farhang,Ali Fattahi,Nafise Ghodrati\",Asghar Farhadi,Asghar Farhadi\\n115,Metropolis,1927,8.3,\"Drama,Sci-Fi\",Not Rated,2h 33m,Fritz Lang\\'s 1927 Masterpiece Now With 25 Minutes of Lost Footage (2010 re-release),EM\\xa06000000,1349711,\"Brigitte Helm,Alfred Abel,Gustav Fröhlich,Rudolf Klein-Rogge,Fritz Rasp,Theodor Loos,Erwin Biswanger,Heinrich George,Fritz Alberti,Grete Berger,Olly Boeheim,Max Dietze,Ellen Frey,Beatrice Garga,Heinrich Gotho,Dolly Grey,Anny Hintze,Gottfried Huppertz\",Fritz Lang,\"Thea von Harbou,Fritz Lang\"\\n116,Taxi Driver,1976,8.2,\"Crime,Drama\",R,1h 54m,\"On every street in every city in this country, there\\'s a nobody who dreams of being a somebody.\",1300000,28570902,\"Robert De Niro,Jodie Foster,Cybill Shepherd,Albert Brooks,Diahnne Abbott,Frank Adu,Victor Argo,Gino Ardito,Garth Avery,Peter Boyle,Harry Cohn,Copper Cunningham,Brenda Dickson,Harry Fischler,Nat Grant,Leonard Harris,Richard Higgs,Beau Kayser\",Martin Scorsese,Paul Schrader\\n117,L.A. Confidential,1997,8.2,\"Crime,Drama,Mystery\",R,2h 18m,\"Off the record, on the QT, and very hush-hush...\",35000000,126216940,\"Kevin Spacey,Russell Crowe,Guy Pearce,Kim Basinger,James Cromwell,Danny DeVito,David Strathairn,Ron Rifkin,Matt McCoy,Paul Guilfoyle,Paolo Seganti,Elisabeth Granli,Sandra Taylor,Steve Rankin,Graham Beckel,Allan Graf,Precious Chong,Symba\",Curtis Hanson,\"James Ellroy,Brian Helgeland,Curtis Hanson\"\\n118,Die Hard,1988,8.2,\"Action,Thriller\",R,2h 12m,It will blow you through the back wall of the theater!,28000000,141603197,\"Bruce Willis,Alan Rickman,Bonnie Bedelia,Reginald VelJohnson,Paul Gleason,De\\'voreaux White,William Atherton,Hart Bochner,James Shigeta,Alexander Godunov,Bruno Doyon,Andreas Wisniewski,Clarence Gilyard Jr.,Joseph Plewa,Lorenzo Caccialanza,Gérard Bonn,Dennis Hayden,Al Leong\",John McTiernan,\"Roderick Thorp,Jeb Stuart,Steven E. de Souza\"\\n119,Snatch,2000,8.2,\"Comedy,Crime\",R,1h 42m,Stealin\\' Stones and Breakin\\' Bones,6000000,83557872,\"Jason Statham,Brad Pitt,Stephen Graham,Vinnie Jones,Ade,William Beck,Andy Beckwith,Ewen Bremner,Jason Buckham,Mickey Cantwell,Nicola Collins,Teena Collins,Charles Cork,James Cunningham,Sorcha Cusack,Mickey Dee,Benicio Del Toro,Sam Douglas\",Guy Ritchie,Guy Ritchie\\n120,Indiana Jones and the Last Crusade,1989,8.2,\"Action,Adventure\",PG-13,2h 7m,He\\'s back in an all new adventure. Memorial Day 1989.,48000000,474171806,\"Harrison Ford,Sean Connery,Alison Doody,Denholm Elliott,John Rhys-Davies,Julian Glover,River Phoenix,Michael Byrne,Kevork Malikyan,Robert Eddison,Richard Young,Alexei Sayle,Alex Hyde-White,Paul Maxwell,Isla Blair,Vernon Dobtcheff,J.J. Hardy,Bradley Gregg\",Steven Spielberg,\"Jeffrey Boam,George Lucas,Menno Meyjes\"\\n121,Bicycle Thieves,1948,8.3,Drama,Not Rated,1h 29m,The Prize Picture They Want to Censor!,133000,436655,\"Lamberto Maggiorani,Enzo Staiola,Lianella Carell,Elena Altieri,Gino Saltamerenda,Giulio Chiari,Vittorio Antonucci,Michele Sakara,Fausto Guerzoni,Emma Druetti,Carlo Jachino,Giulio Battiferri,Ida Bracci Dorati,Nando Bruno,Eolo Capritti,Memmo Carotenuto,Giovanni Corporale,Veriano Ginesi\",Vittorio De Sica,\"Cesare Zavattini,Luigi Bartolini,Oreste Biancoli\"\\n122,Like Stars on Earth,2007,8.3,\"Drama,Family\",PG,2h 45m,Every Child is Special,Not Available,21897373,\"Darsheel Safary,Aamir Khan,Tisca Chopra,Vipin Sharma,Sachet Engineer,Tanay Chheda,Lalitha Lajmi,Girija Oak,Ravi Khanvilkar,Pratima Kulkarni,Meghna Malik,Sonali Sachdev,Sanjay Dadhich,Rajgopal Iyer,Bugs Bhargava Krishna,Shankar Sachdev,M.K. Raina,Gurkirtan\",\"Aamir Khan,Amole Gupte(uncredited)\",Amole Gupte\\n123,1917,2019,8.2,\"Action,Drama,War\",R,1h 59m,Time is the enemy.,95000000,384479940,\"Dean-Charles Chapman,George MacKay,Daniel Mays,Colin Firth,Pip Carter,Andy Apollo,Paul Tinto,Josef Davies,Billy Postlethwaite,Gabriel Akuwudike,Andrew Scott,Spike Leighton,Robert Maaser,Gerran Howell,Adam Hugill,Mark Strong,Richard McCabe,Benjamin Adams\",Sam Mendes,\"Sam Mendes,Krysty Wilson-Cairns\"\\n124,Downfall,2004,8.2,\"Biography,Drama,History\",R,2h 36m,\"April 1945, a nation awaits its...\",13500000,92181574,\"Bruno Ganz,Alexandra Maria Lara,Ulrich Matthes,Juliane Köhler,Corinna Harfouch,Heino Ferch,Christian Berkel,Matthias Habich,Thomas Kretschmann,Michael Mendl,André Hennicke,Ulrich Noethen,Birgit Minichmayr,Rolf Kanies,Justus von Dohnányi,Dieter Mann,Christian Redl,Götz Otto\",Oliver Hirschbiegel,\"Bernd Eichinger,Joachim Fest,Traudl Junge\"\\n125,Dangal,2016,8.3,\"Action,Biography,Drama\",Not Rated,2h 41m,You think our girls are any lesser than boys?,Not Available,Not Available,\"Aamir Khan,Sakshi Tanwar,Fatima Sana Shaikh,Sanya Malhotra,Aparshakti Khurana,Zaira Wasim,Suhani Bhatnagar,Ritvik Sahore,Girish Kulkarni,Ravi Aneja,Anurag Arora,Mahesh Balraj,Vivan Bhatena,Anmol Charan,Karamveer Choudhary,Ishika Gagneja,Badrul Islam,Jagbir\",Nitesh Tiwari,\"Piyush Gupta,Shreyas Jain,Nikhil Mehrotra\"\\n126,For a Few Dollars More,1965,8.2,Western,R,2h 12m,The man with no name is back.,600000,15000000,\"Clint Eastwood,Lee Van Cleef,Gian Maria Volontè,Mara Krupp,Luigi Pistilli,Klaus Kinski,Luis Rodríguez,Benito Stefanelli,Panos Papadopulos,Aldo Sambrell,Roberto Camardiel,Joseph Egger,Tomás Blanco,Lorenzo Robledo,Dante Maggio,Sergio Mendizábal,Diana Rabito,Giovanni Tarallo\",Sergio Leone,\"Sergio Leone,Fulvio Morsella,Luciano Vincenzoni\"\\n127,Batman Begins,2005,8.2,\"Action,Crime,Drama\",PG-13,2h 20m,The Legend Begins,150000000,373672993,\"Christian Bale,Michael Caine,Ken Watanabe,Liam Neeson,Katie Holmes,Gary Oldman,Cillian Murphy,Tom Wilkinson,Rutger Hauer,Mark Boone Junior,Linus Roache,Morgan Freeman,Larry Holden,Gerard Murphy,Colin McFarlane,Sara Stewart,Gus Lewis,Richard Brake\",Christopher Nolan,\"Bob Kane,David S. Goyer,Christopher Nolan\"\\n128,The Kid,1921,8.3,\"Comedy,Drama,Family\",Passed,1h 8m,This is the great film he has been working on for a whole year,250000,41960,\"Charles Chaplin,Edna Purviance,Jackie Coogan,Carl Miller,Albert Austin,Beulah Bains,Nellie Bly Baker,Henry Bergman,Edward Biby,B.F. Blinn,Kitty Bradbury,Frank Campeau,Bliss Chevalier,Frances Cochran,Elsie Codd,Jack Coogan Sr.,Estelle Cook,Lillian Crane\",Charles Chaplin,Charles Chaplin\\n129,Some Like It Hot,1959,8.2,\"Comedy,Music,Romance\",Passed,2h 1m,\"Not since SCARFACE, so much action. Not since the Marx Brothers, so much comedy. Not since THE SEVEN YEAR ITCH, so much Marilyn.\",2883848,195088,\"Marilyn Monroe,Tony Curtis,Jack Lemmon,George Raft,Pat O\\'Brien,Joe E. Brown,Nehemiah Persoff,Joan Shawlee,Billy Gray,George E. Stone,Dave Barry,Mike Mazurki,Harry Wilson,Beverly Wills,Barbara Drew,Edward G. Robinson Jr.,Sam Bagley,Brandon Beach\",Billy Wilder,\"Billy Wilder,I.A.L. Diamond,Robert Thoeren\"\\n130,The Father,2020,8.2,\"Drama,Mystery\",PG-13,1h 37m,Nothing is as it seems,6000000,24427162,\"Anthony Hopkins,Olivia Colman,Mark Gatiss,Olivia Williams,Imogen Poots,Rufus Sewell,Ayesha Dharker,Roman Zeller,Adnan Kundi,Brian Rodger,Evie Wray\",Florian Zeller,\"Christopher Hampton,Florian Zeller\"\\n131,All About Eve,1950,8.2,Drama,Passed,2h 18m,It\\'s all about women---and their men!,1400000,151052,\"Bette Davis,Anne Baxter,George Sanders,Celeste Holm,Gary Merrill,Hugh Marlowe,Gregory Ratoff,Barbara Bates,Marilyn Monroe,Thelma Ritter,Walter Hampden,Randy Stuart,Craig Hill,Leland Harris,Barbara White,Eddie Fisher,William Pullen,Claude Stroud\",Joseph L. Mankiewicz,\"Joseph L. Mankiewicz,Mary Orr\"\\n132,The Wolf of Wall Street,2013,8.2,\"Biography,Comedy,Crime\",R,3h,Earn. Spend. Party.,100000000,406878233,\"Leonardo DiCaprio,Jonah Hill,Margot Robbie,Matthew McConaughey,Kyle Chandler,Rob Reiner,Jon Bernthal,Jon Favreau,Jean Dujardin,Joanna Lumley,Cristin Milioti,Christine Ebersole,Shea Whigham,Katarina Cas,P.J. Byrne,Kenneth Choi,Brian Sacca,Henry Zebrowski\",Martin Scorsese,\"Terence Winter,Jordan Belfort\"\\n133,Green Book,2018,8.2,\"Biography,Comedy,Drama\",PG-13,2h 10m,Inspired by a True Friendship,23000000,321752656,\"Viggo Mortensen,Mahershala Ali,Linda Cardellini,Sebastian Maniscalco,Dimiter D. Marinov,Mike Hatton,P.J. Byrne,Joe Cortese,Maggie Nixon,Von Lewis,Jon Sortland,Don Stark,Anthony Mangano,Paul Sloan,Quinn Duffy,Seth Hurwitz,Hudson Galloway,Gavin Lyle Foley\",Peter Farrelly,\"Nick Vallelonga,Brian Hayes Currie,Peter Farrelly\"\\n134,Judgment at Nuremberg,1961,8.3,\"Drama,War\",Approved,2h 59m,More than a motion picture...It is an overwhelming experience in human emotion you will never forget!,3000000,12180,\"Spencer Tracy,Burt Lancaster,Richard Widmark,Marlene Dietrich,Maximilian Schell,Judy Garland,Montgomery Clift,William Shatner,Werner Klemperer,Kenneth MacKenna,Torben Meyer,Joseph Bernard,Alan Baxter,Edward Binns,Virginia Christine,Otto Waldis,Karl Swenson,Martin Brandt\",Stanley Kramer,\"Abby Mann,Montgomery Clift\"\\n135,Casino,1995,8.2,\"Crime,Drama\",R,2h 58m,You don\\'t stay at the top forever,52000000,116112375,\"Robert De Niro,Sharon Stone,Joe Pesci,James Woods,Don Rickles,Alan King,Kevin Pollak,L.Q. Jones,Dick Smothers,Frank Vincent,John Bloom,Pasquale Cajano,Melissa Prophet,Bill Allison,Vinny Vella,Philip Suriano,Erika von Tagen,Frankie Avalon\",Martin Scorsese,\"Nicholas Pileggi,Martin Scorsese\"\\n136,Ran,1985,8.2,\"Action,Drama,War\",R,2h 42m,tionDramaWar,11500000,4164283,\"Tatsuya Nakadai,Akira Terao,Jinpachi Nezu,Daisuke Ryû,Mieko Harada,Yoshiko Miyazaki,Hisashi Igawa,Pîtâ,Masayuki Yui,Kazuo Katô,Norio Matsui,Toshiya Ito,Kenji Kodama,Takashi Watanabe,Mansai Nomura,Takeshi Katô,Jun Tazaki,Hitoshi Ueki\",Akira Kurosawa,\"Akira Kurosawa,Hideo Oguni,Masato Ide\"\\n137,Pan\\'s Labyrinth,2006,8.2,\"Drama,Fantasy,War\",R,1h 58m,What happens when make-believe believes it\\'s real?,19000000,83862032,\"Ivana Baquero,Ariadna Gil,Sergi López,Maribel Verdú,Doug Jones,Álex Angulo,Manolo Solo,César Vea,Roger Casamajor,Ivan Massagué,Gonzalo Uriarte,Eusebio Lázaro,Francisco Vidal,Juanjo Cucalón,Lina Mira,Mario Zorrilla,Sebastián Haro,Mila Espiga\",Guillermo del Toro,Guillermo del Toro\\n138,The Truman Show,1998,8.2,\"Comedy,Drama\",PG,1h 43m,All the world\\'s a stage...,60000000,264118201,\"Jim Carrey,Ed Harris,Laura Linney,Noah Emmerich,Natascha McElhone,Holland Taylor,Brian Delate,Blair Slater,Peter Krause,Heidi Schanz,Ron Taylor,Don Taylor,Ted Raymond,Judy Clayton,Fritz Dominique,Angel Schmiedt,Nastassja Schmiedt,Muriel Moore\",Peter Weir,Andrew Niccol\\n139,There Will Be Blood,2007,8.2,Drama,R,2h 38m,There Will Be Greed. There Will Be Vengeance.,25000000,76182388,\"Daniel Day-Lewis,Paul Dano,Ciarán Hinds,Martin Stringer,Matthew Braden Stringer,Jacob Stringer,Joseph Mussey,Barry Del Sherman,Harrison Taylor,Stockton Taylor,Paul F. Tompkins,Dillon Freasier,Kevin Breznahan,Jim Meskimen,Erica Sullivan,Randall Carver,Coco Leigh,Sydney McCallister\",Paul Thomas Anderson,\"Paul Thomas Anderson,Upton Sinclair\"\\n140,Unforgiven,1992,8.2,\"Drama,Western\",R,2h 10m,\"It\\'s a hell of a thing, killing a man\",14400000,159167799,\"Clint Eastwood,Gene Hackman,Morgan Freeman,Richard Harris,Jaimz Woolvett,Saul Rubinek,Frances Fisher,Anna Thomson,David Mucci,Rob Campbell,Anthony James,Tara Frederick,Beverley Elliott,Liisa Repo-Martell,Josie Smith,Shane Meier,Aline Levasseur,Cherrilene Cardinal\",Clint Eastwood,David Webb Peoples\\n141,The Sixth Sense,1999,8.2,\"Drama,Mystery,Thriller\",PG-13,1h 47m,\"\"\"I see dead people\"\"\",40000000,672806432,\"Bruce Willis,Haley Joel Osment,Toni Collette,Olivia Williams,Trevor Morgan,Donnie Wahlberg,Peter Anthony Tambakis,Jeffrey Zubernis,Bruce Norris,Glenn Fitzgerald,Greg Wood,Mischa Barton,Angelica Page,Lisa Summerour,Firdous Bamji,Samia Shoaib,Hayden Saunier,Janis Dardaris\",M. Night Shyamalan,M. Night Shyamalan\\n142,Shutter Island,2010,8.2,\"Mystery,Thriller\",R,2h 18m,Someone is missing.,80000000,294805697,\"Leonardo DiCaprio,Emily Mortimer,Mark Ruffalo,Ben Kingsley,Max von Sydow,Michelle Williams,Patricia Clarkson,Jackie Earle Haley,Ted Levine,John Carroll Lynch,Elias Koteas,Robin Bartlett,Christopher Denham,Nellie Sciutto,Joseph Sikora,Curtiss Cook,Raymond Anthony Thomas,Joseph McKenna\",Martin Scorsese,\"Laeta Kalogridis,Dennis Lehane\"\\n143,A Beautiful Mind,2001,8.2,\"Biography,Drama\",PG-13,2h 15m,The Only Thing Greater Than the Power of the Mind is the Courage of the Heart,58000000,316791257,\"Russell Crowe,Ed Harris,Jennifer Connelly,Christopher Plummer,Paul Bettany,Adam Goldberg,Josh Lucas,Anthony Rapp,Jason Gray-Stanford,Judd Hirsch,Austin Pendleton,Vivien Cardone,Jillie Simon,Victor Steinbach,Tanya Clarke,Thomas F. Walsh,Jesse Doran,Kent Cassella\",Ron Howard,\"Akiva Goldsman,Sylvia Nasar\"\\n144,Jurassic Park,1993,8.2,\"Action,Adventure,Sci-Fi\",PG-13,2h 7m,Life finds a way.,63000000,1109802321,\"Sam Neill,Laura Dern,Jeff Goldblum,Richard Attenborough,Bob Peck,Martin Ferrero,BD Wong,Joseph Mazzello,Ariana Richards,Samuel L. Jackson,Wayne Knight,Gerald R. Molen,Miguel Sandoval,Cameron Thor,Christopher John Fields,Whit Hertford,Dean Cundey,Jophery C. Brown\",Steven Spielberg,\"Michael Crichton,David Koepp\"\\n145,Yojimbo,1961,8.2,\"Action,Drama,Thriller\",Not Rated,1h 50m,Better if all these men were dead. Think about it!,Not Available,46808,\"Toshirô Mifune,Eijirô Tôno,Tatsuya Nakadai,Yôko Tsukasa,Isuzu Yamada,Daisuke Katô,Seizaburô Kawazu,Takashi Shimura,Hiroshi Tachikawa,Yôsuke Natsuki,Kamatari Fujiwara,Ikio Sawamura,Atsushi Watanabe,Susumu Fujita,Kyû Sazanka,Kô Nishimura,Takeshi Katô,Ichirô Nakatani\",Akira Kurosawa,\"Akira Kurosawa,Ryûzô Kikushima\"\\n146,The Treasure of the Sierra Madre,1948,8.2,\"Adventure,Drama,Western\",Passed,2h 6m,Storming to a New High in High Adventure !,3000000,5014000,\"Humphrey Bogart,Walter Huston,Tim Holt,Bruce Bennett,Barton MacLane,Alfonso Bedoya,Arturo Soto Rangel,Manuel Dondé,José Torvay,Margarito Luna,Robert Blake,Guillermo Calles,Roberto Cañedo,Spencer Chan,Jacqueline Dalya,Ralph Dunn,Ernesto Escoto,Pat Flaherty\",John Huston,\"John Huston,B. Traven\"\\n147,Monty Python and the Holy Grail,1975,8.2,\"Adventure,Comedy,Fantasy\",PG,1h 31m,You can do worse than see it.,229575,1940906,\"Graham Chapman,John Cleese,Eric Idle,Terry Gilliam,Terry Jones,Michael Palin,Connie Booth,Carol Cleveland,Neil Innes,Bee Duffell,John Young,Rita Davies,Avril Stewart,Sally Kinghorn,Mark Zycon,Elspeth Cameron,Mitsuko Forstater,Sandy Johnson\",\"Terry Gilliam,Terry Jones\",\"Graham Chapman,John Cleese,Eric Idle\"\\n148,The Great Escape,1963,8.2,\"Adventure,Drama,History\",Approved,2h 52m,put a fence in front of these men...and they\\'ll climb it...,4000000,228178,\"Steve McQueen,James Garner,Richard Attenborough,Charles Bronson,James Donald,Donald Pleasence,James Coburn,Hannes Messemer,David McCallum,Gordon Jackson,John Leyton,Angus Lennie,Nigel Stock,Robert Graf,Jud Taylor,Hans Reiser,Harry Riebauer,William Russell\",John Sturges,\"Paul Brickhill,James Clavell,W.R. Burnett\"\\n149,No Country for Old Men,2007,8.2,\"Crime,Drama,Thriller\",R,2h 2m,There Are No Clean Getaways,25000000,171627434,\"Tommy Lee Jones,Javier Bardem,Josh Brolin,Woody Harrelson,Kelly Macdonald,Garret Dillahunt,Tess Harper,Barry Corbin,Stephen Root,Rodger Boyce,Beth Grant,Ana Reeder,Kit Gwin,Zach Hopkins,Chip Love,Eduardo Antonio Garcia,Gene Jones,Myk Watford\",\"Ethan Coen,Joel Coen\",\"Joel Coen,Ethan Coen,Cormac McCarthy\"\\n150,Spider-Man: No Way Home,2021,8.2,\"Action,Adventure,Fantasy\",PG-13,2h 28m,The Multiverse Unleashed.,200000000,1921847111,\"Tom Holland,Zendaya,Benedict Cumberbatch,Jacob Batalon,Jon Favreau,Jamie Foxx,Willem Dafoe,Alfred Molina,Benedict Wong,Tony Revolori,Marisa Tomei,Andrew Garfield,Tobey Maguire,Angourie Rice,Arian Moayed,Paula Newsome,Hannibal Buress,Martin Starr\",Jon Watts,\"Chris McKenna,Erik Sommers,Stan Lee\"\\n151,Kill Bill: Vol. 1,2003,8.2,\"Action,Crime,Drama\",R,1h 51m,\"In the year 2003, Uma Thurman will kill Bill\",30000000,180906076,\"Uma Thurman,David Carradine,Daryl Hannah,Michael Madsen,Lucy Liu,Vivica A. Fox,Julie Dreyfus,Chiaki Kuriyama,Shin\\'ichi Chiba,Chia-Hui Liu,Michael Parks,Michael Bowen,Jun Kunimura,Kenji Ôba,Yuki Kazamatsuri,James Parks,Sakichi Sato,Jonathan Loughran\",Quentin Tarantino,\"Quentin Tarantino,Uma Thurman\"\\n152,Rashomon,1950,8.2,\"Crime,Drama,Mystery\",Not Rated,1h 28m,\"The husband, the wife...or the bandit?\",250000,81379,\"Toshirô Mifune,Machiko Kyô,Masayuki Mori,Takashi Shimura,Minoru Chiaki,Kichijirô Ueda,Noriko Honma,Daisuke Katô\",Akira Kurosawa,\"Ryûnosuke Akutagawa,Akira Kurosawa,Shinobu Hashimoto\"\\n153,The Thing,1982,8.2,\"Horror,Mystery,Sci-Fi\",R,1h 49m,Anytime. Anywhere. Anyone.,15000000,19632715,\"Kurt Russell,Wilford Brimley,Keith David,Richard Masur,T.K. Carter,David Clennon,Richard Dysart,Charles Hallahan,Peter Maloney,Donald Moffat,Joel Polis,Thomas G. Waites,Norbert Weisser,Larry Franco,Nate Irwin,William Zeman,Adrienne Barbeau,John Carpenter\",John Carpenter,\"Bill Lancaster,John W. Campbell Jr.\"\\n154,Finding Nemo,2003,8.2,\"Animation,Adventure,Comedy\",G,1h 40m,71% of the Earth\\'s surface is covered by water. That\\'s a lot of space to find one fish.,94000000,941637960,\"Albert Brooks,Ellen DeGeneres,Alexander Gould,Willem Dafoe,Brad Garrett,Allison Janney,Austin Pendleton,Stephen Root,Vicki Lewis,Joe Ranft,Geoffrey Rush,Andrew Stanton,Elizabeth Perkins,Nicholas Bird,Bob Peterson,Barry Humphries,Eric Bana,Bruce Spence\",\"Andrew Stanton,Lee Unkrich(co-director)\",\"Andrew Stanton,Bob Peterson,David Reynolds\"\\n155,The Elephant Man,1980,8.2,\"Biography,Drama\",PG,2h 4m,An incredible but true story... probably this year\\'s best film.,5000000,26023860,\"Anthony Hopkins,John Hurt,Anne Bancroft,John Gielgud,Wendy Hiller,Freddie Jones,Michael Elphick,Hannah Gordon,Helen Ryan,John Standing,Dexter Fletcher,Lesley Dunlop,Phoebe Nicholls,Pat Gorman,Claire Davenport,Orla Pederson,Patsy Smart,Frederick Treves\",David Lynch,\"Christopher De Vore,Eric Bergren,David Lynch\"\\n156,Chinatown,1974,8.2,\"Drama,Mystery,Thriller\",R,2h 10m,You get tough. You get tender. You get close to each other. Maybe you even get close to the truth.,6000000,29225935,\"Jack Nicholson,Faye Dunaway,John Huston,Perry Lopez,John Hillerman,Darrell Zwerling,Diane Ladd,Roy Jenson,Roman Polanski,Richard Bakalyan,Joe Mantell,Bruce Glover,Nandu Hinds,James O\\'Rear,James Hong,Beulah Quo,Jerry Fujikawa,Belinda Palmer\",Roman Polanski,\"Robert Towne,Roman Polanski\"\\n157,Raging Bull,1980,8.2,\"Biography,Drama,Sport\",R,2h 9m,ographyDramaSport,18000000,23402427,\"Robert De Niro,Cathy Moriarty,Joe Pesci,Frank Vincent,Nicholas Colasanto,Theresa Saldana,Mario Gallo,Frank Adonis,Joseph Bono,Frank Topham,Lori Anne Flax,Charles Scorsese,Don Dunphy,Bill Hanrahan,Rita Bennett,James V. Christy,Bernie Allen,Floyd Anderson\",Martin Scorsese,\"Jake LaMotta,Joseph Carter,Peter Savage\"\\n158,V for Vendetta,2005,8.2,\"Action,Drama,Sci-Fi\",R,2h 12m,\"Remember, remember the 5th of November, the gun powder treason and plot. I know of no reason why the gun powder treason should ever be forgot.\",54000000,134686457,\"Hugo Weaving,Natalie Portman,Rupert Graves,Stephen Rea,Stephen Fry,John Hurt,Tim Pigott-Smith,Roger Allam,Ben Miles,Sinéad Cusack,Natasha Wightman,John Standing,Eddie Marsan,Clive Ashborn,Emma Field-Rayner,Ian Burfield,Mark Phoenix,Alister Mazzotti\",James McTeigue,\"Lilly Wachowski,Lana Wachowski,David Lloyd\"\\n159,Gone with the Wind,1939,8.2,\"Drama,Romance,War\",Passed,3h 58m,\"For the thousands who remember its unparalleled drama, action and romance! For the new thousands to whom the wonders will be revealed for the first time! Breathtaking spectacle, inspired acting by the greatest cast ever assembled! The screen\\'s most exciting love story! The most-talked about picture ever made! [reissue]\",3977000,402382193,\"Clark Gable,Vivien Leigh,Thomas Mitchell,Barbara O\\'Neil,Evelyn Keyes,Ann Rutherford,George Reeves,Fred Crane,Hattie McDaniel,Oscar Polk,Butterfly McQueen,Victor Jory,Everett Brown,Howard Hickman,Alicia Rhett,Leslie Howard,Olivia de Havilland,Rand Brooks\",\"Victor Fleming,George Cukor(uncredited),Sam Wood(uncredited)\",\"Margaret Mitchell,Sidney Howard,Oliver H.P. Garrett\"\\n160,\"Lock, Stock and Two Smoking Barrels\",1998,8.2,\"Action,Comedy,Crime\",R,1h 47m,A Disgrace to Criminals Everywhere.,960000,3753929,\"Jason Flemyng,Dexter Fletcher,Nick Moran,Jason Statham,Steven Mackintosh,Nicholas Rowe,Nick Marcq,Charles Forbes,Vinnie Jones,Lenny McLean,Peter McNicholl,P.H. Moriarty,Frank Harper,Steve Sweeney,Huggy Leaver,Ronnie Fox,Tony McMahon,Stephen Marcus\",Guy Ritchie,Guy Ritchie\\n161,Inside Out,2015,8.2,\"Animation,Adventure,Comedy\",PG,1h 35m,Meet the little voices inside your head.,175000000,858848019,\"Amy Poehler,Bill Hader,Lewis Black,Mindy Kaling,Phyllis Smith,Richard Kind,Kaitlyn Dias,Diane Lane,Kyle MacLachlan,Paula Poundstone,Bobby Moynihan,Paula Pell,Dave Goelz,Frank Oz,Josh Cooley,Flea,John Ratzenberger,Carlos Alazraqui\",\"Pete Docter,Ronnie Del Carmen(co-director)\",\"Pete Docter,Ronnie Del Carmen,Meg LeFauve\"\\n162,Dial M for Murder,1954,8.2,\"Crime,Thriller\",PG,1h 45m,Kiss By Kiss...Supreme Suspense Unfurls!,1400000,31207,\"Ray Milland,Grace Kelly,Robert Cummings,John Williams,Anthony Dawson,Leo Britt,Patrick Allen,George Leigh,George Alderson,Robin Hughes,Richard Bender,Robin Sanders Clark,Jack Cunningham,Robert Dobson,Guy Doleman,Bess Flowers,Robert Garvin,Herschel Graham\",Alfred Hitchcock,Frederick Knott\\n163,The Secret in Their Eyes,2009,8.2,\"Drama,Mystery,Romance\",R,2h 9m,Un crimen sin castigo. Un amor puro. Una historia que no debe morir. [A crime without a punishment. A pure love. A story that must not die.],Not Available,Not Available,\"Ricardo Darín,Soledad Villamil,Pablo Rago,Carla Quevedo,Javier Godino,Bárbara Palladino,Rudy Romano,Alejandro Abelenda,Mario Alarcón,Guillermo Francella,Sebastián Blanco,Mariano Argento,José Luis Gioia,Juan José Ortíz,Kiko Cerone,Fernando Pardo,Maximiliano Trento,Sergio Santana\",Juan José Campanella,\"Eduardo Sacheri,Juan José Campanella\"\\n164,Howl\\'s Moving Castle,2004,8.2,\"Animation,Adventure,Family\",PG,1h 59m,imationAdventureFamilyFantasy,24000000,237536126,\"Chieko Baisho,Takuya Kimura,Tatsuya Gashûin,Akihiro Miwa,Ryûnosuke Kamiki,Mitsunori Isaki,Yô Ôizumi,Akio Ôtsuka,Daijirô Harada,Haruko Katô,Jean Simmons,Christian Bale,Lauren Bacall,Blythe Danner,Emily Mortimer,Josh Hutcherson,Billy Crystal,Jena Malone\",Hayao Miyazaki,\"Hayao Miyazaki,Diana Wynne Jones\"\\n165,\"Three Billboards Outside Ebbing, Missouri\",2017,8.1,\"Comedy,Crime,Drama\",R,1h 55m,medyCrimeDrama,15000000,162861289,\"Frances McDormand,Woody Harrelson,Sam Rockwell,Caleb Landry Jones,Kerry Condon,Alejandro Barrios,Clarke Peters,Darrell Britt-Gibson,Abbie Cornish,Riya May Atwood,Selah Atwood,Lucas Hedges,Zeljko Ivanek,Amanda Warren,Malaya Rivera Drew,Sandy Martin,Peter Dinklage,Christopher Berry\",Martin McDonagh,Martin McDonagh\\n166,The Bridge on the River Kwai,1957,8.2,\"Adventure,Drama,War\",PG,2h 41m,\"The towering triumph of adventure from the makers of \"\"Lawrence of Arabia.\"\"\",3000000,27200000,\"William Holden,Alec Guinness,Jack Hawkins,Sessue Hayakawa,James Donald,Geoffrey Horne,André Morell,Peter Williams,John Boxer,Percy Herbert,Harold Goodwin,Ann Sears,Heihachirô Ôkawa,Keiichirô Katsumoto,M.R.B. Chakrabandhu,Vilaiwan Seeboonreaung,Ngamta Suphaphongs,Javanart Punynchoti\",David Lean,\"Pierre Boulle,Carl Foreman,Michael Wilson\"\\n167,Trainspotting,1996,8.1,Drama,R,1h 33m,\"Choose life. Choose a job. Choose a starter home. Choose dental insurance, leisure wear and matching luggage. Choose your future. But why would anyone want to do a thing like that?\",1500000,16767475,\"Ewan McGregor,Ewen Bremner,Jonny Lee Miller,Kevin McKidd,Robert Carlyle,Kelly Macdonald,Peter Mullan,James Cosmo,Eileen Nicholas,Susan Vidler,Pauline Lynch,Shirley Henderson,Stuart McQuarrie,Irvine Welsh,Dale Winton,Keith Allen,Kevin Allen,Annie Louise Ross\",Danny Boyle,\"Irvine Welsh,John Hodge\"\\n168,Prisoners,2013,8.1,\"Crime,Drama,Mystery\",R,2h 33m,Every moment matters,46000000,122126687,\"Hugh Jackman,Jake Gyllenhaal,Viola Davis,Melissa Leo,Maria Bello,Terrence Howard,Paul Dano,Dylan Minnette,Zoë Soul,Erin Gerasimovich,Kyla-Drew,Wayne Duvall,Len Cariou,David Dastmalchian,Brad James,Anthony Reynolds,Robert C. Treveiler,Sandra Ellis Lafferty\",Denis Villeneuve,Aaron Guzikowski\\n169,Warrior,2011,8.2,\"Action,Drama,Sport\",PG-13,2h 20m,Fight for Country,25000000,23308615,\"Tom Hardy,Nick Nolte,Joel Edgerton,Jennifer Morrison,Frank Grillo,Kevin Dunn,Maximiliano Hernández,Bryan Callen,Sam Sheridan,Fernando Chien,Jake McLaughlin,Vanessa Martinez,Denzel Whitaker,Carlos Miranda,Nick Lehane,Laura Chinn,Capri Thomas,Lexi Cowan\",Gavin O\\'Connor,\"Gavin O\\'Connor,Anthony Tambakis,Cliff Dorfman\"\\n170,Fargo,1996,8.1,\"Crime,Thriller\",R,1h 38m,A homespun murder story.,7000000,60611975,\"William H. Macy,Frances McDormand,Steve Buscemi,Peter Stormare,Kristin Rudrüd,Harve Presnell,Tony Denman,Gary Houston,Sally Wingert,Kurt Schweickhardt,Larissa Kokernot,Melissa Peterman,Steve Reevis,Warren Keith,Steve Edelman,Sharon Anderson,Larry Brandenburg,James Gaulke\",\"Joel Coen,Ethan Coen(uncredited)\",\"Ethan Coen,Joel Coen\"\\n171,Gran Torino,2008,8.1,Drama,R,1h 56m,ma,33000000,269958228,\"Clint Eastwood,Bee Vang,Christopher Carley,Ahney Her,Brian Haley,Geraldine Hughes,Dreama Walker,Brian Howe,John Carroll Lynch,William Hill,Brooke Chia Thao,Chee Thao,Choua Kue,Scott Eastwood,Xia Soua Chang,Sonny Vue,Doua Moua,Greg Trzaskoma\",Clint Eastwood,\"Nick Schenk,Dave Johannson\"\\n172,My Neighbor Totoro,1988,8.1,\"Animation,Comedy,Family\",G,1h 26m,imationComedyFamilyFantasy,Not Available,Not Available,\"Hitoshi Takagi,Noriko Hidaka,Chika Sakamoto,Shigesato Itoi,Sumi Shimamoto,Tanie Kitabayashi,Hiroko Maruyama,Machiko Washio,Reiko Suzuki,Masashi Hirose,Toshiyuki Amagasa,Shigeru Chiba,Naoki Tatsuta,Tarako,Tomohiro Nishimura,Mitsuko Ishida,Chie Kôjiro,Daiki Nakamura\",Hayao Miyazaki,Hayao Miyazaki\\n173,Catch Me If You Can,2002,8.1,\"Biography,Crime,Drama\",PG-13,2h 21m,The true story of a real fake.,Not Available,Not Available,\"Leonardo DiCaprio,Tom Hanks,Christopher Walken,Martin Sheen,Nathalie Baye,Amy Adams,James Brolin,Brian Howe,Frank John Hughes,Steve Eastin,Chris Ellis,John Finn,Jennifer Garner,Nancy Lenehan,Ellen Pompeo,Elizabeth Banks,Guy Thauvette,Candice Azzara\",Steven Spielberg,\"Jeff Nathanson,Frank Abagnale Jr.,Stan Redding\"\\n174,Million Dollar Baby,2004,8.1,\"Drama,Sport\",PG-13,2h 12m,\"Beyond his silence, there is a past. Beyond her dreams, there is a feeling. Beyond hope, there is a memory. Beyond their journey, there is a love.\",30000000,216763646,\"Hilary Swank,Clint Eastwood,Morgan Freeman,Jay Baruchel,Mike Colter,Lucia Rijker,Brían F. O\\'Byrne,Anthony Mackie,Margo Martindale,Riki Lindhome,Michael Peña,Benito Martinez,Bruce MacVittie,David Powledge,Joe D\\'Angerio,Marcus Chait,Tom McCleister,Erica Grant\",Clint Eastwood,\"Paul Haggis,F.X. Toole\"\\n175,Children of Heaven,1997,8.2,\"Drama,Family,Sport\",PG,1h 29m,A Little Secret...Their Biggest Adventure!,Not Available,Not Available,\"Mohammad Amir Naji,Amir Farrokh Hashemian,Bahare Seddiqi,Nafise Jafar-Mohammadi,Fereshte Sarabandi,Kamal Mirkarimi,Behzad Rafi,Dariush Mokhtari,Mohammad-Hasan Hosseinian,Masume Dair,Kambiz Peykarnegar,Hasan Roohparvari,Abbas-Ali Roomandi,Jafar Seyfollahi,Qolamreza Maleki,Zahra Mirzai,Sara Zamani,Mohammad Haj-Hosseini\",Majid Majidi,Majid Majidi\\n176,Blade Runner,1982,8.1,\"Action,Drama,Sci-Fi\",R,1h 57m,A Futuristic Vision Perfected [2007 Final Cut],28000000,41722424,\"Harrison Ford,Rutger Hauer,Sean Young,Edward James Olmos,M. Emmet Walsh,Daryl Hannah,William Sanderson,Brion James,Joe Turkel,Joanna Cassidy,James Hong,Morgan Paull,Kevin Thompson,John Edward Allen,Hy Pyke,Kimiko Hiroshige,Bob Okazaki,Carolyn DeMirjian\",Ridley Scott,\"Hampton Fancher,David Webb Peoples,Philip K. Dick\"\\n177,The Gold Rush,1925,8.1,\"Adventure,Comedy,Drama\",Passed,1h 35m,\"\"\"The Picture I Want to Be Remembered by.\"\" -Charlie Chaplin. (Print Ad- Calgary Daily Herald, ((Calgary, Alta.)) 30 December 1925)\",923000,29328,\"Charles Chaplin,Mack Swain,Tom Murray,Henry Bergman,Malcolm Waite,Georgia Hale,Jack Adams,Frank Aderias,Leona Aderias,Lillian Adrian,Sam Allen,Claude Anderson,Harry Arras,Albert Austin,Marta Belfort,William Bell,Francis Bernhardt,F.J. Beuaregard\",Charles Chaplin,Charles Chaplin\\n178,Before Sunrise,1995,8.1,\"Drama,Romance\",R,1h 41m,Jump on and live a Eurorail journey you will never forget!,2500000,5987386,\"Ethan Hawke,Julie Delpy,Andrea Eckert,Hanno Pöschl,Karl Bruckschwaiger,Tex Rubinowitz,Erni Mangold,Dominik Castell,Haymon Maria Buttinger,Harald Waiglein,Bilge Jeschim,Kurti,Hans Weingartner,Liese Lyon,Peter Ily Huemer,Otto Reiter,Hubert Fabian Kulterer,Branko Andric\",Richard Linklater,\"Richard Linklater,Kim Krizan\"\\n179,12 Years a Slave,2013,8.1,\"Biography,Drama,History\",R,2h 14m,The extraordinary true story of Solomon Northup,20000000,187733202,\"Chiwetel Ejiofor,Michael Kenneth Williams,Michael Fassbender,Brad Pitt,Dwight Henry,Dickie Gravois,Bryan Batt,Ashley Dyke,Kelsey Scott,Quvenzhané Wallis,Cameron Zeigler,Tony Bentley,Scoot McNairy,Taran Killam,Christopher Berry,Bill Camp,Mister Mackey Jr.,Chris Chalk\",Steve McQueen,\"John Ridley,Solomon Northup\"\\n180,Klaus,2019,8.2,\"Animation,Adventure,Comedy\",PG,1h 36m,Discover the friendship that launched a legend.,Not Available,Not Available,\"Jason Schwartzman,J.K. Simmons,Rashida Jones,Will Sasso,Neda Margrethe Labba,Sergio Pablos,Norm MacDonald,Joan Cusack,Evan Agos,Sky Alexis,Jaeden Bettencourt,Teddy Blum,Mila Brener,Sydney Brower,Finn Carr,Kendall Joy Hall,Hailey Hermida,Lexie Holland\",\"Sergio Pablos,Carlos Martínez López(co-director)\",\"Sergio Pablos,Jim Mahoney,Zach Lewis\"\\n181,Harry Potter and the Deathly Hallows: Part 2,2011,8.1,\"Adventure,Family,Fantasy\",PG-13,2h 10m,It All Ends Here,125000000,1342359942,\"Daniel Radcliffe,Emma Watson,Rupert Grint,Michael Gambon,Ralph Fiennes,Alan Rickman,Evanna Lynch,Domhnall Gleeson,Clémence Poésy,Warwick Davis,John Hurt,Helena Bonham Carter,Graham Duff,Anthony Allgood,Rusty Goffe,Jon Key,Kelly Macdonald,Jason Isaacs\",David Yates,\"Steve Kloves,J.K. Rowling\"\\n182,On the Waterfront,1954,8.1,\"Crime,Drama,Thriller\",Approved,1h 48m,The Man Lived by the Jungle Law of the Docks!,910000,910000 (estimated),\"Marlon Brando,Karl Malden,Lee J. Cobb,Rod Steiger,Pat Henning,Leif Erickson,James Westerfield,Tony Galento,Tami Mauriello,John F. Hamilton,John Heldabrand,Rudy Bond,Don Blackman,Arthur Keegan,Abe Simon,Eva Marie Saint,Martin Balsam,Dan Bergin\",Elia Kazan,\"Budd Schulberg,Malcolm Johnson,Robert Siodmak\"\\n183,Ben-Hur,1959,8.1,\"Adventure,Drama\",G,3h 32m,A Tale of the Christ,15000000,74437720,\"Charlton Heston,Jack Hawkins,Stephen Boyd,Haya Harareet,Hugh Griffith,Martha Scott,Cathy O\\'Donnell,Sam Jaffe,Finlay Currie,Frank Thring,Terence Longdon,George Relph,André Morell,Nello Appodia,Fortunato Arena,Bruno Ariè,Les Ballets Africains,Emma Baron\",William Wyler,\"Lew Wallace,Karl Tunberg,Gore Vidal\"\\n184,Gone Girl,2014,8.1,\"Drama,Mystery,Thriller\",R,2h 29m,You don\\'t know what you\\'ve got \\'til it\\'s...,Not Available,Not Available,\"Ben Affleck,Rosamund Pike,Neil Patrick Harris,Tyler Perry,Carrie Coon,Kim Dickens,Patrick Fugit,David Clennon,Lisa Banes,Missi Pyle,Emily Ratajkowski,Casey Wilson,Lola Kirke,Boyd Holbrook,Sela Ward,Lee Norris,Jamie McShane,Leonard Kelly-Young\",David Fincher,Gillian Flynn\\n185,The Grand Budapest Hotel,2014,8.1,\"Adventure,Comedy,Crime\",R,1h 39m,ventureComedyCrime,25000000,173082189,\"Ralph Fiennes,F. Murray Abraham,Mathieu Amalric,Adrien Brody,Willem Dafoe,Jeff Goldblum,Harvey Keitel,Jude Law,Bill Murray,Edward Norton,Saoirse Ronan,Jason Schwartzman,Léa Seydoux,Tilda Swinton,Tom Wilkinson,Owen Wilson,Tony Revolori,Larry Pine\",Wes Anderson,\"Stefan Zweig,Wes Anderson,Hugo Guinness\"\\n186,Wild Strawberries,1957,8.1,\"Drama,Romance\",Not Rated,1h 31m,\"\"\"We are such stuff as dreams are made on, and our little life is rounded with a sleep.\"\" Shakespeare - The Tempest\",Not Available,60418,\"Victor Sjöström,Bibi Andersson,Ingrid Thulin,Gunnar Björnstrand,Jullan Kindahl,Folke Sundquist,Björn Bjelfvenstam,Naima Wifstrand,Gunnel Broström,Gertrud Fridh,Sif Ruud,Gunnar Sjöberg,Max von Sydow,Åke Fridell,Yngve Nordwall,Per Sjöstrand,Gio Petré,Gunnel Lindblom\",Ingmar Bergman,Ingmar Bergman\\n187,The General,1926,8.1,\"Action,Adventure,Comedy\",Passed,1h 7m,\"Buster drives \"\"The General\"\" to trainload of laughter. (Trade paper ad).\",750000,750000 (estimated),\"Buster Keaton,Marion Mack,Glen Cavender,Jim Farley,Frederick Vroom,Frank Barnes,Charles Henry Smith,Joe Keaton,Mike Donlin,Tom Nawn,Henry Baird,Joe Bricher,Jimmy Bryant,Sergeant Bukowski,C.C. Cruson,Jack Dempster,Keith Fennell,Budd Fine\",\"Clyde Bruckman,Buster Keaton\",\"Buster Keaton,Clyde Bruckman,Al Boasberg\"\\n188,The Third Man,1949,8.1,\"Film-Noir,Mystery,Thriller\",Approved,1h 33m,Carol Reed\\'s Classic Thriller,Not Available,1226507,\"Orson Welles,Joseph Cotten,Alida Valli,Trevor Howard,Paul Hörbiger,Ernst Deutsch,Erich Ponto,Siegfried Breuer,Hedwig Bleibtreu,Bernard Lee,Wilfrid Hyde-White,Nelly Arno,Jack Arrow,Harold Ayer,Harry Belcher,Leo Bieber,Paul Birch,Martin Boddey\",Carol Reed,\"Graham Greene,Orson Welles,Alexander Korda\"\\n189,In the Name of the Father,1993,8.1,\"Biography,Crime,Drama\",R,2h 13m,Falsely accused.  Wrongly imprisoned.  He fought for justice to clear his father\\'s name.,Not Available,Not Available,\"Daniel Day-Lewis,Pete Postlethwaite,Alison Crosbie,Philip King,Emma Thompson,Nye Heron,Anthony Brophy,Frankie McCafferty,Paul Warriner,Julian Walsh,Stuart Wolfenden,Jo Connor,Karen Carlisle,Seamus Moran,Billy Byrne,Maureen McBride,Jane Nolan,Laurence Griffin\",Jim Sheridan,\"Gerry Conlon,Terry George,Jim Sheridan\"\\n190,The Deer Hunter,1978,8.1,\"Drama,War\",R,3h 3m,One of the most important and powerful films of all time!,15000000,49074379,\"Robert De Niro,Christopher Walken,John Cazale,John Savage,Meryl Streep,George Dzundza,Chuck Aspegren,Shirley Stoler,Rutanya Alda,Pierre Segui,Mady Kaplan,Amy Wright,Mary Ann Haenel,Richard Kuss,Joe Grifasi,Christopher Colombi Jr.,Victoria Karnafel,Jack Scardino\",Michael Cimino,\"Michael Cimino,Deric Washburn,Louis Garfinkle\"\\n191,Barry Lyndon,1975,8.1,\"Adventure,Drama,War\",PG,3h 5m,At long last Redmond Barry became a gentleman -- and that was his tragedy.,11000000,199632,\"Ryan O\\'Neal,Marisa Berenson,Patrick Magee,Hardy Krüger,Steven Berkoff,Gay Hamilton,Marie Kean,Diana Körner,Murray Melvin,Frank Middlemass,André Morell,Arthur O\\'Sullivan,Godfrey Quigley,Leonard Rossiter,Philip Stone,Leon Vitali,John Bindon,Roger Booth\",Stanley Kubrick,\"Stanley Kubrick,William Makepeace Thackeray\"\\n192,Hacksaw Ridge,2016,8.1,\"Biography,Drama,History\",R,2h 19m,Based on the incredible true story.,40000000,180563636,\"Andrew Garfield,Sam Worthington,Luke Bracey,Teresa Palmer,Richard Pyros,Jacob Warner,Milo Gibson,Darcy Bryce,Roman Guerriero,James Lugton,Kasia Stelmach,Hugo Weaving,Rachel Griffiths,Jarin Towney,Tim McGarry,Tyler Coppin,Richard Platt,Nathaniel Buzolic\",Mel Gibson,\"Robert Schenkkan,Andrew Knight\"\\n193,The Wages of Fear,1953,8.2,\"Adventure,Drama,Thriller\",Not Rated,2h 11m,The complete restored version of the 1953 French classic [reissue],Not Available,1098,\"Yves Montand,Charles Vanel,Peter van Eyck,Folco Lulli,Véra Clouzot,William Tubbs,Darío Moreno,Jo Dest,Antonio Centa,Luis De Lima,Grégoire Gromoff,Josep Palau i Fabre,Faustini,Seguna,Darling Légitimus,René Baranger,Pat Hurst,Evelio Larenagas\",Henri-Georges Clouzot,\"Georges Arnaud,Henri-Georges Clouzot,Jérôme Géronimi\"\\n194,Memories of Murder,2003,8.1,\"Crime,Drama,Mystery\",Not Rated,2h 12m,\"1986 in a small town...for two detectives, everything was new.\",2800000,1166717,\"Song Kang-ho,Kim Sang-kyung,Roe-ha Kim,Jae-ho Song,Byun Hee-Bong,Seo-hie Ko,Tae-ho Ryu,No-shik Park,Park Hae-il,Mi-seon Jeon,Young-hwa Seo,Woo Go-na,Ok-joo Lee,Jong-ryol Choi,Seung-mok Yoo,Hun-Kyung Lee,Shin Hyun-jong,Jae-eung Lee\",Bong Joon Ho,\"Bong Joon Ho,Kwang-rim Kim,Sung-bo Shim\"\\n195,Sherlock Jr.,1924,8.2,\"Action,Comedy,Romance\",Passed,45m,every inch of footage holds such a laugh!,Not Available,Not Available,\"Buster Keaton,Kathryn McGuire,Joe Keaton,Erwin Connelly,Ward Crane,Jane Connelly,George Davis,Doris Deane,Christine Francis,Betsy Ann Hisle,Kewpie Morgan,Steve Murphy,John Patrick,Ford West\",Buster Keaton,\"Jean C. Havez,Joseph A. Mitchell,Clyde Bruckman\"\\n196,Wild Tales,2014,8.1,\"Comedy,Drama,Thriller\",R,2h 2m,We can all lose control,Not Available,Not Available,\"Darío Grandinetti,María Marull,Mónica Villa,Diego Starosta,Marcelo Frasca,Lucila Mangone,María Laura Caccamo,Carlos Alberto Vavassori,Pablo Machado,Horacio Vay,Javier Pedersoli,Héctor Drachtman,María Rosa López Ottonello,Rita Cortese,Julieta Zylberberg,César Bordón,Juan Santiago Linari,Leonardo Sbaraglia\",Damián Szifron,\"Germán Servidio,Damián Szifron\"\\n197,Mr. Smith Goes to Washington,1939,8.1,\"Comedy,Drama\",Passed,2h 9m,\"OUR OPERATOR SAYS..\"\"IT\\'S GOING TO BE A PLEASURE TO RUN \"\"MR. SMITH GOES TO WASHINGTON\"\" 5 DAYS STARTING SUNDAY, NOV.7) (print ad - Lubbock Morning Avalanche - Cactus Theatre - Lubbock Texas - November 2, 1938 - all caps)\",1900000,144738,\"James Stewart,Jean Arthur,Claude Rains,Edward Arnold,Guy Kibbee,Thomas Mitchell,Eugene Pallette,Beulah Bondi,H.B. Warner,Harry Carey,Astrid Allwyn,Ruth Donnelly,Grant Mitchell,Porter Hall,H.V. Kaltenborn,Charles Lane,Pierre Watkin,Dick Elliott\",Frank Capra,\"Sidney Buchman,Lewis R. Foster,Myles Connolly\"\\n198,Mad Max: Fury Road,2015,8.1,\"Action,Adventure,Sci-Fi\",R,2h,WHAT A LOVELY DAY (all caps One Sheet),150000000,415261382,\"Tom Hardy,Charlize Theron,Nicholas Hoult,Zoë Kravitz,Hugh Keays-Byrne,Josh Helman,Nathan Jones,Rosie Huntington-Whiteley,Riley Keough,Abbey Lee,Courtney Eaton,John Howard,Richard Carter,Iota,Angus Sampson,Jennifer Hagan,Megan Gale,Melissa Jaffer\",George Miller,\"George Miller,Brendan McCarthy,Nick Lathouris\"\\n199,The Seventh Seal,1957,8.1,\"Drama,Fantasy\",Not Rated,1h 36m,\"A film of visual scope, of imaginative concept, of powerful content, written and directed by Ingmar Bergman, twice honored by the Interational Jury at the Cannes Film Festival 1956,1957\",150000,311212,\"Max von Sydow,Gunnar Björnstrand,Bengt Ekerot,Nils Poppe,Bibi Andersson,Inga Gill,Maud Hansson,Inga Landgré,Gunnel Lindblom,Bertil Anderberg,Anders Ek,Åke Fridell,Gunnar Olsson,Erik Strandmark,Siv Aleros,Sten Ardenstam,Harry Asklund,Benkt-Åke Benktsson\",Ingmar Bergman,Ingmar Bergman\\n200,Mary and Max,2009,8.1,\"Animation,Comedy,Drama\",Not Rated,1h 32m,Two unlikely people. Two different worlds come together in a story about a most unusual friendship.,$8240000,1740429,\"Toni Collette,Philip Seymour Hoffman,Eric Bana,Barry Humphries,Christopher Massey,Oliver Marks,Daisy Kocher,Daniel Marks,Hamish Hughes,Dan Doherty,Julie Forsyth,Mandy Mao,Patrick McCabe,Adam Elliot,Mr. Peck,Michael James Allen,Bill Murphy,Shaun Patten\",Adam Elliot,Adam Elliot\\n201,How to Train Your Dragon,2010,8.1,\"Animation,Action,Adventure\",PG,1h 38m,One adventure will change two worlds,165000000,494879471,\"Jay Baruchel,Gerard Butler,Christopher Mintz-Plasse,Craig Ferguson,America Ferrera,Jonah Hill,T.J. Miller,Kristen Wiig,Robin Atkin Downes,Philip McGrade,Kieron Elliott,Ashley Jensen,David Tennant\",\"Dean DeBlois,Chris Sanders\",\"Will Davies,Dean DeBlois,Chris Sanders\"\\n202,Room,2015,8.1,\"Drama,Thriller\",R,1h 58m,Love knows no boundaries,13000000,35401758,\"Brie Larson,Jacob Tremblay,Sean Bridgers,Wendy Crewson,Sandy McMaster,Matt Gordon,Amanda Brugel,Joe Pingue,Joan Allen,Zarrin Darnell-Martin,Cas Anvar,William H. Macy,Jee-Yun Lee,Randal Edwards,Justin Mader,Ola Sturik,Rodrigo Fernandez-Stoll,Rory O\\'Shea\",Lenny Abrahamson,Emma Donoghue\\n203,\"Monsters, Inc.\",2001,8.1,\"Animation,Adventure,Comedy\",G,1h 32m,\"Monsters, Inc. : We Scare Because We Care\",115000000,579707738,\"Billy Crystal,John Goodman,Mary Gibbs,Steve Buscemi,James Coburn,Jennifer Tilly,Bob Peterson,John Ratzenberger,Frank Oz,Daniel Gerson,Steve Susskind,Bonnie Hunt,Jeff Pidgeon,Samuel Lord Black,Jack Angel,Bob Bergen,Rodger Bumpass,Gino Conforti\",\"Pete Docter,David Silverman(co-director),Lee Unkrich(co-director)\",\"Pete Docter,Jill Culton,Jeff Pidgeon\"\\n204,Jaws,1975,8.1,\"Adventure,Thriller\",PG,2h 4m,Amity Island had everything. Clear skies. Gentle surf. Warm water. People flocked there every summer. It was the perfect feeding ground.,7000000,476512065,\"Roy Scheider,Robert Shaw,Richard Dreyfuss,Lorraine Gary,Murray Hamilton,Carl Gottlieb,Jeffrey Kramer,Susan Backlinie,Jonathan Filley,Ted Grossman,Chris Rebello,Jay Mello,Lee Fierro,Jeffrey Voorhees,Craig Kingsbury,Robert Nevin,Peter Benchley,Jonathan Searle\",Steven Spielberg,\"Peter Benchley,Carl Gottlieb\"\\n205,Dead Poets Society,1989,8.1,\"Comedy,Drama\",PG,2h 8m,He was their inspiration. He made their lives extraordinary.,16400000,235860116,\"Robin Williams,Robert Sean Leonard,Ethan Hawke,Josh Charles,Gale Hansen,Dylan Kussman,Allelon Ruggiero,James Waterston,Norman Lloyd,Kurtwood Smith,Carla Belver,Leon Pownall,George Martin,Joe Aufiery,Matt Carey,Kevin Cooney,Jane Moore,Lara Flynn Boyle\",Peter Weir,Tom Schulman\\n206,The Big Lebowski,1998,8.1,\"Comedy,Crime\",R,1h 57m,Hay quienes tratan de ganarse la vida sin mover un dedo... otros tienen que cortarlos. (Mexico),15000000,46969409,\"Jeff Bridges,John Goodman,Julianne Moore,Steve Buscemi,David Huddleston,Philip Seymour Hoffman,Tara Reid,Philip Moon,Mark Pellegrino,Peter Stormare,Flea,Torsten Voges,Jimmie Dale Gilmore,Jack Kehler,John Turturro,James G. Hoosier,Carlos Leon,Terrence Burton\",\"Joel Coen,Ethan Coen(uncredited)\",\"Ethan Coen,Joel Coen\"\\n207,Tokyo Story,1953,8.2,Drama,Not Rated,2h 16m,\"As long as life goes on, relationships between parents and children will bring boundless joy and endless grief.\",Not Available,Not Available,\"Chishû Ryû,Chieko Higashiyama,Sô Yamamura,Setsuko Hara,Haruko Sugimura,Kuniko Miyake,Kyôko Kagawa,Eijirô Tôno,Nobuo Nakamura,Shirô Ôsaka,Hisao Toake,Teruko Nagaoka,Mutsuko Sakura,Toyo Takahashi,Tôru Abe,Sachiko Mitani,Zen Murase,Mitsuhiro Môri\",Yasujirô Ozu,\"Kôgo Noda,Yasujirô Ozu\"\\n208,The Passion of Joan of Arc,1928,8.2,\"Biography,Drama,History\",Passed,1h 54m,JOAN of ARC PICTURES Inc. presents,Not Available,Not Available,\"Maria Falconetti,Eugene Silvain,André Berley,Maurice Schutz,Antonin Artaud,Michel Simon,Jean d\\'Yd,Louis Ravet,Armand Lurville,Jacques Arnna,Alexandre Mihalesco,Léon Larive,Jean Aymé,Camille Bardou,Gilbert Dacheux,Gilbert Dalleu,Paul Delauzac,Dimitri Dimitriev\",Carl Theodor Dreyer,\"Joseph Delteil,Carl Theodor Dreyer\"\\n209,Hotel Rwanda,2004,8.1,\"Biography,Drama,History\",PG-13,2h 1m,\"When a country descended into madness and the world turned its back, one man had to make a choice\",17500000,33882243,\"Don Cheadle,Sophie Okonedo,Joaquin Phoenix,Xolani Mali,Desmond Dube,Hakeem Kae-Kazim,Tony Kgoroge,Rosie Motene,Neil McCarthy,Mabutho \\'Kid\\' Sithole,Nick Nolte,Fana Mokoena,Jeremiah Ndlovu,Lebo Mashile,Antonio David Lyons,Leleti Khumalo,Kgomotso Seitshohlo,Lerato Mokgotho\",Terry George,\"Keir Pearson,Terry George\"\\n210,Ford v Ferrari,2019,8.1,\"Action,Biography,Drama\",PG-13,2h 32m,They took the American dream for a ride.,97600000,225508210,\"Matt Damon,Christian Bale,Jon Bernthal,Caitríona Balfe,Josh Lucas,Noah Jupe,Tracy Letts,Remo Girone,Ray McKinnon,JJ Feild,Jack McMullen,Corrado Invernizzi,Joe Williamson,Ian Harding,Christopher Darga,Shawn Law,Emil Beheshti,Darrin Prescott\",James Mangold,\"Jez Butterworth,John-Henry Butterworth,Jason Keller\"\\n211,Rocky,1976,8.1,\"Drama,Sport\",PG,2h,You have a ringside seat for the bloodiest bicentennial in history!,960000,117250402,\"Sylvester Stallone,Talia Shire,Burt Young,Carl Weathers,Burgess Meredith,Thayer David,Joe Spinell,Jimmy Gambina,Bill Baldwin,Al Silvani,George Memmoli,Jodi Letizia,Diana Lewis,George O\\'Hanlon,Larry Carroll,Stan Shaw,Don Sherman,Billy Sands\",John G. Avildsen,Sylvester Stallone\\n212,Platoon,1986,8.1,\"Drama,War\",R,2h,The first casualty of war is innocence.,6000000,138545632,\"Charlie Sheen,Tom Berenger,Willem Dafoe,Keith David,Forest Whitaker,Francesco Quinn,Kevin Dillon,John C. McGinley,Reggie Johnson,Mark Moses,Corey Glover,Johnny Depp,Chris Pedersen,Bob Orwig,Corkey Ford,David Neidorf,Richard Edson,Tony Todd\",Oliver Stone,Oliver Stone\\n213,Ratatouille,2007,8.1,\"Animation,Adventure,Comedy\",G,1h 51m,Dinner is served... Summer 2007,150000000,623726085,\"Brad Garrett,Lou Romano,Patton Oswalt,Ian Holm,Brian Dennehy,Peter Sohn,Peter O\\'Toole,Janeane Garofalo,Will Arnett,Julius Callahan,James Remar,John Ratzenberger,Teddy Newton,Tony Fucile,Jake Steinfeld,Brad Bird,Stéphane Roux,Jack Bird\",\"Brad Bird,Jan Pinkava(co-director)\",\"Brad Bird,Jan Pinkava,Jim Capobianco\"\\n214,Spotlight,2015,8.1,\"Biography,Crime,Drama\",R,2h 9m,Break the story. Break the silence.,20000000,98690254,\"Mark Ruffalo,Michael Keaton,Rachel McAdams,Liev Schreiber,John Slattery,Brian d\\'Arcy James,Stanley Tucci,Elena Wohl,Gene Amoroso,Doug Murray,Sharon McFarlane,Jamey Sheridan,Neal Huff,Billy Crudup,Robert B. Kennedy,Duane Murray,Brian Chamberlain,Michael Cyril Creighton\",Tom McCarthy,\"Josh Singer,Tom McCarthy\"\\n215,The Terminator,1984,8.1,\"Action,Sci-Fi\",R,1h 47m,\"La sua missione e una sola: distruggere, uccidere... (His one and only mission: to destroy, to kill...) (Italian DVD)\",6400000,78371200,\"Arnold Schwarzenegger,Linda Hamilton,Michael Biehn,Paul Winfield,Lance Henriksen,Rick Rossovich,Bess Motta,Earl Boen,Dick Miller,Shawn Schepps,Bruce M. Kerner,Franco Columbu,Bill Paxton,Brad Rearden,Brian Thompson,William Wisher,Ken Fritz,Tom Oberhaus\",James Cameron,\"James Cameron,Gale Anne Hurd,William Wisher\"\\n216,Logan,2017,8.1,\"Action,Drama,Sci-Fi\",R,2h 17m,His time has come,97000000,619179950,\"Hugh Jackman,Patrick Stewart,Dafne Keen,Boyd Holbrook,Stephen Merchant,Elizabeth Rodriguez,Richard E. Grant,Eriq La Salle,Elise Neal,Quincy Fouse,Al Coronel,Frank Gallegos,Anthony Escobar,Reynaldo Gallegos,Krzysztof Soszynski,Stephen Dunlevy,Daniel Bernhardt,Ryan Sturz\",James Mangold,\"James Mangold,Scott Frank,Michael Green\"\\n217,Stand by Me,1986,8.1,\"Adventure,Drama\",13+,1h 29m,\"For some, it\\'s the last real taste of innocence, and the first real taste of life. But for everyone, it\\'s the time that memories are made of.\",8000000,52287414,\"Wil Wheaton,River Phoenix,Corey Feldman,Jerry O\\'Connell,Kiefer Sutherland,Casey Siemaszko,Gary Riley,Bradley Gregg,Jason Oliver Lipsett,Marshall Bell,Frances Lee McCain,Bruce Kirby,William Bronder,Scott Beach,Richard Dreyfuss,John Cusack,Madeleine Swift,Popeye\",Rob Reiner,\"Stephen King,Raynold Gideon,Bruce A. Evans\"\\n218,Rush,2013,8.1,\"Action,Biography,Drama\",R,2h 3m,Everyone\\'s driven by something.,38000000,96983009,\"Daniel Brühl,Chris Hemsworth,Olivia Wilde,Alexandra Maria Lara,Pierfrancesco Favino,David Calder,Natalie Dormer,Stephen Mangan,Christian McKay,Alistair Petrie,Julian Rhind-Tutt,Colin Stinton,Jamie de Courcey,Augusto Dallara,Ilario Calvo,Patrick Baladi,Vincent Riotta,Martin Savage\",Ron Howard,Peter Morgan\\n219,Network,1976,8.1,Drama,R,2h 1m,\"\"\"NETWORK\"\"... the humanoids, the love story, the trials and tribulations, the savior of television, the attempted suicides, the assassination -- it\\'s ALL coming along with a galaxy of stars you know and love!\",3800000,23690757,\"Faye Dunaway,William Holden,Peter Finch,Robert Duvall,Wesley Addy,Ned Beatty,Arthur Burghardt,Bill Burrows,John Carpenter,Jordan Charney,Kathy Cronkite,Ed Crowley,Jerome Dempsey,Conchata Ferrell,Gene Gross,Stanley Grover,Cindy Grover,Darryl Hickman\",Sidney Lumet,Paddy Chayefsky\\n220,Into the Wild,2007,8.1,\"Adventure,Biography,Drama\",R,2h 28m,Into the heart Into the soul,15000000,56675895,\"Emile Hirsch,Vince Vaughn,Catherine Keener,Marcia Gay Harden,William Hurt,Jena Malone,Brian H. Dierker,Kristen Stewart,Hal Holbrook,Jim Gallien,James O\\'Neill,Malinda McCollum,Paul Knauls,Zach Galifianakis,Craig Mutsch,Jim Beidler,John Decker,John Hofer\",Sean Penn,\"Sean Penn,Jon Krakauer\"\\n221,Before Sunset,2004,8.1,\"Drama,Romance\",R,1h 20m,What if you had a second chance with the one that got away?,Not Available,Not Available,\"Ethan Hawke,Julie Delpy,Vernon Dobtcheff,Louise Lemoine Torrès,Rodolphe Pauly,Mariane Plasteig,Diabolo,Denis Evrard,Albert Delpy,Marie Pillet\",Richard Linklater,\"Richard Linklater,Julie Delpy,Ethan Hawke\"\\n222,The Wizard of Oz,1939,8.1,\"Adventure,Family,Fantasy\",G,1h 42m,Mighty Miracle Show Of 1000 Delights !,2777000,25637669,\"Judy Garland,Frank Morgan,Ray Bolger,Bert Lahr,Jack Haley,Billie Burke,Margaret Hamilton,Charley Grapewin,Pat Walshe,Clara Blandick,Terry,The Singer Midgets,Franz Balluck,Josefine Balluck,Dorothy Barrett,Amelia Batchelor,Charles Becker,Freda Betsky\",\"Victor Fleming,George Cukor(uncredited),Mervyn LeRoy(uncredited)\",\"Noel Langley,Florence Ryerson,Edgar Allan Woolf\"\\n223,Pather Panchali,1955,8.3,Drama,Not Rated,2h 5m,The Saga of an Indian Family,Not Available,135342,\"Kanu Bannerjee,Karuna Bannerjee,Subir Banerjee,Chunibala Devi,Uma Das Gupta,Runki Banerjee,Reba Devi,Aparna Devi,Tulsi Chakraborty,Haren Banerjee,Rampada Das,Nibhanani Devi,Rama Gangopadhaya,Roma Ganguli,Binoy Mukherjee,Haridhan Nag,Harimohan Nag,Kshirod Roy\",Satyajit Ray,\"Bibhutibhushan Bandyopadhyay,Satyajit Ray\"\\n224,Groundhog Day,1993,8.1,\"Comedy,Drama,Fantasy\",PG,1h 41m,What would you do if you were stuck in the same day... over and over? Anything you want and everything your heart desires.,14600000,71108591,\"Bill Murray,Andie MacDowell,Chris Elliott,Stephen Tobolowsky,Brian Doyle-Murray,Marita Geraghty,Angela Paton,Rick Ducommun,Rick Overton,Robin Duke,Carol Bivins,Willie Garson,Ken Hudson Campbell,Les Podewell,Rod Sell,Tom Milanovich,John M. Watson Sr.,Peggy Roeder\",Harold Ramis,\"Danny Rubin,Harold Ramis\"\\n225,The Best Years of Our Lives,1946,8.1,\"Drama,Romance,War\",Approved,2h 50m,THE SCREEN\\'S GREATEST LOVE STORY IS THE BEST FILM THIS YEAR FROM HOLLYWOOD!,2100000,23661347,\"Myrna Loy,Dana Andrews,Fredric March,Teresa Wright,Virginia Mayo,Cathy O\\'Donnell,Hoagy Carmichael,Harold Russell,Gladys George,Roman Bohnen,Ray Collins,Minna Gombell,Walter Baldwin,Steve Cochran,Dorothy Adams,Don Beddoe,Marlene Aames,Charles Halton\",William Wyler,\"Robert E. Sherwood,MacKinlay Kantor\"\\n226,The Exorcist,1973,8.1,Horror,R,2h 2m,The movie you\\'ve been waiting for...without the wait.,11000000,441306145,\"Ellen Burstyn,Max von Sydow,Linda Blair,Lee J. Cobb,Kitty Winn,Jack MacGowran,Jason Miller,William O\\'Malley,Barton Heyman,Peter Masterson,Rudolf Schündler,Gina Petrushka,Robert Symonds,Arthur Storch,Thomas Bermingham,Vasiliki Maliaros,Titos Vandis,John Mahon\",William Friedkin,William Peter Blatty\\n227,The Incredibles,2004,8.0,\"Animation,Action,Adventure\",PG,1h 55m,Save The Day,92000000,631607053,\"Craig T. Nelson,Samuel L. Jackson,Holly Hunter,Jason Lee,Dominique Louis,Teddy Newton,Jean Sincere,Eli Fucile,Maeve Andrews,Wallace Shawn,Spencer Fox,Lou Romano,Wayne Canney,Sarah Vowell,Michael Bird,Elizabeth Peña,Bud Luckey,Brad Bird\",Brad Bird,Brad Bird\\n228,To Be or Not to Be,1942,8.2,\"Comedy,Romance,War\",Passed,1h 39m,The Picture Everyone Wants To See.,Not Available,Not Available,\"Carole Lombard,Jack Benny,Robert Stack,Felix Bressart,Lionel Atwill,Stanley Ridges,Sig Ruman,Tom Dugan,Charles Halton,George Lynn,Henry Victor,Maude Eburne,Halliwell Hobbes,Miles Mander,Rudolph Anders,Paul Barrett,Sven Hugo Borg,Danny Borzage\",Ernst Lubitsch,\"Melchior Lengyel,Edwin Justus Mayer,Ernst Lubitsch\"\\n229,La haine,1995,8.1,\"Crime,Drama\",Not Rated,1h 38m,\"So far, so good\",Not Available,Not Available,\"Vincent Cassel,Hubert Koundé,Saïd Taghmaoui,Abdel Ahmed Ghili,Solo,Joseph Momo,Héloïse Rauth,Rywka Wajsbrot,Olga Abrego,Laurent Labasse,Choukri Gabteni,Nabil Ben Mhamed,Benoît Magimel,Médard Niang,Arash Mansour,Abdel-Moulah Boujdouni,Mathilde Vitry,Christian Moro\",Mathieu Kassovitz,Mathieu Kassovitz\\n230,The Battle of Algiers,1966,8.1,\"Drama,War\",Not Rated,2h 1m,The French Colonel...who was forced even to torture! One of the many women...who stopped at nothing to win! The Algerian Street Boy...who became a rebel hero!,800000,962002,\"Brahim Hadjadj,Jean Martin,Yacef Saadi,Samia Kerbash,Ugo Paletti,Fusia El Kader,Mohamed Ben Kassen,Franco Moruzzi,Tommaso Neri,Rouïched,Gene Wesson\",Gillo Pontecorvo,\"Franco Solinas,Gillo Pontecorvo\"\\n231,Pirates of the Caribbean: The Curse of the Black Pearl,2003,8.1,\"Action,Adventure,Fantasy\",PG-13,2h 23m,Prepare to be blown out of the water.,140000000,654264015,\"Johnny Depp,Geoffrey Rush,Orlando Bloom,Keira Knightley,Jack Davenport,Jonathan Pryce,Lee Arenberg,Mackenzie Crook,Damian O\\'Hare,Giles New,Angus Barnett,David Bailie,Michael Berry Jr.,Isaac C. Singleton Jr.,Kevin McNally,Treva Etienne,Zoe Saldana,Guy Siner\",Gore Verbinski,\"Ted Elliott,Terry Rossio,Stuart Beattie\"\\n232,Hachi: A Dog\\'s Tale,2009,8.1,\"Biography,Drama,Family\",G,1h 33m,\"A true story of faith, devotion and undying love.\",Not Available,Not Available,\"Richard Gere,Joan Allen,Cary-Hiroyuki Tagawa,Sarah Roemer,Jason Alexander,Erick Avari,Davenia McFadden,Robbie Sublett,Kevin DeCoste,Rob Degnan,Tora Hallström,Donna Sorbello,Frank S. Aronson,Troy Doherty,Ian Sherman,Timothy Crowe,Denece Ryland,Blake Friedman\",Lasse Hallström,\"Stephen P. Lindsey,Kaneto Shindô\"\\n233,The Grapes of Wrath,1940,8.1,Drama,Passed,2h 9m,The thousands who have read the book will know why WE WILL NOT SELL ANY CHILDREN TICKETS to see this picture!,800000,800000 (estimated),\"Henry Fonda,Jane Darwell,John Carradine,Charley Grapewin,Dorris Bowdon,Russell Simpson,O.Z. Whitehead,John Qualen,Eddie Quillan,Zeffie Tilbury,Frank Sully,Frank Darien,Darryl Hickman,Shirley Mills,Roger Imhof,Grant Mitchell,Charles D. Brown,John Arledge\",John Ford,\"Nunnally Johnson,John Steinbeck\"\\n234,Jai Bhim,2021,8.8,\"Crime,Drama,Mystery\",TV-MA,2h 44m,imeDramaMystery,Not Available,Not Available,\"Suriya,Lijo Mol Jose,Manikandan K.,Rajisha Vijayan,Prakash Raj,Rao Ramesh,Guru Somasundaram,M.S. Bhaskar,V. Jayaprakash,Sibi Thomas,Ilavarasu,Jayarao,Sujatha Sivakumar,Ravi Venkatraman,Tamizh,Kumaravel,Supergood Subramani,Bala Hasan\",T.J. Gnanavel,\"T.J. Gnanavel,Rajendra Sapre\"\\n235,My Father and My Son,2005,8.2,\"Drama,Family\",Not Rated,1h 52m,\"Give him a room dad, he has no place to go...\",Not Available,Not Available,\"Çetin Tekindor,Fikret Kuskan,Hümeyra,Ege Tanman,Serif Sezer,Yetkin Dikinciler,Binnur Kaya,Mahmut Gökgöz,Nergis Çorakçi,Bilge Sen,Tuba Büyüküstün,Özge Özberk,Erdal Tosun,Halit Ergenç,Tugyan Akay Kavukçu,Ege Kaya,Muzaffer Demirel,Burak Akçakaya\",Çagan Irmak,Çagan Irmak\\n236,Amores Perros,2000,8.1,\"Drama,Thriller\",R,2h 34m,Love. Betrayal. Death.,2000000,20908467,\"Emilio Echevarría,Gael García Bernal,Goya Toledo,Álvaro Guerrero,Vanessa Bauche,Jorge Salinas,Marco Pérez,Rodrigo Murray,Humberto Busto,Gerardo Campbell,Rosa María Bianchi,Dunia Saldívar,Adriana Barraza,José Sefami,Lourdes Echevarría,Laura Almela,Ricardo Dalmacci,Gustavo Sánchez Parra\",Alejandro G. Iñárritu,Guillermo Arriaga\\n237,Rebecca,1940,8.1,\"Drama,Film-Noir,Mystery\",Approved,2h 10m,\"THE MIGHTY NOVEL LEAPS TO TURBULENT LIFE ON THE SCREEN! (Print Ad- Syracuse Herald-American, ((Syracuse, NY)) 24 March 1940)\",1288000,72275,\"Laurence Olivier,Joan Fontaine,George Sanders,Judith Anderson,Nigel Bruce,Reginald Denny,C. Aubrey Smith,Gladys Cooper,Florence Bates,Melville Cooper,Leo G. Carroll,Leonard Carey,Lumsden Hare,Edward Fielding,Philip Winter,Forrester Harvey,Bunny Beatty,Billy Bevan\",Alfred Hitchcock,\"Daphne Du Maurier,Robert E. Sherwood,Joan Harrison\"\\n238,Cool Hand Luke,1967,8.1,\"Crime,Drama\",GP,2h 7m,\"\"\"What we\\'ve got here is failure to communicate.\"\"\",3200000,67,\"Paul Newman,George Kennedy,Strother Martin,J.D. Cannon,Lou Antonio,Robert Drivas,Jo Van Fleet,Clifton James,Morgan Woodward,Luke Askew,Marc Cavell,Richard Davalos,Robert Donner,Warren Finnerty,Dennis Hopper,John McLiam,Wayne Rogers,Harry Dean Stanton\",Stuart Rosenberg,\"Donn Pearce,Frank Pierson,Hal Dresner\"\\n239,The Handmaiden,2016,8.1,\"Drama,Romance,Thriller\",Not Rated,2h 25m,Never did they expect to get into a controversial relationship...,Not Available,Not Available,\"Kim Min-hee,Ha Jung-woo,Cho Jin-woong,Moon So-ri,Kim Tae-ri,Yong-nyeo Lee,Min-chae Yoo,Dong-hwi Lee,Kim Hae-sook,Kyu-jung Lee,Si-eun Kim,Si-yeon Ha,Rina Takagi,Geun-hee Won,Jong-Dae Kim,Han-sun Jang,Eun-yeong Kim,Ri-woo Kim\",Park Chan-wook,\"Sarah Waters,Chung Seo-kyung,Park Chan-wook\"\\n240,The 400 Blows,1959,8.1,\"Crime,Drama\",Not Rated,1h 39m,From the Vanguard of New Film-Makers Comes an Extraordinary Motion Picture,Not Available,127244,\"Jean-Pierre Léaud,Albert Rémy,Claire Maurier,Guy Decomble,Georges Flamant,Patrick Auffay,Daniel Couturier,François Nocher,Richard Kanayan,Renaud Fontanarosa,Michel Girard,Serge Moati,Bernard Abbou,Jean-François Bergouignan,Michel Lesignor,Luc Andrieux,Robert Beauvais,Bouchon\",François Truffaut,\"François Truffaut,Marcel Moussy\"\\n241,The Sound of Music,1965,8.1,\"Biography,Drama,Family\",G,2h 52m,RADIANCE THAT FLOODS THE SCREEN...AND WARMS THE HEART!,8200000,159428329,\"Julie Andrews,Christopher Plummer,Eleanor Parker,Richard Haydn,Peggy Wood,Charmian Carr,Heather Menzies-Urich,Nicholas Hammond,Duane Chase,Angela Cartwright,Debbie Turner,Kym Karath,Anna Lee,Portia Nelson,Ben Wright,Daniel Truhitte,Norma Varden,Gilchrist Stuart\",Robert Wise,\"Georg Hurdalek,Howard Lindsay,Russel Crouse\"\\n242,It Happened One Night,1934,8.1,\"Comedy,Romance\",Passed,1h 45m,Two great lovers of the screen in the grandest of romantic comedies !,325000,11477,\"Clark Gable,Claudette Colbert,Walter Connolly,Roscoe Karns,Jameson Thomas,Alan Hale,Arthur Hoyt,Blanche Friderici,Charles C. Wilson,Ernie Adams,Jessie Arnold,Irving Bacon,William Bailey,William Begg,William A. Boardway,Ward Bond,Harry C. Bradley,George P. Breakston\",Frank Capra,\"Robert Riskin,Samuel Hopkins Adams\"\\n243,Persona,1966,8.1,\"Drama,Thriller\",Not Rated,1h 23m,A new film by Ingmar Bergman,Not Available,Not Available,\"Bibi Andersson,Liv Ullmann,Margaretha Krook,Gunnar Björnstrand,Jörgen Lindström\",Ingmar Bergman,Ingmar Bergman\\n244,Life of Brian,1979,8.0,Comedy,R,1h 34m,A motion picture destined to offend nearly two thirds of the civilized world. And severely annoy the other third.,4000000,20745728,\"Graham Chapman,John Cleese,Michael Palin,Terry Gilliam,Eric Idle,Terry Jones,Terence Bayler,Carol Cleveland,Kenneth Colley,Neil Innes,Charles McKeown,John Young,Gwen Taylor,Sue Jones-Davies,Peter Brett,John Case,Chris Langham,Andrew MacLachlan\",Terry Jones,\"Graham Chapman,John Cleese,Terry Gilliam\"\\n245,The Iron Giant,1999,8.1,\"Animation,Action,Adventure\",PG,1h 26m,Some secrets are too huge to hide,70000000,23335817,\"Eli Marienthal,Harry Connick Jr.,Jennifer Aniston,Vin Diesel,James Gammon,Cloris Leachman,Christopher McDonald,John Mahoney,M. Emmet Walsh,Jack Angel,Bob Bergen,Mary Kay Bergman,Michael Bird,Devon Cole Borisoff,Rodger Bumpass,Robert Clotworthy,Jennifer Darling,Zack Eginton\",Brad Bird,\"Tim McCanlies,Brad Bird,Ted Hughes\"\\n246,The Help,2011,8.1,Drama,PG-13,2h 26m,Change begins with a whisper.,25000000,216639112,\"Viola Davis,Emma Stone,Octavia Spencer,Bryce Dallas Howard,Jessica Chastain,Ahna O\\'Reilly,Allison Janney,Anna Camp,Eleanor Henry,Emma Henry,Christopher Lowell,Cicely Tyson,Mike Vogel,Sissy Spacek,Brian Kerwin,Wes Chatham,Aunjanue Ellis,Ted Welch\",Tate Taylor,\"Tate Taylor,Kathryn Stockett\"\\n247,Dersu Uzala,1975,8.2,\"Adventure,Biography,Drama\",G,2h 22m,There is man and beast at nature\\'s mercy. There is awe and love and reverence. And there is the man called...,4000000,14480,\"Maksim Munzuk,Yuriy Solomin,Mikhail Bychkov,Vladimir Khrulyov,V. Lastochkin,Stanislav Marin,Igor Sykhra,Vladimir Sergiyakov,Yanis Yakobsons,Vladimir Khlestov,G. Polunin,V. Koldin,M. Tetov,S. Sinyavskiy,Vladimir Sverba,V. Ignatov,Vladimir Kremena,Aleksandr Pyatkov\",Akira Kurosawa,\"Akira Kurosawa,Yuriy Nagibin,Vladimir Arsenev\"\\n248,Aladdin,1992,8.0,\"Animation,Adventure,Comedy\",G,1h 30m,Wish granted! (DVD re-release),Not Available,Not Available,\"Scott Weinger,Robin Williams,Linda Larkin,Jonathan Freeman,Frank Welker,Gilbert Gottfried,Douglas Seale,Charlie Adler,Jack Angel,Corey Burton,Philip L. Clarke,Jim Cummings,Jennifer Darling,Debi Derryberry,Bruce Gooch,Jerry Houser,Vera Lockwood,Sherry Lynn\",\"Ron Clements,John Musker\",\"Ron Clements,John Musker,Ted Elliott\"\\n249,Gandhi,1982,8.0,\"Biography,Drama,History\",PG,3h 11m,His Triumph Changed The World Forever.,22000000,52767889,\"Ben Kingsley,John Gielgud,Rohini Hattangadi,Roshan Seth,Candice Bergen,Edward Fox,Trevor Howard,John Mills,Martin Sheen,Ian Charleson,Günther Maria Halmer,Athol Fugard,Saeed Jaffrey,Geraldine James,Alyque Padamsee,Amrish Puri,Ian Bannen,Michael Bryant\",Richard Attenborough,John Briley\\n250,Dances with Wolves,1990,8.0,\"Adventure,Drama,Western\",PG-13,3h 1m,Inside everyone is a frontier waiting to be discovered.,22000000,424208848,\"Kevin Costner,Mary McDonnell,Graham Greene,Rodney A. Grant,Floyd \\'Red Crow\\' Westerman,Tantoo Cardinal,Robert Pastorelli,Charles Rocket,Maury Chaykin,Jimmy Herman,Nathan Lee Chasing His Horse,Michael Spears,Jason R. Lone Hill,Tony Pierce,Doris Leader Charge,Tom Everett,Larry Joshua,Kirk Baltz\",Kevin Costner,Michael Blake\\n'"
            ],
            "application/vnd.google.colaboratory.intrinsic+json": {
              "type": "string"
            }
          },
          "metadata": {},
          "execution_count": 78
        }
      ]
    },
    {
      "cell_type": "code",
      "source": [
        "type(content)"
      ],
      "metadata": {
        "id": "KfOaJ0M6Z-98",
        "colab": {
          "base_uri": "https://localhost:8080/"
        },
        "outputId": "0b16e789-4cb5-4f6d-cffd-f31358893c79"
      },
      "execution_count": 79,
      "outputs": [
        {
          "output_type": "execute_result",
          "data": {
            "text/plain": [
              "str"
            ]
          },
          "metadata": {},
          "execution_count": 79
        }
      ]
    },
    {
      "cell_type": "code",
      "source": [
        "#use this to close this file\n",
        "file.close()"
      ],
      "metadata": {
        "id": "VRzg6fm9dQkp"
      },
      "execution_count": 80,
      "outputs": []
    },
    {
      "cell_type": "markdown",
      "source": [
        "**better way to open a file**"
      ],
      "metadata": {
        "id": "2YLeae3tfJ3E"
      }
    },
    {
      "cell_type": "code",
      "source": [
        "with open('/content/IMDB Top 250 Movies.csv', 'r') as file:\n",
        "   content = file.read()\n",
        ""
      ],
      "metadata": {
        "id": "aJ5T-rDsdV3d"
      },
      "execution_count": 81,
      "outputs": []
    },
    {
      "cell_type": "code",
      "source": [
        "# to see the content of file\n",
        "print(content)"
      ],
      "metadata": {
        "id": "hvVGf0JVfYFx",
        "colab": {
          "base_uri": "https://localhost:8080/"
        },
        "outputId": "4666f7ae-e0aa-438f-9ed9-c785d494cbaa"
      },
      "execution_count": 82,
      "outputs": [
        {
          "output_type": "stream",
          "name": "stdout",
          "text": [
            "rank,name,year,rating,genre,certificate,run_time,tagline,budget,box_office,casts,directors,writers\n",
            "1,The Shawshank Redemption,1994,9.3,Drama,R,2h 22m,Fear can hold you prisoner. Hope can set you free.,25000000,28884504,\"Tim Robbins,Morgan Freeman,Bob Gunton,William Sadler,Clancy Brown,Gil Bellows,Mark Rolston,James Whitmore,Jeffrey DeMunn,Larry Brandenburg,Neil Giuntoli,Brian Libby,David Proval,Joseph Ragno,Jude Ciccolella,Paul McCrane,Renee Blaine,Scott Mann\",Frank Darabont,\"Stephen King,Frank Darabont\"\n",
            "2,The Godfather,1972,9.2,\"Crime,Drama\",R,2h 55m,An offer you can't refuse.,6000000,250341816,\"Marlon Brando,Al Pacino,James Caan,Diane Keaton,Richard S. Castellano,Robert Duvall,Sterling Hayden,John Marley,Richard Conte,Al Lettieri,Abe Vigoda,Talia Shire,Gianni Russo,John Cazale,Rudy Bond,Al Martino,Morgana King,Lenny Montana\",Francis Ford Coppola,\"Mario Puzo,Francis Ford Coppola\"\n",
            "3,The Dark Knight,2008,9.0,\"Action,Crime,Drama\",PG-13,2h 32m,Why So Serious?,185000000,1006234167,\"Christian Bale,Heath Ledger,Aaron Eckhart,Michael Caine,Maggie Gyllenhaal,Gary Oldman,Morgan Freeman,Monique Gabriela Curnen,Ron Dean,Cillian Murphy,Chin Han,Nestor Carbonell,Eric Roberts,Ritchie Coster,Anthony Michael Hall,Keith Szarabajka,Colin McFarlane,Joshua Harto\",Christopher Nolan,\"Jonathan Nolan,Christopher Nolan,David S. Goyer\"\n",
            "4,The Godfather Part II,1974,9.0,\"Crime,Drama\",R,3h 22m,All the power on earth can't change destiny.,13000000,47961919,\"Al Pacino,Robert De Niro,Robert Duvall,Diane Keaton,John Cazale,Talia Shire,Lee Strasberg,Michael V. Gazzo,G.D. Spradlin,Richard Bright,Gastone Moschin,Tom Rosqui,Bruno Kirby,Frank Sivero,Francesca De Sapio,Morgana King,Marianna Hill,Leopoldo Trieste\",Francis Ford Coppola,\"Francis Ford Coppola,Mario Puzo\"\n",
            "5,12 Angry Men,1957,9.0,\"Crime,Drama\",Approved,1h 36m,Life Is In Their Hands -- Death Is On Their Minds!,350000,955,\"Henry Fonda,Lee J. Cobb,Martin Balsam,John Fiedler,E.G. Marshall,Jack Klugman,Edward Binns,Jack Warden,Joseph Sweeney,Ed Begley,George Voskovec,Robert Webber,Rudy Bond,Tom Gorman,James Kelly,Billy Nelson,John Savoca,Walter Stocker\",Sidney Lumet,Reginald Rose\n",
            "6,Schindler's List,1993,9.0,\"Biography,Drama,History\",R,3h 15m,\"Whoever saves one life, saves the world entire.\",22000000,322161245,\"Liam Neeson,Ralph Fiennes,Ben Kingsley,Caroline Goodall,Jonathan Sagall,Embeth Davidtz,Malgorzata Gebel,Shmuel Levy,Mark Ivanir,Béatrice Macola,Andrzej Seweryn,Friedrich von Thun,Krzysztof Luft,Harry Nehring,Norbert Weisser,Adi Nitzan,Michael Schneider,Miri Fabian\",Steven Spielberg,\"Thomas Keneally,Steven Zaillian\"\n",
            "7,The Lord of the Rings: The Return of the King,2003,9.0,\"Action,Adventure,Drama\",PG-13,3h 21m,The eye of the enemy is moving.,94000000,1146457748,\"Elijah Wood,Viggo Mortensen,Ian McKellen,Orlando Bloom,Noel Appleby,Ali Astin,Sean Astin,David Aston,John Bach,Sean Bean,Cate Blanchett,Billy Boyd,Sadwyn Brophy,Alistair Browning,Marton Csokas,Richard Edge,Jason Fitch,Bernard Hill\",Peter Jackson,\"J.R.R. Tolkien,Fran Walsh,Philippa Boyens\"\n",
            "8,Pulp Fiction,1994,8.9,\"Crime,Drama\",R,2h 34m,Girls like me don't make invitations like this to just anyone!,8000000,213928762,\"John Travolta,Uma Thurman,Samuel L. Jackson,Bruce Willis,Tim Roth,Amanda Plummer,Laura Lovelace,Phil LaMarr,Frank Whaley,Burr Steers,Ving Rhames,Paul Calderon,Bronagh Gallagher,Rosanna Arquette,Eric Stoltz,Jerome Patrick Hoban,Michael Gilden,Gary Shorelle\",Quentin Tarantino,\"Quentin Tarantino,Roger Avary\"\n",
            "9,The Lord of the Rings: The Fellowship of the Ring,2001,8.8,\"Action,Adventure,Drama\",PG-13,2h 58m,The Legend Comes to Life,93000000,898204420,\"Elijah Wood,Ian McKellen,Orlando Bloom,Sean Bean,Alan Howard,Noel Appleby,Sean Astin,Sala Baker,Billy Boyd,Andy Serkis,Marton Csokas,Viggo Mortensen,Megan Edwards,Michael Elsworth,Cate Blanchett,Mark Ferguson,Ian Holm,Christopher Lee\",Peter Jackson,\"J.R.R. Tolkien,Fran Walsh,Philippa Boyens\"\n",
            "10,\"The Good, the Bad and the Ugly\",1966,8.8,\"Adventure,Western\",Approved,2h 58m,They formed an alliance of hate to steal a fortune in dead man's gold,1200000,25253887,\"Clint Eastwood,Eli Wallach,Lee Van Cleef,Aldo Giuffrè,Luigi Pistilli,Rada Rassimov,Enzo Petito,Claudio Scarchilli,John Bartha,Livio Lorenzon,Antonio Casale,Sandro Scarchilli,Benito Stefanelli,Angelo Novi,Antonio Casas,Aldo Sambrell,Al Mulock,Sergio Mendizábal\",Sergio Leone,\"Luciano Vincenzoni,Sergio Leone,Agenore Incrocci\"\n",
            "11,Forrest Gump,1994,8.8,\"Drama,Romance\",PG-13,2h 22m,The story of a lifetime.,55000000,678226465,\"Tom Hanks,Robin Wright,Gary Sinise,Sally Field,Rebecca Williams,Michael Conner Humphreys,Harold G. Herthum,George Kelly,Bob Penny,John Randall,Sam Anderson,Margo Moorer,Ione M. Telech,Christine Seabrook,John Worsham,Peter Dobson,Siobhan Fallon Hogan,Alexander Zemeckis\",Robert Zemeckis,\"Winston Groom,Eric Roth\"\n",
            "12,Fight Club,1999,8.8,Drama,R,2h 19m,How much can you know about yourself if you've never been in a fight?,63000000,101209702,\"Brad Pitt,Edward Norton,Meat Loaf,Zach Grenier,Richmond Arquette,David Andrews,George Maguire,Eugenie Bondurant,Christina Cabot,Helena Bonham Carter,Sydney 'Big Dawg' Colston,Rachel Singer,Christie Cronenweth,Tim DeZarn,Ezra Buzzington,Dierdre Downing-Jackson,Bob Stephenson,Charlie Dell\",David Fincher,\"Chuck Palahniuk,Jim Uhls\"\n",
            "13,The Lord of the Rings: The Two Towers,2002,8.8,\"Action,Adventure,Drama\",PG-13,2h 59m,A New Power Is Rising.,94000000,947944270,\"Elijah Wood,Ian McKellen,Viggo Mortensen,Orlando Bloom,Bruce Allpress,Sean Astin,John Bach,Sala Baker,Cate Blanchett,Billy Boyd,Jed Brophy,Sam Comery,Brad Dourif,Calum Gittins,Bernard Hill,Bruce Hopkins,Paris Howe Strewe,Christopher Lee\",Peter Jackson,\"J.R.R. Tolkien,Fran Walsh,Philippa Boyens\"\n",
            "14,Inception,2010,8.8,\"Action,Adventure,Sci-Fi\",PG-13,2h 28m,Your mind is the scene of the crime,160000000,836848102,\"Leonardo DiCaprio,Joseph Gordon-Levitt,Elliot Page,Ken Watanabe,Tom Hardy,Dileep Rao,Cillian Murphy,Tom Berenger,Marion Cotillard,Pete Postlethwaite,Michael Caine,Lukas Haas,Tai-Li Lee,Claire Geare,Magnus Nolan,Taylor Geare,Johnathan Geare,Tohoru Masamune\",Christopher Nolan,Christopher Nolan\n",
            "15,Star Wars: Episode V - The Empire Strikes Back,1980,8.7,\"Action,Adventure,Fantasy\",PG,2h 4m,The Adventure Continues...,18000000,538375067,\"Mark Hamill,Harrison Ford,Carrie Fisher,Billy Dee Williams,Anthony Daniels,David Prowse,Peter Mayhew,Kenny Baker,Frank Oz,Alec Guinness,Jeremy Bulloch,John Hollis,Jack Purvis,Des Webb,Clive Revill,Kenneth Colley,Julian Glover,Michael Sheard\",Irvin Kershner,\"Leigh Brackett,Lawrence Kasdan,George Lucas\"\n",
            "16,The Matrix,1999,8.7,\"Action,Sci-Fi\",R,2h 16m,Free your mind,63000000,467222728,\"Keanu Reeves,Laurence Fishburne,Carrie-Anne Moss,Hugo Weaving,Gloria Foster,Joe Pantoliano,Marcus Chong,Julian Arahanga,Matt Doran,Belinda McClory,Anthony Ray Parker,Paul Goddard,Robert Taylor,David Aston,Marc Aden Gray,Ada Nicodemou,Deni Gordon,Rowan Witt\",\"Lana Wachowski,Lilly Wachowski\",\"Lilly Wachowski,Lana Wachowski\"\n",
            "17,Goodfellas,1990,8.7,\"Biography,Crime,Drama\",R,2h 25m,\"\"\"As far back as I can remember, I've always wanted to be a gangster.\"\" -- Henry Hill, Brooklyn, N.Y. 1955.\",25000000,47036784,\"Robert De Niro,Ray Liotta,Joe Pesci,Lorraine Bracco,Paul Sorvino,Frank Sivero,Tony Darrow,Mike Starr,Frank Vincent,Chuck Low,Frank DiLeo,Henny Youngman,Gina Mastrogiacomo,Catherine Scorsese,Charles Scorsese,Suzanne Shepherd,Debi Mazar,Margo Winkler\",Martin Scorsese,\"Nicholas Pileggi,Martin Scorsese\"\n",
            "18,One Flew Over the Cuckoo's Nest,1975,8.7,Drama,18+,2h 13m,\"If he's crazy, what does that make you?\",3000000,109114817,\"Jack Nicholson,Louise Fletcher,Michael Berryman,Peter Brocco,Dean R. Brooks,Alonzo Brown,Scatman Crothers,Mwako Cumbuka,Danny DeVito,William Duell,Josip Elic,Lan Fendors,Nathan George,Ken Kenny,Mel Lambert,Sydney Lassick,Kay Lee,Christopher Lloyd\",Milos Forman,\"Lawrence Hauben,Bo Goldman,Ken Kesey\"\n",
            "19,Se7en,1995,8.6,\"Crime,Drama,Mystery\",R,2h 7m,\"Long is the way, and hard, that out of hell leads up to light.\",33000000,327333559,\"Morgan Freeman,Brad Pitt,Kevin Spacey,Andrew Kevin Walker,Daniel Zacapa,Gwyneth Paltrow,John Cassini,Bob Mack,Peter Crombie,Reg E. Cathey,R. Lee Ermey,George Christy,Endre Hules,Hawthorne James,William Davidson,Bob Collins,Jimmy Dale Hartsell,Richard Roundtree\",David Fincher,Andrew Kevin Walker\n",
            "20,Seven Samurai,1954,8.6,\"Action,Drama\",Not Rated,3h 27m,Will Take Its Place With the Seven Greatest Films of All Time!,125000000,346258,\"Toshirô Mifune,Takashi Shimura,Keiko Tsushima,Yukiko Shimazaki,Kamatari Fujiwara,Daisuke Katô,Isao Kimura,Minoru Chiaki,Seiji Miyaguchi,Yoshio Kosugi,Bokuzen Hidari,Yoshio Inaba,Yoshio Tsuchiya,Kokuten Kôdô,Eijirô Tôno,Kichijirô Ueda,Jun Tatara,Atsushi Watanabe\",Akira Kurosawa,\"Akira Kurosawa,Shinobu Hashimoto,Hideo Oguni\"\n",
            "21,It's a Wonderful Life,1946,8.6,\"Drama,Family,Fantasy\",PG,2h 10m,\"Frank Capra's...\"\"It's a Wonderful Life\"\".\",3180000,8574081,\"James Stewart,Donna Reed,Lionel Barrymore,Thomas Mitchell,Henry Travers,Beulah Bondi,Frank Faylen,Ward Bond,Gloria Grahame,H.B. Warner,Frank Albertson,Todd Karns,Samuel S. Hinds,Mary Treen,Virginia Patton,Charles Williams,Sarah Edwards,William Edmunds\",Frank Capra,\"Frances Goodrich,Albert Hackett,Frank Capra\"\n",
            "22,The Silence of the Lambs,1991,8.6,\"Crime,Drama,Thriller\",R,1h 58m,\"Dr. Hannibal Lecter. Brilliant. Cunning. Psychotic. In his mind lies the clue to a ruthless killer. - Clarice Starling, FBI. Brilliant. Vulnerable. Alone. She must trust him to stop the killer.\",19000000,272742922,\"Jodie Foster,Anthony Hopkins,Lawrence A. Bonney,Kasi Lemmons,Lawrence T. Wrentz,Scott Glenn,Anthony Heald,Frankie Faison,Don Brockett,Frank Seals Jr.,Stuart Rudin,Maria Skorobogatov,Jeffrie Lane,Leib Lensky,George 'Red' Schwartz,Jim Roche,Brooke Smith,Ted Levine\",Jonathan Demme,\"Thomas Harris,Ted Tally\"\n",
            "23,City of God,2002,8.6,\"Crime,Drama\",R,2h 10m,\"If you run, the beast will get you. If you stay, the beast will eat you\",$3300000,30680793,\"Alexandre Rodrigues,Leandro Firmino,Matheus Nachtergaele,Phellipe Haagensen,Douglas Silva,Jonathan Haagensen,Seu Jorge,Jefechander Suplino,Alice Braga,Emerson Gomes,Edson Oliveira,Michel Gomes,Roberta Rodrigues,Luis Otávio,Kiko Marques,Gustavo Engrácia,Darlan Cunha,Robson Rocha\",\"Fernando Meirelles,Kátia Lund(co-director)\",\"Paulo Lins,Bráulio Mantovani\"\n",
            "24,Saving Private Ryan,1998,8.6,\"Drama,War\",R,2h 49m,\"In the Last Great Invasion of the Last Great War, The Greatest Danger for Eight Men was Saving... One.\",70000000,482349603,\"Tom Hanks,Matt Damon,Tom Sizemore,Edward Burns,Barry Pepper,Adam Goldberg,Vin Diesel,Giovanni Ribisi,Jeremy Davies,Ted Danson,Paul Giamatti,Dennis Farina,Joerg Stadler,Max Martini,Dylan Bruno,Daniel Cerqueira,Demetri Goritsas,Ian Porter\",Steven Spielberg,Robert Rodat\n",
            "25,Interstellar,2014,8.6,\"Adventure,Drama,Sci-Fi\",PG-13,2h 49m,Mankind was born on Earth. It was never meant to die here.,165000000,773867216,\"Matthew McConaughey,Anne Hathaway,Jessica Chastain,Mackenzie Foy,Ellen Burstyn,John Lithgow,Timothée Chalamet,David Oyelowo,Collette Wolfe,Francis X. McCarthy,Bill Irwin,Andrew Borba,Wes Bentley,William Devane,Michael Caine,David Gyasi,Josh Stewart,Casey Affleck\",Christopher Nolan,\"Jonathan Nolan,Christopher Nolan\"\n",
            "26,Life Is Beautiful,1997,8.6,\"Comedy,Drama,Romance\",PG-13,1h 56m,\"An unforgettable fable that proves love, family and imagination conquer all. (Canadian one sheet)\",20000000,230098753,\"Roberto Benigni,Nicoletta Braschi,Giorgio Cantarini,Giustino Durano,Sergio Bini Bustric,Marisa Paredes,Horst Buchholz,Lidia Alfonsi,Giuliana Lojodice,Amerigo Fontani,Pietro De Silva,Francesco Guzzo,Raffaella Lebboroni,Claudio Alfonsi,Gil Baroni,Massimo Bianchi,Jürgen Bohn,Verena Buratti\",Roberto Benigni,\"Vincenzo Cerami,Roberto Benigni\"\n",
            "27,The Green Mile,1999,8.6,\"Crime,Drama,Fantasy\",R,3h 9m,Miracles do happen.,60000000,286801374,\"Tom Hanks,Michael Clarke Duncan,David Morse,Bonnie Hunt,James Cromwell,Michael Jeter,Graham Greene,Doug Hutchison,Sam Rockwell,Barry Pepper,Jeffrey DeMunn,Patricia Clarkson,Harry Dean Stanton,Dabbs Greer,Eve Brent,William Sadler,Mack Miles,Rai Tasco\",Frank Darabont,\"Stephen King,Frank Darabont\"\n",
            "28,Star Wars: Episode IV - A New Hope,1977,8.6,\"Action,Adventure,Fantasy\",PG,2h 1m,It's Back! The Force will be with you for three weeks only. (1979 Reissue Poster),11000000,775398007,\"Mark Hamill,Harrison Ford,Carrie Fisher,Alec Guinness,Peter Cushing,Anthony Daniels,Kenny Baker,Peter Mayhew,David Prowse,Phil Brown,Shelagh Fraser,Jack Purvis,Alex McCrindle,Eddie Byrne,Drewe Henley,Denis Lawson,Garrick Hagon,Jack Klaff\",George Lucas,George Lucas\n",
            "29,Terminator 2: Judgment Day,1991,8.6,\"Action,Sci-Fi\",R,2h 17m,It's nothing personal.,102000000,520881154,\"Arnold Schwarzenegger,Linda Hamilton,Edward Furlong,Robert Patrick,Earl Boen,Joe Morton,S. Epatha Merkerson,Castulo Guerra,Danny Cooksey,Jenette Goldstein,Xander Berkeley,Leslie Hamilton Gearren,Ken Gibbel,Robert Winley,Peter Schrum,Shane Wilder,Michael Edwards,Jared Lounsbery\",James Cameron,\"James Cameron,William Wisher\"\n",
            "30,Back to the Future,1985,8.5,\"Adventure,Comedy,Sci-Fi\",PG,1h 56m,He's the only kid ever to get into trouble before he was born. [UK],19000000,383336762,\"Michael J. Fox,Christopher Lloyd,Lea Thompson,Crispin Glover,Tom Wilson,Claudia Wells,Marc McClure,Wendie Jo Sperber,George DiCenzo,Frances Lee McCain,James Tolkan,J.J. Cohen,Casey Siemaszko,Billy Zane,Harry Waters Jr.,Donald Fullilove,Lisa Freeman,Cristen Kauffman\",Robert Zemeckis,\"Robert Zemeckis,Bob Gale\"\n",
            "31,Spirited Away,2001,8.6,\"Animation,Adventure,Family\",PG,2h 5m,The tunnel led Chihiro to a mysterious town.,19000000,355822319,\"Daveigh Chase,Suzanne Pleshette,Miyu Irino,Rumi Hiiragi,Mari Natsuki,Takashi Naitô,Yasuko Sawaguchi,Tatsuya Gashûin,Ryûnosuke Kamiki,Yumi Tamai,Yô Ôizumi,Koba Hayashi,Tsunehiko Kamijô,Takehiko Ono,Bunta Sugawara,Shigeru Wakita,Shirô Saitô,Michiko Yamamoto\",Hayao Miyazaki,Hayao Miyazaki\n",
            "32,The Pianist,2002,8.5,\"Biography,Drama,Music\",R,2h 30m,Music was his passion. Survival was his masterpiece.,35000000,120072577,\"Adrien Brody,Thomas Kretschmann,Frank Finlay,Emilia Fox,Michal Zebrowski,Ed Stoppard,Maureen Lipman,Jessica Kate Meyer,Julia Rayner,Wanja Mues,Richard Ridings,Nomi Sharron,Anthony Milner,Lucy Skeaping,Roddy Skeaping,Ben Harlan,Thomas Lawinky,Joachim Paul Assböck\",Roman Polanski,\"Ronald Harwood,Wladyslaw Szpilman\"\n",
            "33,Psycho,1960,8.5,\"Horror,Mystery,Thriller\",R,1h 49m,The picture you MUST see from the beginning... Or not at all!... For no one will be seated after the start of... Alfred Hitchcock's greatest shocker Psycho.,806947,32052925,\"Anthony Perkins,Janet Leigh,Vera Miles,John Gavin,Martin Balsam,John McIntire,Simon Oakland,Frank Albertson,Patricia Hitchcock,Vaughn Taylor,Lurene Tuttle,John Anderson,Mort Mills,Fletcher Allen,Walter Bacon,Prudence Beers,Kit Carson,Francis De Sales\",Alfred Hitchcock,\"Joseph Stefano,Robert Bloch\"\n",
            "34,Parasite,2019,8.5,\"Drama,Thriller\",R,2h 12m,Misplaced familyhood (Australia/New Zealand/Singapore),11400000,262676096,\"Song Kang-ho,Lee Sun-kyun,Cho Yeo-jeong,Choi Woo-sik,Park So-dam,Lee Jeong-eun,Jang Hye-jin,Park Myeong-hoon,Jung Ji-so,Jung Hyun-jun,Park Keun-rok,Jung Yi-seo,Jo Jae-myeong,Jung Ik-han,Kim Kyu-baek,Hwang In-kyung,Ahn Seong-bong,Kim Jin-hyung\",Bong Joon Ho,\"Bong Joon Ho,Han Jin-won\"\n",
            "35,Léon: The Professional,1994,8.5,\"Action,Crime,Drama\",R,1h 50m,\"If you want the job done right, hire a professional.\",RF 115000000,19569225,\"Jean Reno,Gary Oldman,Natalie Portman,Danny Aiello,Peter Appel,Willi One Blood,Don Creech,Keith A. Glascoe,Randolph Scott,Michael Badalucco,Ellen Greene,Elizabeth Regen,Carl J. Matusovich,Frank Senger,Lucius Wyatt Cherokee,Eric Challier,Luc Bernard,Maïwenn\",Luc Besson,Luc Besson\n",
            "36,The Lion King,1994,8.5,\"Animation,Adventure,Drama\",G,1h 28m,See it for the first time ever in 3D (2011 3D re-release),45000000,968511805,\"Matthew Broderick,Jeremy Irons,James Earl Jones,Whoopi Goldberg,Rowan Atkinson,Niketa Calame-Harris,Jim Cummings,Robert Guillaume,Moira Kelly,Nathan Lane,Zoe Leader,Cheech Marin,Ernie Sabella,Madge Sinclair,Jonathan Taylor Thomas,Frank Welker,Cathy Cavadini,Judi M. Durand\",\"Roger Allers,Rob Minkoff\",\"Irene Mecchi,Jonathan Roberts,Linda Woolverton\"\n",
            "37,Gladiator,2000,8.5,\"Action,Adventure,Drama\",R,2h 35m,\"Father of a murdered son, husband to a murdered wife and I shall have my vengeance in this life or the next\",103000000,503162313,\"Russell Crowe,Joaquin Phoenix,Connie Nielsen,Oliver Reed,Richard Harris,Derek Jacobi,Djimon Hounsou,David Schofield,John Shrapnel,Tomas Arana,Ralf Moeller,Spencer Treat Clark,David Hemmings,Tommy Flanagan,Sven-Ole Thorsen,Omid Djalili,Nicholas McGaughey,Chris Kell\",Ridley Scott,\"David Franzoni,John Logan,William Nicholson\"\n",
            "38,American History X,1998,8.5,\"Crime,Drama\",R,1h 59m,His father taught him to hate. His friends taught him rage. His enemies gave him hope.,20000000,23875127,\"Edward Norton,Edward Furlong,Beverly D'Angelo,Jennifer Lien,Ethan Suplee,Fairuza Balk,Avery Brooks,Elliott Gould,Stacy Keach,William Russ,Guy Torry,Joe Cortese,Jason Bose Smith,Antonio David Lyons,Alex Sol,Keram Malicki-Sánchez,Giuseppe Andrews,Michelle Christine White\",Tony Kaye,David McKenna\n",
            "39,The Departed,2006,8.5,\"Crime,Drama,Thriller\",R,2h 31m,Lies. Betrayal. Sacrifice. How far will you take it?,90000000,291480452,\"Leonardo DiCaprio,Matt Damon,Jack Nicholson,Mark Wahlberg,Martin Sheen,Ray Winstone,Vera Farmiga,Anthony Anderson,Alec Baldwin,Kevin Corrigan,James Badge Dale,David O'Hara,Mark Rolston,Robert Wahlberg,Kristen Dalton,Thomas B. Duffy,Richard Hughes,J.C. MacKenzie\",Martin Scorsese,\"William Monahan,Alan Mak,Felix Chong\"\n",
            "40,The Usual Suspects,1995,8.5,\"Crime,Drama,Mystery\",R,1h 46m,The greatest trick the devil ever pulled was to convince the world he didn't exist,6000000,23341568,\"Kevin Spacey,Gabriel Byrne,Chazz Palminteri,Stephen Baldwin,Benicio Del Toro,Kevin Pollak,Pete Postlethwaite,Suzy Amis,Giancarlo Esposito,Dan Hedaya,Paul Bartel,Carl Bressler,Phillipe Simon,Jack Shearer,Christine Estabrook,Clark Gregg,Morgan Hunter,Ken Daly\",Bryan Singer,Christopher McQuarrie\n",
            "41,The Prestige,2006,8.5,\"Drama,Mystery,Sci-Fi\",PG-13,2h 10m,A Friendship That Became a Rivalry.,40000000,109676311,\"Christian Bale,Hugh Jackman,Scarlett Johansson,Michael Caine,Piper Perabo,Rebecca Hall,Samantha Mahurin,David Bowie,Andy Serkis,Daniel Davis,Jim Piddock,Christopher Neame,Mark Ryan,Roger Rees,Jamie Harris,Monty Stuart,Ron Perkins,Ricky Jay\",Christopher Nolan,\"Jonathan Nolan,Christopher Nolan,Christopher Priest\"\n",
            "42,Whiplash,2014,8.5,\"Drama,Music\",R,1h 46m,The road to greatness can take you to the edge,3300000,49396747,\"Miles Teller,J.K. Simmons,Melissa Benoist,Paul Reiser,Austin Stowell,Nate Lang,Chris Mulkey,Damon Gupton,Suanne Spoke,Max Kasch,Charlie Ian,Jayson Blair,Kofi Siriboe,Kavita Patil,C.J. Vana,Tarik Lowe,Tyler Kimball,Rogelio Douglas Jr.\",Damien Chazelle,Damien Chazelle\n",
            "43,Casablanca,1942,8.5,\"Drama,Romance,War\",PG,1h 42m,Where Love Cuts as Deep as a Dagger!,950000,4626532,\"Humphrey Bogart,Ingrid Bergman,Paul Henreid,Claude Rains,Conrad Veidt,Sydney Greenstreet,Peter Lorre,S.Z. Sakall,Madeleine Lebeau,Dooley Wilson,Joy Page,John Qualen,Leonid Kinskey,Curt Bois,Abdullah Abbas,Enrique Acosta,Ed Agresti,Arnet Amos\",Michael Curtiz,\"Julius J. Epstein,Philip G. Epstein,Howard Koch\"\n",
            "44,Grave of the Fireflies,1988,8.5,\"Animation,Drama,War\",Not Rated,1h 29m,imationDramaWar,3700000,516962,\"Tsutomu Tatsumi,Ayano Shiraishi,Akemi Yamaguchi,Yoshiko Shinohara,Kôzô Hashida,Masayo Sakai,Kazumi Nozaki,Yoshio Matsuoka,Masahiro Kanetake,Kiyoshi Yanagawa,Hajime Maki,Atsuo Omote,Teruhisa Harita,Hiroshi Tanaka,Michio Denpô,Shirô Tamaki,Tadashi Nakamura,Mika Sekita\",Isao Takahata,\"Akiyuki Nosaka,Isao Takahata\"\n",
            "45,Harakiri,1962,8.6,\"Action,Drama,Mystery\",Not Rated,2h 13m,The World Has Never Understood Why the Japanese Prefer Death to Dishonor! This Samurai Picture Provides The Answer!!,Not Available,Not Available,\"Tatsuya Nakadai,Akira Ishihama,Shima Iwashita,Tetsurô Tanba,Masao Mishima,Ichirô Nakatani,Kei Satô,Yoshio Inaba,Hisashi Igawa,Tôru Takeuchi,Yoshirô Aoki,Tatsuo Matsumura,Akiji Kobayashi,Kôichi Hayashi,Ryûtarô Gomi,Jô Azumi,Nakajirô Tomita,Shichisaburô Amatsu\",Masaki Kobayashi,\"Yasuhiko Takiguchi,Shinobu Hashimoto\"\n",
            "46,The Intouchables,2011,8.5,\"Biography,Comedy,Drama\",R,1h 52m,Sometimes you have to reach into someone else's world to find out what's missing in your own.,9500000,426588510,\"François Cluzet,Omar Sy,Anne Le Ny,Audrey Fleurot,Joséphine de Meaux,Clotilde Mollet,Alba Gaïa Bellugi,Cyril Mendy,Salimata Kamate,Absa Diatou Toure,Grégoire Oestermann,Dominique Daguier,François Caron,Christian Ameri,Thomas Solivérès,Dorothée Brière,Marie-Laure Descoureaux,Émilie Caen\",\"Olivier Nakache,Éric Toledano\",\"Olivier Nakache,Éric Toledano,Philippe Pozzo di Borgo\"\n",
            "47,Modern Times,1936,8.5,\"Comedy,Drama,Romance\",G,1h 27m,\"He stands alone as the greatest entertainer of modern times! No one on earth can make you laugh as heartily or touch your heart as deeply...the whole world laughs, cries and thrills to his priceless genius!\",1500000,463618,\"Charles Chaplin,Paulette Goddard,Henry Bergman,Tiny Sandford,Chester Conklin,Hank Mann,Stanley Blystone,Al Ernest Garcia,Richard Alexander,Cecil Reynolds,Mira McKinney,Murdock MacQuarrie,Wilfred Lucas,Edward LeSaint,Fred Malatesta,Sammy Stein,Juana Sutton,Ted Oliver\",Charles Chaplin,Charles Chaplin\n",
            "48,Once Upon a Time in the West,1968,8.5,Western,PG-13,2h 45m,There were three men in her life. One knew her past. One wanted her land. One wanted revenge.,5000000,5435024,\"Henry Fonda,Charles Bronson,Claudia Cardinale,Jason Robards,Gabriele Ferzetti,Paolo Stoppa,Woody Strode,Jack Elam,Keenan Wynn,Frank Wolff,Lionel Stander,Livio Andronico,Salvatore Basile,Aldo Berti,Joseph Bradley,Frank Braña,Marilù Carteny,Saturno Cerra\",Sergio Leone,\"Sergio Donati,Sergio Leone,Dario Argento\"\n",
            "49,Rear Window,1954,8.5,\"Mystery,Thriller\",PG,1h 52m,The Essential Hitchcock,1000000,37034579,\"James Stewart,Grace Kelly,Wendell Corey,Thelma Ritter,Raymond Burr,Judith Evelyn,Ross Bagdasarian,Georgine Darcy,Sara Berner,Frank Cady,Jesslyn Fax,Rand Harper,Irene Winston,Havis Davenport,Jerry Antes,Barbara Bailey,Benny Bartlett,Nick Borgani\",Alfred Hitchcock,\"John Michael Hayes,Cornell Woolrich\"\n",
            "50,Cinema Paradiso,1988,8.5,\"Drama,Romance\",PG,2h 35m,\"A celebration of youth, friendship, and the everlasting magic of the movies.\",5000000,13019063,\"Philippe Noiret,Enzo Cannavale,Antonella Attili,Isa Danieli,Leo Gullotta,Marco Leonardi,Pupella Maggio,Agnese Nano,Leopoldo Trieste,Salvatore Cascio,Tano Cimarosa,Nicola Di Pinto,Roberta Lena,Nino Terzo,Jacques Perrin,Nellina Laganà,Turi Giuffrida,Mariella Lo Giudice\",Giuseppe Tornatore,\"Giuseppe Tornatore,Vanna Paoli\"\n",
            "51,Alien,1979,8.5,\"Horror,Sci-Fi\",R,1h 57m,In space no one can hear you scream.,11000000,106285522,\"Sigourney Weaver,Tom Skerritt,John Hurt,Veronica Cartwright,Harry Dean Stanton,Ian Holm,Yaphet Kotto,Bolaji Badejo,Helen Horton,Eddie Powell\",Ridley Scott,\"Dan O'Bannon,Ronald Shusett\"\n",
            "52,City Lights,1931,8.5,\"Comedy,Drama,Romance\",G,1h 27m,\"HE RETURNS -And the world rocks again with laughter. (Print Ad-Daily Examiner, ((Grafton, NSW)) 6 July 1931)\",1500000,50419,\"Charles Chaplin,Virginia Cherrill,Florence Lee,Harry Myers,Al Ernest Garcia,Hank Mann,Johnny Aber,Jack Alexander,T.S. Alexander,Victor Alexander,Albert Austin,Harry Ayers,Eddie Baker,Henry Bergman,Edward Biby,Betty Blair,Buster Brodie,Jeanne Carpenter\",Charles Chaplin,\"Charles Chaplin,Harry Carr,Harry Crocker\"\n",
            "53,Apocalypse Now,1979,8.5,\"Drama,Mystery,War\",R,2h 27m,The Horror. . . The Horror. . .,31500000,104880868,\"Martin Sheen,Marlon Brando,Robert Duvall,Frederic Forrest,Sam Bottoms,Laurence Fishburne,Albert Hall,Harrison Ford,Dennis Hopper,G.D. Spradlin,Jerry Ziesmer,Scott Glenn,Bo Byers,James Keane,Kerry Rossall,Ron McQueen,Tom Mason,Cynthia Wood\",Francis Ford Coppola,\"John Milius,Francis Ford Coppola,Michael Herr\"\n",
            "54,Memento,2000,8.4,\"Mystery,Thriller\",R,1h 53m,Some memories are best forgotten,9000000,40047078,\"Guy Pearce,Carrie-Anne Moss,Joe Pantoliano,Mark Boone Junior,Russ Fega,Jorja Fox,Stephen Tobolowsky,Harriet Sansom Harris,Thomas Lennon,Callum Keith Rennie,Kimberly Campbell,Marianne Muellerleile,Larry Holden,Stephanie Searson,Buzz Visconti\",Christopher Nolan,\"Christopher Nolan,Jonathan Nolan\"\n",
            "55,Django Unchained,2012,8.4,\"Drama,Western\",R,2h 45m,\"Life, liberty and the pursuit of vengeance.\",100000000,426074373,\"Jamie Foxx,Christoph Waltz,Leonardo DiCaprio,Kerry Washington,Samuel L. Jackson,Walton Goggins,Dennis Christopher,James Remar,David Steen,Dana Gourrier,Nichole Galicia,Laura Cayouette,Ato Essandoh,Sammi Rotibi,Clay Donahue Fontenot,Escalante Lundy,Miriam F. Glover,Don Johnson\",Quentin Tarantino,Quentin Tarantino\n",
            "56,Indiana Jones and the Raiders of the Lost Ark,1981,8.4,\"Action,Adventure\",PG,1h 55m,Indiana Jones - the new hero from the creators of JAWS and STAR WARS.,18000000,389925971,\"Harrison Ford,Karen Allen,Paul Freeman,John Rhys-Davies,Ronald Lacey,Denholm Elliott,Alfred Molina,Wolf Kahler,Anthony Higgins,Vic Tablian,Don Fellows,William Hootkins,Bill Reimbold,Fred Sorenson,Patrick Durkin,Matthew Scurfield,Malcolm Weaver,Sonny Caldinez\",Steven Spielberg,\"Lawrence Kasdan,George Lucas,Philip Kaufman\"\n",
            "57,WALL·E,2008,8.4,\"Animation,Adventure,Family\",G,1h 38m,After 700 years of doing what he was built for - he'll discover what he's meant for.,180000000,521311890,\"Ben Burtt,Elissa Knight,Jeff Garlin,Fred Willard,MacInTalk,John Ratzenberger,Kathy Najimy,Sigourney Weaver,Karleen Griffin,Kim Kopf,Niki McElroy,Garrett Palmer,Jessica Skelton,Kai Steel Smith,Michael Toy\",Andrew Stanton,\"Andrew Stanton,Pete Docter,Jim Reardon\"\n",
            "58,The Lives of Others,2006,8.4,\"Drama,Mystery,Thriller\",R,2h 17m,\"Before the Fall of the Berlin Wall, East Germany's Secret Police Listened to Your Secrets\",2000000,77356942,\"Ulrich Mühe,Martina Gedeck,Sebastian Koch,Ulrich Tukur,Thomas Thieme,Hans-Uwe Bauer,Volkmar Kleinert,Matthias Brenner,Charly Hübner,Herbert Knaup,Bastian Trost,Marie Gruber,Volker Michalowski,Werner Daehn,Martin Brambach,Hubertus Hartmann,Thomas Arnold,Hinnerk Schönemann\",Florian Henckel von Donnersmarck,Florian Henckel von Donnersmarck\n",
            "59,Sunset Blvd.,1950,8.4,\"Drama,Film-Noir\",Passed,1h 50m,A Hollywood Story,1752000,300073,\"William Holden,Gloria Swanson,Erich von Stroheim,Nancy Olson,Fred Clark,Lloyd Gough,Jack Webb,Franklyn Farnum,Larry J. Blake,Charles Dayton,Cecil B. DeMille,Hedda Hopper,Buster Keaton,Anna Q. Nilsson,H.B. Warner,Ray Evans,Jay Livingston,Fred Aldrich\",Billy Wilder,\"Charles Brackett,Billy Wilder,D.M. Marshman Jr.\"\n",
            "60,Paths of Glory,1957,8.4,\"Drama,War\",Approved,1h 28m,Never has the screen thrust so deeply into the guts of war!,935000,5252,\"Kirk Douglas,Ralph Meeker,Adolphe Menjou,George Macready,Wayne Morris,Richard Anderson,Joe Turkel,Christiane Kubrick,Jerry Hausner,Peter Capell,Emile Meyer,Bert Freed,Kem Dibbs,Timothy Carey,Fred Bell,John Stein,Harold Benedict,Leon Briggs\",Stanley Kubrick,\"Stanley Kubrick,Calder Willingham,Jim Thompson\"\n",
            "61,The Shining,1980,8.4,\"Drama,Horror\",R,2h 26m,Iconic terror from the No 1 bestselling writer.,19000000,47335804,\"Jack Nicholson,Shelley Duvall,Danny Lloyd,Scatman Crothers,Barry Nelson,Philip Stone,Joe Turkel,Anne Jackson,Tony Burton,Lia Beldam,Billie Gibson,Barry Dennen,David Baxt,Manning Redwood,Lisa Burns,Louise Burns,Robin Pappas,Alison Coleridge\",Stanley Kubrick,\"Stephen King,Stanley Kubrick,Diane Johnson\"\n",
            "62,The Great Dictator,1940,8.4,\"Comedy,Drama,War\",G,2h 5m,The Comedy Masterpiece!,2000000,970263,\"Charles Chaplin,Paulette Goddard,Jack Oakie,Reginald Gardiner,Henry Daniell,Billy Gilbert,Grace Hayle,Carter DeHaven,Maurice Moscovitch,Emma Dunn,Bernard Gorcey,Paul Weigel,Chester Conklin,Esther Michelson,Hank Mann,Florence Wright,Eddie Gribbon,Rudolph Anders\",Charles Chaplin,Charles Chaplin\n",
            "63,Avengers: Infinity War,2018,8.4,\"Action,Adventure,Sci-Fi\",PG-13,2h 29m,An entire universe. Once and for all.,321000000,2052415039,\"Robert Downey Jr.,Chris Hemsworth,Mark Ruffalo,Chris Evans,Scarlett Johansson,Don Cheadle,Benedict Cumberbatch,Tom Holland,Chadwick Boseman,Zoe Saldana,Karen Gillan,Tom Hiddleston,Paul Bettany,Elizabeth Olsen,Anthony Mackie,Sebastian Stan,Idris Elba,Danai Gurira\",\"Anthony Russo,Joe Russo\",\"Christopher Markus,Stephen McFeely,Stan Lee\"\n",
            "64,Witness for the Prosecution,1957,8.4,\"Crime,Drama,Mystery\",Approved,1h 56m,The most electrifying entertainment of our time!,3000000,7693,\"Tyrone Power,Marlene Dietrich,Charles Laughton,Elsa Lanchester,John Williams,Henry Daniell,Ian Wolfe,Torin Thatcher,Norma Varden,Una O'Connor,Francis Compton,Philip Tonge,Ruta Lee,Patrick Aherne,Don Ames,Walter Bacon,Eddie Baker,Benjie Bancroft\",Billy Wilder,\"Agatha Christie,Billy Wilder,Harry Kurnitz\"\n",
            "65,Aliens,1986,8.4,\"Action,Adventure,Sci-Fi\",R,2h 17m,This time there's more.,18500000,131060248,\"Sigourney Weaver,Michael Biehn,Carrie Henn,Paul Reiser,Lance Henriksen,Bill Paxton,William Hope,Jenette Goldstein,Al Matthews,Mark Rolston,Ricco Ross,Colette Hiller,Daniel Kash,Cynthia Dale Scott,Tip Tipping,Trevor Steedman,Paul Maxwell,Valerie Colgan\",James Cameron,\"James Cameron,David Giler,Walter Hill\"\n",
            "66,Spider-Man: Into the Spider-Verse,2018,8.4,\"Animation,Action,Adventure\",PG,1h 57m,Enter a universe where more than one wears the mask.,Not Available,Not Available,\"Shameik Moore,Jake Johnson,Hailee Steinfeld,Mahershala Ali,Brian Tyree Henry,Lily Tomlin,Luna Lauren Velez,Zoë Kravitz,John Mulaney,Kimiko Glenn,Nicolas Cage,Kathryn Hahn,Liev Schreiber,Chris Pine,Natalie Morales,Edwin R. Habacon,Oscar Isaac,Greta Lee\",\"Bob Persichetti,Peter Ramsey,Rodney Rothman\",\"Phil Lord,Rodney Rothman\"\n",
            "67,American Beauty,1999,8.4,Drama,R,2h 2m,... look closer,15000000,356296601,\"Kevin Spacey,Annette Bening,Thora Birch,Wes Bentley,Mena Suvari,Peter Gallagher,Allison Janney,Chris Cooper,Scott Bakula,Sam Robards,Barry Del Sherman,Ara Celi,John Cho,Fort Atkinson,Sue Casey,Kent Faulcon,Brenda Wehle,Lisa Cloud\",Sam Mendes,Alan Ball\n",
            "68,Dr. Strangelove or: How I Learned to Stop Worrying and Love the Bomb,1964,8.4,\"Comedy,War\",PG,1h 35m,The comedy classic from celebrated director STANLEY KUBRICK,1800000,9523464,\"Peter Sellers,George C. Scott,Sterling Hayden,Keenan Wynn,Slim Pickens,Peter Bull,James Earl Jones,Tracy Reed,Jack Creley,Frank Berry,Robert O'Neil,Glenn Beck,Roy Stephens,Shane Rimmer,Hal Galili,Paul Tamarin,Laurence Herder,Gordon Tanner\",Stanley Kubrick,\"Stanley Kubrick,Terry Southern,Peter George\"\n",
            "69,The Dark Knight Rises,2012,8.4,\"Action,Drama\",PG-13,2h 44m,The Legend Ends,250000000,1081169825,\"Christian Bale,Tom Hardy,Anne Hathaway,Gary Oldman,Joseph Gordon-Levitt,Marion Cotillard,Morgan Freeman,Michael Caine,Matthew Modine,Alon Aboutboul,Ben Mendelsohn,Burn Gorman,Daniel Sunjata,Aidan Gillen,Sam Kennard,Aliash Tepina,Nestor Carbonell,Brett Cullen\",Christopher Nolan,\"Jonathan Nolan,Christopher Nolan,David S. Goyer\"\n",
            "70,Oldboy,2003,8.4,\"Action,Drama,Mystery\",R,2h,\"15 years of imprisonment, five days of vengeance\",3000000,15421226,\"Choi Min-sik,Yoo Ji-tae,Kang Hye-jeong,Kim Byeong-Ok,Dae-han Ji,Dal-su Oh,Seung-shin Lee,Jin-Seo Yoon,Tae-kyung Oh,Yoo Yeon-Seok,Il-han Oo,Young-hee Lee,Young-ae Kim,Mi Mi Lee,Jae-Duk Han,Jung Ae Kwak,San Kim,Chae-soo Jang\",Park Chan-wook,\"Garon Tsuchiya,Nobuaki Minegishi,Park Chan-wook\"\n",
            "71,Inglourious Basterds,2009,8.3,\"Adventure,Drama,War\",R,2h 33m,Once upon a time in Nazi occupied France...,70000000,321457747,\"Brad Pitt,Diane Kruger,Eli Roth,Mélanie Laurent,Christoph Waltz,Michael Fassbender,Daniel Brühl,Til Schweiger,Gedeon Burkhard,Jacky Ido,B.J. Novak,Omar Doom,August Diehl,Denis Ménochet,Sylvester Groth,Martin Wuttke,Mike Myers,Julie Dreyfus\",Quentin Tarantino,Quentin Tarantino\n",
            "72,Amadeus,1984,8.4,\"Biography,Drama,Music\",PG,2h 40m,The man... The music... The madness... The murder... The motion picture...,18000000,52066791,\"F. Murray Abraham,Tom Hulce,Elizabeth Berridge,Roy Dotrice,Simon Callow,Christine Ebersole,Jeffrey Jones,Charles Kay,Kenneth McMillan,Kenny Baker,Lisbeth Bartlett,Barbara Bryne,Martin Cavina,Roderick Cook,Milan Demjanenko,Peter DiGesu,Richard Frank,Patrick Hines\",Milos Forman,\"Peter Shaffer,Zdenek Mahler\"\n",
            "73,Coco,2017,8.4,\"Animation,Adventure,Comedy\",PG,1h 45m,The celebration of a lifetime,175000000,814337054,\"Anthony Gonzalez,Gael García Bernal,Benjamin Bratt,Alanna Ubach,Renee Victor,Jaime Camil,Alfonso Arau,Herbert Siguenza,Gabriel Iglesias,Lombardo Boyar,Ana Ofelia Murguía,Natalia Cordova-Buckley,Selene Luna,Edward James Olmos,Sofía Espinosa,Carla Medina,Dyana Ortelli,Luis Valdez\",\"Lee Unkrich,Adrian Molina(co-directed by)\",\"Lee Unkrich,Jason Katz,Matthew Aldrich\"\n",
            "74,Toy Story,1995,8.3,\"Animation,Adventure,Comedy\",G,1h 21m,\"\"\"Oooh...3-D\"\" (USA 2009 re-release)\",30000000,394436586,\"Tom Hanks,Tim Allen,Don Rickles,Jim Varney,Wallace Shawn,John Ratzenberger,Annie Potts,John Morris,Erik von Detten,Laurie Metcalf,R. Lee Ermey,Sarah Rayne,Penn Jillette,Jack Angel,Spencer Aste,Greg Berg,Lisa Bradley,Kendall Cunningham\",John Lasseter,\"John Lasseter,Pete Docter,Andrew Stanton\"\n",
            "75,Joker,2019,8.4,\"Crime,Drama,Thriller\",R,2h 2m,Put on a happy face.,55000000,1074458282,\"Joaquin Phoenix,Robert De Niro,Zazie Beetz,Frances Conroy,Brett Cullen,Shea Whigham,Bill Camp,Glenn Fleshler,Leigh Gill,Josh Pais,Rocco Luna,Marc Maron,Sondra James,Murphy Guyer,Douglas Hodge,Dante Pereira-Olson,Carrie Louise Putrello,Sharon Washington\",Todd Phillips,\"Todd Phillips,Scott Silver,Bob Kane\"\n",
            "76,Braveheart,1995,8.4,\"Biography,Drama,History\",R,2h 58m,The story of a man with a free soul...and with the courage to follow it.,72000000,213216216,\"Mel Gibson,Sophie Marceau,Patrick McGoohan,Angus Macfadyen,James Robinson,Sean Lawlor,Sandy Nelson,James Cosmo,Sean McGinley,Alan Tall,Andrew Weir,Gerda Stevenson,Ralph Riach,Mhairi Calvey,Brian Cox,Peter Hanly,Stephen Billington,Barry McGovern\",Mel Gibson,Randall Wallace\n",
            "77,The Boat,1981,8.4,\"Drama,War\",Not Available,Not Available,\"This is the story of 42 raw recruits caught up in a war they didn't understand, and the Captain who must lead them in their struggle to survive.\",EM 32000000,11487676,\"Jürgen Prochnow,Herbert Grönemeyer,Klaus Wennemann,Hubertus Bengsch,Martin Semmelrogge,Bernd Tauber,Erwin Leder,Martin May,Heinz Hoenig,Uwe Ochsenknecht,Claude-Oliver Rudolph,Jan Fedder,Ralf Richter,Joachim Bernhard,Oliver Stritzel,Konrad Becker,Lutz Schnell,Martin Hemme\",Wolfgang Petersen,\"Wolfgang Petersen,Lothar G. Buchheim\"\n",
            "78,Avengers: Endgame,2019,8.4,\"Action,Adventure,Drama\",PG-13,3h 1m,Avenge the fallen.,356000000,2799439100,\"Robert Downey Jr.,Chris Evans,Mark Ruffalo,Chris Hemsworth,Scarlett Johansson,Jeremy Renner,Don Cheadle,Paul Rudd,Benedict Cumberbatch,Chadwick Boseman,Brie Larson,Tom Holland,Karen Gillan,Zoe Saldana,Evangeline Lilly,Tessa Thompson,Rene Russo,Elizabeth Olsen\",\"Anthony Russo,Joe Russo\",\"Christopher Markus,Stephen McFeely,Stan Lee\"\n",
            "79,Princess Mononoke,1997,8.4,\"Animation,Action,Adventure\",PG-13,2h 14m,Live on.,2400000000,170005875,\"Yôji Matsuda,Yuriko Ishida,Yûko Tanaka,Billy Crudup,Billy Bob Thornton,Minnie Driver,John DiMaggio,Claire Danes,John DeMita,Jada Pinkett Smith,Gillian Anderson,Keith David,Corey Burton,Tara Strong,Julia Fletcher,Debi Derryberry,Alex Fernandez,Jack Fletcher\",Hayao Miyazaki,\"Hayao Miyazaki,Neil Gaiman\"\n",
            "80,Once Upon a Time in America,1984,8.3,\"Crime,Drama\",R,3h 49m,\"Crime, passion and lust for power - Sergio Leone's explosive saga of gangland America.\",30000000,5473337,\"Robert De Niro,James Woods,Elizabeth McGovern,Treat Williams,Tuesday Weld,Burt Young,Joe Pesci,Danny Aiello,William Forsythe,James Hayden,Darlanne Fluegel,Larry Rapp,Dutch Miller,Robert Harper,Richard Bright,Gerard Murphy,Amy Ryder,Olga Karlatos\",Sergio Leone,\"Harry Grey,Leonardo Benvenuti,Piero De Bernardi\"\n",
            "81,Good Will Hunting,1997,8.3,\"Drama,Romance\",R,2h 6m,\"Some people can never believe in themselves, until someone believes in them.\",Not Available,Not Available,\"Robin Williams,Matt Damon,Ben Affleck,Stellan Skarsgård,John Mighton,Rachel Majorowski,Colleen McCauley,Casey Affleck,Cole Hauser,Matt Mercier,Ralph St. George,Rob Lynds,Dan Washington,Alison Folland,Derrick Bridgeman,Vik Sahay,Shannon Egleson,Rob Lyons\",Gus Van Sant,\"Matt Damon,Ben Affleck\"\n",
            "82,Your Name.,2016,8.4,\"Animation,Drama,Fantasy\",TV-PG,1h 46m,\"Experience Japan's #1 film of 2016, from visionary director Makoto Shinkai\",Not Available,Not Available,\"Ryûnosuke Kamiki,Mone Kamishiraishi,Ryô Narita,Aoi Yûki,Nobunaga Shimazaki,Kaito Ishikawa,Kanon Tani,Masaki Terasoma,Sayaka Ôhara,Kazuhiko Inoue,Chafûrin,Kana Hanazawa,Yuka Terasaki,Takashi Onozuka,Yôhei Namekawa,Miyu Tsuji,Shin'ya Hamazoe,Kanami Satô\",Makoto Shinkai,\"Makoto Shinkai,Clark Cheng\"\n",
            "83,3 Idiots,2009,8.4,\"Comedy,Drama\",PG-13,2h 50m,Don't be Stupid. Be an I.D.I.O.T.,550000000,60262836,\"Aamir Khan,Madhavan,Mona Singh,Sharman Joshi,Kareena Kapoor,Boman Irani,Omi Vaidya,Olivier Lafont,Rahul Kumar,Parikshit Sahni,Farida Dadi,Amardeep Jha,Mukund Bhatt,Chaitali Bose,Jaaved Jaaferi,Jayant Kripalani,Arun Bali,Shoaib Ahmed\",Rajkumar Hirani,\"Rajkumar Hirani,Abhijat Joshi,Vidhu Vinod Chopra\"\n",
            "84,Singin' in the Rain,1952,8.3,\"Comedy,Musical,Romance\",G,1h 43m,Singin' Swingin' Glorious Feelin' Technicolor Musical,2540800,2000288,\"Gene Kelly,Donald O'Connor,Debbie Reynolds,Jean Hagen,Millard Mitchell,Cyd Charisse,Douglas Fowley,Rita Moreno,Dawn Addams,John Albright,Betty Allen,Sue Allen,John Angelo,Marie Ardell,Bette Arlen,David Bair,Lynn Bari,Jimmy Bates\",\"Stanley Donen,Gene Kelly\",\"Betty Comden,Adolph Green\"\n",
            "85,Requiem for a Dream,2000,8.3,Drama,Unrated,1h 42m,From the director of [Pi],4500000,7390108,\"Ellen Burstyn,Jared Leto,Jennifer Connelly,Marlon Wayans,Christopher McDonald,Louise Lasser,Marcia Jean Kurtz,Janet Sarno,Suzanne Shepherd,Joanne Gordon,Charlotte Aronofsky,Mark Margolis,Michael Kaycheck,Jack O'Connell,Chas Mastin,Ajay Naidu,Sean Gullette,Samia Shoaib\",Darren Aronofsky,\"Hubert Selby Jr.,Darren Aronofsky\"\n",
            "86,Toy Story 3,2010,8.3,\"Animation,Adventure,Comedy\",G,1h 43m,The Breakout Comedy Of The Summer,200000000,1067316101,\"Tom Hanks,Tim Allen,Joan Cusack,Ned Beatty,Don Rickles,Michael Keaton,Wallace Shawn,John Ratzenberger,Estelle Harris,John Morris,Jodi Benson,Emily Ricks Hahn,Laurie Metcalf,Blake Clark,Teddy Newton,Bud Luckey,Bea Miller,Javier Fernández-Peña\",Lee Unkrich,\"John Lasseter,Andrew Stanton,Lee Unkrich\"\n",
            "87,High and Low,1963,8.4,\"Crime,Drama,Mystery\",Not Rated,2h 23m,142 Screenful Minutes of Thrills and Suspense!,Not Available,Not Available,\"Toshirô Mifune,Yutaka Sada,Tatsuya Nakadai,Kyôko Kagawa,Tatsuya Mihashi,Isao Kimura,Kenjirô Ishiyama,Takeshi Katô,Takashi Shimura,Jun Tazaki,Nobuo Nakamura,Yûnosuke Itô,Tsutomu Yamazaki,Minoru Chiaki,Eijirô Tôno,Masao Shimizu,Masahiko Shimazu,Toshio Egi\",Akira Kurosawa,\"Hideo Oguni,Ryûzô Kikushima,Eijirô Hisaita\"\n",
            "88,Capernaum,2018,8.4,Drama,R,2h 6m,\"\"\"Why are you suing your parents?\"\" \"\"For giving me life.\"\"\",Not Available,Not Available,\"Zain Al Rafeea,Yordanos Shiferaw,Boluwatife Treasure Bankole,Kawsar Al Haddad,Fadi Yousef,Cedra Izzam,Alaa Chouchnieh,Elias Khoury,Mohammad Al Abdallah,Mohamad Abdellatif,Abdo Abdo,Hampig Abraham,Jamil Ahmad,Mohamad Akkar,Elias Akobegia,Riman Al Rafeea,Legamett Alamou,Majd Nabil Alhalabi\",Nadine Labaki,\"Nadine Labaki,Jihad Hojeily,Michelle Keserwany\"\n",
            "89,Star Wars: Episode VI - Return of the Jedi,1983,8.3,\"Action,Adventure,Fantasy\",PG,2h 11m,\"Coming May 25, 1983 to your galaxy. [Second Advance poster]\",32500000,475106177,\"Mark Hamill,Harrison Ford,Carrie Fisher,Billy Dee Williams,Anthony Daniels,Peter Mayhew,Sebastian Shaw,Ian McDiarmid,Frank Oz,James Earl Jones,David Prowse,Alec Guinness,Kenny Baker,Michael Pennington,Kenneth Colley,Michael Carter,Denis Lawson,Tim Rose\",Richard Marquand,\"Lawrence Kasdan,George Lucas\"\n",
            "90,Eternal Sunshine of the Spotless Mind,2004,8.3,\"Drama,Romance,Sci-Fi\",R,1h 48m,I already forget how I used to feel about you.,20000000,74036715,\"Jim Carrey,Kate Winslet,Tom Wilkinson,Gerry Robert Byrne,Elijah Wood,Thomas Jay Ryan,Mark Ruffalo,Jane Adams,David Cross,Kirsten Dunst,Ryan Whitney,Debbon Ayer,Amir Ali Said,Brian Price,Paulie Litt,Josh Flitter,Lola Daehler,Deirdre O'Connell\",Michel Gondry,\"Charlie Kaufman,Michel Gondry,Pierre Bismuth\"\n",
            "91,2001: A Space Odyssey,1968,8.3,\"Adventure,Sci-Fi\",G,2h 29m,Let the Awe and Mystery of a Journey Unlike Any Other Begin,12000000,65889846,\"Keir Dullea,Gary Lockwood,William Sylvester,Daniel Richter,Leonard Rossiter,Margaret Tyzack,Robert Beatty,Sean Sullivan,Douglas Rain,Frank Miller,Bill Weston,Ed Bishop,Glenn Beck,Alan Gifford,Ann Gillis,Edwina Carroll,Penny Brahms,Heather Downham\",Stanley Kubrick,\"Stanley Kubrick,Arthur C. Clarke\"\n",
            "92,Reservoir Dogs,1992,8.3,\"Crime,Thriller\",R,1h 39m,Seven Total Strangers Team Up For The Perfect Crime. They Don't Know Each Other's Name. But They've Got Each Other's Color,1200000,2913644,\"Harvey Keitel,Tim Roth,Michael Madsen,Chris Penn,Steve Buscemi,Lawrence Tierney,Randy Brooks,Kirk Baltz,Edward Bunker,Quentin Tarantino,Rich Turner,David Steen,Tony Cosmo,Stevo Polyi,Michael Sottile,Robert Ruth,Lawrence Bender,Linda Kaye\",Quentin Tarantino,\"Quentin Tarantino,Roger Avary\"\n",
            "93,Come and See,1985,8.4,\"Drama,Thriller,War\",Not Rated,2h 22m,The cruelest side of war.,Not Available,Not Available,\"Aleksey Kravchenko,Olga Mironova,Liubomiras Laucevicius,Vladas Bagdonas,Jüri Lumiste,Viktors Lorencs,Kazimir Rabetsky,Evgeniy Tilicheev,G. Velts,V. Vasilyev,Aleksandr Berda,Vasiliy Domrachyov,Nina Evdokimova,Igor Gnevashev,Adolf Hitler,Valery Kravchenko,Evgeniy Kryzhanovskiy,N. Lisichenok\",Elem Klimov,\"Ales Adamovich,Elem Klimov\"\n",
            "94,The Hunt,2012,8.3,Drama,R,1h 55m,The lie is spreading.,Not Available,Not Available,\"Mads Mikkelsen,Thomas Bo Larsen,Annika Wedderkopp,Lasse Fogelstrøm,Susse Wold,Anne Louise Hassing,Lars Ranthe,Alexandra Rapaport,Sebastian Bull,Steen Ordell Guldbrand Jensen,Daniel Engstrup,Troels Thorsen,Søren Rønholt,Hana Shuan,Jytte Kvinesdal,Josefine Gråbøl,Bjarne Henriksen,Nicolai Dahl Hamilton\",Thomas Vinterberg,\"Thomas Vinterberg,Tobias Lindholm\"\n",
            "95,Citizen Kane,1941,8.3,\"Drama,Mystery\",PG,1h 59m,Radio's Most Dynamic Artist . . The Man At Whose Voice A Nation Trembled . . . Now the screen's most exciting NEW star ! ORSON WELLES in the picture Hollywood said he'd never make,839727,1645133,\"Orson Welles,Joseph Cotten,Dorothy Comingore,Agnes Moorehead,Ruth Warrick,Ray Collins,Erskine Sanford,Everett Sloane,William Alland,Paul Stewart,George Coulouris,Fortunio Bonanova,Gus Schilling,Philip Van Zandt,Georgia Backus,Harry Shannon,Sonny Bupp,Buddy Swan\",Orson Welles,\"Herman J. Mankiewicz,Orson Welles,John Houseman\"\n",
            "96,M,1931,8.3,\"Crime,Mystery,Thriller\",Passed,1h 39m,IT STAGGERS THE SENSES!...SHOCKS the Imagination - It will leave you Gasping - It is the Sensation of 3 Continents!,Not Available,35566,\"Peter Lorre,Ellen Widmann,Inge Landgut,Otto Wernicke,Theodor Loos,Gustaf Gründgens,Friedrich Gnaß,Fritz Odemar,Paul Kemp,Theo Lingen,Rudolf Blümner,Georg John,Franz Stein,Ernst Stahl-Nachbaur,Gerhard Bienert,Karl Platen,Rosa Valetti,Hertha von Walther\",Fritz Lang,\"Thea von Harbou,Fritz Lang,Egon Jacobsohn\"\n",
            "97,Lawrence of Arabia,1962,8.3,\"Adventure,Biography,Drama\",Approved,3h 38m,A Mighty Motion Picture Of Action And Adventure!,15000000,45720631,\"Peter O'Toole,Alec Guinness,Anthony Quinn,Jack Hawkins,Omar Sharif,José Ferrer,Anthony Quayle,Claude Rains,Arthur Kennedy,Donald Wolfit,I.S. Johar,Gamil Ratib,Michel Ray,John Dimech,Zia Mohyeddin,Howard Marion-Crawford,Jack Gwillim,Hugh Miller\",David Lean,\"Robert Bolt,Michael Wilson\"\n",
            "98,North by Northwest,1959,8.3,\"Action,Adventure,Mystery\",Approved,2h 16m,Alfred Hitchcock takes you.... North by Northwest!,3101000,142319,\"Cary Grant,Eva Marie Saint,James Mason,Jessie Royce Landis,Leo G. Carroll,Josephine Hutchinson,Philip Ober,Martin Landau,Adam Williams,Edward Platt,Robert Ellenstein,Les Tremayne,Philip Coolidge,Patrick McVey,Edward Binns,Ken Lynch,Stanley Adams,John Alban\",Alfred Hitchcock,Ernest Lehman\n",
            "99,Vertigo,1958,8.3,\"Mystery,Romance,Thriller\",PG,2h 8m,A Hitchcock thriller. You should see it from the beginning!,2479000,7798146,\"James Stewart,Kim Novak,Barbara Bel Geddes,Tom Helmore,Henry Jones,Raymond Bailey,Ellen Corby,Konstantin Shayne,Lee Patrick,David Ahdar,Isabel Analla,Jack Ano,Margaret Bacon,John Benson,Danny Borzage,Margaret Brayton,Paul Bryar,Boyd Cabeen\",Alfred Hitchcock,\"Alec Coppel,Samuel A. Taylor,Pierre Boileau\"\n",
            "100,Ikiru,1952,8.3,Drama,Not Rated,2h 23m,One of the Great Films of Our Time!,Not Available,96302,\"Takashi Shimura,Nobuo Kaneko,Shin'ichi Himori,Haruo Tanaka,Minoru Chiaki,Miki Odagiri,Bokuzen Hidari,Minosuke Yamada,Kamatari Fujiwara,Makoto Kobori,Nobuo Nakamura,Atsushi Watanabe,Isao Kimura,Masao Shimizu,Yûnosuke Itô,Kumeko Urabe,Eiko Miyoshi,Noriko Honma\",Akira Kurosawa,\"Akira Kurosawa,Shinobu Hashimoto,Hideo Oguni\"\n",
            "101,Amélie,2001,8.3,\"Comedy,Romance\",R,2h 2m,One person can change your life forever.,10000000,174122191,\"Audrey Tautou,Mathieu Kassovitz,Rufus,Lorella Cravotta,Serge Merlin,Jamel Debbouze,Clotilde Mollet,Claire Maurier,Isabelle Nanty,Dominique Pinon,Artus de Penguern,Yolande Moreau,Urbain Cancelier,Maurice Bénichou,Michel Robin,Andrée Damant,Claude Perron,Armelle\",Jean-Pierre Jeunet,\"Guillaume Laurant,Jean-Pierre Jeunet\"\n",
            "102,The Apartment,1960,8.3,\"Comedy,Drama,Romance\",Approved,2h 5m,\"Movie-wise, there has never been anything like \"\"THE APARTMENT\"\" love-wise, laugh-wise or otherwise-wise!\",3000000,18778738,\"Jack Lemmon,Shirley MacLaine,Fred MacMurray,Ray Walston,Jack Kruschen,David Lewis,Hope Holiday,Joan Shawlee,Naomi Stevens,Johnny Seven,Joyce Jameson,Willard Waterman,David White,Edie Adams,Dorothy Abbott,Bill Baldwin,Paul Bradley,Benny Burt\",Billy Wilder,\"Billy Wilder,I.A.L. Diamond\"\n",
            "103,A Clockwork Orange,1971,8.3,\"Crime,Sci-Fi\",X,2h 16m,\"Being the adventures of a young man ... who couldn't resist pretty girls ... or a bit of the old ultra-violence ... went to jail, was re-conditioned ... and came out a different young man ... or was he ?\",2200000,26960374,\"Malcolm McDowell,Patrick Magee,Michael Bates,Warren Clarke,John Clive,Adrienne Corri,Carl Duering,Paul Farrell,Clive Francis,Michael Gover,Miriam Karlin,James Marcus,Aubrey Morris,Godfrey Quigley,Sheila Raynor,Madge Ryan,John Savident,Anthony Sharp\",Stanley Kubrick,\"Stanley Kubrick,Anthony Burgess\"\n",
            "104,Double Indemnity,1944,8.3,\"Crime,Drama,Film-Noir\",Passed,1h 47m,\"IT'S LOVE AND MURDER AT FIRST SIGHT! (print ad - Lubbock Morning Avalanche - Lindsey Theatre - Lubbock, Texas - September 1, 1944 - all caps)\",927262,14651,\"Fred MacMurray,Barbara Stanwyck,Edward G. Robinson,Byron Barr,Porter Hall,Jean Heather,Tom Powers,Richard Gaines,Fortunio Bonanova,John Philliber,Lev Abramov,James Adamson,John Berry,Raymond Chandler,Edmund Cobb,Kernan Cripps,Betty Farrington,Bess Flowers\",Billy Wilder,\"Billy Wilder,Raymond Chandler,James M. Cain\"\n",
            "105,Full Metal Jacket,1987,8.3,\"Drama,War\",R,1h 56m,An Epic Story of the Vietnam War [Australia Theatrical],30000000,46358827,\"Matthew Modine,R. Lee Ermey,Vincent D'Onofrio,Adam Baldwin,Dorian Harewood,Kevyn Major Howard,Arliss Howard,Ed O'Ross,John Terry,Kieron Jecchinis,Kirk Taylor,Tim Colceri,Jon Stafford,Bruce Boa,Ian Tyler,Sal Lopez,Gary Landon Mills,Papillon Soo\",Stanley Kubrick,\"Stanley Kubrick,Michael Herr,Gustav Hasford\"\n",
            "106,Top Gun: Maverick,2022,8.3,\"Action,Drama\",PG-13,2h 10m,Feel the need... The need for speed.,170000000,1488732821,\"Tom Cruise,Jennifer Connelly,Miles Teller,Val Kilmer,Bashir Salahuddin,Jon Hamm,Charles Parnell,Monica Barbaro,Lewis Pullman,Jay Ellis,Danny Ramirez,Glen Powell,Jack Schumacher,Manny Jacinto,Kara Wang,Greg Tarzan Davis,Jake Picking,Raymond Lee\",Joseph Kosinski,\"Jim Cash,Jack Epps Jr.,Peter Craig\"\n",
            "107,Scarface,1983,8.3,\"Crime,Drama\",R,2h 50m,He was Tony Montana. The world will remember him by another name...SCARFACE.,25000000,65884703,\"Al Pacino,Michelle Pfeiffer,Steven Bauer,Mary Elizabeth Mastrantonio,Robert Loggia,Miriam Colon,F. Murray Abraham,Paul Shenar,Harris Yulin,Ángel Salazar,Arnaldo Santana,Pepe Serna,Michael P. Moran,Al Israel,Dennis Holahan,Mark Margolis,Michael Alldredge,Ted Beniades\",Brian De Palma,\"Oliver Stone,Howard Hawks,Ben Hecht\"\n",
            "108,Hamilton,2020,8.4,\"Biography,Drama,History\",PG-13,2h 40m,An American Musical,Not Available,Not Available,\"Lin-Manuel Miranda,Phillipa Soo,Leslie Odom Jr.,Renée Elise Goldsberry,Daveed Diggs,Jonathan Groff,Chris Jackson,Jasmine Cephas Jones,Okieriete Onaodowan,Anthony Ramos,Carleigh Bettiol,Ariana DeBose,Hope Easterbrook,Sydney James Harcourt,Sasha Hutchings,Thayne Jasperson,Elizabeth Judd,Jon Rua\",Thomas Kail,\"Lin-Manuel Miranda,Ron Chernow\"\n",
            "109,Incendies,2010,8.3,\"Drama,Mystery\",R,2h 11m,The search began at the opening of their mother's will.,6800000,6788659,\"Lubna Azabal,Mélissa Désormeaux-Poulin,Maxim Gaudette,Mustafa Kamel,Hussein Sami,Rémy Girard,Dominique Briand,Frédéric Paquet,Hamed Najem,Ahmad Massad,Bader Alami,Majida Hussein,Asriah Nijres,John Dunn-Hill,Nadia Essadiqi,Chaouki Charbel,Axel Garbi,Amine Benzenine\",Denis Villeneuve,\"Denis Villeneuve,Wajdi Mouawad,Valérie Beaugrand-Champagne\"\n",
            "110,To Kill a Mockingbird,1962,8.3,\"Crime,Drama\",Approved,2h 9m,The most beloved and widely read Pulitzer Prize Winner now comes vividly alive on the screen!,2000000,599146,\"Gregory Peck,John Megna,Frank Overton,Rosemary Murphy,Ruth White,Brock Peters,Estelle Evans,Paul Fix,Collin Wilcox Paxton,James Anderson,Alice Ghostley,Robert Duvall,William Windom,Crahan Denton,Richard Hale,Mary Badham,Phillip Alford,R.L. Armstrong\",Robert Mulligan,\"Harper Lee,Horton Foote\"\n",
            "111,Heat,1995,8.3,\"Action,Crime,Drama\",R,2h 50m,An L.A. Redemption,60000000,187436818,\"Al Pacino,Robert De Niro,Val Kilmer,Jon Voight,Tom Sizemore,Diane Venora,Amy Brenneman,Ashley Judd,Mykelti Williamson,Wes Studi,Ted Levine,Dennis Haysbert,William Fichtner,Natalie Portman,Tom Noonan,Kevin Gage,Hank Azaria,Susan Traylor\",Michael Mann,Michael Mann\n",
            "112,The Sting,1973,8.3,\"Comedy,Crime,Drama\",PG,2h 9m,\"Recapture \"\"the STING Experience\"\". REMEMBER HOW GOOD THE FEEL WAS THE FIRST TIME (re-release)\",5500000,156000000,\"Paul Newman,Robert Redford,Robert Shaw,Charles Durning,Ray Walston,Eileen Brennan,Harold Gould,John Heffernan,Dana Elcar,Jack Kehoe,Dimitra Arliss,Robert Earl Jones,James Sloyan,Charles Dierkop,Lee Paul,Sally Kirkland,Avon Long,Arch Johnson\",George Roy Hill,David S. Ward\n",
            "113,Up,2009,8.3,\"Animation,Adventure,Comedy\",PG,1h 36m,Fly Up to Venezuela,175000000,735099102,\"Edward Asner,Jordan Nagai,John Ratzenberger,Christopher Plummer,Bob Peterson,Delroy Lindo,Jerome Ranft,David Kaye,Elie Docter,Jeremy Leary,Mickie McGowan,Danny Mann,Donald Fullilove,Jess Harnell,Josh Cooley,Pete Docter,Mark Andrews,Bob Bergen\",\"Pete Docter,Bob Peterson(co-director)\",\"Pete Docter,Bob Peterson,Tom McCarthy\"\n",
            "114,A Separation,2011,8.3,Drama,PG-13,2h 3m,\"Ugly truth, sweet lies\",500000,22926076,\"Payman Maadi,Leila Hatami,Sareh Bayat,Shahab Hosseini,Sarina Farhadi,Merila Zare'i,Ali-Asghar Shahbazi,Babak Karimi,Kimia Hosseini,Shirin Yazdanbakhsh,Sohibanoo Zolqadr,Mohammadhasan Asghari,Shirin Azimiyannezhad,Hamid Dadju,Mohammad Ebrahimian,Samad Farhang,Ali Fattahi,Nafise Ghodrati\",Asghar Farhadi,Asghar Farhadi\n",
            "115,Metropolis,1927,8.3,\"Drama,Sci-Fi\",Not Rated,2h 33m,Fritz Lang's 1927 Masterpiece Now With 25 Minutes of Lost Footage (2010 re-release),EM 6000000,1349711,\"Brigitte Helm,Alfred Abel,Gustav Fröhlich,Rudolf Klein-Rogge,Fritz Rasp,Theodor Loos,Erwin Biswanger,Heinrich George,Fritz Alberti,Grete Berger,Olly Boeheim,Max Dietze,Ellen Frey,Beatrice Garga,Heinrich Gotho,Dolly Grey,Anny Hintze,Gottfried Huppertz\",Fritz Lang,\"Thea von Harbou,Fritz Lang\"\n",
            "116,Taxi Driver,1976,8.2,\"Crime,Drama\",R,1h 54m,\"On every street in every city in this country, there's a nobody who dreams of being a somebody.\",1300000,28570902,\"Robert De Niro,Jodie Foster,Cybill Shepherd,Albert Brooks,Diahnne Abbott,Frank Adu,Victor Argo,Gino Ardito,Garth Avery,Peter Boyle,Harry Cohn,Copper Cunningham,Brenda Dickson,Harry Fischler,Nat Grant,Leonard Harris,Richard Higgs,Beau Kayser\",Martin Scorsese,Paul Schrader\n",
            "117,L.A. Confidential,1997,8.2,\"Crime,Drama,Mystery\",R,2h 18m,\"Off the record, on the QT, and very hush-hush...\",35000000,126216940,\"Kevin Spacey,Russell Crowe,Guy Pearce,Kim Basinger,James Cromwell,Danny DeVito,David Strathairn,Ron Rifkin,Matt McCoy,Paul Guilfoyle,Paolo Seganti,Elisabeth Granli,Sandra Taylor,Steve Rankin,Graham Beckel,Allan Graf,Precious Chong,Symba\",Curtis Hanson,\"James Ellroy,Brian Helgeland,Curtis Hanson\"\n",
            "118,Die Hard,1988,8.2,\"Action,Thriller\",R,2h 12m,It will blow you through the back wall of the theater!,28000000,141603197,\"Bruce Willis,Alan Rickman,Bonnie Bedelia,Reginald VelJohnson,Paul Gleason,De'voreaux White,William Atherton,Hart Bochner,James Shigeta,Alexander Godunov,Bruno Doyon,Andreas Wisniewski,Clarence Gilyard Jr.,Joseph Plewa,Lorenzo Caccialanza,Gérard Bonn,Dennis Hayden,Al Leong\",John McTiernan,\"Roderick Thorp,Jeb Stuart,Steven E. de Souza\"\n",
            "119,Snatch,2000,8.2,\"Comedy,Crime\",R,1h 42m,Stealin' Stones and Breakin' Bones,6000000,83557872,\"Jason Statham,Brad Pitt,Stephen Graham,Vinnie Jones,Ade,William Beck,Andy Beckwith,Ewen Bremner,Jason Buckham,Mickey Cantwell,Nicola Collins,Teena Collins,Charles Cork,James Cunningham,Sorcha Cusack,Mickey Dee,Benicio Del Toro,Sam Douglas\",Guy Ritchie,Guy Ritchie\n",
            "120,Indiana Jones and the Last Crusade,1989,8.2,\"Action,Adventure\",PG-13,2h 7m,He's back in an all new adventure. Memorial Day 1989.,48000000,474171806,\"Harrison Ford,Sean Connery,Alison Doody,Denholm Elliott,John Rhys-Davies,Julian Glover,River Phoenix,Michael Byrne,Kevork Malikyan,Robert Eddison,Richard Young,Alexei Sayle,Alex Hyde-White,Paul Maxwell,Isla Blair,Vernon Dobtcheff,J.J. Hardy,Bradley Gregg\",Steven Spielberg,\"Jeffrey Boam,George Lucas,Menno Meyjes\"\n",
            "121,Bicycle Thieves,1948,8.3,Drama,Not Rated,1h 29m,The Prize Picture They Want to Censor!,133000,436655,\"Lamberto Maggiorani,Enzo Staiola,Lianella Carell,Elena Altieri,Gino Saltamerenda,Giulio Chiari,Vittorio Antonucci,Michele Sakara,Fausto Guerzoni,Emma Druetti,Carlo Jachino,Giulio Battiferri,Ida Bracci Dorati,Nando Bruno,Eolo Capritti,Memmo Carotenuto,Giovanni Corporale,Veriano Ginesi\",Vittorio De Sica,\"Cesare Zavattini,Luigi Bartolini,Oreste Biancoli\"\n",
            "122,Like Stars on Earth,2007,8.3,\"Drama,Family\",PG,2h 45m,Every Child is Special,Not Available,21897373,\"Darsheel Safary,Aamir Khan,Tisca Chopra,Vipin Sharma,Sachet Engineer,Tanay Chheda,Lalitha Lajmi,Girija Oak,Ravi Khanvilkar,Pratima Kulkarni,Meghna Malik,Sonali Sachdev,Sanjay Dadhich,Rajgopal Iyer,Bugs Bhargava Krishna,Shankar Sachdev,M.K. Raina,Gurkirtan\",\"Aamir Khan,Amole Gupte(uncredited)\",Amole Gupte\n",
            "123,1917,2019,8.2,\"Action,Drama,War\",R,1h 59m,Time is the enemy.,95000000,384479940,\"Dean-Charles Chapman,George MacKay,Daniel Mays,Colin Firth,Pip Carter,Andy Apollo,Paul Tinto,Josef Davies,Billy Postlethwaite,Gabriel Akuwudike,Andrew Scott,Spike Leighton,Robert Maaser,Gerran Howell,Adam Hugill,Mark Strong,Richard McCabe,Benjamin Adams\",Sam Mendes,\"Sam Mendes,Krysty Wilson-Cairns\"\n",
            "124,Downfall,2004,8.2,\"Biography,Drama,History\",R,2h 36m,\"April 1945, a nation awaits its...\",13500000,92181574,\"Bruno Ganz,Alexandra Maria Lara,Ulrich Matthes,Juliane Köhler,Corinna Harfouch,Heino Ferch,Christian Berkel,Matthias Habich,Thomas Kretschmann,Michael Mendl,André Hennicke,Ulrich Noethen,Birgit Minichmayr,Rolf Kanies,Justus von Dohnányi,Dieter Mann,Christian Redl,Götz Otto\",Oliver Hirschbiegel,\"Bernd Eichinger,Joachim Fest,Traudl Junge\"\n",
            "125,Dangal,2016,8.3,\"Action,Biography,Drama\",Not Rated,2h 41m,You think our girls are any lesser than boys?,Not Available,Not Available,\"Aamir Khan,Sakshi Tanwar,Fatima Sana Shaikh,Sanya Malhotra,Aparshakti Khurana,Zaira Wasim,Suhani Bhatnagar,Ritvik Sahore,Girish Kulkarni,Ravi Aneja,Anurag Arora,Mahesh Balraj,Vivan Bhatena,Anmol Charan,Karamveer Choudhary,Ishika Gagneja,Badrul Islam,Jagbir\",Nitesh Tiwari,\"Piyush Gupta,Shreyas Jain,Nikhil Mehrotra\"\n",
            "126,For a Few Dollars More,1965,8.2,Western,R,2h 12m,The man with no name is back.,600000,15000000,\"Clint Eastwood,Lee Van Cleef,Gian Maria Volontè,Mara Krupp,Luigi Pistilli,Klaus Kinski,Luis Rodríguez,Benito Stefanelli,Panos Papadopulos,Aldo Sambrell,Roberto Camardiel,Joseph Egger,Tomás Blanco,Lorenzo Robledo,Dante Maggio,Sergio Mendizábal,Diana Rabito,Giovanni Tarallo\",Sergio Leone,\"Sergio Leone,Fulvio Morsella,Luciano Vincenzoni\"\n",
            "127,Batman Begins,2005,8.2,\"Action,Crime,Drama\",PG-13,2h 20m,The Legend Begins,150000000,373672993,\"Christian Bale,Michael Caine,Ken Watanabe,Liam Neeson,Katie Holmes,Gary Oldman,Cillian Murphy,Tom Wilkinson,Rutger Hauer,Mark Boone Junior,Linus Roache,Morgan Freeman,Larry Holden,Gerard Murphy,Colin McFarlane,Sara Stewart,Gus Lewis,Richard Brake\",Christopher Nolan,\"Bob Kane,David S. Goyer,Christopher Nolan\"\n",
            "128,The Kid,1921,8.3,\"Comedy,Drama,Family\",Passed,1h 8m,This is the great film he has been working on for a whole year,250000,41960,\"Charles Chaplin,Edna Purviance,Jackie Coogan,Carl Miller,Albert Austin,Beulah Bains,Nellie Bly Baker,Henry Bergman,Edward Biby,B.F. Blinn,Kitty Bradbury,Frank Campeau,Bliss Chevalier,Frances Cochran,Elsie Codd,Jack Coogan Sr.,Estelle Cook,Lillian Crane\",Charles Chaplin,Charles Chaplin\n",
            "129,Some Like It Hot,1959,8.2,\"Comedy,Music,Romance\",Passed,2h 1m,\"Not since SCARFACE, so much action. Not since the Marx Brothers, so much comedy. Not since THE SEVEN YEAR ITCH, so much Marilyn.\",2883848,195088,\"Marilyn Monroe,Tony Curtis,Jack Lemmon,George Raft,Pat O'Brien,Joe E. Brown,Nehemiah Persoff,Joan Shawlee,Billy Gray,George E. Stone,Dave Barry,Mike Mazurki,Harry Wilson,Beverly Wills,Barbara Drew,Edward G. Robinson Jr.,Sam Bagley,Brandon Beach\",Billy Wilder,\"Billy Wilder,I.A.L. Diamond,Robert Thoeren\"\n",
            "130,The Father,2020,8.2,\"Drama,Mystery\",PG-13,1h 37m,Nothing is as it seems,6000000,24427162,\"Anthony Hopkins,Olivia Colman,Mark Gatiss,Olivia Williams,Imogen Poots,Rufus Sewell,Ayesha Dharker,Roman Zeller,Adnan Kundi,Brian Rodger,Evie Wray\",Florian Zeller,\"Christopher Hampton,Florian Zeller\"\n",
            "131,All About Eve,1950,8.2,Drama,Passed,2h 18m,It's all about women---and their men!,1400000,151052,\"Bette Davis,Anne Baxter,George Sanders,Celeste Holm,Gary Merrill,Hugh Marlowe,Gregory Ratoff,Barbara Bates,Marilyn Monroe,Thelma Ritter,Walter Hampden,Randy Stuart,Craig Hill,Leland Harris,Barbara White,Eddie Fisher,William Pullen,Claude Stroud\",Joseph L. Mankiewicz,\"Joseph L. Mankiewicz,Mary Orr\"\n",
            "132,The Wolf of Wall Street,2013,8.2,\"Biography,Comedy,Crime\",R,3h,Earn. Spend. Party.,100000000,406878233,\"Leonardo DiCaprio,Jonah Hill,Margot Robbie,Matthew McConaughey,Kyle Chandler,Rob Reiner,Jon Bernthal,Jon Favreau,Jean Dujardin,Joanna Lumley,Cristin Milioti,Christine Ebersole,Shea Whigham,Katarina Cas,P.J. Byrne,Kenneth Choi,Brian Sacca,Henry Zebrowski\",Martin Scorsese,\"Terence Winter,Jordan Belfort\"\n",
            "133,Green Book,2018,8.2,\"Biography,Comedy,Drama\",PG-13,2h 10m,Inspired by a True Friendship,23000000,321752656,\"Viggo Mortensen,Mahershala Ali,Linda Cardellini,Sebastian Maniscalco,Dimiter D. Marinov,Mike Hatton,P.J. Byrne,Joe Cortese,Maggie Nixon,Von Lewis,Jon Sortland,Don Stark,Anthony Mangano,Paul Sloan,Quinn Duffy,Seth Hurwitz,Hudson Galloway,Gavin Lyle Foley\",Peter Farrelly,\"Nick Vallelonga,Brian Hayes Currie,Peter Farrelly\"\n",
            "134,Judgment at Nuremberg,1961,8.3,\"Drama,War\",Approved,2h 59m,More than a motion picture...It is an overwhelming experience in human emotion you will never forget!,3000000,12180,\"Spencer Tracy,Burt Lancaster,Richard Widmark,Marlene Dietrich,Maximilian Schell,Judy Garland,Montgomery Clift,William Shatner,Werner Klemperer,Kenneth MacKenna,Torben Meyer,Joseph Bernard,Alan Baxter,Edward Binns,Virginia Christine,Otto Waldis,Karl Swenson,Martin Brandt\",Stanley Kramer,\"Abby Mann,Montgomery Clift\"\n",
            "135,Casino,1995,8.2,\"Crime,Drama\",R,2h 58m,You don't stay at the top forever,52000000,116112375,\"Robert De Niro,Sharon Stone,Joe Pesci,James Woods,Don Rickles,Alan King,Kevin Pollak,L.Q. Jones,Dick Smothers,Frank Vincent,John Bloom,Pasquale Cajano,Melissa Prophet,Bill Allison,Vinny Vella,Philip Suriano,Erika von Tagen,Frankie Avalon\",Martin Scorsese,\"Nicholas Pileggi,Martin Scorsese\"\n",
            "136,Ran,1985,8.2,\"Action,Drama,War\",R,2h 42m,tionDramaWar,11500000,4164283,\"Tatsuya Nakadai,Akira Terao,Jinpachi Nezu,Daisuke Ryû,Mieko Harada,Yoshiko Miyazaki,Hisashi Igawa,Pîtâ,Masayuki Yui,Kazuo Katô,Norio Matsui,Toshiya Ito,Kenji Kodama,Takashi Watanabe,Mansai Nomura,Takeshi Katô,Jun Tazaki,Hitoshi Ueki\",Akira Kurosawa,\"Akira Kurosawa,Hideo Oguni,Masato Ide\"\n",
            "137,Pan's Labyrinth,2006,8.2,\"Drama,Fantasy,War\",R,1h 58m,What happens when make-believe believes it's real?,19000000,83862032,\"Ivana Baquero,Ariadna Gil,Sergi López,Maribel Verdú,Doug Jones,Álex Angulo,Manolo Solo,César Vea,Roger Casamajor,Ivan Massagué,Gonzalo Uriarte,Eusebio Lázaro,Francisco Vidal,Juanjo Cucalón,Lina Mira,Mario Zorrilla,Sebastián Haro,Mila Espiga\",Guillermo del Toro,Guillermo del Toro\n",
            "138,The Truman Show,1998,8.2,\"Comedy,Drama\",PG,1h 43m,All the world's a stage...,60000000,264118201,\"Jim Carrey,Ed Harris,Laura Linney,Noah Emmerich,Natascha McElhone,Holland Taylor,Brian Delate,Blair Slater,Peter Krause,Heidi Schanz,Ron Taylor,Don Taylor,Ted Raymond,Judy Clayton,Fritz Dominique,Angel Schmiedt,Nastassja Schmiedt,Muriel Moore\",Peter Weir,Andrew Niccol\n",
            "139,There Will Be Blood,2007,8.2,Drama,R,2h 38m,There Will Be Greed. There Will Be Vengeance.,25000000,76182388,\"Daniel Day-Lewis,Paul Dano,Ciarán Hinds,Martin Stringer,Matthew Braden Stringer,Jacob Stringer,Joseph Mussey,Barry Del Sherman,Harrison Taylor,Stockton Taylor,Paul F. Tompkins,Dillon Freasier,Kevin Breznahan,Jim Meskimen,Erica Sullivan,Randall Carver,Coco Leigh,Sydney McCallister\",Paul Thomas Anderson,\"Paul Thomas Anderson,Upton Sinclair\"\n",
            "140,Unforgiven,1992,8.2,\"Drama,Western\",R,2h 10m,\"It's a hell of a thing, killing a man\",14400000,159167799,\"Clint Eastwood,Gene Hackman,Morgan Freeman,Richard Harris,Jaimz Woolvett,Saul Rubinek,Frances Fisher,Anna Thomson,David Mucci,Rob Campbell,Anthony James,Tara Frederick,Beverley Elliott,Liisa Repo-Martell,Josie Smith,Shane Meier,Aline Levasseur,Cherrilene Cardinal\",Clint Eastwood,David Webb Peoples\n",
            "141,The Sixth Sense,1999,8.2,\"Drama,Mystery,Thriller\",PG-13,1h 47m,\"\"\"I see dead people\"\"\",40000000,672806432,\"Bruce Willis,Haley Joel Osment,Toni Collette,Olivia Williams,Trevor Morgan,Donnie Wahlberg,Peter Anthony Tambakis,Jeffrey Zubernis,Bruce Norris,Glenn Fitzgerald,Greg Wood,Mischa Barton,Angelica Page,Lisa Summerour,Firdous Bamji,Samia Shoaib,Hayden Saunier,Janis Dardaris\",M. Night Shyamalan,M. Night Shyamalan\n",
            "142,Shutter Island,2010,8.2,\"Mystery,Thriller\",R,2h 18m,Someone is missing.,80000000,294805697,\"Leonardo DiCaprio,Emily Mortimer,Mark Ruffalo,Ben Kingsley,Max von Sydow,Michelle Williams,Patricia Clarkson,Jackie Earle Haley,Ted Levine,John Carroll Lynch,Elias Koteas,Robin Bartlett,Christopher Denham,Nellie Sciutto,Joseph Sikora,Curtiss Cook,Raymond Anthony Thomas,Joseph McKenna\",Martin Scorsese,\"Laeta Kalogridis,Dennis Lehane\"\n",
            "143,A Beautiful Mind,2001,8.2,\"Biography,Drama\",PG-13,2h 15m,The Only Thing Greater Than the Power of the Mind is the Courage of the Heart,58000000,316791257,\"Russell Crowe,Ed Harris,Jennifer Connelly,Christopher Plummer,Paul Bettany,Adam Goldberg,Josh Lucas,Anthony Rapp,Jason Gray-Stanford,Judd Hirsch,Austin Pendleton,Vivien Cardone,Jillie Simon,Victor Steinbach,Tanya Clarke,Thomas F. Walsh,Jesse Doran,Kent Cassella\",Ron Howard,\"Akiva Goldsman,Sylvia Nasar\"\n",
            "144,Jurassic Park,1993,8.2,\"Action,Adventure,Sci-Fi\",PG-13,2h 7m,Life finds a way.,63000000,1109802321,\"Sam Neill,Laura Dern,Jeff Goldblum,Richard Attenborough,Bob Peck,Martin Ferrero,BD Wong,Joseph Mazzello,Ariana Richards,Samuel L. Jackson,Wayne Knight,Gerald R. Molen,Miguel Sandoval,Cameron Thor,Christopher John Fields,Whit Hertford,Dean Cundey,Jophery C. Brown\",Steven Spielberg,\"Michael Crichton,David Koepp\"\n",
            "145,Yojimbo,1961,8.2,\"Action,Drama,Thriller\",Not Rated,1h 50m,Better if all these men were dead. Think about it!,Not Available,46808,\"Toshirô Mifune,Eijirô Tôno,Tatsuya Nakadai,Yôko Tsukasa,Isuzu Yamada,Daisuke Katô,Seizaburô Kawazu,Takashi Shimura,Hiroshi Tachikawa,Yôsuke Natsuki,Kamatari Fujiwara,Ikio Sawamura,Atsushi Watanabe,Susumu Fujita,Kyû Sazanka,Kô Nishimura,Takeshi Katô,Ichirô Nakatani\",Akira Kurosawa,\"Akira Kurosawa,Ryûzô Kikushima\"\n",
            "146,The Treasure of the Sierra Madre,1948,8.2,\"Adventure,Drama,Western\",Passed,2h 6m,Storming to a New High in High Adventure !,3000000,5014000,\"Humphrey Bogart,Walter Huston,Tim Holt,Bruce Bennett,Barton MacLane,Alfonso Bedoya,Arturo Soto Rangel,Manuel Dondé,José Torvay,Margarito Luna,Robert Blake,Guillermo Calles,Roberto Cañedo,Spencer Chan,Jacqueline Dalya,Ralph Dunn,Ernesto Escoto,Pat Flaherty\",John Huston,\"John Huston,B. Traven\"\n",
            "147,Monty Python and the Holy Grail,1975,8.2,\"Adventure,Comedy,Fantasy\",PG,1h 31m,You can do worse than see it.,229575,1940906,\"Graham Chapman,John Cleese,Eric Idle,Terry Gilliam,Terry Jones,Michael Palin,Connie Booth,Carol Cleveland,Neil Innes,Bee Duffell,John Young,Rita Davies,Avril Stewart,Sally Kinghorn,Mark Zycon,Elspeth Cameron,Mitsuko Forstater,Sandy Johnson\",\"Terry Gilliam,Terry Jones\",\"Graham Chapman,John Cleese,Eric Idle\"\n",
            "148,The Great Escape,1963,8.2,\"Adventure,Drama,History\",Approved,2h 52m,put a fence in front of these men...and they'll climb it...,4000000,228178,\"Steve McQueen,James Garner,Richard Attenborough,Charles Bronson,James Donald,Donald Pleasence,James Coburn,Hannes Messemer,David McCallum,Gordon Jackson,John Leyton,Angus Lennie,Nigel Stock,Robert Graf,Jud Taylor,Hans Reiser,Harry Riebauer,William Russell\",John Sturges,\"Paul Brickhill,James Clavell,W.R. Burnett\"\n",
            "149,No Country for Old Men,2007,8.2,\"Crime,Drama,Thriller\",R,2h 2m,There Are No Clean Getaways,25000000,171627434,\"Tommy Lee Jones,Javier Bardem,Josh Brolin,Woody Harrelson,Kelly Macdonald,Garret Dillahunt,Tess Harper,Barry Corbin,Stephen Root,Rodger Boyce,Beth Grant,Ana Reeder,Kit Gwin,Zach Hopkins,Chip Love,Eduardo Antonio Garcia,Gene Jones,Myk Watford\",\"Ethan Coen,Joel Coen\",\"Joel Coen,Ethan Coen,Cormac McCarthy\"\n",
            "150,Spider-Man: No Way Home,2021,8.2,\"Action,Adventure,Fantasy\",PG-13,2h 28m,The Multiverse Unleashed.,200000000,1921847111,\"Tom Holland,Zendaya,Benedict Cumberbatch,Jacob Batalon,Jon Favreau,Jamie Foxx,Willem Dafoe,Alfred Molina,Benedict Wong,Tony Revolori,Marisa Tomei,Andrew Garfield,Tobey Maguire,Angourie Rice,Arian Moayed,Paula Newsome,Hannibal Buress,Martin Starr\",Jon Watts,\"Chris McKenna,Erik Sommers,Stan Lee\"\n",
            "151,Kill Bill: Vol. 1,2003,8.2,\"Action,Crime,Drama\",R,1h 51m,\"In the year 2003, Uma Thurman will kill Bill\",30000000,180906076,\"Uma Thurman,David Carradine,Daryl Hannah,Michael Madsen,Lucy Liu,Vivica A. Fox,Julie Dreyfus,Chiaki Kuriyama,Shin'ichi Chiba,Chia-Hui Liu,Michael Parks,Michael Bowen,Jun Kunimura,Kenji Ôba,Yuki Kazamatsuri,James Parks,Sakichi Sato,Jonathan Loughran\",Quentin Tarantino,\"Quentin Tarantino,Uma Thurman\"\n",
            "152,Rashomon,1950,8.2,\"Crime,Drama,Mystery\",Not Rated,1h 28m,\"The husband, the wife...or the bandit?\",250000,81379,\"Toshirô Mifune,Machiko Kyô,Masayuki Mori,Takashi Shimura,Minoru Chiaki,Kichijirô Ueda,Noriko Honma,Daisuke Katô\",Akira Kurosawa,\"Ryûnosuke Akutagawa,Akira Kurosawa,Shinobu Hashimoto\"\n",
            "153,The Thing,1982,8.2,\"Horror,Mystery,Sci-Fi\",R,1h 49m,Anytime. Anywhere. Anyone.,15000000,19632715,\"Kurt Russell,Wilford Brimley,Keith David,Richard Masur,T.K. Carter,David Clennon,Richard Dysart,Charles Hallahan,Peter Maloney,Donald Moffat,Joel Polis,Thomas G. Waites,Norbert Weisser,Larry Franco,Nate Irwin,William Zeman,Adrienne Barbeau,John Carpenter\",John Carpenter,\"Bill Lancaster,John W. Campbell Jr.\"\n",
            "154,Finding Nemo,2003,8.2,\"Animation,Adventure,Comedy\",G,1h 40m,71% of the Earth's surface is covered by water. That's a lot of space to find one fish.,94000000,941637960,\"Albert Brooks,Ellen DeGeneres,Alexander Gould,Willem Dafoe,Brad Garrett,Allison Janney,Austin Pendleton,Stephen Root,Vicki Lewis,Joe Ranft,Geoffrey Rush,Andrew Stanton,Elizabeth Perkins,Nicholas Bird,Bob Peterson,Barry Humphries,Eric Bana,Bruce Spence\",\"Andrew Stanton,Lee Unkrich(co-director)\",\"Andrew Stanton,Bob Peterson,David Reynolds\"\n",
            "155,The Elephant Man,1980,8.2,\"Biography,Drama\",PG,2h 4m,An incredible but true story... probably this year's best film.,5000000,26023860,\"Anthony Hopkins,John Hurt,Anne Bancroft,John Gielgud,Wendy Hiller,Freddie Jones,Michael Elphick,Hannah Gordon,Helen Ryan,John Standing,Dexter Fletcher,Lesley Dunlop,Phoebe Nicholls,Pat Gorman,Claire Davenport,Orla Pederson,Patsy Smart,Frederick Treves\",David Lynch,\"Christopher De Vore,Eric Bergren,David Lynch\"\n",
            "156,Chinatown,1974,8.2,\"Drama,Mystery,Thriller\",R,2h 10m,You get tough. You get tender. You get close to each other. Maybe you even get close to the truth.,6000000,29225935,\"Jack Nicholson,Faye Dunaway,John Huston,Perry Lopez,John Hillerman,Darrell Zwerling,Diane Ladd,Roy Jenson,Roman Polanski,Richard Bakalyan,Joe Mantell,Bruce Glover,Nandu Hinds,James O'Rear,James Hong,Beulah Quo,Jerry Fujikawa,Belinda Palmer\",Roman Polanski,\"Robert Towne,Roman Polanski\"\n",
            "157,Raging Bull,1980,8.2,\"Biography,Drama,Sport\",R,2h 9m,ographyDramaSport,18000000,23402427,\"Robert De Niro,Cathy Moriarty,Joe Pesci,Frank Vincent,Nicholas Colasanto,Theresa Saldana,Mario Gallo,Frank Adonis,Joseph Bono,Frank Topham,Lori Anne Flax,Charles Scorsese,Don Dunphy,Bill Hanrahan,Rita Bennett,James V. Christy,Bernie Allen,Floyd Anderson\",Martin Scorsese,\"Jake LaMotta,Joseph Carter,Peter Savage\"\n",
            "158,V for Vendetta,2005,8.2,\"Action,Drama,Sci-Fi\",R,2h 12m,\"Remember, remember the 5th of November, the gun powder treason and plot. I know of no reason why the gun powder treason should ever be forgot.\",54000000,134686457,\"Hugo Weaving,Natalie Portman,Rupert Graves,Stephen Rea,Stephen Fry,John Hurt,Tim Pigott-Smith,Roger Allam,Ben Miles,Sinéad Cusack,Natasha Wightman,John Standing,Eddie Marsan,Clive Ashborn,Emma Field-Rayner,Ian Burfield,Mark Phoenix,Alister Mazzotti\",James McTeigue,\"Lilly Wachowski,Lana Wachowski,David Lloyd\"\n",
            "159,Gone with the Wind,1939,8.2,\"Drama,Romance,War\",Passed,3h 58m,\"For the thousands who remember its unparalleled drama, action and romance! For the new thousands to whom the wonders will be revealed for the first time! Breathtaking spectacle, inspired acting by the greatest cast ever assembled! The screen's most exciting love story! The most-talked about picture ever made! [reissue]\",3977000,402382193,\"Clark Gable,Vivien Leigh,Thomas Mitchell,Barbara O'Neil,Evelyn Keyes,Ann Rutherford,George Reeves,Fred Crane,Hattie McDaniel,Oscar Polk,Butterfly McQueen,Victor Jory,Everett Brown,Howard Hickman,Alicia Rhett,Leslie Howard,Olivia de Havilland,Rand Brooks\",\"Victor Fleming,George Cukor(uncredited),Sam Wood(uncredited)\",\"Margaret Mitchell,Sidney Howard,Oliver H.P. Garrett\"\n",
            "160,\"Lock, Stock and Two Smoking Barrels\",1998,8.2,\"Action,Comedy,Crime\",R,1h 47m,A Disgrace to Criminals Everywhere.,960000,3753929,\"Jason Flemyng,Dexter Fletcher,Nick Moran,Jason Statham,Steven Mackintosh,Nicholas Rowe,Nick Marcq,Charles Forbes,Vinnie Jones,Lenny McLean,Peter McNicholl,P.H. Moriarty,Frank Harper,Steve Sweeney,Huggy Leaver,Ronnie Fox,Tony McMahon,Stephen Marcus\",Guy Ritchie,Guy Ritchie\n",
            "161,Inside Out,2015,8.2,\"Animation,Adventure,Comedy\",PG,1h 35m,Meet the little voices inside your head.,175000000,858848019,\"Amy Poehler,Bill Hader,Lewis Black,Mindy Kaling,Phyllis Smith,Richard Kind,Kaitlyn Dias,Diane Lane,Kyle MacLachlan,Paula Poundstone,Bobby Moynihan,Paula Pell,Dave Goelz,Frank Oz,Josh Cooley,Flea,John Ratzenberger,Carlos Alazraqui\",\"Pete Docter,Ronnie Del Carmen(co-director)\",\"Pete Docter,Ronnie Del Carmen,Meg LeFauve\"\n",
            "162,Dial M for Murder,1954,8.2,\"Crime,Thriller\",PG,1h 45m,Kiss By Kiss...Supreme Suspense Unfurls!,1400000,31207,\"Ray Milland,Grace Kelly,Robert Cummings,John Williams,Anthony Dawson,Leo Britt,Patrick Allen,George Leigh,George Alderson,Robin Hughes,Richard Bender,Robin Sanders Clark,Jack Cunningham,Robert Dobson,Guy Doleman,Bess Flowers,Robert Garvin,Herschel Graham\",Alfred Hitchcock,Frederick Knott\n",
            "163,The Secret in Their Eyes,2009,8.2,\"Drama,Mystery,Romance\",R,2h 9m,Un crimen sin castigo. Un amor puro. Una historia que no debe morir. [A crime without a punishment. A pure love. A story that must not die.],Not Available,Not Available,\"Ricardo Darín,Soledad Villamil,Pablo Rago,Carla Quevedo,Javier Godino,Bárbara Palladino,Rudy Romano,Alejandro Abelenda,Mario Alarcón,Guillermo Francella,Sebastián Blanco,Mariano Argento,José Luis Gioia,Juan José Ortíz,Kiko Cerone,Fernando Pardo,Maximiliano Trento,Sergio Santana\",Juan José Campanella,\"Eduardo Sacheri,Juan José Campanella\"\n",
            "164,Howl's Moving Castle,2004,8.2,\"Animation,Adventure,Family\",PG,1h 59m,imationAdventureFamilyFantasy,24000000,237536126,\"Chieko Baisho,Takuya Kimura,Tatsuya Gashûin,Akihiro Miwa,Ryûnosuke Kamiki,Mitsunori Isaki,Yô Ôizumi,Akio Ôtsuka,Daijirô Harada,Haruko Katô,Jean Simmons,Christian Bale,Lauren Bacall,Blythe Danner,Emily Mortimer,Josh Hutcherson,Billy Crystal,Jena Malone\",Hayao Miyazaki,\"Hayao Miyazaki,Diana Wynne Jones\"\n",
            "165,\"Three Billboards Outside Ebbing, Missouri\",2017,8.1,\"Comedy,Crime,Drama\",R,1h 55m,medyCrimeDrama,15000000,162861289,\"Frances McDormand,Woody Harrelson,Sam Rockwell,Caleb Landry Jones,Kerry Condon,Alejandro Barrios,Clarke Peters,Darrell Britt-Gibson,Abbie Cornish,Riya May Atwood,Selah Atwood,Lucas Hedges,Zeljko Ivanek,Amanda Warren,Malaya Rivera Drew,Sandy Martin,Peter Dinklage,Christopher Berry\",Martin McDonagh,Martin McDonagh\n",
            "166,The Bridge on the River Kwai,1957,8.2,\"Adventure,Drama,War\",PG,2h 41m,\"The towering triumph of adventure from the makers of \"\"Lawrence of Arabia.\"\"\",3000000,27200000,\"William Holden,Alec Guinness,Jack Hawkins,Sessue Hayakawa,James Donald,Geoffrey Horne,André Morell,Peter Williams,John Boxer,Percy Herbert,Harold Goodwin,Ann Sears,Heihachirô Ôkawa,Keiichirô Katsumoto,M.R.B. Chakrabandhu,Vilaiwan Seeboonreaung,Ngamta Suphaphongs,Javanart Punynchoti\",David Lean,\"Pierre Boulle,Carl Foreman,Michael Wilson\"\n",
            "167,Trainspotting,1996,8.1,Drama,R,1h 33m,\"Choose life. Choose a job. Choose a starter home. Choose dental insurance, leisure wear and matching luggage. Choose your future. But why would anyone want to do a thing like that?\",1500000,16767475,\"Ewan McGregor,Ewen Bremner,Jonny Lee Miller,Kevin McKidd,Robert Carlyle,Kelly Macdonald,Peter Mullan,James Cosmo,Eileen Nicholas,Susan Vidler,Pauline Lynch,Shirley Henderson,Stuart McQuarrie,Irvine Welsh,Dale Winton,Keith Allen,Kevin Allen,Annie Louise Ross\",Danny Boyle,\"Irvine Welsh,John Hodge\"\n",
            "168,Prisoners,2013,8.1,\"Crime,Drama,Mystery\",R,2h 33m,Every moment matters,46000000,122126687,\"Hugh Jackman,Jake Gyllenhaal,Viola Davis,Melissa Leo,Maria Bello,Terrence Howard,Paul Dano,Dylan Minnette,Zoë Soul,Erin Gerasimovich,Kyla-Drew,Wayne Duvall,Len Cariou,David Dastmalchian,Brad James,Anthony Reynolds,Robert C. Treveiler,Sandra Ellis Lafferty\",Denis Villeneuve,Aaron Guzikowski\n",
            "169,Warrior,2011,8.2,\"Action,Drama,Sport\",PG-13,2h 20m,Fight for Country,25000000,23308615,\"Tom Hardy,Nick Nolte,Joel Edgerton,Jennifer Morrison,Frank Grillo,Kevin Dunn,Maximiliano Hernández,Bryan Callen,Sam Sheridan,Fernando Chien,Jake McLaughlin,Vanessa Martinez,Denzel Whitaker,Carlos Miranda,Nick Lehane,Laura Chinn,Capri Thomas,Lexi Cowan\",Gavin O'Connor,\"Gavin O'Connor,Anthony Tambakis,Cliff Dorfman\"\n",
            "170,Fargo,1996,8.1,\"Crime,Thriller\",R,1h 38m,A homespun murder story.,7000000,60611975,\"William H. Macy,Frances McDormand,Steve Buscemi,Peter Stormare,Kristin Rudrüd,Harve Presnell,Tony Denman,Gary Houston,Sally Wingert,Kurt Schweickhardt,Larissa Kokernot,Melissa Peterman,Steve Reevis,Warren Keith,Steve Edelman,Sharon Anderson,Larry Brandenburg,James Gaulke\",\"Joel Coen,Ethan Coen(uncredited)\",\"Ethan Coen,Joel Coen\"\n",
            "171,Gran Torino,2008,8.1,Drama,R,1h 56m,ma,33000000,269958228,\"Clint Eastwood,Bee Vang,Christopher Carley,Ahney Her,Brian Haley,Geraldine Hughes,Dreama Walker,Brian Howe,John Carroll Lynch,William Hill,Brooke Chia Thao,Chee Thao,Choua Kue,Scott Eastwood,Xia Soua Chang,Sonny Vue,Doua Moua,Greg Trzaskoma\",Clint Eastwood,\"Nick Schenk,Dave Johannson\"\n",
            "172,My Neighbor Totoro,1988,8.1,\"Animation,Comedy,Family\",G,1h 26m,imationComedyFamilyFantasy,Not Available,Not Available,\"Hitoshi Takagi,Noriko Hidaka,Chika Sakamoto,Shigesato Itoi,Sumi Shimamoto,Tanie Kitabayashi,Hiroko Maruyama,Machiko Washio,Reiko Suzuki,Masashi Hirose,Toshiyuki Amagasa,Shigeru Chiba,Naoki Tatsuta,Tarako,Tomohiro Nishimura,Mitsuko Ishida,Chie Kôjiro,Daiki Nakamura\",Hayao Miyazaki,Hayao Miyazaki\n",
            "173,Catch Me If You Can,2002,8.1,\"Biography,Crime,Drama\",PG-13,2h 21m,The true story of a real fake.,Not Available,Not Available,\"Leonardo DiCaprio,Tom Hanks,Christopher Walken,Martin Sheen,Nathalie Baye,Amy Adams,James Brolin,Brian Howe,Frank John Hughes,Steve Eastin,Chris Ellis,John Finn,Jennifer Garner,Nancy Lenehan,Ellen Pompeo,Elizabeth Banks,Guy Thauvette,Candice Azzara\",Steven Spielberg,\"Jeff Nathanson,Frank Abagnale Jr.,Stan Redding\"\n",
            "174,Million Dollar Baby,2004,8.1,\"Drama,Sport\",PG-13,2h 12m,\"Beyond his silence, there is a past. Beyond her dreams, there is a feeling. Beyond hope, there is a memory. Beyond their journey, there is a love.\",30000000,216763646,\"Hilary Swank,Clint Eastwood,Morgan Freeman,Jay Baruchel,Mike Colter,Lucia Rijker,Brían F. O'Byrne,Anthony Mackie,Margo Martindale,Riki Lindhome,Michael Peña,Benito Martinez,Bruce MacVittie,David Powledge,Joe D'Angerio,Marcus Chait,Tom McCleister,Erica Grant\",Clint Eastwood,\"Paul Haggis,F.X. Toole\"\n",
            "175,Children of Heaven,1997,8.2,\"Drama,Family,Sport\",PG,1h 29m,A Little Secret...Their Biggest Adventure!,Not Available,Not Available,\"Mohammad Amir Naji,Amir Farrokh Hashemian,Bahare Seddiqi,Nafise Jafar-Mohammadi,Fereshte Sarabandi,Kamal Mirkarimi,Behzad Rafi,Dariush Mokhtari,Mohammad-Hasan Hosseinian,Masume Dair,Kambiz Peykarnegar,Hasan Roohparvari,Abbas-Ali Roomandi,Jafar Seyfollahi,Qolamreza Maleki,Zahra Mirzai,Sara Zamani,Mohammad Haj-Hosseini\",Majid Majidi,Majid Majidi\n",
            "176,Blade Runner,1982,8.1,\"Action,Drama,Sci-Fi\",R,1h 57m,A Futuristic Vision Perfected [2007 Final Cut],28000000,41722424,\"Harrison Ford,Rutger Hauer,Sean Young,Edward James Olmos,M. Emmet Walsh,Daryl Hannah,William Sanderson,Brion James,Joe Turkel,Joanna Cassidy,James Hong,Morgan Paull,Kevin Thompson,John Edward Allen,Hy Pyke,Kimiko Hiroshige,Bob Okazaki,Carolyn DeMirjian\",Ridley Scott,\"Hampton Fancher,David Webb Peoples,Philip K. Dick\"\n",
            "177,The Gold Rush,1925,8.1,\"Adventure,Comedy,Drama\",Passed,1h 35m,\"\"\"The Picture I Want to Be Remembered by.\"\" -Charlie Chaplin. (Print Ad- Calgary Daily Herald, ((Calgary, Alta.)) 30 December 1925)\",923000,29328,\"Charles Chaplin,Mack Swain,Tom Murray,Henry Bergman,Malcolm Waite,Georgia Hale,Jack Adams,Frank Aderias,Leona Aderias,Lillian Adrian,Sam Allen,Claude Anderson,Harry Arras,Albert Austin,Marta Belfort,William Bell,Francis Bernhardt,F.J. Beuaregard\",Charles Chaplin,Charles Chaplin\n",
            "178,Before Sunrise,1995,8.1,\"Drama,Romance\",R,1h 41m,Jump on and live a Eurorail journey you will never forget!,2500000,5987386,\"Ethan Hawke,Julie Delpy,Andrea Eckert,Hanno Pöschl,Karl Bruckschwaiger,Tex Rubinowitz,Erni Mangold,Dominik Castell,Haymon Maria Buttinger,Harald Waiglein,Bilge Jeschim,Kurti,Hans Weingartner,Liese Lyon,Peter Ily Huemer,Otto Reiter,Hubert Fabian Kulterer,Branko Andric\",Richard Linklater,\"Richard Linklater,Kim Krizan\"\n",
            "179,12 Years a Slave,2013,8.1,\"Biography,Drama,History\",R,2h 14m,The extraordinary true story of Solomon Northup,20000000,187733202,\"Chiwetel Ejiofor,Michael Kenneth Williams,Michael Fassbender,Brad Pitt,Dwight Henry,Dickie Gravois,Bryan Batt,Ashley Dyke,Kelsey Scott,Quvenzhané Wallis,Cameron Zeigler,Tony Bentley,Scoot McNairy,Taran Killam,Christopher Berry,Bill Camp,Mister Mackey Jr.,Chris Chalk\",Steve McQueen,\"John Ridley,Solomon Northup\"\n",
            "180,Klaus,2019,8.2,\"Animation,Adventure,Comedy\",PG,1h 36m,Discover the friendship that launched a legend.,Not Available,Not Available,\"Jason Schwartzman,J.K. Simmons,Rashida Jones,Will Sasso,Neda Margrethe Labba,Sergio Pablos,Norm MacDonald,Joan Cusack,Evan Agos,Sky Alexis,Jaeden Bettencourt,Teddy Blum,Mila Brener,Sydney Brower,Finn Carr,Kendall Joy Hall,Hailey Hermida,Lexie Holland\",\"Sergio Pablos,Carlos Martínez López(co-director)\",\"Sergio Pablos,Jim Mahoney,Zach Lewis\"\n",
            "181,Harry Potter and the Deathly Hallows: Part 2,2011,8.1,\"Adventure,Family,Fantasy\",PG-13,2h 10m,It All Ends Here,125000000,1342359942,\"Daniel Radcliffe,Emma Watson,Rupert Grint,Michael Gambon,Ralph Fiennes,Alan Rickman,Evanna Lynch,Domhnall Gleeson,Clémence Poésy,Warwick Davis,John Hurt,Helena Bonham Carter,Graham Duff,Anthony Allgood,Rusty Goffe,Jon Key,Kelly Macdonald,Jason Isaacs\",David Yates,\"Steve Kloves,J.K. Rowling\"\n",
            "182,On the Waterfront,1954,8.1,\"Crime,Drama,Thriller\",Approved,1h 48m,The Man Lived by the Jungle Law of the Docks!,910000,910000 (estimated),\"Marlon Brando,Karl Malden,Lee J. Cobb,Rod Steiger,Pat Henning,Leif Erickson,James Westerfield,Tony Galento,Tami Mauriello,John F. Hamilton,John Heldabrand,Rudy Bond,Don Blackman,Arthur Keegan,Abe Simon,Eva Marie Saint,Martin Balsam,Dan Bergin\",Elia Kazan,\"Budd Schulberg,Malcolm Johnson,Robert Siodmak\"\n",
            "183,Ben-Hur,1959,8.1,\"Adventure,Drama\",G,3h 32m,A Tale of the Christ,15000000,74437720,\"Charlton Heston,Jack Hawkins,Stephen Boyd,Haya Harareet,Hugh Griffith,Martha Scott,Cathy O'Donnell,Sam Jaffe,Finlay Currie,Frank Thring,Terence Longdon,George Relph,André Morell,Nello Appodia,Fortunato Arena,Bruno Ariè,Les Ballets Africains,Emma Baron\",William Wyler,\"Lew Wallace,Karl Tunberg,Gore Vidal\"\n",
            "184,Gone Girl,2014,8.1,\"Drama,Mystery,Thriller\",R,2h 29m,You don't know what you've got 'til it's...,Not Available,Not Available,\"Ben Affleck,Rosamund Pike,Neil Patrick Harris,Tyler Perry,Carrie Coon,Kim Dickens,Patrick Fugit,David Clennon,Lisa Banes,Missi Pyle,Emily Ratajkowski,Casey Wilson,Lola Kirke,Boyd Holbrook,Sela Ward,Lee Norris,Jamie McShane,Leonard Kelly-Young\",David Fincher,Gillian Flynn\n",
            "185,The Grand Budapest Hotel,2014,8.1,\"Adventure,Comedy,Crime\",R,1h 39m,ventureComedyCrime,25000000,173082189,\"Ralph Fiennes,F. Murray Abraham,Mathieu Amalric,Adrien Brody,Willem Dafoe,Jeff Goldblum,Harvey Keitel,Jude Law,Bill Murray,Edward Norton,Saoirse Ronan,Jason Schwartzman,Léa Seydoux,Tilda Swinton,Tom Wilkinson,Owen Wilson,Tony Revolori,Larry Pine\",Wes Anderson,\"Stefan Zweig,Wes Anderson,Hugo Guinness\"\n",
            "186,Wild Strawberries,1957,8.1,\"Drama,Romance\",Not Rated,1h 31m,\"\"\"We are such stuff as dreams are made on, and our little life is rounded with a sleep.\"\" Shakespeare - The Tempest\",Not Available,60418,\"Victor Sjöström,Bibi Andersson,Ingrid Thulin,Gunnar Björnstrand,Jullan Kindahl,Folke Sundquist,Björn Bjelfvenstam,Naima Wifstrand,Gunnel Broström,Gertrud Fridh,Sif Ruud,Gunnar Sjöberg,Max von Sydow,Åke Fridell,Yngve Nordwall,Per Sjöstrand,Gio Petré,Gunnel Lindblom\",Ingmar Bergman,Ingmar Bergman\n",
            "187,The General,1926,8.1,\"Action,Adventure,Comedy\",Passed,1h 7m,\"Buster drives \"\"The General\"\" to trainload of laughter. (Trade paper ad).\",750000,750000 (estimated),\"Buster Keaton,Marion Mack,Glen Cavender,Jim Farley,Frederick Vroom,Frank Barnes,Charles Henry Smith,Joe Keaton,Mike Donlin,Tom Nawn,Henry Baird,Joe Bricher,Jimmy Bryant,Sergeant Bukowski,C.C. Cruson,Jack Dempster,Keith Fennell,Budd Fine\",\"Clyde Bruckman,Buster Keaton\",\"Buster Keaton,Clyde Bruckman,Al Boasberg\"\n",
            "188,The Third Man,1949,8.1,\"Film-Noir,Mystery,Thriller\",Approved,1h 33m,Carol Reed's Classic Thriller,Not Available,1226507,\"Orson Welles,Joseph Cotten,Alida Valli,Trevor Howard,Paul Hörbiger,Ernst Deutsch,Erich Ponto,Siegfried Breuer,Hedwig Bleibtreu,Bernard Lee,Wilfrid Hyde-White,Nelly Arno,Jack Arrow,Harold Ayer,Harry Belcher,Leo Bieber,Paul Birch,Martin Boddey\",Carol Reed,\"Graham Greene,Orson Welles,Alexander Korda\"\n",
            "189,In the Name of the Father,1993,8.1,\"Biography,Crime,Drama\",R,2h 13m,Falsely accused.  Wrongly imprisoned.  He fought for justice to clear his father's name.,Not Available,Not Available,\"Daniel Day-Lewis,Pete Postlethwaite,Alison Crosbie,Philip King,Emma Thompson,Nye Heron,Anthony Brophy,Frankie McCafferty,Paul Warriner,Julian Walsh,Stuart Wolfenden,Jo Connor,Karen Carlisle,Seamus Moran,Billy Byrne,Maureen McBride,Jane Nolan,Laurence Griffin\",Jim Sheridan,\"Gerry Conlon,Terry George,Jim Sheridan\"\n",
            "190,The Deer Hunter,1978,8.1,\"Drama,War\",R,3h 3m,One of the most important and powerful films of all time!,15000000,49074379,\"Robert De Niro,Christopher Walken,John Cazale,John Savage,Meryl Streep,George Dzundza,Chuck Aspegren,Shirley Stoler,Rutanya Alda,Pierre Segui,Mady Kaplan,Amy Wright,Mary Ann Haenel,Richard Kuss,Joe Grifasi,Christopher Colombi Jr.,Victoria Karnafel,Jack Scardino\",Michael Cimino,\"Michael Cimino,Deric Washburn,Louis Garfinkle\"\n",
            "191,Barry Lyndon,1975,8.1,\"Adventure,Drama,War\",PG,3h 5m,At long last Redmond Barry became a gentleman -- and that was his tragedy.,11000000,199632,\"Ryan O'Neal,Marisa Berenson,Patrick Magee,Hardy Krüger,Steven Berkoff,Gay Hamilton,Marie Kean,Diana Körner,Murray Melvin,Frank Middlemass,André Morell,Arthur O'Sullivan,Godfrey Quigley,Leonard Rossiter,Philip Stone,Leon Vitali,John Bindon,Roger Booth\",Stanley Kubrick,\"Stanley Kubrick,William Makepeace Thackeray\"\n",
            "192,Hacksaw Ridge,2016,8.1,\"Biography,Drama,History\",R,2h 19m,Based on the incredible true story.,40000000,180563636,\"Andrew Garfield,Sam Worthington,Luke Bracey,Teresa Palmer,Richard Pyros,Jacob Warner,Milo Gibson,Darcy Bryce,Roman Guerriero,James Lugton,Kasia Stelmach,Hugo Weaving,Rachel Griffiths,Jarin Towney,Tim McGarry,Tyler Coppin,Richard Platt,Nathaniel Buzolic\",Mel Gibson,\"Robert Schenkkan,Andrew Knight\"\n",
            "193,The Wages of Fear,1953,8.2,\"Adventure,Drama,Thriller\",Not Rated,2h 11m,The complete restored version of the 1953 French classic [reissue],Not Available,1098,\"Yves Montand,Charles Vanel,Peter van Eyck,Folco Lulli,Véra Clouzot,William Tubbs,Darío Moreno,Jo Dest,Antonio Centa,Luis De Lima,Grégoire Gromoff,Josep Palau i Fabre,Faustini,Seguna,Darling Légitimus,René Baranger,Pat Hurst,Evelio Larenagas\",Henri-Georges Clouzot,\"Georges Arnaud,Henri-Georges Clouzot,Jérôme Géronimi\"\n",
            "194,Memories of Murder,2003,8.1,\"Crime,Drama,Mystery\",Not Rated,2h 12m,\"1986 in a small town...for two detectives, everything was new.\",2800000,1166717,\"Song Kang-ho,Kim Sang-kyung,Roe-ha Kim,Jae-ho Song,Byun Hee-Bong,Seo-hie Ko,Tae-ho Ryu,No-shik Park,Park Hae-il,Mi-seon Jeon,Young-hwa Seo,Woo Go-na,Ok-joo Lee,Jong-ryol Choi,Seung-mok Yoo,Hun-Kyung Lee,Shin Hyun-jong,Jae-eung Lee\",Bong Joon Ho,\"Bong Joon Ho,Kwang-rim Kim,Sung-bo Shim\"\n",
            "195,Sherlock Jr.,1924,8.2,\"Action,Comedy,Romance\",Passed,45m,every inch of footage holds such a laugh!,Not Available,Not Available,\"Buster Keaton,Kathryn McGuire,Joe Keaton,Erwin Connelly,Ward Crane,Jane Connelly,George Davis,Doris Deane,Christine Francis,Betsy Ann Hisle,Kewpie Morgan,Steve Murphy,John Patrick,Ford West\",Buster Keaton,\"Jean C. Havez,Joseph A. Mitchell,Clyde Bruckman\"\n",
            "196,Wild Tales,2014,8.1,\"Comedy,Drama,Thriller\",R,2h 2m,We can all lose control,Not Available,Not Available,\"Darío Grandinetti,María Marull,Mónica Villa,Diego Starosta,Marcelo Frasca,Lucila Mangone,María Laura Caccamo,Carlos Alberto Vavassori,Pablo Machado,Horacio Vay,Javier Pedersoli,Héctor Drachtman,María Rosa López Ottonello,Rita Cortese,Julieta Zylberberg,César Bordón,Juan Santiago Linari,Leonardo Sbaraglia\",Damián Szifron,\"Germán Servidio,Damián Szifron\"\n",
            "197,Mr. Smith Goes to Washington,1939,8.1,\"Comedy,Drama\",Passed,2h 9m,\"OUR OPERATOR SAYS..\"\"IT'S GOING TO BE A PLEASURE TO RUN \"\"MR. SMITH GOES TO WASHINGTON\"\" 5 DAYS STARTING SUNDAY, NOV.7) (print ad - Lubbock Morning Avalanche - Cactus Theatre - Lubbock Texas - November 2, 1938 - all caps)\",1900000,144738,\"James Stewart,Jean Arthur,Claude Rains,Edward Arnold,Guy Kibbee,Thomas Mitchell,Eugene Pallette,Beulah Bondi,H.B. Warner,Harry Carey,Astrid Allwyn,Ruth Donnelly,Grant Mitchell,Porter Hall,H.V. Kaltenborn,Charles Lane,Pierre Watkin,Dick Elliott\",Frank Capra,\"Sidney Buchman,Lewis R. Foster,Myles Connolly\"\n",
            "198,Mad Max: Fury Road,2015,8.1,\"Action,Adventure,Sci-Fi\",R,2h,WHAT A LOVELY DAY (all caps One Sheet),150000000,415261382,\"Tom Hardy,Charlize Theron,Nicholas Hoult,Zoë Kravitz,Hugh Keays-Byrne,Josh Helman,Nathan Jones,Rosie Huntington-Whiteley,Riley Keough,Abbey Lee,Courtney Eaton,John Howard,Richard Carter,Iota,Angus Sampson,Jennifer Hagan,Megan Gale,Melissa Jaffer\",George Miller,\"George Miller,Brendan McCarthy,Nick Lathouris\"\n",
            "199,The Seventh Seal,1957,8.1,\"Drama,Fantasy\",Not Rated,1h 36m,\"A film of visual scope, of imaginative concept, of powerful content, written and directed by Ingmar Bergman, twice honored by the Interational Jury at the Cannes Film Festival 1956,1957\",150000,311212,\"Max von Sydow,Gunnar Björnstrand,Bengt Ekerot,Nils Poppe,Bibi Andersson,Inga Gill,Maud Hansson,Inga Landgré,Gunnel Lindblom,Bertil Anderberg,Anders Ek,Åke Fridell,Gunnar Olsson,Erik Strandmark,Siv Aleros,Sten Ardenstam,Harry Asklund,Benkt-Åke Benktsson\",Ingmar Bergman,Ingmar Bergman\n",
            "200,Mary and Max,2009,8.1,\"Animation,Comedy,Drama\",Not Rated,1h 32m,Two unlikely people. Two different worlds come together in a story about a most unusual friendship.,$8240000,1740429,\"Toni Collette,Philip Seymour Hoffman,Eric Bana,Barry Humphries,Christopher Massey,Oliver Marks,Daisy Kocher,Daniel Marks,Hamish Hughes,Dan Doherty,Julie Forsyth,Mandy Mao,Patrick McCabe,Adam Elliot,Mr. Peck,Michael James Allen,Bill Murphy,Shaun Patten\",Adam Elliot,Adam Elliot\n",
            "201,How to Train Your Dragon,2010,8.1,\"Animation,Action,Adventure\",PG,1h 38m,One adventure will change two worlds,165000000,494879471,\"Jay Baruchel,Gerard Butler,Christopher Mintz-Plasse,Craig Ferguson,America Ferrera,Jonah Hill,T.J. Miller,Kristen Wiig,Robin Atkin Downes,Philip McGrade,Kieron Elliott,Ashley Jensen,David Tennant\",\"Dean DeBlois,Chris Sanders\",\"Will Davies,Dean DeBlois,Chris Sanders\"\n",
            "202,Room,2015,8.1,\"Drama,Thriller\",R,1h 58m,Love knows no boundaries,13000000,35401758,\"Brie Larson,Jacob Tremblay,Sean Bridgers,Wendy Crewson,Sandy McMaster,Matt Gordon,Amanda Brugel,Joe Pingue,Joan Allen,Zarrin Darnell-Martin,Cas Anvar,William H. Macy,Jee-Yun Lee,Randal Edwards,Justin Mader,Ola Sturik,Rodrigo Fernandez-Stoll,Rory O'Shea\",Lenny Abrahamson,Emma Donoghue\n",
            "203,\"Monsters, Inc.\",2001,8.1,\"Animation,Adventure,Comedy\",G,1h 32m,\"Monsters, Inc. : We Scare Because We Care\",115000000,579707738,\"Billy Crystal,John Goodman,Mary Gibbs,Steve Buscemi,James Coburn,Jennifer Tilly,Bob Peterson,John Ratzenberger,Frank Oz,Daniel Gerson,Steve Susskind,Bonnie Hunt,Jeff Pidgeon,Samuel Lord Black,Jack Angel,Bob Bergen,Rodger Bumpass,Gino Conforti\",\"Pete Docter,David Silverman(co-director),Lee Unkrich(co-director)\",\"Pete Docter,Jill Culton,Jeff Pidgeon\"\n",
            "204,Jaws,1975,8.1,\"Adventure,Thriller\",PG,2h 4m,Amity Island had everything. Clear skies. Gentle surf. Warm water. People flocked there every summer. It was the perfect feeding ground.,7000000,476512065,\"Roy Scheider,Robert Shaw,Richard Dreyfuss,Lorraine Gary,Murray Hamilton,Carl Gottlieb,Jeffrey Kramer,Susan Backlinie,Jonathan Filley,Ted Grossman,Chris Rebello,Jay Mello,Lee Fierro,Jeffrey Voorhees,Craig Kingsbury,Robert Nevin,Peter Benchley,Jonathan Searle\",Steven Spielberg,\"Peter Benchley,Carl Gottlieb\"\n",
            "205,Dead Poets Society,1989,8.1,\"Comedy,Drama\",PG,2h 8m,He was their inspiration. He made their lives extraordinary.,16400000,235860116,\"Robin Williams,Robert Sean Leonard,Ethan Hawke,Josh Charles,Gale Hansen,Dylan Kussman,Allelon Ruggiero,James Waterston,Norman Lloyd,Kurtwood Smith,Carla Belver,Leon Pownall,George Martin,Joe Aufiery,Matt Carey,Kevin Cooney,Jane Moore,Lara Flynn Boyle\",Peter Weir,Tom Schulman\n",
            "206,The Big Lebowski,1998,8.1,\"Comedy,Crime\",R,1h 57m,Hay quienes tratan de ganarse la vida sin mover un dedo... otros tienen que cortarlos. (Mexico),15000000,46969409,\"Jeff Bridges,John Goodman,Julianne Moore,Steve Buscemi,David Huddleston,Philip Seymour Hoffman,Tara Reid,Philip Moon,Mark Pellegrino,Peter Stormare,Flea,Torsten Voges,Jimmie Dale Gilmore,Jack Kehler,John Turturro,James G. Hoosier,Carlos Leon,Terrence Burton\",\"Joel Coen,Ethan Coen(uncredited)\",\"Ethan Coen,Joel Coen\"\n",
            "207,Tokyo Story,1953,8.2,Drama,Not Rated,2h 16m,\"As long as life goes on, relationships between parents and children will bring boundless joy and endless grief.\",Not Available,Not Available,\"Chishû Ryû,Chieko Higashiyama,Sô Yamamura,Setsuko Hara,Haruko Sugimura,Kuniko Miyake,Kyôko Kagawa,Eijirô Tôno,Nobuo Nakamura,Shirô Ôsaka,Hisao Toake,Teruko Nagaoka,Mutsuko Sakura,Toyo Takahashi,Tôru Abe,Sachiko Mitani,Zen Murase,Mitsuhiro Môri\",Yasujirô Ozu,\"Kôgo Noda,Yasujirô Ozu\"\n",
            "208,The Passion of Joan of Arc,1928,8.2,\"Biography,Drama,History\",Passed,1h 54m,JOAN of ARC PICTURES Inc. presents,Not Available,Not Available,\"Maria Falconetti,Eugene Silvain,André Berley,Maurice Schutz,Antonin Artaud,Michel Simon,Jean d'Yd,Louis Ravet,Armand Lurville,Jacques Arnna,Alexandre Mihalesco,Léon Larive,Jean Aymé,Camille Bardou,Gilbert Dacheux,Gilbert Dalleu,Paul Delauzac,Dimitri Dimitriev\",Carl Theodor Dreyer,\"Joseph Delteil,Carl Theodor Dreyer\"\n",
            "209,Hotel Rwanda,2004,8.1,\"Biography,Drama,History\",PG-13,2h 1m,\"When a country descended into madness and the world turned its back, one man had to make a choice\",17500000,33882243,\"Don Cheadle,Sophie Okonedo,Joaquin Phoenix,Xolani Mali,Desmond Dube,Hakeem Kae-Kazim,Tony Kgoroge,Rosie Motene,Neil McCarthy,Mabutho 'Kid' Sithole,Nick Nolte,Fana Mokoena,Jeremiah Ndlovu,Lebo Mashile,Antonio David Lyons,Leleti Khumalo,Kgomotso Seitshohlo,Lerato Mokgotho\",Terry George,\"Keir Pearson,Terry George\"\n",
            "210,Ford v Ferrari,2019,8.1,\"Action,Biography,Drama\",PG-13,2h 32m,They took the American dream for a ride.,97600000,225508210,\"Matt Damon,Christian Bale,Jon Bernthal,Caitríona Balfe,Josh Lucas,Noah Jupe,Tracy Letts,Remo Girone,Ray McKinnon,JJ Feild,Jack McMullen,Corrado Invernizzi,Joe Williamson,Ian Harding,Christopher Darga,Shawn Law,Emil Beheshti,Darrin Prescott\",James Mangold,\"Jez Butterworth,John-Henry Butterworth,Jason Keller\"\n",
            "211,Rocky,1976,8.1,\"Drama,Sport\",PG,2h,You have a ringside seat for the bloodiest bicentennial in history!,960000,117250402,\"Sylvester Stallone,Talia Shire,Burt Young,Carl Weathers,Burgess Meredith,Thayer David,Joe Spinell,Jimmy Gambina,Bill Baldwin,Al Silvani,George Memmoli,Jodi Letizia,Diana Lewis,George O'Hanlon,Larry Carroll,Stan Shaw,Don Sherman,Billy Sands\",John G. Avildsen,Sylvester Stallone\n",
            "212,Platoon,1986,8.1,\"Drama,War\",R,2h,The first casualty of war is innocence.,6000000,138545632,\"Charlie Sheen,Tom Berenger,Willem Dafoe,Keith David,Forest Whitaker,Francesco Quinn,Kevin Dillon,John C. McGinley,Reggie Johnson,Mark Moses,Corey Glover,Johnny Depp,Chris Pedersen,Bob Orwig,Corkey Ford,David Neidorf,Richard Edson,Tony Todd\",Oliver Stone,Oliver Stone\n",
            "213,Ratatouille,2007,8.1,\"Animation,Adventure,Comedy\",G,1h 51m,Dinner is served... Summer 2007,150000000,623726085,\"Brad Garrett,Lou Romano,Patton Oswalt,Ian Holm,Brian Dennehy,Peter Sohn,Peter O'Toole,Janeane Garofalo,Will Arnett,Julius Callahan,James Remar,John Ratzenberger,Teddy Newton,Tony Fucile,Jake Steinfeld,Brad Bird,Stéphane Roux,Jack Bird\",\"Brad Bird,Jan Pinkava(co-director)\",\"Brad Bird,Jan Pinkava,Jim Capobianco\"\n",
            "214,Spotlight,2015,8.1,\"Biography,Crime,Drama\",R,2h 9m,Break the story. Break the silence.,20000000,98690254,\"Mark Ruffalo,Michael Keaton,Rachel McAdams,Liev Schreiber,John Slattery,Brian d'Arcy James,Stanley Tucci,Elena Wohl,Gene Amoroso,Doug Murray,Sharon McFarlane,Jamey Sheridan,Neal Huff,Billy Crudup,Robert B. Kennedy,Duane Murray,Brian Chamberlain,Michael Cyril Creighton\",Tom McCarthy,\"Josh Singer,Tom McCarthy\"\n",
            "215,The Terminator,1984,8.1,\"Action,Sci-Fi\",R,1h 47m,\"La sua missione e una sola: distruggere, uccidere... (His one and only mission: to destroy, to kill...) (Italian DVD)\",6400000,78371200,\"Arnold Schwarzenegger,Linda Hamilton,Michael Biehn,Paul Winfield,Lance Henriksen,Rick Rossovich,Bess Motta,Earl Boen,Dick Miller,Shawn Schepps,Bruce M. Kerner,Franco Columbu,Bill Paxton,Brad Rearden,Brian Thompson,William Wisher,Ken Fritz,Tom Oberhaus\",James Cameron,\"James Cameron,Gale Anne Hurd,William Wisher\"\n",
            "216,Logan,2017,8.1,\"Action,Drama,Sci-Fi\",R,2h 17m,His time has come,97000000,619179950,\"Hugh Jackman,Patrick Stewart,Dafne Keen,Boyd Holbrook,Stephen Merchant,Elizabeth Rodriguez,Richard E. Grant,Eriq La Salle,Elise Neal,Quincy Fouse,Al Coronel,Frank Gallegos,Anthony Escobar,Reynaldo Gallegos,Krzysztof Soszynski,Stephen Dunlevy,Daniel Bernhardt,Ryan Sturz\",James Mangold,\"James Mangold,Scott Frank,Michael Green\"\n",
            "217,Stand by Me,1986,8.1,\"Adventure,Drama\",13+,1h 29m,\"For some, it's the last real taste of innocence, and the first real taste of life. But for everyone, it's the time that memories are made of.\",8000000,52287414,\"Wil Wheaton,River Phoenix,Corey Feldman,Jerry O'Connell,Kiefer Sutherland,Casey Siemaszko,Gary Riley,Bradley Gregg,Jason Oliver Lipsett,Marshall Bell,Frances Lee McCain,Bruce Kirby,William Bronder,Scott Beach,Richard Dreyfuss,John Cusack,Madeleine Swift,Popeye\",Rob Reiner,\"Stephen King,Raynold Gideon,Bruce A. Evans\"\n",
            "218,Rush,2013,8.1,\"Action,Biography,Drama\",R,2h 3m,Everyone's driven by something.,38000000,96983009,\"Daniel Brühl,Chris Hemsworth,Olivia Wilde,Alexandra Maria Lara,Pierfrancesco Favino,David Calder,Natalie Dormer,Stephen Mangan,Christian McKay,Alistair Petrie,Julian Rhind-Tutt,Colin Stinton,Jamie de Courcey,Augusto Dallara,Ilario Calvo,Patrick Baladi,Vincent Riotta,Martin Savage\",Ron Howard,Peter Morgan\n",
            "219,Network,1976,8.1,Drama,R,2h 1m,\"\"\"NETWORK\"\"... the humanoids, the love story, the trials and tribulations, the savior of television, the attempted suicides, the assassination -- it's ALL coming along with a galaxy of stars you know and love!\",3800000,23690757,\"Faye Dunaway,William Holden,Peter Finch,Robert Duvall,Wesley Addy,Ned Beatty,Arthur Burghardt,Bill Burrows,John Carpenter,Jordan Charney,Kathy Cronkite,Ed Crowley,Jerome Dempsey,Conchata Ferrell,Gene Gross,Stanley Grover,Cindy Grover,Darryl Hickman\",Sidney Lumet,Paddy Chayefsky\n",
            "220,Into the Wild,2007,8.1,\"Adventure,Biography,Drama\",R,2h 28m,Into the heart Into the soul,15000000,56675895,\"Emile Hirsch,Vince Vaughn,Catherine Keener,Marcia Gay Harden,William Hurt,Jena Malone,Brian H. Dierker,Kristen Stewart,Hal Holbrook,Jim Gallien,James O'Neill,Malinda McCollum,Paul Knauls,Zach Galifianakis,Craig Mutsch,Jim Beidler,John Decker,John Hofer\",Sean Penn,\"Sean Penn,Jon Krakauer\"\n",
            "221,Before Sunset,2004,8.1,\"Drama,Romance\",R,1h 20m,What if you had a second chance with the one that got away?,Not Available,Not Available,\"Ethan Hawke,Julie Delpy,Vernon Dobtcheff,Louise Lemoine Torrès,Rodolphe Pauly,Mariane Plasteig,Diabolo,Denis Evrard,Albert Delpy,Marie Pillet\",Richard Linklater,\"Richard Linklater,Julie Delpy,Ethan Hawke\"\n",
            "222,The Wizard of Oz,1939,8.1,\"Adventure,Family,Fantasy\",G,1h 42m,Mighty Miracle Show Of 1000 Delights !,2777000,25637669,\"Judy Garland,Frank Morgan,Ray Bolger,Bert Lahr,Jack Haley,Billie Burke,Margaret Hamilton,Charley Grapewin,Pat Walshe,Clara Blandick,Terry,The Singer Midgets,Franz Balluck,Josefine Balluck,Dorothy Barrett,Amelia Batchelor,Charles Becker,Freda Betsky\",\"Victor Fleming,George Cukor(uncredited),Mervyn LeRoy(uncredited)\",\"Noel Langley,Florence Ryerson,Edgar Allan Woolf\"\n",
            "223,Pather Panchali,1955,8.3,Drama,Not Rated,2h 5m,The Saga of an Indian Family,Not Available,135342,\"Kanu Bannerjee,Karuna Bannerjee,Subir Banerjee,Chunibala Devi,Uma Das Gupta,Runki Banerjee,Reba Devi,Aparna Devi,Tulsi Chakraborty,Haren Banerjee,Rampada Das,Nibhanani Devi,Rama Gangopadhaya,Roma Ganguli,Binoy Mukherjee,Haridhan Nag,Harimohan Nag,Kshirod Roy\",Satyajit Ray,\"Bibhutibhushan Bandyopadhyay,Satyajit Ray\"\n",
            "224,Groundhog Day,1993,8.1,\"Comedy,Drama,Fantasy\",PG,1h 41m,What would you do if you were stuck in the same day... over and over? Anything you want and everything your heart desires.,14600000,71108591,\"Bill Murray,Andie MacDowell,Chris Elliott,Stephen Tobolowsky,Brian Doyle-Murray,Marita Geraghty,Angela Paton,Rick Ducommun,Rick Overton,Robin Duke,Carol Bivins,Willie Garson,Ken Hudson Campbell,Les Podewell,Rod Sell,Tom Milanovich,John M. Watson Sr.,Peggy Roeder\",Harold Ramis,\"Danny Rubin,Harold Ramis\"\n",
            "225,The Best Years of Our Lives,1946,8.1,\"Drama,Romance,War\",Approved,2h 50m,THE SCREEN'S GREATEST LOVE STORY IS THE BEST FILM THIS YEAR FROM HOLLYWOOD!,2100000,23661347,\"Myrna Loy,Dana Andrews,Fredric March,Teresa Wright,Virginia Mayo,Cathy O'Donnell,Hoagy Carmichael,Harold Russell,Gladys George,Roman Bohnen,Ray Collins,Minna Gombell,Walter Baldwin,Steve Cochran,Dorothy Adams,Don Beddoe,Marlene Aames,Charles Halton\",William Wyler,\"Robert E. Sherwood,MacKinlay Kantor\"\n",
            "226,The Exorcist,1973,8.1,Horror,R,2h 2m,The movie you've been waiting for...without the wait.,11000000,441306145,\"Ellen Burstyn,Max von Sydow,Linda Blair,Lee J. Cobb,Kitty Winn,Jack MacGowran,Jason Miller,William O'Malley,Barton Heyman,Peter Masterson,Rudolf Schündler,Gina Petrushka,Robert Symonds,Arthur Storch,Thomas Bermingham,Vasiliki Maliaros,Titos Vandis,John Mahon\",William Friedkin,William Peter Blatty\n",
            "227,The Incredibles,2004,8.0,\"Animation,Action,Adventure\",PG,1h 55m,Save The Day,92000000,631607053,\"Craig T. Nelson,Samuel L. Jackson,Holly Hunter,Jason Lee,Dominique Louis,Teddy Newton,Jean Sincere,Eli Fucile,Maeve Andrews,Wallace Shawn,Spencer Fox,Lou Romano,Wayne Canney,Sarah Vowell,Michael Bird,Elizabeth Peña,Bud Luckey,Brad Bird\",Brad Bird,Brad Bird\n",
            "228,To Be or Not to Be,1942,8.2,\"Comedy,Romance,War\",Passed,1h 39m,The Picture Everyone Wants To See.,Not Available,Not Available,\"Carole Lombard,Jack Benny,Robert Stack,Felix Bressart,Lionel Atwill,Stanley Ridges,Sig Ruman,Tom Dugan,Charles Halton,George Lynn,Henry Victor,Maude Eburne,Halliwell Hobbes,Miles Mander,Rudolph Anders,Paul Barrett,Sven Hugo Borg,Danny Borzage\",Ernst Lubitsch,\"Melchior Lengyel,Edwin Justus Mayer,Ernst Lubitsch\"\n",
            "229,La haine,1995,8.1,\"Crime,Drama\",Not Rated,1h 38m,\"So far, so good\",Not Available,Not Available,\"Vincent Cassel,Hubert Koundé,Saïd Taghmaoui,Abdel Ahmed Ghili,Solo,Joseph Momo,Héloïse Rauth,Rywka Wajsbrot,Olga Abrego,Laurent Labasse,Choukri Gabteni,Nabil Ben Mhamed,Benoît Magimel,Médard Niang,Arash Mansour,Abdel-Moulah Boujdouni,Mathilde Vitry,Christian Moro\",Mathieu Kassovitz,Mathieu Kassovitz\n",
            "230,The Battle of Algiers,1966,8.1,\"Drama,War\",Not Rated,2h 1m,The French Colonel...who was forced even to torture! One of the many women...who stopped at nothing to win! The Algerian Street Boy...who became a rebel hero!,800000,962002,\"Brahim Hadjadj,Jean Martin,Yacef Saadi,Samia Kerbash,Ugo Paletti,Fusia El Kader,Mohamed Ben Kassen,Franco Moruzzi,Tommaso Neri,Rouïched,Gene Wesson\",Gillo Pontecorvo,\"Franco Solinas,Gillo Pontecorvo\"\n",
            "231,Pirates of the Caribbean: The Curse of the Black Pearl,2003,8.1,\"Action,Adventure,Fantasy\",PG-13,2h 23m,Prepare to be blown out of the water.,140000000,654264015,\"Johnny Depp,Geoffrey Rush,Orlando Bloom,Keira Knightley,Jack Davenport,Jonathan Pryce,Lee Arenberg,Mackenzie Crook,Damian O'Hare,Giles New,Angus Barnett,David Bailie,Michael Berry Jr.,Isaac C. Singleton Jr.,Kevin McNally,Treva Etienne,Zoe Saldana,Guy Siner\",Gore Verbinski,\"Ted Elliott,Terry Rossio,Stuart Beattie\"\n",
            "232,Hachi: A Dog's Tale,2009,8.1,\"Biography,Drama,Family\",G,1h 33m,\"A true story of faith, devotion and undying love.\",Not Available,Not Available,\"Richard Gere,Joan Allen,Cary-Hiroyuki Tagawa,Sarah Roemer,Jason Alexander,Erick Avari,Davenia McFadden,Robbie Sublett,Kevin DeCoste,Rob Degnan,Tora Hallström,Donna Sorbello,Frank S. Aronson,Troy Doherty,Ian Sherman,Timothy Crowe,Denece Ryland,Blake Friedman\",Lasse Hallström,\"Stephen P. Lindsey,Kaneto Shindô\"\n",
            "233,The Grapes of Wrath,1940,8.1,Drama,Passed,2h 9m,The thousands who have read the book will know why WE WILL NOT SELL ANY CHILDREN TICKETS to see this picture!,800000,800000 (estimated),\"Henry Fonda,Jane Darwell,John Carradine,Charley Grapewin,Dorris Bowdon,Russell Simpson,O.Z. Whitehead,John Qualen,Eddie Quillan,Zeffie Tilbury,Frank Sully,Frank Darien,Darryl Hickman,Shirley Mills,Roger Imhof,Grant Mitchell,Charles D. Brown,John Arledge\",John Ford,\"Nunnally Johnson,John Steinbeck\"\n",
            "234,Jai Bhim,2021,8.8,\"Crime,Drama,Mystery\",TV-MA,2h 44m,imeDramaMystery,Not Available,Not Available,\"Suriya,Lijo Mol Jose,Manikandan K.,Rajisha Vijayan,Prakash Raj,Rao Ramesh,Guru Somasundaram,M.S. Bhaskar,V. Jayaprakash,Sibi Thomas,Ilavarasu,Jayarao,Sujatha Sivakumar,Ravi Venkatraman,Tamizh,Kumaravel,Supergood Subramani,Bala Hasan\",T.J. Gnanavel,\"T.J. Gnanavel,Rajendra Sapre\"\n",
            "235,My Father and My Son,2005,8.2,\"Drama,Family\",Not Rated,1h 52m,\"Give him a room dad, he has no place to go...\",Not Available,Not Available,\"Çetin Tekindor,Fikret Kuskan,Hümeyra,Ege Tanman,Serif Sezer,Yetkin Dikinciler,Binnur Kaya,Mahmut Gökgöz,Nergis Çorakçi,Bilge Sen,Tuba Büyüküstün,Özge Özberk,Erdal Tosun,Halit Ergenç,Tugyan Akay Kavukçu,Ege Kaya,Muzaffer Demirel,Burak Akçakaya\",Çagan Irmak,Çagan Irmak\n",
            "236,Amores Perros,2000,8.1,\"Drama,Thriller\",R,2h 34m,Love. Betrayal. Death.,2000000,20908467,\"Emilio Echevarría,Gael García Bernal,Goya Toledo,Álvaro Guerrero,Vanessa Bauche,Jorge Salinas,Marco Pérez,Rodrigo Murray,Humberto Busto,Gerardo Campbell,Rosa María Bianchi,Dunia Saldívar,Adriana Barraza,José Sefami,Lourdes Echevarría,Laura Almela,Ricardo Dalmacci,Gustavo Sánchez Parra\",Alejandro G. Iñárritu,Guillermo Arriaga\n",
            "237,Rebecca,1940,8.1,\"Drama,Film-Noir,Mystery\",Approved,2h 10m,\"THE MIGHTY NOVEL LEAPS TO TURBULENT LIFE ON THE SCREEN! (Print Ad- Syracuse Herald-American, ((Syracuse, NY)) 24 March 1940)\",1288000,72275,\"Laurence Olivier,Joan Fontaine,George Sanders,Judith Anderson,Nigel Bruce,Reginald Denny,C. Aubrey Smith,Gladys Cooper,Florence Bates,Melville Cooper,Leo G. Carroll,Leonard Carey,Lumsden Hare,Edward Fielding,Philip Winter,Forrester Harvey,Bunny Beatty,Billy Bevan\",Alfred Hitchcock,\"Daphne Du Maurier,Robert E. Sherwood,Joan Harrison\"\n",
            "238,Cool Hand Luke,1967,8.1,\"Crime,Drama\",GP,2h 7m,\"\"\"What we've got here is failure to communicate.\"\"\",3200000,67,\"Paul Newman,George Kennedy,Strother Martin,J.D. Cannon,Lou Antonio,Robert Drivas,Jo Van Fleet,Clifton James,Morgan Woodward,Luke Askew,Marc Cavell,Richard Davalos,Robert Donner,Warren Finnerty,Dennis Hopper,John McLiam,Wayne Rogers,Harry Dean Stanton\",Stuart Rosenberg,\"Donn Pearce,Frank Pierson,Hal Dresner\"\n",
            "239,The Handmaiden,2016,8.1,\"Drama,Romance,Thriller\",Not Rated,2h 25m,Never did they expect to get into a controversial relationship...,Not Available,Not Available,\"Kim Min-hee,Ha Jung-woo,Cho Jin-woong,Moon So-ri,Kim Tae-ri,Yong-nyeo Lee,Min-chae Yoo,Dong-hwi Lee,Kim Hae-sook,Kyu-jung Lee,Si-eun Kim,Si-yeon Ha,Rina Takagi,Geun-hee Won,Jong-Dae Kim,Han-sun Jang,Eun-yeong Kim,Ri-woo Kim\",Park Chan-wook,\"Sarah Waters,Chung Seo-kyung,Park Chan-wook\"\n",
            "240,The 400 Blows,1959,8.1,\"Crime,Drama\",Not Rated,1h 39m,From the Vanguard of New Film-Makers Comes an Extraordinary Motion Picture,Not Available,127244,\"Jean-Pierre Léaud,Albert Rémy,Claire Maurier,Guy Decomble,Georges Flamant,Patrick Auffay,Daniel Couturier,François Nocher,Richard Kanayan,Renaud Fontanarosa,Michel Girard,Serge Moati,Bernard Abbou,Jean-François Bergouignan,Michel Lesignor,Luc Andrieux,Robert Beauvais,Bouchon\",François Truffaut,\"François Truffaut,Marcel Moussy\"\n",
            "241,The Sound of Music,1965,8.1,\"Biography,Drama,Family\",G,2h 52m,RADIANCE THAT FLOODS THE SCREEN...AND WARMS THE HEART!,8200000,159428329,\"Julie Andrews,Christopher Plummer,Eleanor Parker,Richard Haydn,Peggy Wood,Charmian Carr,Heather Menzies-Urich,Nicholas Hammond,Duane Chase,Angela Cartwright,Debbie Turner,Kym Karath,Anna Lee,Portia Nelson,Ben Wright,Daniel Truhitte,Norma Varden,Gilchrist Stuart\",Robert Wise,\"Georg Hurdalek,Howard Lindsay,Russel Crouse\"\n",
            "242,It Happened One Night,1934,8.1,\"Comedy,Romance\",Passed,1h 45m,Two great lovers of the screen in the grandest of romantic comedies !,325000,11477,\"Clark Gable,Claudette Colbert,Walter Connolly,Roscoe Karns,Jameson Thomas,Alan Hale,Arthur Hoyt,Blanche Friderici,Charles C. Wilson,Ernie Adams,Jessie Arnold,Irving Bacon,William Bailey,William Begg,William A. Boardway,Ward Bond,Harry C. Bradley,George P. Breakston\",Frank Capra,\"Robert Riskin,Samuel Hopkins Adams\"\n",
            "243,Persona,1966,8.1,\"Drama,Thriller\",Not Rated,1h 23m,A new film by Ingmar Bergman,Not Available,Not Available,\"Bibi Andersson,Liv Ullmann,Margaretha Krook,Gunnar Björnstrand,Jörgen Lindström\",Ingmar Bergman,Ingmar Bergman\n",
            "244,Life of Brian,1979,8.0,Comedy,R,1h 34m,A motion picture destined to offend nearly two thirds of the civilized world. And severely annoy the other third.,4000000,20745728,\"Graham Chapman,John Cleese,Michael Palin,Terry Gilliam,Eric Idle,Terry Jones,Terence Bayler,Carol Cleveland,Kenneth Colley,Neil Innes,Charles McKeown,John Young,Gwen Taylor,Sue Jones-Davies,Peter Brett,John Case,Chris Langham,Andrew MacLachlan\",Terry Jones,\"Graham Chapman,John Cleese,Terry Gilliam\"\n",
            "245,The Iron Giant,1999,8.1,\"Animation,Action,Adventure\",PG,1h 26m,Some secrets are too huge to hide,70000000,23335817,\"Eli Marienthal,Harry Connick Jr.,Jennifer Aniston,Vin Diesel,James Gammon,Cloris Leachman,Christopher McDonald,John Mahoney,M. Emmet Walsh,Jack Angel,Bob Bergen,Mary Kay Bergman,Michael Bird,Devon Cole Borisoff,Rodger Bumpass,Robert Clotworthy,Jennifer Darling,Zack Eginton\",Brad Bird,\"Tim McCanlies,Brad Bird,Ted Hughes\"\n",
            "246,The Help,2011,8.1,Drama,PG-13,2h 26m,Change begins with a whisper.,25000000,216639112,\"Viola Davis,Emma Stone,Octavia Spencer,Bryce Dallas Howard,Jessica Chastain,Ahna O'Reilly,Allison Janney,Anna Camp,Eleanor Henry,Emma Henry,Christopher Lowell,Cicely Tyson,Mike Vogel,Sissy Spacek,Brian Kerwin,Wes Chatham,Aunjanue Ellis,Ted Welch\",Tate Taylor,\"Tate Taylor,Kathryn Stockett\"\n",
            "247,Dersu Uzala,1975,8.2,\"Adventure,Biography,Drama\",G,2h 22m,There is man and beast at nature's mercy. There is awe and love and reverence. And there is the man called...,4000000,14480,\"Maksim Munzuk,Yuriy Solomin,Mikhail Bychkov,Vladimir Khrulyov,V. Lastochkin,Stanislav Marin,Igor Sykhra,Vladimir Sergiyakov,Yanis Yakobsons,Vladimir Khlestov,G. Polunin,V. Koldin,M. Tetov,S. Sinyavskiy,Vladimir Sverba,V. Ignatov,Vladimir Kremena,Aleksandr Pyatkov\",Akira Kurosawa,\"Akira Kurosawa,Yuriy Nagibin,Vladimir Arsenev\"\n",
            "248,Aladdin,1992,8.0,\"Animation,Adventure,Comedy\",G,1h 30m,Wish granted! (DVD re-release),Not Available,Not Available,\"Scott Weinger,Robin Williams,Linda Larkin,Jonathan Freeman,Frank Welker,Gilbert Gottfried,Douglas Seale,Charlie Adler,Jack Angel,Corey Burton,Philip L. Clarke,Jim Cummings,Jennifer Darling,Debi Derryberry,Bruce Gooch,Jerry Houser,Vera Lockwood,Sherry Lynn\",\"Ron Clements,John Musker\",\"Ron Clements,John Musker,Ted Elliott\"\n",
            "249,Gandhi,1982,8.0,\"Biography,Drama,History\",PG,3h 11m,His Triumph Changed The World Forever.,22000000,52767889,\"Ben Kingsley,John Gielgud,Rohini Hattangadi,Roshan Seth,Candice Bergen,Edward Fox,Trevor Howard,John Mills,Martin Sheen,Ian Charleson,Günther Maria Halmer,Athol Fugard,Saeed Jaffrey,Geraldine James,Alyque Padamsee,Amrish Puri,Ian Bannen,Michael Bryant\",Richard Attenborough,John Briley\n",
            "250,Dances with Wolves,1990,8.0,\"Adventure,Drama,Western\",PG-13,3h 1m,Inside everyone is a frontier waiting to be discovered.,22000000,424208848,\"Kevin Costner,Mary McDonnell,Graham Greene,Rodney A. Grant,Floyd 'Red Crow' Westerman,Tantoo Cardinal,Robert Pastorelli,Charles Rocket,Maury Chaykin,Jimmy Herman,Nathan Lee Chasing His Horse,Michael Spears,Jason R. Lone Hill,Tony Pierce,Doris Leader Charge,Tom Everett,Larry Joshua,Kirk Baltz\",Kevin Costner,Michael Blake\n",
            "\n"
          ]
        }
      ]
    },
    {
      "cell_type": "code",
      "source": [
        "# Verify if the file is closed\n",
        "file.closed"
      ],
      "metadata": {
        "id": "NrK_mcWof0li",
        "colab": {
          "base_uri": "https://localhost:8080/"
        },
        "outputId": "687541a2-813f-4b1f-9e52-f8adc07675fe"
      },
      "execution_count": 83,
      "outputs": [
        {
          "output_type": "execute_result",
          "data": {
            "text/plain": [
              "True"
            ]
          },
          "metadata": {},
          "execution_count": 83
        }
      ]
    },
    {
      "cell_type": "code",
      "source": [
        "# Iterate through the lines\n",
        "\n",
        "with open('/content/IMDB Top 250 Movies.csv',\"r\") as file1:\n",
        "        i = 0;\n",
        "        for line in file1:\n",
        "            print(\"Iteration\", str(i), \": \", line)\n",
        "            i = i + 1"
      ],
      "metadata": {
        "id": "dJJk5Yk_gFOr",
        "colab": {
          "base_uri": "https://localhost:8080/"
        },
        "outputId": "5d0abe6b-d58c-42ac-ed65-01fcb8d0ce76"
      },
      "execution_count": 84,
      "outputs": [
        {
          "output_type": "stream",
          "name": "stdout",
          "text": [
            "Iteration 0 :  rank,name,year,rating,genre,certificate,run_time,tagline,budget,box_office,casts,directors,writers\n",
            "\n",
            "Iteration 1 :  1,The Shawshank Redemption,1994,9.3,Drama,R,2h 22m,Fear can hold you prisoner. Hope can set you free.,25000000,28884504,\"Tim Robbins,Morgan Freeman,Bob Gunton,William Sadler,Clancy Brown,Gil Bellows,Mark Rolston,James Whitmore,Jeffrey DeMunn,Larry Brandenburg,Neil Giuntoli,Brian Libby,David Proval,Joseph Ragno,Jude Ciccolella,Paul McCrane,Renee Blaine,Scott Mann\",Frank Darabont,\"Stephen King,Frank Darabont\"\n",
            "\n",
            "Iteration 2 :  2,The Godfather,1972,9.2,\"Crime,Drama\",R,2h 55m,An offer you can't refuse.,6000000,250341816,\"Marlon Brando,Al Pacino,James Caan,Diane Keaton,Richard S. Castellano,Robert Duvall,Sterling Hayden,John Marley,Richard Conte,Al Lettieri,Abe Vigoda,Talia Shire,Gianni Russo,John Cazale,Rudy Bond,Al Martino,Morgana King,Lenny Montana\",Francis Ford Coppola,\"Mario Puzo,Francis Ford Coppola\"\n",
            "\n",
            "Iteration 3 :  3,The Dark Knight,2008,9.0,\"Action,Crime,Drama\",PG-13,2h 32m,Why So Serious?,185000000,1006234167,\"Christian Bale,Heath Ledger,Aaron Eckhart,Michael Caine,Maggie Gyllenhaal,Gary Oldman,Morgan Freeman,Monique Gabriela Curnen,Ron Dean,Cillian Murphy,Chin Han,Nestor Carbonell,Eric Roberts,Ritchie Coster,Anthony Michael Hall,Keith Szarabajka,Colin McFarlane,Joshua Harto\",Christopher Nolan,\"Jonathan Nolan,Christopher Nolan,David S. Goyer\"\n",
            "\n",
            "Iteration 4 :  4,The Godfather Part II,1974,9.0,\"Crime,Drama\",R,3h 22m,All the power on earth can't change destiny.,13000000,47961919,\"Al Pacino,Robert De Niro,Robert Duvall,Diane Keaton,John Cazale,Talia Shire,Lee Strasberg,Michael V. Gazzo,G.D. Spradlin,Richard Bright,Gastone Moschin,Tom Rosqui,Bruno Kirby,Frank Sivero,Francesca De Sapio,Morgana King,Marianna Hill,Leopoldo Trieste\",Francis Ford Coppola,\"Francis Ford Coppola,Mario Puzo\"\n",
            "\n",
            "Iteration 5 :  5,12 Angry Men,1957,9.0,\"Crime,Drama\",Approved,1h 36m,Life Is In Their Hands -- Death Is On Their Minds!,350000,955,\"Henry Fonda,Lee J. Cobb,Martin Balsam,John Fiedler,E.G. Marshall,Jack Klugman,Edward Binns,Jack Warden,Joseph Sweeney,Ed Begley,George Voskovec,Robert Webber,Rudy Bond,Tom Gorman,James Kelly,Billy Nelson,John Savoca,Walter Stocker\",Sidney Lumet,Reginald Rose\n",
            "\n",
            "Iteration 6 :  6,Schindler's List,1993,9.0,\"Biography,Drama,History\",R,3h 15m,\"Whoever saves one life, saves the world entire.\",22000000,322161245,\"Liam Neeson,Ralph Fiennes,Ben Kingsley,Caroline Goodall,Jonathan Sagall,Embeth Davidtz,Malgorzata Gebel,Shmuel Levy,Mark Ivanir,Béatrice Macola,Andrzej Seweryn,Friedrich von Thun,Krzysztof Luft,Harry Nehring,Norbert Weisser,Adi Nitzan,Michael Schneider,Miri Fabian\",Steven Spielberg,\"Thomas Keneally,Steven Zaillian\"\n",
            "\n",
            "Iteration 7 :  7,The Lord of the Rings: The Return of the King,2003,9.0,\"Action,Adventure,Drama\",PG-13,3h 21m,The eye of the enemy is moving.,94000000,1146457748,\"Elijah Wood,Viggo Mortensen,Ian McKellen,Orlando Bloom,Noel Appleby,Ali Astin,Sean Astin,David Aston,John Bach,Sean Bean,Cate Blanchett,Billy Boyd,Sadwyn Brophy,Alistair Browning,Marton Csokas,Richard Edge,Jason Fitch,Bernard Hill\",Peter Jackson,\"J.R.R. Tolkien,Fran Walsh,Philippa Boyens\"\n",
            "\n",
            "Iteration 8 :  8,Pulp Fiction,1994,8.9,\"Crime,Drama\",R,2h 34m,Girls like me don't make invitations like this to just anyone!,8000000,213928762,\"John Travolta,Uma Thurman,Samuel L. Jackson,Bruce Willis,Tim Roth,Amanda Plummer,Laura Lovelace,Phil LaMarr,Frank Whaley,Burr Steers,Ving Rhames,Paul Calderon,Bronagh Gallagher,Rosanna Arquette,Eric Stoltz,Jerome Patrick Hoban,Michael Gilden,Gary Shorelle\",Quentin Tarantino,\"Quentin Tarantino,Roger Avary\"\n",
            "\n",
            "Iteration 9 :  9,The Lord of the Rings: The Fellowship of the Ring,2001,8.8,\"Action,Adventure,Drama\",PG-13,2h 58m,The Legend Comes to Life,93000000,898204420,\"Elijah Wood,Ian McKellen,Orlando Bloom,Sean Bean,Alan Howard,Noel Appleby,Sean Astin,Sala Baker,Billy Boyd,Andy Serkis,Marton Csokas,Viggo Mortensen,Megan Edwards,Michael Elsworth,Cate Blanchett,Mark Ferguson,Ian Holm,Christopher Lee\",Peter Jackson,\"J.R.R. Tolkien,Fran Walsh,Philippa Boyens\"\n",
            "\n",
            "Iteration 10 :  10,\"The Good, the Bad and the Ugly\",1966,8.8,\"Adventure,Western\",Approved,2h 58m,They formed an alliance of hate to steal a fortune in dead man's gold,1200000,25253887,\"Clint Eastwood,Eli Wallach,Lee Van Cleef,Aldo Giuffrè,Luigi Pistilli,Rada Rassimov,Enzo Petito,Claudio Scarchilli,John Bartha,Livio Lorenzon,Antonio Casale,Sandro Scarchilli,Benito Stefanelli,Angelo Novi,Antonio Casas,Aldo Sambrell,Al Mulock,Sergio Mendizábal\",Sergio Leone,\"Luciano Vincenzoni,Sergio Leone,Agenore Incrocci\"\n",
            "\n",
            "Iteration 11 :  11,Forrest Gump,1994,8.8,\"Drama,Romance\",PG-13,2h 22m,The story of a lifetime.,55000000,678226465,\"Tom Hanks,Robin Wright,Gary Sinise,Sally Field,Rebecca Williams,Michael Conner Humphreys,Harold G. Herthum,George Kelly,Bob Penny,John Randall,Sam Anderson,Margo Moorer,Ione M. Telech,Christine Seabrook,John Worsham,Peter Dobson,Siobhan Fallon Hogan,Alexander Zemeckis\",Robert Zemeckis,\"Winston Groom,Eric Roth\"\n",
            "\n",
            "Iteration 12 :  12,Fight Club,1999,8.8,Drama,R,2h 19m,How much can you know about yourself if you've never been in a fight?,63000000,101209702,\"Brad Pitt,Edward Norton,Meat Loaf,Zach Grenier,Richmond Arquette,David Andrews,George Maguire,Eugenie Bondurant,Christina Cabot,Helena Bonham Carter,Sydney 'Big Dawg' Colston,Rachel Singer,Christie Cronenweth,Tim DeZarn,Ezra Buzzington,Dierdre Downing-Jackson,Bob Stephenson,Charlie Dell\",David Fincher,\"Chuck Palahniuk,Jim Uhls\"\n",
            "\n",
            "Iteration 13 :  13,The Lord of the Rings: The Two Towers,2002,8.8,\"Action,Adventure,Drama\",PG-13,2h 59m,A New Power Is Rising.,94000000,947944270,\"Elijah Wood,Ian McKellen,Viggo Mortensen,Orlando Bloom,Bruce Allpress,Sean Astin,John Bach,Sala Baker,Cate Blanchett,Billy Boyd,Jed Brophy,Sam Comery,Brad Dourif,Calum Gittins,Bernard Hill,Bruce Hopkins,Paris Howe Strewe,Christopher Lee\",Peter Jackson,\"J.R.R. Tolkien,Fran Walsh,Philippa Boyens\"\n",
            "\n",
            "Iteration 14 :  14,Inception,2010,8.8,\"Action,Adventure,Sci-Fi\",PG-13,2h 28m,Your mind is the scene of the crime,160000000,836848102,\"Leonardo DiCaprio,Joseph Gordon-Levitt,Elliot Page,Ken Watanabe,Tom Hardy,Dileep Rao,Cillian Murphy,Tom Berenger,Marion Cotillard,Pete Postlethwaite,Michael Caine,Lukas Haas,Tai-Li Lee,Claire Geare,Magnus Nolan,Taylor Geare,Johnathan Geare,Tohoru Masamune\",Christopher Nolan,Christopher Nolan\n",
            "\n",
            "Iteration 15 :  15,Star Wars: Episode V - The Empire Strikes Back,1980,8.7,\"Action,Adventure,Fantasy\",PG,2h 4m,The Adventure Continues...,18000000,538375067,\"Mark Hamill,Harrison Ford,Carrie Fisher,Billy Dee Williams,Anthony Daniels,David Prowse,Peter Mayhew,Kenny Baker,Frank Oz,Alec Guinness,Jeremy Bulloch,John Hollis,Jack Purvis,Des Webb,Clive Revill,Kenneth Colley,Julian Glover,Michael Sheard\",Irvin Kershner,\"Leigh Brackett,Lawrence Kasdan,George Lucas\"\n",
            "\n",
            "Iteration 16 :  16,The Matrix,1999,8.7,\"Action,Sci-Fi\",R,2h 16m,Free your mind,63000000,467222728,\"Keanu Reeves,Laurence Fishburne,Carrie-Anne Moss,Hugo Weaving,Gloria Foster,Joe Pantoliano,Marcus Chong,Julian Arahanga,Matt Doran,Belinda McClory,Anthony Ray Parker,Paul Goddard,Robert Taylor,David Aston,Marc Aden Gray,Ada Nicodemou,Deni Gordon,Rowan Witt\",\"Lana Wachowski,Lilly Wachowski\",\"Lilly Wachowski,Lana Wachowski\"\n",
            "\n",
            "Iteration 17 :  17,Goodfellas,1990,8.7,\"Biography,Crime,Drama\",R,2h 25m,\"\"\"As far back as I can remember, I've always wanted to be a gangster.\"\" -- Henry Hill, Brooklyn, N.Y. 1955.\",25000000,47036784,\"Robert De Niro,Ray Liotta,Joe Pesci,Lorraine Bracco,Paul Sorvino,Frank Sivero,Tony Darrow,Mike Starr,Frank Vincent,Chuck Low,Frank DiLeo,Henny Youngman,Gina Mastrogiacomo,Catherine Scorsese,Charles Scorsese,Suzanne Shepherd,Debi Mazar,Margo Winkler\",Martin Scorsese,\"Nicholas Pileggi,Martin Scorsese\"\n",
            "\n",
            "Iteration 18 :  18,One Flew Over the Cuckoo's Nest,1975,8.7,Drama,18+,2h 13m,\"If he's crazy, what does that make you?\",3000000,109114817,\"Jack Nicholson,Louise Fletcher,Michael Berryman,Peter Brocco,Dean R. Brooks,Alonzo Brown,Scatman Crothers,Mwako Cumbuka,Danny DeVito,William Duell,Josip Elic,Lan Fendors,Nathan George,Ken Kenny,Mel Lambert,Sydney Lassick,Kay Lee,Christopher Lloyd\",Milos Forman,\"Lawrence Hauben,Bo Goldman,Ken Kesey\"\n",
            "\n",
            "Iteration 19 :  19,Se7en,1995,8.6,\"Crime,Drama,Mystery\",R,2h 7m,\"Long is the way, and hard, that out of hell leads up to light.\",33000000,327333559,\"Morgan Freeman,Brad Pitt,Kevin Spacey,Andrew Kevin Walker,Daniel Zacapa,Gwyneth Paltrow,John Cassini,Bob Mack,Peter Crombie,Reg E. Cathey,R. Lee Ermey,George Christy,Endre Hules,Hawthorne James,William Davidson,Bob Collins,Jimmy Dale Hartsell,Richard Roundtree\",David Fincher,Andrew Kevin Walker\n",
            "\n",
            "Iteration 20 :  20,Seven Samurai,1954,8.6,\"Action,Drama\",Not Rated,3h 27m,Will Take Its Place With the Seven Greatest Films of All Time!,125000000,346258,\"Toshirô Mifune,Takashi Shimura,Keiko Tsushima,Yukiko Shimazaki,Kamatari Fujiwara,Daisuke Katô,Isao Kimura,Minoru Chiaki,Seiji Miyaguchi,Yoshio Kosugi,Bokuzen Hidari,Yoshio Inaba,Yoshio Tsuchiya,Kokuten Kôdô,Eijirô Tôno,Kichijirô Ueda,Jun Tatara,Atsushi Watanabe\",Akira Kurosawa,\"Akira Kurosawa,Shinobu Hashimoto,Hideo Oguni\"\n",
            "\n",
            "Iteration 21 :  21,It's a Wonderful Life,1946,8.6,\"Drama,Family,Fantasy\",PG,2h 10m,\"Frank Capra's...\"\"It's a Wonderful Life\"\".\",3180000,8574081,\"James Stewart,Donna Reed,Lionel Barrymore,Thomas Mitchell,Henry Travers,Beulah Bondi,Frank Faylen,Ward Bond,Gloria Grahame,H.B. Warner,Frank Albertson,Todd Karns,Samuel S. Hinds,Mary Treen,Virginia Patton,Charles Williams,Sarah Edwards,William Edmunds\",Frank Capra,\"Frances Goodrich,Albert Hackett,Frank Capra\"\n",
            "\n",
            "Iteration 22 :  22,The Silence of the Lambs,1991,8.6,\"Crime,Drama,Thriller\",R,1h 58m,\"Dr. Hannibal Lecter. Brilliant. Cunning. Psychotic. In his mind lies the clue to a ruthless killer. - Clarice Starling, FBI. Brilliant. Vulnerable. Alone. She must trust him to stop the killer.\",19000000,272742922,\"Jodie Foster,Anthony Hopkins,Lawrence A. Bonney,Kasi Lemmons,Lawrence T. Wrentz,Scott Glenn,Anthony Heald,Frankie Faison,Don Brockett,Frank Seals Jr.,Stuart Rudin,Maria Skorobogatov,Jeffrie Lane,Leib Lensky,George 'Red' Schwartz,Jim Roche,Brooke Smith,Ted Levine\",Jonathan Demme,\"Thomas Harris,Ted Tally\"\n",
            "\n",
            "Iteration 23 :  23,City of God,2002,8.6,\"Crime,Drama\",R,2h 10m,\"If you run, the beast will get you. If you stay, the beast will eat you\",$3300000,30680793,\"Alexandre Rodrigues,Leandro Firmino,Matheus Nachtergaele,Phellipe Haagensen,Douglas Silva,Jonathan Haagensen,Seu Jorge,Jefechander Suplino,Alice Braga,Emerson Gomes,Edson Oliveira,Michel Gomes,Roberta Rodrigues,Luis Otávio,Kiko Marques,Gustavo Engrácia,Darlan Cunha,Robson Rocha\",\"Fernando Meirelles,Kátia Lund(co-director)\",\"Paulo Lins,Bráulio Mantovani\"\n",
            "\n",
            "Iteration 24 :  24,Saving Private Ryan,1998,8.6,\"Drama,War\",R,2h 49m,\"In the Last Great Invasion of the Last Great War, The Greatest Danger for Eight Men was Saving... One.\",70000000,482349603,\"Tom Hanks,Matt Damon,Tom Sizemore,Edward Burns,Barry Pepper,Adam Goldberg,Vin Diesel,Giovanni Ribisi,Jeremy Davies,Ted Danson,Paul Giamatti,Dennis Farina,Joerg Stadler,Max Martini,Dylan Bruno,Daniel Cerqueira,Demetri Goritsas,Ian Porter\",Steven Spielberg,Robert Rodat\n",
            "\n",
            "Iteration 25 :  25,Interstellar,2014,8.6,\"Adventure,Drama,Sci-Fi\",PG-13,2h 49m,Mankind was born on Earth. It was never meant to die here.,165000000,773867216,\"Matthew McConaughey,Anne Hathaway,Jessica Chastain,Mackenzie Foy,Ellen Burstyn,John Lithgow,Timothée Chalamet,David Oyelowo,Collette Wolfe,Francis X. McCarthy,Bill Irwin,Andrew Borba,Wes Bentley,William Devane,Michael Caine,David Gyasi,Josh Stewart,Casey Affleck\",Christopher Nolan,\"Jonathan Nolan,Christopher Nolan\"\n",
            "\n",
            "Iteration 26 :  26,Life Is Beautiful,1997,8.6,\"Comedy,Drama,Romance\",PG-13,1h 56m,\"An unforgettable fable that proves love, family and imagination conquer all. (Canadian one sheet)\",20000000,230098753,\"Roberto Benigni,Nicoletta Braschi,Giorgio Cantarini,Giustino Durano,Sergio Bini Bustric,Marisa Paredes,Horst Buchholz,Lidia Alfonsi,Giuliana Lojodice,Amerigo Fontani,Pietro De Silva,Francesco Guzzo,Raffaella Lebboroni,Claudio Alfonsi,Gil Baroni,Massimo Bianchi,Jürgen Bohn,Verena Buratti\",Roberto Benigni,\"Vincenzo Cerami,Roberto Benigni\"\n",
            "\n",
            "Iteration 27 :  27,The Green Mile,1999,8.6,\"Crime,Drama,Fantasy\",R,3h 9m,Miracles do happen.,60000000,286801374,\"Tom Hanks,Michael Clarke Duncan,David Morse,Bonnie Hunt,James Cromwell,Michael Jeter,Graham Greene,Doug Hutchison,Sam Rockwell,Barry Pepper,Jeffrey DeMunn,Patricia Clarkson,Harry Dean Stanton,Dabbs Greer,Eve Brent,William Sadler,Mack Miles,Rai Tasco\",Frank Darabont,\"Stephen King,Frank Darabont\"\n",
            "\n",
            "Iteration 28 :  28,Star Wars: Episode IV - A New Hope,1977,8.6,\"Action,Adventure,Fantasy\",PG,2h 1m,It's Back! The Force will be with you for three weeks only. (1979 Reissue Poster),11000000,775398007,\"Mark Hamill,Harrison Ford,Carrie Fisher,Alec Guinness,Peter Cushing,Anthony Daniels,Kenny Baker,Peter Mayhew,David Prowse,Phil Brown,Shelagh Fraser,Jack Purvis,Alex McCrindle,Eddie Byrne,Drewe Henley,Denis Lawson,Garrick Hagon,Jack Klaff\",George Lucas,George Lucas\n",
            "\n",
            "Iteration 29 :  29,Terminator 2: Judgment Day,1991,8.6,\"Action,Sci-Fi\",R,2h 17m,It's nothing personal.,102000000,520881154,\"Arnold Schwarzenegger,Linda Hamilton,Edward Furlong,Robert Patrick,Earl Boen,Joe Morton,S. Epatha Merkerson,Castulo Guerra,Danny Cooksey,Jenette Goldstein,Xander Berkeley,Leslie Hamilton Gearren,Ken Gibbel,Robert Winley,Peter Schrum,Shane Wilder,Michael Edwards,Jared Lounsbery\",James Cameron,\"James Cameron,William Wisher\"\n",
            "\n",
            "Iteration 30 :  30,Back to the Future,1985,8.5,\"Adventure,Comedy,Sci-Fi\",PG,1h 56m,He's the only kid ever to get into trouble before he was born. [UK],19000000,383336762,\"Michael J. Fox,Christopher Lloyd,Lea Thompson,Crispin Glover,Tom Wilson,Claudia Wells,Marc McClure,Wendie Jo Sperber,George DiCenzo,Frances Lee McCain,James Tolkan,J.J. Cohen,Casey Siemaszko,Billy Zane,Harry Waters Jr.,Donald Fullilove,Lisa Freeman,Cristen Kauffman\",Robert Zemeckis,\"Robert Zemeckis,Bob Gale\"\n",
            "\n",
            "Iteration 31 :  31,Spirited Away,2001,8.6,\"Animation,Adventure,Family\",PG,2h 5m,The tunnel led Chihiro to a mysterious town.,19000000,355822319,\"Daveigh Chase,Suzanne Pleshette,Miyu Irino,Rumi Hiiragi,Mari Natsuki,Takashi Naitô,Yasuko Sawaguchi,Tatsuya Gashûin,Ryûnosuke Kamiki,Yumi Tamai,Yô Ôizumi,Koba Hayashi,Tsunehiko Kamijô,Takehiko Ono,Bunta Sugawara,Shigeru Wakita,Shirô Saitô,Michiko Yamamoto\",Hayao Miyazaki,Hayao Miyazaki\n",
            "\n",
            "Iteration 32 :  32,The Pianist,2002,8.5,\"Biography,Drama,Music\",R,2h 30m,Music was his passion. Survival was his masterpiece.,35000000,120072577,\"Adrien Brody,Thomas Kretschmann,Frank Finlay,Emilia Fox,Michal Zebrowski,Ed Stoppard,Maureen Lipman,Jessica Kate Meyer,Julia Rayner,Wanja Mues,Richard Ridings,Nomi Sharron,Anthony Milner,Lucy Skeaping,Roddy Skeaping,Ben Harlan,Thomas Lawinky,Joachim Paul Assböck\",Roman Polanski,\"Ronald Harwood,Wladyslaw Szpilman\"\n",
            "\n",
            "Iteration 33 :  33,Psycho,1960,8.5,\"Horror,Mystery,Thriller\",R,1h 49m,The picture you MUST see from the beginning... Or not at all!... For no one will be seated after the start of... Alfred Hitchcock's greatest shocker Psycho.,806947,32052925,\"Anthony Perkins,Janet Leigh,Vera Miles,John Gavin,Martin Balsam,John McIntire,Simon Oakland,Frank Albertson,Patricia Hitchcock,Vaughn Taylor,Lurene Tuttle,John Anderson,Mort Mills,Fletcher Allen,Walter Bacon,Prudence Beers,Kit Carson,Francis De Sales\",Alfred Hitchcock,\"Joseph Stefano,Robert Bloch\"\n",
            "\n",
            "Iteration 34 :  34,Parasite,2019,8.5,\"Drama,Thriller\",R,2h 12m,Misplaced familyhood (Australia/New Zealand/Singapore),11400000,262676096,\"Song Kang-ho,Lee Sun-kyun,Cho Yeo-jeong,Choi Woo-sik,Park So-dam,Lee Jeong-eun,Jang Hye-jin,Park Myeong-hoon,Jung Ji-so,Jung Hyun-jun,Park Keun-rok,Jung Yi-seo,Jo Jae-myeong,Jung Ik-han,Kim Kyu-baek,Hwang In-kyung,Ahn Seong-bong,Kim Jin-hyung\",Bong Joon Ho,\"Bong Joon Ho,Han Jin-won\"\n",
            "\n",
            "Iteration 35 :  35,Léon: The Professional,1994,8.5,\"Action,Crime,Drama\",R,1h 50m,\"If you want the job done right, hire a professional.\",RF 115000000,19569225,\"Jean Reno,Gary Oldman,Natalie Portman,Danny Aiello,Peter Appel,Willi One Blood,Don Creech,Keith A. Glascoe,Randolph Scott,Michael Badalucco,Ellen Greene,Elizabeth Regen,Carl J. Matusovich,Frank Senger,Lucius Wyatt Cherokee,Eric Challier,Luc Bernard,Maïwenn\",Luc Besson,Luc Besson\n",
            "\n",
            "Iteration 36 :  36,The Lion King,1994,8.5,\"Animation,Adventure,Drama\",G,1h 28m,See it for the first time ever in 3D (2011 3D re-release),45000000,968511805,\"Matthew Broderick,Jeremy Irons,James Earl Jones,Whoopi Goldberg,Rowan Atkinson,Niketa Calame-Harris,Jim Cummings,Robert Guillaume,Moira Kelly,Nathan Lane,Zoe Leader,Cheech Marin,Ernie Sabella,Madge Sinclair,Jonathan Taylor Thomas,Frank Welker,Cathy Cavadini,Judi M. Durand\",\"Roger Allers,Rob Minkoff\",\"Irene Mecchi,Jonathan Roberts,Linda Woolverton\"\n",
            "\n",
            "Iteration 37 :  37,Gladiator,2000,8.5,\"Action,Adventure,Drama\",R,2h 35m,\"Father of a murdered son, husband to a murdered wife and I shall have my vengeance in this life or the next\",103000000,503162313,\"Russell Crowe,Joaquin Phoenix,Connie Nielsen,Oliver Reed,Richard Harris,Derek Jacobi,Djimon Hounsou,David Schofield,John Shrapnel,Tomas Arana,Ralf Moeller,Spencer Treat Clark,David Hemmings,Tommy Flanagan,Sven-Ole Thorsen,Omid Djalili,Nicholas McGaughey,Chris Kell\",Ridley Scott,\"David Franzoni,John Logan,William Nicholson\"\n",
            "\n",
            "Iteration 38 :  38,American History X,1998,8.5,\"Crime,Drama\",R,1h 59m,His father taught him to hate. His friends taught him rage. His enemies gave him hope.,20000000,23875127,\"Edward Norton,Edward Furlong,Beverly D'Angelo,Jennifer Lien,Ethan Suplee,Fairuza Balk,Avery Brooks,Elliott Gould,Stacy Keach,William Russ,Guy Torry,Joe Cortese,Jason Bose Smith,Antonio David Lyons,Alex Sol,Keram Malicki-Sánchez,Giuseppe Andrews,Michelle Christine White\",Tony Kaye,David McKenna\n",
            "\n",
            "Iteration 39 :  39,The Departed,2006,8.5,\"Crime,Drama,Thriller\",R,2h 31m,Lies. Betrayal. Sacrifice. How far will you take it?,90000000,291480452,\"Leonardo DiCaprio,Matt Damon,Jack Nicholson,Mark Wahlberg,Martin Sheen,Ray Winstone,Vera Farmiga,Anthony Anderson,Alec Baldwin,Kevin Corrigan,James Badge Dale,David O'Hara,Mark Rolston,Robert Wahlberg,Kristen Dalton,Thomas B. Duffy,Richard Hughes,J.C. MacKenzie\",Martin Scorsese,\"William Monahan,Alan Mak,Felix Chong\"\n",
            "\n",
            "Iteration 40 :  40,The Usual Suspects,1995,8.5,\"Crime,Drama,Mystery\",R,1h 46m,The greatest trick the devil ever pulled was to convince the world he didn't exist,6000000,23341568,\"Kevin Spacey,Gabriel Byrne,Chazz Palminteri,Stephen Baldwin,Benicio Del Toro,Kevin Pollak,Pete Postlethwaite,Suzy Amis,Giancarlo Esposito,Dan Hedaya,Paul Bartel,Carl Bressler,Phillipe Simon,Jack Shearer,Christine Estabrook,Clark Gregg,Morgan Hunter,Ken Daly\",Bryan Singer,Christopher McQuarrie\n",
            "\n",
            "Iteration 41 :  41,The Prestige,2006,8.5,\"Drama,Mystery,Sci-Fi\",PG-13,2h 10m,A Friendship That Became a Rivalry.,40000000,109676311,\"Christian Bale,Hugh Jackman,Scarlett Johansson,Michael Caine,Piper Perabo,Rebecca Hall,Samantha Mahurin,David Bowie,Andy Serkis,Daniel Davis,Jim Piddock,Christopher Neame,Mark Ryan,Roger Rees,Jamie Harris,Monty Stuart,Ron Perkins,Ricky Jay\",Christopher Nolan,\"Jonathan Nolan,Christopher Nolan,Christopher Priest\"\n",
            "\n",
            "Iteration 42 :  42,Whiplash,2014,8.5,\"Drama,Music\",R,1h 46m,The road to greatness can take you to the edge,3300000,49396747,\"Miles Teller,J.K. Simmons,Melissa Benoist,Paul Reiser,Austin Stowell,Nate Lang,Chris Mulkey,Damon Gupton,Suanne Spoke,Max Kasch,Charlie Ian,Jayson Blair,Kofi Siriboe,Kavita Patil,C.J. Vana,Tarik Lowe,Tyler Kimball,Rogelio Douglas Jr.\",Damien Chazelle,Damien Chazelle\n",
            "\n",
            "Iteration 43 :  43,Casablanca,1942,8.5,\"Drama,Romance,War\",PG,1h 42m,Where Love Cuts as Deep as a Dagger!,950000,4626532,\"Humphrey Bogart,Ingrid Bergman,Paul Henreid,Claude Rains,Conrad Veidt,Sydney Greenstreet,Peter Lorre,S.Z. Sakall,Madeleine Lebeau,Dooley Wilson,Joy Page,John Qualen,Leonid Kinskey,Curt Bois,Abdullah Abbas,Enrique Acosta,Ed Agresti,Arnet Amos\",Michael Curtiz,\"Julius J. Epstein,Philip G. Epstein,Howard Koch\"\n",
            "\n",
            "Iteration 44 :  44,Grave of the Fireflies,1988,8.5,\"Animation,Drama,War\",Not Rated,1h 29m,imationDramaWar,3700000,516962,\"Tsutomu Tatsumi,Ayano Shiraishi,Akemi Yamaguchi,Yoshiko Shinohara,Kôzô Hashida,Masayo Sakai,Kazumi Nozaki,Yoshio Matsuoka,Masahiro Kanetake,Kiyoshi Yanagawa,Hajime Maki,Atsuo Omote,Teruhisa Harita,Hiroshi Tanaka,Michio Denpô,Shirô Tamaki,Tadashi Nakamura,Mika Sekita\",Isao Takahata,\"Akiyuki Nosaka,Isao Takahata\"\n",
            "\n",
            "Iteration 45 :  45,Harakiri,1962,8.6,\"Action,Drama,Mystery\",Not Rated,2h 13m,The World Has Never Understood Why the Japanese Prefer Death to Dishonor! This Samurai Picture Provides The Answer!!,Not Available,Not Available,\"Tatsuya Nakadai,Akira Ishihama,Shima Iwashita,Tetsurô Tanba,Masao Mishima,Ichirô Nakatani,Kei Satô,Yoshio Inaba,Hisashi Igawa,Tôru Takeuchi,Yoshirô Aoki,Tatsuo Matsumura,Akiji Kobayashi,Kôichi Hayashi,Ryûtarô Gomi,Jô Azumi,Nakajirô Tomita,Shichisaburô Amatsu\",Masaki Kobayashi,\"Yasuhiko Takiguchi,Shinobu Hashimoto\"\n",
            "\n",
            "Iteration 46 :  46,The Intouchables,2011,8.5,\"Biography,Comedy,Drama\",R,1h 52m,Sometimes you have to reach into someone else's world to find out what's missing in your own.,9500000,426588510,\"François Cluzet,Omar Sy,Anne Le Ny,Audrey Fleurot,Joséphine de Meaux,Clotilde Mollet,Alba Gaïa Bellugi,Cyril Mendy,Salimata Kamate,Absa Diatou Toure,Grégoire Oestermann,Dominique Daguier,François Caron,Christian Ameri,Thomas Solivérès,Dorothée Brière,Marie-Laure Descoureaux,Émilie Caen\",\"Olivier Nakache,Éric Toledano\",\"Olivier Nakache,Éric Toledano,Philippe Pozzo di Borgo\"\n",
            "\n",
            "Iteration 47 :  47,Modern Times,1936,8.5,\"Comedy,Drama,Romance\",G,1h 27m,\"He stands alone as the greatest entertainer of modern times! No one on earth can make you laugh as heartily or touch your heart as deeply...the whole world laughs, cries and thrills to his priceless genius!\",1500000,463618,\"Charles Chaplin,Paulette Goddard,Henry Bergman,Tiny Sandford,Chester Conklin,Hank Mann,Stanley Blystone,Al Ernest Garcia,Richard Alexander,Cecil Reynolds,Mira McKinney,Murdock MacQuarrie,Wilfred Lucas,Edward LeSaint,Fred Malatesta,Sammy Stein,Juana Sutton,Ted Oliver\",Charles Chaplin,Charles Chaplin\n",
            "\n",
            "Iteration 48 :  48,Once Upon a Time in the West,1968,8.5,Western,PG-13,2h 45m,There were three men in her life. One knew her past. One wanted her land. One wanted revenge.,5000000,5435024,\"Henry Fonda,Charles Bronson,Claudia Cardinale,Jason Robards,Gabriele Ferzetti,Paolo Stoppa,Woody Strode,Jack Elam,Keenan Wynn,Frank Wolff,Lionel Stander,Livio Andronico,Salvatore Basile,Aldo Berti,Joseph Bradley,Frank Braña,Marilù Carteny,Saturno Cerra\",Sergio Leone,\"Sergio Donati,Sergio Leone,Dario Argento\"\n",
            "\n",
            "Iteration 49 :  49,Rear Window,1954,8.5,\"Mystery,Thriller\",PG,1h 52m,The Essential Hitchcock,1000000,37034579,\"James Stewart,Grace Kelly,Wendell Corey,Thelma Ritter,Raymond Burr,Judith Evelyn,Ross Bagdasarian,Georgine Darcy,Sara Berner,Frank Cady,Jesslyn Fax,Rand Harper,Irene Winston,Havis Davenport,Jerry Antes,Barbara Bailey,Benny Bartlett,Nick Borgani\",Alfred Hitchcock,\"John Michael Hayes,Cornell Woolrich\"\n",
            "\n",
            "Iteration 50 :  50,Cinema Paradiso,1988,8.5,\"Drama,Romance\",PG,2h 35m,\"A celebration of youth, friendship, and the everlasting magic of the movies.\",5000000,13019063,\"Philippe Noiret,Enzo Cannavale,Antonella Attili,Isa Danieli,Leo Gullotta,Marco Leonardi,Pupella Maggio,Agnese Nano,Leopoldo Trieste,Salvatore Cascio,Tano Cimarosa,Nicola Di Pinto,Roberta Lena,Nino Terzo,Jacques Perrin,Nellina Laganà,Turi Giuffrida,Mariella Lo Giudice\",Giuseppe Tornatore,\"Giuseppe Tornatore,Vanna Paoli\"\n",
            "\n",
            "Iteration 51 :  51,Alien,1979,8.5,\"Horror,Sci-Fi\",R,1h 57m,In space no one can hear you scream.,11000000,106285522,\"Sigourney Weaver,Tom Skerritt,John Hurt,Veronica Cartwright,Harry Dean Stanton,Ian Holm,Yaphet Kotto,Bolaji Badejo,Helen Horton,Eddie Powell\",Ridley Scott,\"Dan O'Bannon,Ronald Shusett\"\n",
            "\n",
            "Iteration 52 :  52,City Lights,1931,8.5,\"Comedy,Drama,Romance\",G,1h 27m,\"HE RETURNS -And the world rocks again with laughter. (Print Ad-Daily Examiner, ((Grafton, NSW)) 6 July 1931)\",1500000,50419,\"Charles Chaplin,Virginia Cherrill,Florence Lee,Harry Myers,Al Ernest Garcia,Hank Mann,Johnny Aber,Jack Alexander,T.S. Alexander,Victor Alexander,Albert Austin,Harry Ayers,Eddie Baker,Henry Bergman,Edward Biby,Betty Blair,Buster Brodie,Jeanne Carpenter\",Charles Chaplin,\"Charles Chaplin,Harry Carr,Harry Crocker\"\n",
            "\n",
            "Iteration 53 :  53,Apocalypse Now,1979,8.5,\"Drama,Mystery,War\",R,2h 27m,The Horror. . . The Horror. . .,31500000,104880868,\"Martin Sheen,Marlon Brando,Robert Duvall,Frederic Forrest,Sam Bottoms,Laurence Fishburne,Albert Hall,Harrison Ford,Dennis Hopper,G.D. Spradlin,Jerry Ziesmer,Scott Glenn,Bo Byers,James Keane,Kerry Rossall,Ron McQueen,Tom Mason,Cynthia Wood\",Francis Ford Coppola,\"John Milius,Francis Ford Coppola,Michael Herr\"\n",
            "\n",
            "Iteration 54 :  54,Memento,2000,8.4,\"Mystery,Thriller\",R,1h 53m,Some memories are best forgotten,9000000,40047078,\"Guy Pearce,Carrie-Anne Moss,Joe Pantoliano,Mark Boone Junior,Russ Fega,Jorja Fox,Stephen Tobolowsky,Harriet Sansom Harris,Thomas Lennon,Callum Keith Rennie,Kimberly Campbell,Marianne Muellerleile,Larry Holden,Stephanie Searson,Buzz Visconti\",Christopher Nolan,\"Christopher Nolan,Jonathan Nolan\"\n",
            "\n",
            "Iteration 55 :  55,Django Unchained,2012,8.4,\"Drama,Western\",R,2h 45m,\"Life, liberty and the pursuit of vengeance.\",100000000,426074373,\"Jamie Foxx,Christoph Waltz,Leonardo DiCaprio,Kerry Washington,Samuel L. Jackson,Walton Goggins,Dennis Christopher,James Remar,David Steen,Dana Gourrier,Nichole Galicia,Laura Cayouette,Ato Essandoh,Sammi Rotibi,Clay Donahue Fontenot,Escalante Lundy,Miriam F. Glover,Don Johnson\",Quentin Tarantino,Quentin Tarantino\n",
            "\n",
            "Iteration 56 :  56,Indiana Jones and the Raiders of the Lost Ark,1981,8.4,\"Action,Adventure\",PG,1h 55m,Indiana Jones - the new hero from the creators of JAWS and STAR WARS.,18000000,389925971,\"Harrison Ford,Karen Allen,Paul Freeman,John Rhys-Davies,Ronald Lacey,Denholm Elliott,Alfred Molina,Wolf Kahler,Anthony Higgins,Vic Tablian,Don Fellows,William Hootkins,Bill Reimbold,Fred Sorenson,Patrick Durkin,Matthew Scurfield,Malcolm Weaver,Sonny Caldinez\",Steven Spielberg,\"Lawrence Kasdan,George Lucas,Philip Kaufman\"\n",
            "\n",
            "Iteration 57 :  57,WALL·E,2008,8.4,\"Animation,Adventure,Family\",G,1h 38m,After 700 years of doing what he was built for - he'll discover what he's meant for.,180000000,521311890,\"Ben Burtt,Elissa Knight,Jeff Garlin,Fred Willard,MacInTalk,John Ratzenberger,Kathy Najimy,Sigourney Weaver,Karleen Griffin,Kim Kopf,Niki McElroy,Garrett Palmer,Jessica Skelton,Kai Steel Smith,Michael Toy\",Andrew Stanton,\"Andrew Stanton,Pete Docter,Jim Reardon\"\n",
            "\n",
            "Iteration 58 :  58,The Lives of Others,2006,8.4,\"Drama,Mystery,Thriller\",R,2h 17m,\"Before the Fall of the Berlin Wall, East Germany's Secret Police Listened to Your Secrets\",2000000,77356942,\"Ulrich Mühe,Martina Gedeck,Sebastian Koch,Ulrich Tukur,Thomas Thieme,Hans-Uwe Bauer,Volkmar Kleinert,Matthias Brenner,Charly Hübner,Herbert Knaup,Bastian Trost,Marie Gruber,Volker Michalowski,Werner Daehn,Martin Brambach,Hubertus Hartmann,Thomas Arnold,Hinnerk Schönemann\",Florian Henckel von Donnersmarck,Florian Henckel von Donnersmarck\n",
            "\n",
            "Iteration 59 :  59,Sunset Blvd.,1950,8.4,\"Drama,Film-Noir\",Passed,1h 50m,A Hollywood Story,1752000,300073,\"William Holden,Gloria Swanson,Erich von Stroheim,Nancy Olson,Fred Clark,Lloyd Gough,Jack Webb,Franklyn Farnum,Larry J. Blake,Charles Dayton,Cecil B. DeMille,Hedda Hopper,Buster Keaton,Anna Q. Nilsson,H.B. Warner,Ray Evans,Jay Livingston,Fred Aldrich\",Billy Wilder,\"Charles Brackett,Billy Wilder,D.M. Marshman Jr.\"\n",
            "\n",
            "Iteration 60 :  60,Paths of Glory,1957,8.4,\"Drama,War\",Approved,1h 28m,Never has the screen thrust so deeply into the guts of war!,935000,5252,\"Kirk Douglas,Ralph Meeker,Adolphe Menjou,George Macready,Wayne Morris,Richard Anderson,Joe Turkel,Christiane Kubrick,Jerry Hausner,Peter Capell,Emile Meyer,Bert Freed,Kem Dibbs,Timothy Carey,Fred Bell,John Stein,Harold Benedict,Leon Briggs\",Stanley Kubrick,\"Stanley Kubrick,Calder Willingham,Jim Thompson\"\n",
            "\n",
            "Iteration 61 :  61,The Shining,1980,8.4,\"Drama,Horror\",R,2h 26m,Iconic terror from the No 1 bestselling writer.,19000000,47335804,\"Jack Nicholson,Shelley Duvall,Danny Lloyd,Scatman Crothers,Barry Nelson,Philip Stone,Joe Turkel,Anne Jackson,Tony Burton,Lia Beldam,Billie Gibson,Barry Dennen,David Baxt,Manning Redwood,Lisa Burns,Louise Burns,Robin Pappas,Alison Coleridge\",Stanley Kubrick,\"Stephen King,Stanley Kubrick,Diane Johnson\"\n",
            "\n",
            "Iteration 62 :  62,The Great Dictator,1940,8.4,\"Comedy,Drama,War\",G,2h 5m,The Comedy Masterpiece!,2000000,970263,\"Charles Chaplin,Paulette Goddard,Jack Oakie,Reginald Gardiner,Henry Daniell,Billy Gilbert,Grace Hayle,Carter DeHaven,Maurice Moscovitch,Emma Dunn,Bernard Gorcey,Paul Weigel,Chester Conklin,Esther Michelson,Hank Mann,Florence Wright,Eddie Gribbon,Rudolph Anders\",Charles Chaplin,Charles Chaplin\n",
            "\n",
            "Iteration 63 :  63,Avengers: Infinity War,2018,8.4,\"Action,Adventure,Sci-Fi\",PG-13,2h 29m,An entire universe. Once and for all.,321000000,2052415039,\"Robert Downey Jr.,Chris Hemsworth,Mark Ruffalo,Chris Evans,Scarlett Johansson,Don Cheadle,Benedict Cumberbatch,Tom Holland,Chadwick Boseman,Zoe Saldana,Karen Gillan,Tom Hiddleston,Paul Bettany,Elizabeth Olsen,Anthony Mackie,Sebastian Stan,Idris Elba,Danai Gurira\",\"Anthony Russo,Joe Russo\",\"Christopher Markus,Stephen McFeely,Stan Lee\"\n",
            "\n",
            "Iteration 64 :  64,Witness for the Prosecution,1957,8.4,\"Crime,Drama,Mystery\",Approved,1h 56m,The most electrifying entertainment of our time!,3000000,7693,\"Tyrone Power,Marlene Dietrich,Charles Laughton,Elsa Lanchester,John Williams,Henry Daniell,Ian Wolfe,Torin Thatcher,Norma Varden,Una O'Connor,Francis Compton,Philip Tonge,Ruta Lee,Patrick Aherne,Don Ames,Walter Bacon,Eddie Baker,Benjie Bancroft\",Billy Wilder,\"Agatha Christie,Billy Wilder,Harry Kurnitz\"\n",
            "\n",
            "Iteration 65 :  65,Aliens,1986,8.4,\"Action,Adventure,Sci-Fi\",R,2h 17m,This time there's more.,18500000,131060248,\"Sigourney Weaver,Michael Biehn,Carrie Henn,Paul Reiser,Lance Henriksen,Bill Paxton,William Hope,Jenette Goldstein,Al Matthews,Mark Rolston,Ricco Ross,Colette Hiller,Daniel Kash,Cynthia Dale Scott,Tip Tipping,Trevor Steedman,Paul Maxwell,Valerie Colgan\",James Cameron,\"James Cameron,David Giler,Walter Hill\"\n",
            "\n",
            "Iteration 66 :  66,Spider-Man: Into the Spider-Verse,2018,8.4,\"Animation,Action,Adventure\",PG,1h 57m,Enter a universe where more than one wears the mask.,Not Available,Not Available,\"Shameik Moore,Jake Johnson,Hailee Steinfeld,Mahershala Ali,Brian Tyree Henry,Lily Tomlin,Luna Lauren Velez,Zoë Kravitz,John Mulaney,Kimiko Glenn,Nicolas Cage,Kathryn Hahn,Liev Schreiber,Chris Pine,Natalie Morales,Edwin R. Habacon,Oscar Isaac,Greta Lee\",\"Bob Persichetti,Peter Ramsey,Rodney Rothman\",\"Phil Lord,Rodney Rothman\"\n",
            "\n",
            "Iteration 67 :  67,American Beauty,1999,8.4,Drama,R,2h 2m,... look closer,15000000,356296601,\"Kevin Spacey,Annette Bening,Thora Birch,Wes Bentley,Mena Suvari,Peter Gallagher,Allison Janney,Chris Cooper,Scott Bakula,Sam Robards,Barry Del Sherman,Ara Celi,John Cho,Fort Atkinson,Sue Casey,Kent Faulcon,Brenda Wehle,Lisa Cloud\",Sam Mendes,Alan Ball\n",
            "\n",
            "Iteration 68 :  68,Dr. Strangelove or: How I Learned to Stop Worrying and Love the Bomb,1964,8.4,\"Comedy,War\",PG,1h 35m,The comedy classic from celebrated director STANLEY KUBRICK,1800000,9523464,\"Peter Sellers,George C. Scott,Sterling Hayden,Keenan Wynn,Slim Pickens,Peter Bull,James Earl Jones,Tracy Reed,Jack Creley,Frank Berry,Robert O'Neil,Glenn Beck,Roy Stephens,Shane Rimmer,Hal Galili,Paul Tamarin,Laurence Herder,Gordon Tanner\",Stanley Kubrick,\"Stanley Kubrick,Terry Southern,Peter George\"\n",
            "\n",
            "Iteration 69 :  69,The Dark Knight Rises,2012,8.4,\"Action,Drama\",PG-13,2h 44m,The Legend Ends,250000000,1081169825,\"Christian Bale,Tom Hardy,Anne Hathaway,Gary Oldman,Joseph Gordon-Levitt,Marion Cotillard,Morgan Freeman,Michael Caine,Matthew Modine,Alon Aboutboul,Ben Mendelsohn,Burn Gorman,Daniel Sunjata,Aidan Gillen,Sam Kennard,Aliash Tepina,Nestor Carbonell,Brett Cullen\",Christopher Nolan,\"Jonathan Nolan,Christopher Nolan,David S. Goyer\"\n",
            "\n",
            "Iteration 70 :  70,Oldboy,2003,8.4,\"Action,Drama,Mystery\",R,2h,\"15 years of imprisonment, five days of vengeance\",3000000,15421226,\"Choi Min-sik,Yoo Ji-tae,Kang Hye-jeong,Kim Byeong-Ok,Dae-han Ji,Dal-su Oh,Seung-shin Lee,Jin-Seo Yoon,Tae-kyung Oh,Yoo Yeon-Seok,Il-han Oo,Young-hee Lee,Young-ae Kim,Mi Mi Lee,Jae-Duk Han,Jung Ae Kwak,San Kim,Chae-soo Jang\",Park Chan-wook,\"Garon Tsuchiya,Nobuaki Minegishi,Park Chan-wook\"\n",
            "\n",
            "Iteration 71 :  71,Inglourious Basterds,2009,8.3,\"Adventure,Drama,War\",R,2h 33m,Once upon a time in Nazi occupied France...,70000000,321457747,\"Brad Pitt,Diane Kruger,Eli Roth,Mélanie Laurent,Christoph Waltz,Michael Fassbender,Daniel Brühl,Til Schweiger,Gedeon Burkhard,Jacky Ido,B.J. Novak,Omar Doom,August Diehl,Denis Ménochet,Sylvester Groth,Martin Wuttke,Mike Myers,Julie Dreyfus\",Quentin Tarantino,Quentin Tarantino\n",
            "\n",
            "Iteration 72 :  72,Amadeus,1984,8.4,\"Biography,Drama,Music\",PG,2h 40m,The man... The music... The madness... The murder... The motion picture...,18000000,52066791,\"F. Murray Abraham,Tom Hulce,Elizabeth Berridge,Roy Dotrice,Simon Callow,Christine Ebersole,Jeffrey Jones,Charles Kay,Kenneth McMillan,Kenny Baker,Lisbeth Bartlett,Barbara Bryne,Martin Cavina,Roderick Cook,Milan Demjanenko,Peter DiGesu,Richard Frank,Patrick Hines\",Milos Forman,\"Peter Shaffer,Zdenek Mahler\"\n",
            "\n",
            "Iteration 73 :  73,Coco,2017,8.4,\"Animation,Adventure,Comedy\",PG,1h 45m,The celebration of a lifetime,175000000,814337054,\"Anthony Gonzalez,Gael García Bernal,Benjamin Bratt,Alanna Ubach,Renee Victor,Jaime Camil,Alfonso Arau,Herbert Siguenza,Gabriel Iglesias,Lombardo Boyar,Ana Ofelia Murguía,Natalia Cordova-Buckley,Selene Luna,Edward James Olmos,Sofía Espinosa,Carla Medina,Dyana Ortelli,Luis Valdez\",\"Lee Unkrich,Adrian Molina(co-directed by)\",\"Lee Unkrich,Jason Katz,Matthew Aldrich\"\n",
            "\n",
            "Iteration 74 :  74,Toy Story,1995,8.3,\"Animation,Adventure,Comedy\",G,1h 21m,\"\"\"Oooh...3-D\"\" (USA 2009 re-release)\",30000000,394436586,\"Tom Hanks,Tim Allen,Don Rickles,Jim Varney,Wallace Shawn,John Ratzenberger,Annie Potts,John Morris,Erik von Detten,Laurie Metcalf,R. Lee Ermey,Sarah Rayne,Penn Jillette,Jack Angel,Spencer Aste,Greg Berg,Lisa Bradley,Kendall Cunningham\",John Lasseter,\"John Lasseter,Pete Docter,Andrew Stanton\"\n",
            "\n",
            "Iteration 75 :  75,Joker,2019,8.4,\"Crime,Drama,Thriller\",R,2h 2m,Put on a happy face.,55000000,1074458282,\"Joaquin Phoenix,Robert De Niro,Zazie Beetz,Frances Conroy,Brett Cullen,Shea Whigham,Bill Camp,Glenn Fleshler,Leigh Gill,Josh Pais,Rocco Luna,Marc Maron,Sondra James,Murphy Guyer,Douglas Hodge,Dante Pereira-Olson,Carrie Louise Putrello,Sharon Washington\",Todd Phillips,\"Todd Phillips,Scott Silver,Bob Kane\"\n",
            "\n",
            "Iteration 76 :  76,Braveheart,1995,8.4,\"Biography,Drama,History\",R,2h 58m,The story of a man with a free soul...and with the courage to follow it.,72000000,213216216,\"Mel Gibson,Sophie Marceau,Patrick McGoohan,Angus Macfadyen,James Robinson,Sean Lawlor,Sandy Nelson,James Cosmo,Sean McGinley,Alan Tall,Andrew Weir,Gerda Stevenson,Ralph Riach,Mhairi Calvey,Brian Cox,Peter Hanly,Stephen Billington,Barry McGovern\",Mel Gibson,Randall Wallace\n",
            "\n",
            "Iteration 77 :  77,The Boat,1981,8.4,\"Drama,War\",Not Available,Not Available,\"This is the story of 42 raw recruits caught up in a war they didn't understand, and the Captain who must lead them in their struggle to survive.\",EM 32000000,11487676,\"Jürgen Prochnow,Herbert Grönemeyer,Klaus Wennemann,Hubertus Bengsch,Martin Semmelrogge,Bernd Tauber,Erwin Leder,Martin May,Heinz Hoenig,Uwe Ochsenknecht,Claude-Oliver Rudolph,Jan Fedder,Ralf Richter,Joachim Bernhard,Oliver Stritzel,Konrad Becker,Lutz Schnell,Martin Hemme\",Wolfgang Petersen,\"Wolfgang Petersen,Lothar G. Buchheim\"\n",
            "\n",
            "Iteration 78 :  78,Avengers: Endgame,2019,8.4,\"Action,Adventure,Drama\",PG-13,3h 1m,Avenge the fallen.,356000000,2799439100,\"Robert Downey Jr.,Chris Evans,Mark Ruffalo,Chris Hemsworth,Scarlett Johansson,Jeremy Renner,Don Cheadle,Paul Rudd,Benedict Cumberbatch,Chadwick Boseman,Brie Larson,Tom Holland,Karen Gillan,Zoe Saldana,Evangeline Lilly,Tessa Thompson,Rene Russo,Elizabeth Olsen\",\"Anthony Russo,Joe Russo\",\"Christopher Markus,Stephen McFeely,Stan Lee\"\n",
            "\n",
            "Iteration 79 :  79,Princess Mononoke,1997,8.4,\"Animation,Action,Adventure\",PG-13,2h 14m,Live on.,2400000000,170005875,\"Yôji Matsuda,Yuriko Ishida,Yûko Tanaka,Billy Crudup,Billy Bob Thornton,Minnie Driver,John DiMaggio,Claire Danes,John DeMita,Jada Pinkett Smith,Gillian Anderson,Keith David,Corey Burton,Tara Strong,Julia Fletcher,Debi Derryberry,Alex Fernandez,Jack Fletcher\",Hayao Miyazaki,\"Hayao Miyazaki,Neil Gaiman\"\n",
            "\n",
            "Iteration 80 :  80,Once Upon a Time in America,1984,8.3,\"Crime,Drama\",R,3h 49m,\"Crime, passion and lust for power - Sergio Leone's explosive saga of gangland America.\",30000000,5473337,\"Robert De Niro,James Woods,Elizabeth McGovern,Treat Williams,Tuesday Weld,Burt Young,Joe Pesci,Danny Aiello,William Forsythe,James Hayden,Darlanne Fluegel,Larry Rapp,Dutch Miller,Robert Harper,Richard Bright,Gerard Murphy,Amy Ryder,Olga Karlatos\",Sergio Leone,\"Harry Grey,Leonardo Benvenuti,Piero De Bernardi\"\n",
            "\n",
            "Iteration 81 :  81,Good Will Hunting,1997,8.3,\"Drama,Romance\",R,2h 6m,\"Some people can never believe in themselves, until someone believes in them.\",Not Available,Not Available,\"Robin Williams,Matt Damon,Ben Affleck,Stellan Skarsgård,John Mighton,Rachel Majorowski,Colleen McCauley,Casey Affleck,Cole Hauser,Matt Mercier,Ralph St. George,Rob Lynds,Dan Washington,Alison Folland,Derrick Bridgeman,Vik Sahay,Shannon Egleson,Rob Lyons\",Gus Van Sant,\"Matt Damon,Ben Affleck\"\n",
            "\n",
            "Iteration 82 :  82,Your Name.,2016,8.4,\"Animation,Drama,Fantasy\",TV-PG,1h 46m,\"Experience Japan's #1 film of 2016, from visionary director Makoto Shinkai\",Not Available,Not Available,\"Ryûnosuke Kamiki,Mone Kamishiraishi,Ryô Narita,Aoi Yûki,Nobunaga Shimazaki,Kaito Ishikawa,Kanon Tani,Masaki Terasoma,Sayaka Ôhara,Kazuhiko Inoue,Chafûrin,Kana Hanazawa,Yuka Terasaki,Takashi Onozuka,Yôhei Namekawa,Miyu Tsuji,Shin'ya Hamazoe,Kanami Satô\",Makoto Shinkai,\"Makoto Shinkai,Clark Cheng\"\n",
            "\n",
            "Iteration 83 :  83,3 Idiots,2009,8.4,\"Comedy,Drama\",PG-13,2h 50m,Don't be Stupid. Be an I.D.I.O.T.,550000000,60262836,\"Aamir Khan,Madhavan,Mona Singh,Sharman Joshi,Kareena Kapoor,Boman Irani,Omi Vaidya,Olivier Lafont,Rahul Kumar,Parikshit Sahni,Farida Dadi,Amardeep Jha,Mukund Bhatt,Chaitali Bose,Jaaved Jaaferi,Jayant Kripalani,Arun Bali,Shoaib Ahmed\",Rajkumar Hirani,\"Rajkumar Hirani,Abhijat Joshi,Vidhu Vinod Chopra\"\n",
            "\n",
            "Iteration 84 :  84,Singin' in the Rain,1952,8.3,\"Comedy,Musical,Romance\",G,1h 43m,Singin' Swingin' Glorious Feelin' Technicolor Musical,2540800,2000288,\"Gene Kelly,Donald O'Connor,Debbie Reynolds,Jean Hagen,Millard Mitchell,Cyd Charisse,Douglas Fowley,Rita Moreno,Dawn Addams,John Albright,Betty Allen,Sue Allen,John Angelo,Marie Ardell,Bette Arlen,David Bair,Lynn Bari,Jimmy Bates\",\"Stanley Donen,Gene Kelly\",\"Betty Comden,Adolph Green\"\n",
            "\n",
            "Iteration 85 :  85,Requiem for a Dream,2000,8.3,Drama,Unrated,1h 42m,From the director of [Pi],4500000,7390108,\"Ellen Burstyn,Jared Leto,Jennifer Connelly,Marlon Wayans,Christopher McDonald,Louise Lasser,Marcia Jean Kurtz,Janet Sarno,Suzanne Shepherd,Joanne Gordon,Charlotte Aronofsky,Mark Margolis,Michael Kaycheck,Jack O'Connell,Chas Mastin,Ajay Naidu,Sean Gullette,Samia Shoaib\",Darren Aronofsky,\"Hubert Selby Jr.,Darren Aronofsky\"\n",
            "\n",
            "Iteration 86 :  86,Toy Story 3,2010,8.3,\"Animation,Adventure,Comedy\",G,1h 43m,The Breakout Comedy Of The Summer,200000000,1067316101,\"Tom Hanks,Tim Allen,Joan Cusack,Ned Beatty,Don Rickles,Michael Keaton,Wallace Shawn,John Ratzenberger,Estelle Harris,John Morris,Jodi Benson,Emily Ricks Hahn,Laurie Metcalf,Blake Clark,Teddy Newton,Bud Luckey,Bea Miller,Javier Fernández-Peña\",Lee Unkrich,\"John Lasseter,Andrew Stanton,Lee Unkrich\"\n",
            "\n",
            "Iteration 87 :  87,High and Low,1963,8.4,\"Crime,Drama,Mystery\",Not Rated,2h 23m,142 Screenful Minutes of Thrills and Suspense!,Not Available,Not Available,\"Toshirô Mifune,Yutaka Sada,Tatsuya Nakadai,Kyôko Kagawa,Tatsuya Mihashi,Isao Kimura,Kenjirô Ishiyama,Takeshi Katô,Takashi Shimura,Jun Tazaki,Nobuo Nakamura,Yûnosuke Itô,Tsutomu Yamazaki,Minoru Chiaki,Eijirô Tôno,Masao Shimizu,Masahiko Shimazu,Toshio Egi\",Akira Kurosawa,\"Hideo Oguni,Ryûzô Kikushima,Eijirô Hisaita\"\n",
            "\n",
            "Iteration 88 :  88,Capernaum,2018,8.4,Drama,R,2h 6m,\"\"\"Why are you suing your parents?\"\" \"\"For giving me life.\"\"\",Not Available,Not Available,\"Zain Al Rafeea,Yordanos Shiferaw,Boluwatife Treasure Bankole,Kawsar Al Haddad,Fadi Yousef,Cedra Izzam,Alaa Chouchnieh,Elias Khoury,Mohammad Al Abdallah,Mohamad Abdellatif,Abdo Abdo,Hampig Abraham,Jamil Ahmad,Mohamad Akkar,Elias Akobegia,Riman Al Rafeea,Legamett Alamou,Majd Nabil Alhalabi\",Nadine Labaki,\"Nadine Labaki,Jihad Hojeily,Michelle Keserwany\"\n",
            "\n",
            "Iteration 89 :  89,Star Wars: Episode VI - Return of the Jedi,1983,8.3,\"Action,Adventure,Fantasy\",PG,2h 11m,\"Coming May 25, 1983 to your galaxy. [Second Advance poster]\",32500000,475106177,\"Mark Hamill,Harrison Ford,Carrie Fisher,Billy Dee Williams,Anthony Daniels,Peter Mayhew,Sebastian Shaw,Ian McDiarmid,Frank Oz,James Earl Jones,David Prowse,Alec Guinness,Kenny Baker,Michael Pennington,Kenneth Colley,Michael Carter,Denis Lawson,Tim Rose\",Richard Marquand,\"Lawrence Kasdan,George Lucas\"\n",
            "\n",
            "Iteration 90 :  90,Eternal Sunshine of the Spotless Mind,2004,8.3,\"Drama,Romance,Sci-Fi\",R,1h 48m,I already forget how I used to feel about you.,20000000,74036715,\"Jim Carrey,Kate Winslet,Tom Wilkinson,Gerry Robert Byrne,Elijah Wood,Thomas Jay Ryan,Mark Ruffalo,Jane Adams,David Cross,Kirsten Dunst,Ryan Whitney,Debbon Ayer,Amir Ali Said,Brian Price,Paulie Litt,Josh Flitter,Lola Daehler,Deirdre O'Connell\",Michel Gondry,\"Charlie Kaufman,Michel Gondry,Pierre Bismuth\"\n",
            "\n",
            "Iteration 91 :  91,2001: A Space Odyssey,1968,8.3,\"Adventure,Sci-Fi\",G,2h 29m,Let the Awe and Mystery of a Journey Unlike Any Other Begin,12000000,65889846,\"Keir Dullea,Gary Lockwood,William Sylvester,Daniel Richter,Leonard Rossiter,Margaret Tyzack,Robert Beatty,Sean Sullivan,Douglas Rain,Frank Miller,Bill Weston,Ed Bishop,Glenn Beck,Alan Gifford,Ann Gillis,Edwina Carroll,Penny Brahms,Heather Downham\",Stanley Kubrick,\"Stanley Kubrick,Arthur C. Clarke\"\n",
            "\n",
            "Iteration 92 :  92,Reservoir Dogs,1992,8.3,\"Crime,Thriller\",R,1h 39m,Seven Total Strangers Team Up For The Perfect Crime. They Don't Know Each Other's Name. But They've Got Each Other's Color,1200000,2913644,\"Harvey Keitel,Tim Roth,Michael Madsen,Chris Penn,Steve Buscemi,Lawrence Tierney,Randy Brooks,Kirk Baltz,Edward Bunker,Quentin Tarantino,Rich Turner,David Steen,Tony Cosmo,Stevo Polyi,Michael Sottile,Robert Ruth,Lawrence Bender,Linda Kaye\",Quentin Tarantino,\"Quentin Tarantino,Roger Avary\"\n",
            "\n",
            "Iteration 93 :  93,Come and See,1985,8.4,\"Drama,Thriller,War\",Not Rated,2h 22m,The cruelest side of war.,Not Available,Not Available,\"Aleksey Kravchenko,Olga Mironova,Liubomiras Laucevicius,Vladas Bagdonas,Jüri Lumiste,Viktors Lorencs,Kazimir Rabetsky,Evgeniy Tilicheev,G. Velts,V. Vasilyev,Aleksandr Berda,Vasiliy Domrachyov,Nina Evdokimova,Igor Gnevashev,Adolf Hitler,Valery Kravchenko,Evgeniy Kryzhanovskiy,N. Lisichenok\",Elem Klimov,\"Ales Adamovich,Elem Klimov\"\n",
            "\n",
            "Iteration 94 :  94,The Hunt,2012,8.3,Drama,R,1h 55m,The lie is spreading.,Not Available,Not Available,\"Mads Mikkelsen,Thomas Bo Larsen,Annika Wedderkopp,Lasse Fogelstrøm,Susse Wold,Anne Louise Hassing,Lars Ranthe,Alexandra Rapaport,Sebastian Bull,Steen Ordell Guldbrand Jensen,Daniel Engstrup,Troels Thorsen,Søren Rønholt,Hana Shuan,Jytte Kvinesdal,Josefine Gråbøl,Bjarne Henriksen,Nicolai Dahl Hamilton\",Thomas Vinterberg,\"Thomas Vinterberg,Tobias Lindholm\"\n",
            "\n",
            "Iteration 95 :  95,Citizen Kane,1941,8.3,\"Drama,Mystery\",PG,1h 59m,Radio's Most Dynamic Artist . . The Man At Whose Voice A Nation Trembled . . . Now the screen's most exciting NEW star ! ORSON WELLES in the picture Hollywood said he'd never make,839727,1645133,\"Orson Welles,Joseph Cotten,Dorothy Comingore,Agnes Moorehead,Ruth Warrick,Ray Collins,Erskine Sanford,Everett Sloane,William Alland,Paul Stewart,George Coulouris,Fortunio Bonanova,Gus Schilling,Philip Van Zandt,Georgia Backus,Harry Shannon,Sonny Bupp,Buddy Swan\",Orson Welles,\"Herman J. Mankiewicz,Orson Welles,John Houseman\"\n",
            "\n",
            "Iteration 96 :  96,M,1931,8.3,\"Crime,Mystery,Thriller\",Passed,1h 39m,IT STAGGERS THE SENSES!...SHOCKS the Imagination - It will leave you Gasping - It is the Sensation of 3 Continents!,Not Available,35566,\"Peter Lorre,Ellen Widmann,Inge Landgut,Otto Wernicke,Theodor Loos,Gustaf Gründgens,Friedrich Gnaß,Fritz Odemar,Paul Kemp,Theo Lingen,Rudolf Blümner,Georg John,Franz Stein,Ernst Stahl-Nachbaur,Gerhard Bienert,Karl Platen,Rosa Valetti,Hertha von Walther\",Fritz Lang,\"Thea von Harbou,Fritz Lang,Egon Jacobsohn\"\n",
            "\n",
            "Iteration 97 :  97,Lawrence of Arabia,1962,8.3,\"Adventure,Biography,Drama\",Approved,3h 38m,A Mighty Motion Picture Of Action And Adventure!,15000000,45720631,\"Peter O'Toole,Alec Guinness,Anthony Quinn,Jack Hawkins,Omar Sharif,José Ferrer,Anthony Quayle,Claude Rains,Arthur Kennedy,Donald Wolfit,I.S. Johar,Gamil Ratib,Michel Ray,John Dimech,Zia Mohyeddin,Howard Marion-Crawford,Jack Gwillim,Hugh Miller\",David Lean,\"Robert Bolt,Michael Wilson\"\n",
            "\n",
            "Iteration 98 :  98,North by Northwest,1959,8.3,\"Action,Adventure,Mystery\",Approved,2h 16m,Alfred Hitchcock takes you.... North by Northwest!,3101000,142319,\"Cary Grant,Eva Marie Saint,James Mason,Jessie Royce Landis,Leo G. Carroll,Josephine Hutchinson,Philip Ober,Martin Landau,Adam Williams,Edward Platt,Robert Ellenstein,Les Tremayne,Philip Coolidge,Patrick McVey,Edward Binns,Ken Lynch,Stanley Adams,John Alban\",Alfred Hitchcock,Ernest Lehman\n",
            "\n",
            "Iteration 99 :  99,Vertigo,1958,8.3,\"Mystery,Romance,Thriller\",PG,2h 8m,A Hitchcock thriller. You should see it from the beginning!,2479000,7798146,\"James Stewart,Kim Novak,Barbara Bel Geddes,Tom Helmore,Henry Jones,Raymond Bailey,Ellen Corby,Konstantin Shayne,Lee Patrick,David Ahdar,Isabel Analla,Jack Ano,Margaret Bacon,John Benson,Danny Borzage,Margaret Brayton,Paul Bryar,Boyd Cabeen\",Alfred Hitchcock,\"Alec Coppel,Samuel A. Taylor,Pierre Boileau\"\n",
            "\n",
            "Iteration 100 :  100,Ikiru,1952,8.3,Drama,Not Rated,2h 23m,One of the Great Films of Our Time!,Not Available,96302,\"Takashi Shimura,Nobuo Kaneko,Shin'ichi Himori,Haruo Tanaka,Minoru Chiaki,Miki Odagiri,Bokuzen Hidari,Minosuke Yamada,Kamatari Fujiwara,Makoto Kobori,Nobuo Nakamura,Atsushi Watanabe,Isao Kimura,Masao Shimizu,Yûnosuke Itô,Kumeko Urabe,Eiko Miyoshi,Noriko Honma\",Akira Kurosawa,\"Akira Kurosawa,Shinobu Hashimoto,Hideo Oguni\"\n",
            "\n",
            "Iteration 101 :  101,Amélie,2001,8.3,\"Comedy,Romance\",R,2h 2m,One person can change your life forever.,10000000,174122191,\"Audrey Tautou,Mathieu Kassovitz,Rufus,Lorella Cravotta,Serge Merlin,Jamel Debbouze,Clotilde Mollet,Claire Maurier,Isabelle Nanty,Dominique Pinon,Artus de Penguern,Yolande Moreau,Urbain Cancelier,Maurice Bénichou,Michel Robin,Andrée Damant,Claude Perron,Armelle\",Jean-Pierre Jeunet,\"Guillaume Laurant,Jean-Pierre Jeunet\"\n",
            "\n",
            "Iteration 102 :  102,The Apartment,1960,8.3,\"Comedy,Drama,Romance\",Approved,2h 5m,\"Movie-wise, there has never been anything like \"\"THE APARTMENT\"\" love-wise, laugh-wise or otherwise-wise!\",3000000,18778738,\"Jack Lemmon,Shirley MacLaine,Fred MacMurray,Ray Walston,Jack Kruschen,David Lewis,Hope Holiday,Joan Shawlee,Naomi Stevens,Johnny Seven,Joyce Jameson,Willard Waterman,David White,Edie Adams,Dorothy Abbott,Bill Baldwin,Paul Bradley,Benny Burt\",Billy Wilder,\"Billy Wilder,I.A.L. Diamond\"\n",
            "\n",
            "Iteration 103 :  103,A Clockwork Orange,1971,8.3,\"Crime,Sci-Fi\",X,2h 16m,\"Being the adventures of a young man ... who couldn't resist pretty girls ... or a bit of the old ultra-violence ... went to jail, was re-conditioned ... and came out a different young man ... or was he ?\",2200000,26960374,\"Malcolm McDowell,Patrick Magee,Michael Bates,Warren Clarke,John Clive,Adrienne Corri,Carl Duering,Paul Farrell,Clive Francis,Michael Gover,Miriam Karlin,James Marcus,Aubrey Morris,Godfrey Quigley,Sheila Raynor,Madge Ryan,John Savident,Anthony Sharp\",Stanley Kubrick,\"Stanley Kubrick,Anthony Burgess\"\n",
            "\n",
            "Iteration 104 :  104,Double Indemnity,1944,8.3,\"Crime,Drama,Film-Noir\",Passed,1h 47m,\"IT'S LOVE AND MURDER AT FIRST SIGHT! (print ad - Lubbock Morning Avalanche - Lindsey Theatre - Lubbock, Texas - September 1, 1944 - all caps)\",927262,14651,\"Fred MacMurray,Barbara Stanwyck,Edward G. Robinson,Byron Barr,Porter Hall,Jean Heather,Tom Powers,Richard Gaines,Fortunio Bonanova,John Philliber,Lev Abramov,James Adamson,John Berry,Raymond Chandler,Edmund Cobb,Kernan Cripps,Betty Farrington,Bess Flowers\",Billy Wilder,\"Billy Wilder,Raymond Chandler,James M. Cain\"\n",
            "\n",
            "Iteration 105 :  105,Full Metal Jacket,1987,8.3,\"Drama,War\",R,1h 56m,An Epic Story of the Vietnam War [Australia Theatrical],30000000,46358827,\"Matthew Modine,R. Lee Ermey,Vincent D'Onofrio,Adam Baldwin,Dorian Harewood,Kevyn Major Howard,Arliss Howard,Ed O'Ross,John Terry,Kieron Jecchinis,Kirk Taylor,Tim Colceri,Jon Stafford,Bruce Boa,Ian Tyler,Sal Lopez,Gary Landon Mills,Papillon Soo\",Stanley Kubrick,\"Stanley Kubrick,Michael Herr,Gustav Hasford\"\n",
            "\n",
            "Iteration 106 :  106,Top Gun: Maverick,2022,8.3,\"Action,Drama\",PG-13,2h 10m,Feel the need... The need for speed.,170000000,1488732821,\"Tom Cruise,Jennifer Connelly,Miles Teller,Val Kilmer,Bashir Salahuddin,Jon Hamm,Charles Parnell,Monica Barbaro,Lewis Pullman,Jay Ellis,Danny Ramirez,Glen Powell,Jack Schumacher,Manny Jacinto,Kara Wang,Greg Tarzan Davis,Jake Picking,Raymond Lee\",Joseph Kosinski,\"Jim Cash,Jack Epps Jr.,Peter Craig\"\n",
            "\n",
            "Iteration 107 :  107,Scarface,1983,8.3,\"Crime,Drama\",R,2h 50m,He was Tony Montana. The world will remember him by another name...SCARFACE.,25000000,65884703,\"Al Pacino,Michelle Pfeiffer,Steven Bauer,Mary Elizabeth Mastrantonio,Robert Loggia,Miriam Colon,F. Murray Abraham,Paul Shenar,Harris Yulin,Ángel Salazar,Arnaldo Santana,Pepe Serna,Michael P. Moran,Al Israel,Dennis Holahan,Mark Margolis,Michael Alldredge,Ted Beniades\",Brian De Palma,\"Oliver Stone,Howard Hawks,Ben Hecht\"\n",
            "\n",
            "Iteration 108 :  108,Hamilton,2020,8.4,\"Biography,Drama,History\",PG-13,2h 40m,An American Musical,Not Available,Not Available,\"Lin-Manuel Miranda,Phillipa Soo,Leslie Odom Jr.,Renée Elise Goldsberry,Daveed Diggs,Jonathan Groff,Chris Jackson,Jasmine Cephas Jones,Okieriete Onaodowan,Anthony Ramos,Carleigh Bettiol,Ariana DeBose,Hope Easterbrook,Sydney James Harcourt,Sasha Hutchings,Thayne Jasperson,Elizabeth Judd,Jon Rua\",Thomas Kail,\"Lin-Manuel Miranda,Ron Chernow\"\n",
            "\n",
            "Iteration 109 :  109,Incendies,2010,8.3,\"Drama,Mystery\",R,2h 11m,The search began at the opening of their mother's will.,6800000,6788659,\"Lubna Azabal,Mélissa Désormeaux-Poulin,Maxim Gaudette,Mustafa Kamel,Hussein Sami,Rémy Girard,Dominique Briand,Frédéric Paquet,Hamed Najem,Ahmad Massad,Bader Alami,Majida Hussein,Asriah Nijres,John Dunn-Hill,Nadia Essadiqi,Chaouki Charbel,Axel Garbi,Amine Benzenine\",Denis Villeneuve,\"Denis Villeneuve,Wajdi Mouawad,Valérie Beaugrand-Champagne\"\n",
            "\n",
            "Iteration 110 :  110,To Kill a Mockingbird,1962,8.3,\"Crime,Drama\",Approved,2h 9m,The most beloved and widely read Pulitzer Prize Winner now comes vividly alive on the screen!,2000000,599146,\"Gregory Peck,John Megna,Frank Overton,Rosemary Murphy,Ruth White,Brock Peters,Estelle Evans,Paul Fix,Collin Wilcox Paxton,James Anderson,Alice Ghostley,Robert Duvall,William Windom,Crahan Denton,Richard Hale,Mary Badham,Phillip Alford,R.L. Armstrong\",Robert Mulligan,\"Harper Lee,Horton Foote\"\n",
            "\n",
            "Iteration 111 :  111,Heat,1995,8.3,\"Action,Crime,Drama\",R,2h 50m,An L.A. Redemption,60000000,187436818,\"Al Pacino,Robert De Niro,Val Kilmer,Jon Voight,Tom Sizemore,Diane Venora,Amy Brenneman,Ashley Judd,Mykelti Williamson,Wes Studi,Ted Levine,Dennis Haysbert,William Fichtner,Natalie Portman,Tom Noonan,Kevin Gage,Hank Azaria,Susan Traylor\",Michael Mann,Michael Mann\n",
            "\n",
            "Iteration 112 :  112,The Sting,1973,8.3,\"Comedy,Crime,Drama\",PG,2h 9m,\"Recapture \"\"the STING Experience\"\". REMEMBER HOW GOOD THE FEEL WAS THE FIRST TIME (re-release)\",5500000,156000000,\"Paul Newman,Robert Redford,Robert Shaw,Charles Durning,Ray Walston,Eileen Brennan,Harold Gould,John Heffernan,Dana Elcar,Jack Kehoe,Dimitra Arliss,Robert Earl Jones,James Sloyan,Charles Dierkop,Lee Paul,Sally Kirkland,Avon Long,Arch Johnson\",George Roy Hill,David S. Ward\n",
            "\n",
            "Iteration 113 :  113,Up,2009,8.3,\"Animation,Adventure,Comedy\",PG,1h 36m,Fly Up to Venezuela,175000000,735099102,\"Edward Asner,Jordan Nagai,John Ratzenberger,Christopher Plummer,Bob Peterson,Delroy Lindo,Jerome Ranft,David Kaye,Elie Docter,Jeremy Leary,Mickie McGowan,Danny Mann,Donald Fullilove,Jess Harnell,Josh Cooley,Pete Docter,Mark Andrews,Bob Bergen\",\"Pete Docter,Bob Peterson(co-director)\",\"Pete Docter,Bob Peterson,Tom McCarthy\"\n",
            "\n",
            "Iteration 114 :  114,A Separation,2011,8.3,Drama,PG-13,2h 3m,\"Ugly truth, sweet lies\",500000,22926076,\"Payman Maadi,Leila Hatami,Sareh Bayat,Shahab Hosseini,Sarina Farhadi,Merila Zare'i,Ali-Asghar Shahbazi,Babak Karimi,Kimia Hosseini,Shirin Yazdanbakhsh,Sohibanoo Zolqadr,Mohammadhasan Asghari,Shirin Azimiyannezhad,Hamid Dadju,Mohammad Ebrahimian,Samad Farhang,Ali Fattahi,Nafise Ghodrati\",Asghar Farhadi,Asghar Farhadi\n",
            "\n",
            "Iteration 115 :  115,Metropolis,1927,8.3,\"Drama,Sci-Fi\",Not Rated,2h 33m,Fritz Lang's 1927 Masterpiece Now With 25 Minutes of Lost Footage (2010 re-release),EM 6000000,1349711,\"Brigitte Helm,Alfred Abel,Gustav Fröhlich,Rudolf Klein-Rogge,Fritz Rasp,Theodor Loos,Erwin Biswanger,Heinrich George,Fritz Alberti,Grete Berger,Olly Boeheim,Max Dietze,Ellen Frey,Beatrice Garga,Heinrich Gotho,Dolly Grey,Anny Hintze,Gottfried Huppertz\",Fritz Lang,\"Thea von Harbou,Fritz Lang\"\n",
            "\n",
            "Iteration 116 :  116,Taxi Driver,1976,8.2,\"Crime,Drama\",R,1h 54m,\"On every street in every city in this country, there's a nobody who dreams of being a somebody.\",1300000,28570902,\"Robert De Niro,Jodie Foster,Cybill Shepherd,Albert Brooks,Diahnne Abbott,Frank Adu,Victor Argo,Gino Ardito,Garth Avery,Peter Boyle,Harry Cohn,Copper Cunningham,Brenda Dickson,Harry Fischler,Nat Grant,Leonard Harris,Richard Higgs,Beau Kayser\",Martin Scorsese,Paul Schrader\n",
            "\n",
            "Iteration 117 :  117,L.A. Confidential,1997,8.2,\"Crime,Drama,Mystery\",R,2h 18m,\"Off the record, on the QT, and very hush-hush...\",35000000,126216940,\"Kevin Spacey,Russell Crowe,Guy Pearce,Kim Basinger,James Cromwell,Danny DeVito,David Strathairn,Ron Rifkin,Matt McCoy,Paul Guilfoyle,Paolo Seganti,Elisabeth Granli,Sandra Taylor,Steve Rankin,Graham Beckel,Allan Graf,Precious Chong,Symba\",Curtis Hanson,\"James Ellroy,Brian Helgeland,Curtis Hanson\"\n",
            "\n",
            "Iteration 118 :  118,Die Hard,1988,8.2,\"Action,Thriller\",R,2h 12m,It will blow you through the back wall of the theater!,28000000,141603197,\"Bruce Willis,Alan Rickman,Bonnie Bedelia,Reginald VelJohnson,Paul Gleason,De'voreaux White,William Atherton,Hart Bochner,James Shigeta,Alexander Godunov,Bruno Doyon,Andreas Wisniewski,Clarence Gilyard Jr.,Joseph Plewa,Lorenzo Caccialanza,Gérard Bonn,Dennis Hayden,Al Leong\",John McTiernan,\"Roderick Thorp,Jeb Stuart,Steven E. de Souza\"\n",
            "\n",
            "Iteration 119 :  119,Snatch,2000,8.2,\"Comedy,Crime\",R,1h 42m,Stealin' Stones and Breakin' Bones,6000000,83557872,\"Jason Statham,Brad Pitt,Stephen Graham,Vinnie Jones,Ade,William Beck,Andy Beckwith,Ewen Bremner,Jason Buckham,Mickey Cantwell,Nicola Collins,Teena Collins,Charles Cork,James Cunningham,Sorcha Cusack,Mickey Dee,Benicio Del Toro,Sam Douglas\",Guy Ritchie,Guy Ritchie\n",
            "\n",
            "Iteration 120 :  120,Indiana Jones and the Last Crusade,1989,8.2,\"Action,Adventure\",PG-13,2h 7m,He's back in an all new adventure. Memorial Day 1989.,48000000,474171806,\"Harrison Ford,Sean Connery,Alison Doody,Denholm Elliott,John Rhys-Davies,Julian Glover,River Phoenix,Michael Byrne,Kevork Malikyan,Robert Eddison,Richard Young,Alexei Sayle,Alex Hyde-White,Paul Maxwell,Isla Blair,Vernon Dobtcheff,J.J. Hardy,Bradley Gregg\",Steven Spielberg,\"Jeffrey Boam,George Lucas,Menno Meyjes\"\n",
            "\n",
            "Iteration 121 :  121,Bicycle Thieves,1948,8.3,Drama,Not Rated,1h 29m,The Prize Picture They Want to Censor!,133000,436655,\"Lamberto Maggiorani,Enzo Staiola,Lianella Carell,Elena Altieri,Gino Saltamerenda,Giulio Chiari,Vittorio Antonucci,Michele Sakara,Fausto Guerzoni,Emma Druetti,Carlo Jachino,Giulio Battiferri,Ida Bracci Dorati,Nando Bruno,Eolo Capritti,Memmo Carotenuto,Giovanni Corporale,Veriano Ginesi\",Vittorio De Sica,\"Cesare Zavattini,Luigi Bartolini,Oreste Biancoli\"\n",
            "\n",
            "Iteration 122 :  122,Like Stars on Earth,2007,8.3,\"Drama,Family\",PG,2h 45m,Every Child is Special,Not Available,21897373,\"Darsheel Safary,Aamir Khan,Tisca Chopra,Vipin Sharma,Sachet Engineer,Tanay Chheda,Lalitha Lajmi,Girija Oak,Ravi Khanvilkar,Pratima Kulkarni,Meghna Malik,Sonali Sachdev,Sanjay Dadhich,Rajgopal Iyer,Bugs Bhargava Krishna,Shankar Sachdev,M.K. Raina,Gurkirtan\",\"Aamir Khan,Amole Gupte(uncredited)\",Amole Gupte\n",
            "\n",
            "Iteration 123 :  123,1917,2019,8.2,\"Action,Drama,War\",R,1h 59m,Time is the enemy.,95000000,384479940,\"Dean-Charles Chapman,George MacKay,Daniel Mays,Colin Firth,Pip Carter,Andy Apollo,Paul Tinto,Josef Davies,Billy Postlethwaite,Gabriel Akuwudike,Andrew Scott,Spike Leighton,Robert Maaser,Gerran Howell,Adam Hugill,Mark Strong,Richard McCabe,Benjamin Adams\",Sam Mendes,\"Sam Mendes,Krysty Wilson-Cairns\"\n",
            "\n",
            "Iteration 124 :  124,Downfall,2004,8.2,\"Biography,Drama,History\",R,2h 36m,\"April 1945, a nation awaits its...\",13500000,92181574,\"Bruno Ganz,Alexandra Maria Lara,Ulrich Matthes,Juliane Köhler,Corinna Harfouch,Heino Ferch,Christian Berkel,Matthias Habich,Thomas Kretschmann,Michael Mendl,André Hennicke,Ulrich Noethen,Birgit Minichmayr,Rolf Kanies,Justus von Dohnányi,Dieter Mann,Christian Redl,Götz Otto\",Oliver Hirschbiegel,\"Bernd Eichinger,Joachim Fest,Traudl Junge\"\n",
            "\n",
            "Iteration 125 :  125,Dangal,2016,8.3,\"Action,Biography,Drama\",Not Rated,2h 41m,You think our girls are any lesser than boys?,Not Available,Not Available,\"Aamir Khan,Sakshi Tanwar,Fatima Sana Shaikh,Sanya Malhotra,Aparshakti Khurana,Zaira Wasim,Suhani Bhatnagar,Ritvik Sahore,Girish Kulkarni,Ravi Aneja,Anurag Arora,Mahesh Balraj,Vivan Bhatena,Anmol Charan,Karamveer Choudhary,Ishika Gagneja,Badrul Islam,Jagbir\",Nitesh Tiwari,\"Piyush Gupta,Shreyas Jain,Nikhil Mehrotra\"\n",
            "\n",
            "Iteration 126 :  126,For a Few Dollars More,1965,8.2,Western,R,2h 12m,The man with no name is back.,600000,15000000,\"Clint Eastwood,Lee Van Cleef,Gian Maria Volontè,Mara Krupp,Luigi Pistilli,Klaus Kinski,Luis Rodríguez,Benito Stefanelli,Panos Papadopulos,Aldo Sambrell,Roberto Camardiel,Joseph Egger,Tomás Blanco,Lorenzo Robledo,Dante Maggio,Sergio Mendizábal,Diana Rabito,Giovanni Tarallo\",Sergio Leone,\"Sergio Leone,Fulvio Morsella,Luciano Vincenzoni\"\n",
            "\n",
            "Iteration 127 :  127,Batman Begins,2005,8.2,\"Action,Crime,Drama\",PG-13,2h 20m,The Legend Begins,150000000,373672993,\"Christian Bale,Michael Caine,Ken Watanabe,Liam Neeson,Katie Holmes,Gary Oldman,Cillian Murphy,Tom Wilkinson,Rutger Hauer,Mark Boone Junior,Linus Roache,Morgan Freeman,Larry Holden,Gerard Murphy,Colin McFarlane,Sara Stewart,Gus Lewis,Richard Brake\",Christopher Nolan,\"Bob Kane,David S. Goyer,Christopher Nolan\"\n",
            "\n",
            "Iteration 128 :  128,The Kid,1921,8.3,\"Comedy,Drama,Family\",Passed,1h 8m,This is the great film he has been working on for a whole year,250000,41960,\"Charles Chaplin,Edna Purviance,Jackie Coogan,Carl Miller,Albert Austin,Beulah Bains,Nellie Bly Baker,Henry Bergman,Edward Biby,B.F. Blinn,Kitty Bradbury,Frank Campeau,Bliss Chevalier,Frances Cochran,Elsie Codd,Jack Coogan Sr.,Estelle Cook,Lillian Crane\",Charles Chaplin,Charles Chaplin\n",
            "\n",
            "Iteration 129 :  129,Some Like It Hot,1959,8.2,\"Comedy,Music,Romance\",Passed,2h 1m,\"Not since SCARFACE, so much action. Not since the Marx Brothers, so much comedy. Not since THE SEVEN YEAR ITCH, so much Marilyn.\",2883848,195088,\"Marilyn Monroe,Tony Curtis,Jack Lemmon,George Raft,Pat O'Brien,Joe E. Brown,Nehemiah Persoff,Joan Shawlee,Billy Gray,George E. Stone,Dave Barry,Mike Mazurki,Harry Wilson,Beverly Wills,Barbara Drew,Edward G. Robinson Jr.,Sam Bagley,Brandon Beach\",Billy Wilder,\"Billy Wilder,I.A.L. Diamond,Robert Thoeren\"\n",
            "\n",
            "Iteration 130 :  130,The Father,2020,8.2,\"Drama,Mystery\",PG-13,1h 37m,Nothing is as it seems,6000000,24427162,\"Anthony Hopkins,Olivia Colman,Mark Gatiss,Olivia Williams,Imogen Poots,Rufus Sewell,Ayesha Dharker,Roman Zeller,Adnan Kundi,Brian Rodger,Evie Wray\",Florian Zeller,\"Christopher Hampton,Florian Zeller\"\n",
            "\n",
            "Iteration 131 :  131,All About Eve,1950,8.2,Drama,Passed,2h 18m,It's all about women---and their men!,1400000,151052,\"Bette Davis,Anne Baxter,George Sanders,Celeste Holm,Gary Merrill,Hugh Marlowe,Gregory Ratoff,Barbara Bates,Marilyn Monroe,Thelma Ritter,Walter Hampden,Randy Stuart,Craig Hill,Leland Harris,Barbara White,Eddie Fisher,William Pullen,Claude Stroud\",Joseph L. Mankiewicz,\"Joseph L. Mankiewicz,Mary Orr\"\n",
            "\n",
            "Iteration 132 :  132,The Wolf of Wall Street,2013,8.2,\"Biography,Comedy,Crime\",R,3h,Earn. Spend. Party.,100000000,406878233,\"Leonardo DiCaprio,Jonah Hill,Margot Robbie,Matthew McConaughey,Kyle Chandler,Rob Reiner,Jon Bernthal,Jon Favreau,Jean Dujardin,Joanna Lumley,Cristin Milioti,Christine Ebersole,Shea Whigham,Katarina Cas,P.J. Byrne,Kenneth Choi,Brian Sacca,Henry Zebrowski\",Martin Scorsese,\"Terence Winter,Jordan Belfort\"\n",
            "\n",
            "Iteration 133 :  133,Green Book,2018,8.2,\"Biography,Comedy,Drama\",PG-13,2h 10m,Inspired by a True Friendship,23000000,321752656,\"Viggo Mortensen,Mahershala Ali,Linda Cardellini,Sebastian Maniscalco,Dimiter D. Marinov,Mike Hatton,P.J. Byrne,Joe Cortese,Maggie Nixon,Von Lewis,Jon Sortland,Don Stark,Anthony Mangano,Paul Sloan,Quinn Duffy,Seth Hurwitz,Hudson Galloway,Gavin Lyle Foley\",Peter Farrelly,\"Nick Vallelonga,Brian Hayes Currie,Peter Farrelly\"\n",
            "\n",
            "Iteration 134 :  134,Judgment at Nuremberg,1961,8.3,\"Drama,War\",Approved,2h 59m,More than a motion picture...It is an overwhelming experience in human emotion you will never forget!,3000000,12180,\"Spencer Tracy,Burt Lancaster,Richard Widmark,Marlene Dietrich,Maximilian Schell,Judy Garland,Montgomery Clift,William Shatner,Werner Klemperer,Kenneth MacKenna,Torben Meyer,Joseph Bernard,Alan Baxter,Edward Binns,Virginia Christine,Otto Waldis,Karl Swenson,Martin Brandt\",Stanley Kramer,\"Abby Mann,Montgomery Clift\"\n",
            "\n",
            "Iteration 135 :  135,Casino,1995,8.2,\"Crime,Drama\",R,2h 58m,You don't stay at the top forever,52000000,116112375,\"Robert De Niro,Sharon Stone,Joe Pesci,James Woods,Don Rickles,Alan King,Kevin Pollak,L.Q. Jones,Dick Smothers,Frank Vincent,John Bloom,Pasquale Cajano,Melissa Prophet,Bill Allison,Vinny Vella,Philip Suriano,Erika von Tagen,Frankie Avalon\",Martin Scorsese,\"Nicholas Pileggi,Martin Scorsese\"\n",
            "\n",
            "Iteration 136 :  136,Ran,1985,8.2,\"Action,Drama,War\",R,2h 42m,tionDramaWar,11500000,4164283,\"Tatsuya Nakadai,Akira Terao,Jinpachi Nezu,Daisuke Ryû,Mieko Harada,Yoshiko Miyazaki,Hisashi Igawa,Pîtâ,Masayuki Yui,Kazuo Katô,Norio Matsui,Toshiya Ito,Kenji Kodama,Takashi Watanabe,Mansai Nomura,Takeshi Katô,Jun Tazaki,Hitoshi Ueki\",Akira Kurosawa,\"Akira Kurosawa,Hideo Oguni,Masato Ide\"\n",
            "\n",
            "Iteration 137 :  137,Pan's Labyrinth,2006,8.2,\"Drama,Fantasy,War\",R,1h 58m,What happens when make-believe believes it's real?,19000000,83862032,\"Ivana Baquero,Ariadna Gil,Sergi López,Maribel Verdú,Doug Jones,Álex Angulo,Manolo Solo,César Vea,Roger Casamajor,Ivan Massagué,Gonzalo Uriarte,Eusebio Lázaro,Francisco Vidal,Juanjo Cucalón,Lina Mira,Mario Zorrilla,Sebastián Haro,Mila Espiga\",Guillermo del Toro,Guillermo del Toro\n",
            "\n",
            "Iteration 138 :  138,The Truman Show,1998,8.2,\"Comedy,Drama\",PG,1h 43m,All the world's a stage...,60000000,264118201,\"Jim Carrey,Ed Harris,Laura Linney,Noah Emmerich,Natascha McElhone,Holland Taylor,Brian Delate,Blair Slater,Peter Krause,Heidi Schanz,Ron Taylor,Don Taylor,Ted Raymond,Judy Clayton,Fritz Dominique,Angel Schmiedt,Nastassja Schmiedt,Muriel Moore\",Peter Weir,Andrew Niccol\n",
            "\n",
            "Iteration 139 :  139,There Will Be Blood,2007,8.2,Drama,R,2h 38m,There Will Be Greed. There Will Be Vengeance.,25000000,76182388,\"Daniel Day-Lewis,Paul Dano,Ciarán Hinds,Martin Stringer,Matthew Braden Stringer,Jacob Stringer,Joseph Mussey,Barry Del Sherman,Harrison Taylor,Stockton Taylor,Paul F. Tompkins,Dillon Freasier,Kevin Breznahan,Jim Meskimen,Erica Sullivan,Randall Carver,Coco Leigh,Sydney McCallister\",Paul Thomas Anderson,\"Paul Thomas Anderson,Upton Sinclair\"\n",
            "\n",
            "Iteration 140 :  140,Unforgiven,1992,8.2,\"Drama,Western\",R,2h 10m,\"It's a hell of a thing, killing a man\",14400000,159167799,\"Clint Eastwood,Gene Hackman,Morgan Freeman,Richard Harris,Jaimz Woolvett,Saul Rubinek,Frances Fisher,Anna Thomson,David Mucci,Rob Campbell,Anthony James,Tara Frederick,Beverley Elliott,Liisa Repo-Martell,Josie Smith,Shane Meier,Aline Levasseur,Cherrilene Cardinal\",Clint Eastwood,David Webb Peoples\n",
            "\n",
            "Iteration 141 :  141,The Sixth Sense,1999,8.2,\"Drama,Mystery,Thriller\",PG-13,1h 47m,\"\"\"I see dead people\"\"\",40000000,672806432,\"Bruce Willis,Haley Joel Osment,Toni Collette,Olivia Williams,Trevor Morgan,Donnie Wahlberg,Peter Anthony Tambakis,Jeffrey Zubernis,Bruce Norris,Glenn Fitzgerald,Greg Wood,Mischa Barton,Angelica Page,Lisa Summerour,Firdous Bamji,Samia Shoaib,Hayden Saunier,Janis Dardaris\",M. Night Shyamalan,M. Night Shyamalan\n",
            "\n",
            "Iteration 142 :  142,Shutter Island,2010,8.2,\"Mystery,Thriller\",R,2h 18m,Someone is missing.,80000000,294805697,\"Leonardo DiCaprio,Emily Mortimer,Mark Ruffalo,Ben Kingsley,Max von Sydow,Michelle Williams,Patricia Clarkson,Jackie Earle Haley,Ted Levine,John Carroll Lynch,Elias Koteas,Robin Bartlett,Christopher Denham,Nellie Sciutto,Joseph Sikora,Curtiss Cook,Raymond Anthony Thomas,Joseph McKenna\",Martin Scorsese,\"Laeta Kalogridis,Dennis Lehane\"\n",
            "\n",
            "Iteration 143 :  143,A Beautiful Mind,2001,8.2,\"Biography,Drama\",PG-13,2h 15m,The Only Thing Greater Than the Power of the Mind is the Courage of the Heart,58000000,316791257,\"Russell Crowe,Ed Harris,Jennifer Connelly,Christopher Plummer,Paul Bettany,Adam Goldberg,Josh Lucas,Anthony Rapp,Jason Gray-Stanford,Judd Hirsch,Austin Pendleton,Vivien Cardone,Jillie Simon,Victor Steinbach,Tanya Clarke,Thomas F. Walsh,Jesse Doran,Kent Cassella\",Ron Howard,\"Akiva Goldsman,Sylvia Nasar\"\n",
            "\n",
            "Iteration 144 :  144,Jurassic Park,1993,8.2,\"Action,Adventure,Sci-Fi\",PG-13,2h 7m,Life finds a way.,63000000,1109802321,\"Sam Neill,Laura Dern,Jeff Goldblum,Richard Attenborough,Bob Peck,Martin Ferrero,BD Wong,Joseph Mazzello,Ariana Richards,Samuel L. Jackson,Wayne Knight,Gerald R. Molen,Miguel Sandoval,Cameron Thor,Christopher John Fields,Whit Hertford,Dean Cundey,Jophery C. Brown\",Steven Spielberg,\"Michael Crichton,David Koepp\"\n",
            "\n",
            "Iteration 145 :  145,Yojimbo,1961,8.2,\"Action,Drama,Thriller\",Not Rated,1h 50m,Better if all these men were dead. Think about it!,Not Available,46808,\"Toshirô Mifune,Eijirô Tôno,Tatsuya Nakadai,Yôko Tsukasa,Isuzu Yamada,Daisuke Katô,Seizaburô Kawazu,Takashi Shimura,Hiroshi Tachikawa,Yôsuke Natsuki,Kamatari Fujiwara,Ikio Sawamura,Atsushi Watanabe,Susumu Fujita,Kyû Sazanka,Kô Nishimura,Takeshi Katô,Ichirô Nakatani\",Akira Kurosawa,\"Akira Kurosawa,Ryûzô Kikushima\"\n",
            "\n",
            "Iteration 146 :  146,The Treasure of the Sierra Madre,1948,8.2,\"Adventure,Drama,Western\",Passed,2h 6m,Storming to a New High in High Adventure !,3000000,5014000,\"Humphrey Bogart,Walter Huston,Tim Holt,Bruce Bennett,Barton MacLane,Alfonso Bedoya,Arturo Soto Rangel,Manuel Dondé,José Torvay,Margarito Luna,Robert Blake,Guillermo Calles,Roberto Cañedo,Spencer Chan,Jacqueline Dalya,Ralph Dunn,Ernesto Escoto,Pat Flaherty\",John Huston,\"John Huston,B. Traven\"\n",
            "\n",
            "Iteration 147 :  147,Monty Python and the Holy Grail,1975,8.2,\"Adventure,Comedy,Fantasy\",PG,1h 31m,You can do worse than see it.,229575,1940906,\"Graham Chapman,John Cleese,Eric Idle,Terry Gilliam,Terry Jones,Michael Palin,Connie Booth,Carol Cleveland,Neil Innes,Bee Duffell,John Young,Rita Davies,Avril Stewart,Sally Kinghorn,Mark Zycon,Elspeth Cameron,Mitsuko Forstater,Sandy Johnson\",\"Terry Gilliam,Terry Jones\",\"Graham Chapman,John Cleese,Eric Idle\"\n",
            "\n",
            "Iteration 148 :  148,The Great Escape,1963,8.2,\"Adventure,Drama,History\",Approved,2h 52m,put a fence in front of these men...and they'll climb it...,4000000,228178,\"Steve McQueen,James Garner,Richard Attenborough,Charles Bronson,James Donald,Donald Pleasence,James Coburn,Hannes Messemer,David McCallum,Gordon Jackson,John Leyton,Angus Lennie,Nigel Stock,Robert Graf,Jud Taylor,Hans Reiser,Harry Riebauer,William Russell\",John Sturges,\"Paul Brickhill,James Clavell,W.R. Burnett\"\n",
            "\n",
            "Iteration 149 :  149,No Country for Old Men,2007,8.2,\"Crime,Drama,Thriller\",R,2h 2m,There Are No Clean Getaways,25000000,171627434,\"Tommy Lee Jones,Javier Bardem,Josh Brolin,Woody Harrelson,Kelly Macdonald,Garret Dillahunt,Tess Harper,Barry Corbin,Stephen Root,Rodger Boyce,Beth Grant,Ana Reeder,Kit Gwin,Zach Hopkins,Chip Love,Eduardo Antonio Garcia,Gene Jones,Myk Watford\",\"Ethan Coen,Joel Coen\",\"Joel Coen,Ethan Coen,Cormac McCarthy\"\n",
            "\n",
            "Iteration 150 :  150,Spider-Man: No Way Home,2021,8.2,\"Action,Adventure,Fantasy\",PG-13,2h 28m,The Multiverse Unleashed.,200000000,1921847111,\"Tom Holland,Zendaya,Benedict Cumberbatch,Jacob Batalon,Jon Favreau,Jamie Foxx,Willem Dafoe,Alfred Molina,Benedict Wong,Tony Revolori,Marisa Tomei,Andrew Garfield,Tobey Maguire,Angourie Rice,Arian Moayed,Paula Newsome,Hannibal Buress,Martin Starr\",Jon Watts,\"Chris McKenna,Erik Sommers,Stan Lee\"\n",
            "\n",
            "Iteration 151 :  151,Kill Bill: Vol. 1,2003,8.2,\"Action,Crime,Drama\",R,1h 51m,\"In the year 2003, Uma Thurman will kill Bill\",30000000,180906076,\"Uma Thurman,David Carradine,Daryl Hannah,Michael Madsen,Lucy Liu,Vivica A. Fox,Julie Dreyfus,Chiaki Kuriyama,Shin'ichi Chiba,Chia-Hui Liu,Michael Parks,Michael Bowen,Jun Kunimura,Kenji Ôba,Yuki Kazamatsuri,James Parks,Sakichi Sato,Jonathan Loughran\",Quentin Tarantino,\"Quentin Tarantino,Uma Thurman\"\n",
            "\n",
            "Iteration 152 :  152,Rashomon,1950,8.2,\"Crime,Drama,Mystery\",Not Rated,1h 28m,\"The husband, the wife...or the bandit?\",250000,81379,\"Toshirô Mifune,Machiko Kyô,Masayuki Mori,Takashi Shimura,Minoru Chiaki,Kichijirô Ueda,Noriko Honma,Daisuke Katô\",Akira Kurosawa,\"Ryûnosuke Akutagawa,Akira Kurosawa,Shinobu Hashimoto\"\n",
            "\n",
            "Iteration 153 :  153,The Thing,1982,8.2,\"Horror,Mystery,Sci-Fi\",R,1h 49m,Anytime. Anywhere. Anyone.,15000000,19632715,\"Kurt Russell,Wilford Brimley,Keith David,Richard Masur,T.K. Carter,David Clennon,Richard Dysart,Charles Hallahan,Peter Maloney,Donald Moffat,Joel Polis,Thomas G. Waites,Norbert Weisser,Larry Franco,Nate Irwin,William Zeman,Adrienne Barbeau,John Carpenter\",John Carpenter,\"Bill Lancaster,John W. Campbell Jr.\"\n",
            "\n",
            "Iteration 154 :  154,Finding Nemo,2003,8.2,\"Animation,Adventure,Comedy\",G,1h 40m,71% of the Earth's surface is covered by water. That's a lot of space to find one fish.,94000000,941637960,\"Albert Brooks,Ellen DeGeneres,Alexander Gould,Willem Dafoe,Brad Garrett,Allison Janney,Austin Pendleton,Stephen Root,Vicki Lewis,Joe Ranft,Geoffrey Rush,Andrew Stanton,Elizabeth Perkins,Nicholas Bird,Bob Peterson,Barry Humphries,Eric Bana,Bruce Spence\",\"Andrew Stanton,Lee Unkrich(co-director)\",\"Andrew Stanton,Bob Peterson,David Reynolds\"\n",
            "\n",
            "Iteration 155 :  155,The Elephant Man,1980,8.2,\"Biography,Drama\",PG,2h 4m,An incredible but true story... probably this year's best film.,5000000,26023860,\"Anthony Hopkins,John Hurt,Anne Bancroft,John Gielgud,Wendy Hiller,Freddie Jones,Michael Elphick,Hannah Gordon,Helen Ryan,John Standing,Dexter Fletcher,Lesley Dunlop,Phoebe Nicholls,Pat Gorman,Claire Davenport,Orla Pederson,Patsy Smart,Frederick Treves\",David Lynch,\"Christopher De Vore,Eric Bergren,David Lynch\"\n",
            "\n",
            "Iteration 156 :  156,Chinatown,1974,8.2,\"Drama,Mystery,Thriller\",R,2h 10m,You get tough. You get tender. You get close to each other. Maybe you even get close to the truth.,6000000,29225935,\"Jack Nicholson,Faye Dunaway,John Huston,Perry Lopez,John Hillerman,Darrell Zwerling,Diane Ladd,Roy Jenson,Roman Polanski,Richard Bakalyan,Joe Mantell,Bruce Glover,Nandu Hinds,James O'Rear,James Hong,Beulah Quo,Jerry Fujikawa,Belinda Palmer\",Roman Polanski,\"Robert Towne,Roman Polanski\"\n",
            "\n",
            "Iteration 157 :  157,Raging Bull,1980,8.2,\"Biography,Drama,Sport\",R,2h 9m,ographyDramaSport,18000000,23402427,\"Robert De Niro,Cathy Moriarty,Joe Pesci,Frank Vincent,Nicholas Colasanto,Theresa Saldana,Mario Gallo,Frank Adonis,Joseph Bono,Frank Topham,Lori Anne Flax,Charles Scorsese,Don Dunphy,Bill Hanrahan,Rita Bennett,James V. Christy,Bernie Allen,Floyd Anderson\",Martin Scorsese,\"Jake LaMotta,Joseph Carter,Peter Savage\"\n",
            "\n",
            "Iteration 158 :  158,V for Vendetta,2005,8.2,\"Action,Drama,Sci-Fi\",R,2h 12m,\"Remember, remember the 5th of November, the gun powder treason and plot. I know of no reason why the gun powder treason should ever be forgot.\",54000000,134686457,\"Hugo Weaving,Natalie Portman,Rupert Graves,Stephen Rea,Stephen Fry,John Hurt,Tim Pigott-Smith,Roger Allam,Ben Miles,Sinéad Cusack,Natasha Wightman,John Standing,Eddie Marsan,Clive Ashborn,Emma Field-Rayner,Ian Burfield,Mark Phoenix,Alister Mazzotti\",James McTeigue,\"Lilly Wachowski,Lana Wachowski,David Lloyd\"\n",
            "\n",
            "Iteration 159 :  159,Gone with the Wind,1939,8.2,\"Drama,Romance,War\",Passed,3h 58m,\"For the thousands who remember its unparalleled drama, action and romance! For the new thousands to whom the wonders will be revealed for the first time! Breathtaking spectacle, inspired acting by the greatest cast ever assembled! The screen's most exciting love story! The most-talked about picture ever made! [reissue]\",3977000,402382193,\"Clark Gable,Vivien Leigh,Thomas Mitchell,Barbara O'Neil,Evelyn Keyes,Ann Rutherford,George Reeves,Fred Crane,Hattie McDaniel,Oscar Polk,Butterfly McQueen,Victor Jory,Everett Brown,Howard Hickman,Alicia Rhett,Leslie Howard,Olivia de Havilland,Rand Brooks\",\"Victor Fleming,George Cukor(uncredited),Sam Wood(uncredited)\",\"Margaret Mitchell,Sidney Howard,Oliver H.P. Garrett\"\n",
            "\n",
            "Iteration 160 :  160,\"Lock, Stock and Two Smoking Barrels\",1998,8.2,\"Action,Comedy,Crime\",R,1h 47m,A Disgrace to Criminals Everywhere.,960000,3753929,\"Jason Flemyng,Dexter Fletcher,Nick Moran,Jason Statham,Steven Mackintosh,Nicholas Rowe,Nick Marcq,Charles Forbes,Vinnie Jones,Lenny McLean,Peter McNicholl,P.H. Moriarty,Frank Harper,Steve Sweeney,Huggy Leaver,Ronnie Fox,Tony McMahon,Stephen Marcus\",Guy Ritchie,Guy Ritchie\n",
            "\n",
            "Iteration 161 :  161,Inside Out,2015,8.2,\"Animation,Adventure,Comedy\",PG,1h 35m,Meet the little voices inside your head.,175000000,858848019,\"Amy Poehler,Bill Hader,Lewis Black,Mindy Kaling,Phyllis Smith,Richard Kind,Kaitlyn Dias,Diane Lane,Kyle MacLachlan,Paula Poundstone,Bobby Moynihan,Paula Pell,Dave Goelz,Frank Oz,Josh Cooley,Flea,John Ratzenberger,Carlos Alazraqui\",\"Pete Docter,Ronnie Del Carmen(co-director)\",\"Pete Docter,Ronnie Del Carmen,Meg LeFauve\"\n",
            "\n",
            "Iteration 162 :  162,Dial M for Murder,1954,8.2,\"Crime,Thriller\",PG,1h 45m,Kiss By Kiss...Supreme Suspense Unfurls!,1400000,31207,\"Ray Milland,Grace Kelly,Robert Cummings,John Williams,Anthony Dawson,Leo Britt,Patrick Allen,George Leigh,George Alderson,Robin Hughes,Richard Bender,Robin Sanders Clark,Jack Cunningham,Robert Dobson,Guy Doleman,Bess Flowers,Robert Garvin,Herschel Graham\",Alfred Hitchcock,Frederick Knott\n",
            "\n",
            "Iteration 163 :  163,The Secret in Their Eyes,2009,8.2,\"Drama,Mystery,Romance\",R,2h 9m,Un crimen sin castigo. Un amor puro. Una historia que no debe morir. [A crime without a punishment. A pure love. A story that must not die.],Not Available,Not Available,\"Ricardo Darín,Soledad Villamil,Pablo Rago,Carla Quevedo,Javier Godino,Bárbara Palladino,Rudy Romano,Alejandro Abelenda,Mario Alarcón,Guillermo Francella,Sebastián Blanco,Mariano Argento,José Luis Gioia,Juan José Ortíz,Kiko Cerone,Fernando Pardo,Maximiliano Trento,Sergio Santana\",Juan José Campanella,\"Eduardo Sacheri,Juan José Campanella\"\n",
            "\n",
            "Iteration 164 :  164,Howl's Moving Castle,2004,8.2,\"Animation,Adventure,Family\",PG,1h 59m,imationAdventureFamilyFantasy,24000000,237536126,\"Chieko Baisho,Takuya Kimura,Tatsuya Gashûin,Akihiro Miwa,Ryûnosuke Kamiki,Mitsunori Isaki,Yô Ôizumi,Akio Ôtsuka,Daijirô Harada,Haruko Katô,Jean Simmons,Christian Bale,Lauren Bacall,Blythe Danner,Emily Mortimer,Josh Hutcherson,Billy Crystal,Jena Malone\",Hayao Miyazaki,\"Hayao Miyazaki,Diana Wynne Jones\"\n",
            "\n",
            "Iteration 165 :  165,\"Three Billboards Outside Ebbing, Missouri\",2017,8.1,\"Comedy,Crime,Drama\",R,1h 55m,medyCrimeDrama,15000000,162861289,\"Frances McDormand,Woody Harrelson,Sam Rockwell,Caleb Landry Jones,Kerry Condon,Alejandro Barrios,Clarke Peters,Darrell Britt-Gibson,Abbie Cornish,Riya May Atwood,Selah Atwood,Lucas Hedges,Zeljko Ivanek,Amanda Warren,Malaya Rivera Drew,Sandy Martin,Peter Dinklage,Christopher Berry\",Martin McDonagh,Martin McDonagh\n",
            "\n",
            "Iteration 166 :  166,The Bridge on the River Kwai,1957,8.2,\"Adventure,Drama,War\",PG,2h 41m,\"The towering triumph of adventure from the makers of \"\"Lawrence of Arabia.\"\"\",3000000,27200000,\"William Holden,Alec Guinness,Jack Hawkins,Sessue Hayakawa,James Donald,Geoffrey Horne,André Morell,Peter Williams,John Boxer,Percy Herbert,Harold Goodwin,Ann Sears,Heihachirô Ôkawa,Keiichirô Katsumoto,M.R.B. Chakrabandhu,Vilaiwan Seeboonreaung,Ngamta Suphaphongs,Javanart Punynchoti\",David Lean,\"Pierre Boulle,Carl Foreman,Michael Wilson\"\n",
            "\n",
            "Iteration 167 :  167,Trainspotting,1996,8.1,Drama,R,1h 33m,\"Choose life. Choose a job. Choose a starter home. Choose dental insurance, leisure wear and matching luggage. Choose your future. But why would anyone want to do a thing like that?\",1500000,16767475,\"Ewan McGregor,Ewen Bremner,Jonny Lee Miller,Kevin McKidd,Robert Carlyle,Kelly Macdonald,Peter Mullan,James Cosmo,Eileen Nicholas,Susan Vidler,Pauline Lynch,Shirley Henderson,Stuart McQuarrie,Irvine Welsh,Dale Winton,Keith Allen,Kevin Allen,Annie Louise Ross\",Danny Boyle,\"Irvine Welsh,John Hodge\"\n",
            "\n",
            "Iteration 168 :  168,Prisoners,2013,8.1,\"Crime,Drama,Mystery\",R,2h 33m,Every moment matters,46000000,122126687,\"Hugh Jackman,Jake Gyllenhaal,Viola Davis,Melissa Leo,Maria Bello,Terrence Howard,Paul Dano,Dylan Minnette,Zoë Soul,Erin Gerasimovich,Kyla-Drew,Wayne Duvall,Len Cariou,David Dastmalchian,Brad James,Anthony Reynolds,Robert C. Treveiler,Sandra Ellis Lafferty\",Denis Villeneuve,Aaron Guzikowski\n",
            "\n",
            "Iteration 169 :  169,Warrior,2011,8.2,\"Action,Drama,Sport\",PG-13,2h 20m,Fight for Country,25000000,23308615,\"Tom Hardy,Nick Nolte,Joel Edgerton,Jennifer Morrison,Frank Grillo,Kevin Dunn,Maximiliano Hernández,Bryan Callen,Sam Sheridan,Fernando Chien,Jake McLaughlin,Vanessa Martinez,Denzel Whitaker,Carlos Miranda,Nick Lehane,Laura Chinn,Capri Thomas,Lexi Cowan\",Gavin O'Connor,\"Gavin O'Connor,Anthony Tambakis,Cliff Dorfman\"\n",
            "\n",
            "Iteration 170 :  170,Fargo,1996,8.1,\"Crime,Thriller\",R,1h 38m,A homespun murder story.,7000000,60611975,\"William H. Macy,Frances McDormand,Steve Buscemi,Peter Stormare,Kristin Rudrüd,Harve Presnell,Tony Denman,Gary Houston,Sally Wingert,Kurt Schweickhardt,Larissa Kokernot,Melissa Peterman,Steve Reevis,Warren Keith,Steve Edelman,Sharon Anderson,Larry Brandenburg,James Gaulke\",\"Joel Coen,Ethan Coen(uncredited)\",\"Ethan Coen,Joel Coen\"\n",
            "\n",
            "Iteration 171 :  171,Gran Torino,2008,8.1,Drama,R,1h 56m,ma,33000000,269958228,\"Clint Eastwood,Bee Vang,Christopher Carley,Ahney Her,Brian Haley,Geraldine Hughes,Dreama Walker,Brian Howe,John Carroll Lynch,William Hill,Brooke Chia Thao,Chee Thao,Choua Kue,Scott Eastwood,Xia Soua Chang,Sonny Vue,Doua Moua,Greg Trzaskoma\",Clint Eastwood,\"Nick Schenk,Dave Johannson\"\n",
            "\n",
            "Iteration 172 :  172,My Neighbor Totoro,1988,8.1,\"Animation,Comedy,Family\",G,1h 26m,imationComedyFamilyFantasy,Not Available,Not Available,\"Hitoshi Takagi,Noriko Hidaka,Chika Sakamoto,Shigesato Itoi,Sumi Shimamoto,Tanie Kitabayashi,Hiroko Maruyama,Machiko Washio,Reiko Suzuki,Masashi Hirose,Toshiyuki Amagasa,Shigeru Chiba,Naoki Tatsuta,Tarako,Tomohiro Nishimura,Mitsuko Ishida,Chie Kôjiro,Daiki Nakamura\",Hayao Miyazaki,Hayao Miyazaki\n",
            "\n",
            "Iteration 173 :  173,Catch Me If You Can,2002,8.1,\"Biography,Crime,Drama\",PG-13,2h 21m,The true story of a real fake.,Not Available,Not Available,\"Leonardo DiCaprio,Tom Hanks,Christopher Walken,Martin Sheen,Nathalie Baye,Amy Adams,James Brolin,Brian Howe,Frank John Hughes,Steve Eastin,Chris Ellis,John Finn,Jennifer Garner,Nancy Lenehan,Ellen Pompeo,Elizabeth Banks,Guy Thauvette,Candice Azzara\",Steven Spielberg,\"Jeff Nathanson,Frank Abagnale Jr.,Stan Redding\"\n",
            "\n",
            "Iteration 174 :  174,Million Dollar Baby,2004,8.1,\"Drama,Sport\",PG-13,2h 12m,\"Beyond his silence, there is a past. Beyond her dreams, there is a feeling. Beyond hope, there is a memory. Beyond their journey, there is a love.\",30000000,216763646,\"Hilary Swank,Clint Eastwood,Morgan Freeman,Jay Baruchel,Mike Colter,Lucia Rijker,Brían F. O'Byrne,Anthony Mackie,Margo Martindale,Riki Lindhome,Michael Peña,Benito Martinez,Bruce MacVittie,David Powledge,Joe D'Angerio,Marcus Chait,Tom McCleister,Erica Grant\",Clint Eastwood,\"Paul Haggis,F.X. Toole\"\n",
            "\n",
            "Iteration 175 :  175,Children of Heaven,1997,8.2,\"Drama,Family,Sport\",PG,1h 29m,A Little Secret...Their Biggest Adventure!,Not Available,Not Available,\"Mohammad Amir Naji,Amir Farrokh Hashemian,Bahare Seddiqi,Nafise Jafar-Mohammadi,Fereshte Sarabandi,Kamal Mirkarimi,Behzad Rafi,Dariush Mokhtari,Mohammad-Hasan Hosseinian,Masume Dair,Kambiz Peykarnegar,Hasan Roohparvari,Abbas-Ali Roomandi,Jafar Seyfollahi,Qolamreza Maleki,Zahra Mirzai,Sara Zamani,Mohammad Haj-Hosseini\",Majid Majidi,Majid Majidi\n",
            "\n",
            "Iteration 176 :  176,Blade Runner,1982,8.1,\"Action,Drama,Sci-Fi\",R,1h 57m,A Futuristic Vision Perfected [2007 Final Cut],28000000,41722424,\"Harrison Ford,Rutger Hauer,Sean Young,Edward James Olmos,M. Emmet Walsh,Daryl Hannah,William Sanderson,Brion James,Joe Turkel,Joanna Cassidy,James Hong,Morgan Paull,Kevin Thompson,John Edward Allen,Hy Pyke,Kimiko Hiroshige,Bob Okazaki,Carolyn DeMirjian\",Ridley Scott,\"Hampton Fancher,David Webb Peoples,Philip K. Dick\"\n",
            "\n",
            "Iteration 177 :  177,The Gold Rush,1925,8.1,\"Adventure,Comedy,Drama\",Passed,1h 35m,\"\"\"The Picture I Want to Be Remembered by.\"\" -Charlie Chaplin. (Print Ad- Calgary Daily Herald, ((Calgary, Alta.)) 30 December 1925)\",923000,29328,\"Charles Chaplin,Mack Swain,Tom Murray,Henry Bergman,Malcolm Waite,Georgia Hale,Jack Adams,Frank Aderias,Leona Aderias,Lillian Adrian,Sam Allen,Claude Anderson,Harry Arras,Albert Austin,Marta Belfort,William Bell,Francis Bernhardt,F.J. Beuaregard\",Charles Chaplin,Charles Chaplin\n",
            "\n",
            "Iteration 178 :  178,Before Sunrise,1995,8.1,\"Drama,Romance\",R,1h 41m,Jump on and live a Eurorail journey you will never forget!,2500000,5987386,\"Ethan Hawke,Julie Delpy,Andrea Eckert,Hanno Pöschl,Karl Bruckschwaiger,Tex Rubinowitz,Erni Mangold,Dominik Castell,Haymon Maria Buttinger,Harald Waiglein,Bilge Jeschim,Kurti,Hans Weingartner,Liese Lyon,Peter Ily Huemer,Otto Reiter,Hubert Fabian Kulterer,Branko Andric\",Richard Linklater,\"Richard Linklater,Kim Krizan\"\n",
            "\n",
            "Iteration 179 :  179,12 Years a Slave,2013,8.1,\"Biography,Drama,History\",R,2h 14m,The extraordinary true story of Solomon Northup,20000000,187733202,\"Chiwetel Ejiofor,Michael Kenneth Williams,Michael Fassbender,Brad Pitt,Dwight Henry,Dickie Gravois,Bryan Batt,Ashley Dyke,Kelsey Scott,Quvenzhané Wallis,Cameron Zeigler,Tony Bentley,Scoot McNairy,Taran Killam,Christopher Berry,Bill Camp,Mister Mackey Jr.,Chris Chalk\",Steve McQueen,\"John Ridley,Solomon Northup\"\n",
            "\n",
            "Iteration 180 :  180,Klaus,2019,8.2,\"Animation,Adventure,Comedy\",PG,1h 36m,Discover the friendship that launched a legend.,Not Available,Not Available,\"Jason Schwartzman,J.K. Simmons,Rashida Jones,Will Sasso,Neda Margrethe Labba,Sergio Pablos,Norm MacDonald,Joan Cusack,Evan Agos,Sky Alexis,Jaeden Bettencourt,Teddy Blum,Mila Brener,Sydney Brower,Finn Carr,Kendall Joy Hall,Hailey Hermida,Lexie Holland\",\"Sergio Pablos,Carlos Martínez López(co-director)\",\"Sergio Pablos,Jim Mahoney,Zach Lewis\"\n",
            "\n",
            "Iteration 181 :  181,Harry Potter and the Deathly Hallows: Part 2,2011,8.1,\"Adventure,Family,Fantasy\",PG-13,2h 10m,It All Ends Here,125000000,1342359942,\"Daniel Radcliffe,Emma Watson,Rupert Grint,Michael Gambon,Ralph Fiennes,Alan Rickman,Evanna Lynch,Domhnall Gleeson,Clémence Poésy,Warwick Davis,John Hurt,Helena Bonham Carter,Graham Duff,Anthony Allgood,Rusty Goffe,Jon Key,Kelly Macdonald,Jason Isaacs\",David Yates,\"Steve Kloves,J.K. Rowling\"\n",
            "\n",
            "Iteration 182 :  182,On the Waterfront,1954,8.1,\"Crime,Drama,Thriller\",Approved,1h 48m,The Man Lived by the Jungle Law of the Docks!,910000,910000 (estimated),\"Marlon Brando,Karl Malden,Lee J. Cobb,Rod Steiger,Pat Henning,Leif Erickson,James Westerfield,Tony Galento,Tami Mauriello,John F. Hamilton,John Heldabrand,Rudy Bond,Don Blackman,Arthur Keegan,Abe Simon,Eva Marie Saint,Martin Balsam,Dan Bergin\",Elia Kazan,\"Budd Schulberg,Malcolm Johnson,Robert Siodmak\"\n",
            "\n",
            "Iteration 183 :  183,Ben-Hur,1959,8.1,\"Adventure,Drama\",G,3h 32m,A Tale of the Christ,15000000,74437720,\"Charlton Heston,Jack Hawkins,Stephen Boyd,Haya Harareet,Hugh Griffith,Martha Scott,Cathy O'Donnell,Sam Jaffe,Finlay Currie,Frank Thring,Terence Longdon,George Relph,André Morell,Nello Appodia,Fortunato Arena,Bruno Ariè,Les Ballets Africains,Emma Baron\",William Wyler,\"Lew Wallace,Karl Tunberg,Gore Vidal\"\n",
            "\n",
            "Iteration 184 :  184,Gone Girl,2014,8.1,\"Drama,Mystery,Thriller\",R,2h 29m,You don't know what you've got 'til it's...,Not Available,Not Available,\"Ben Affleck,Rosamund Pike,Neil Patrick Harris,Tyler Perry,Carrie Coon,Kim Dickens,Patrick Fugit,David Clennon,Lisa Banes,Missi Pyle,Emily Ratajkowski,Casey Wilson,Lola Kirke,Boyd Holbrook,Sela Ward,Lee Norris,Jamie McShane,Leonard Kelly-Young\",David Fincher,Gillian Flynn\n",
            "\n",
            "Iteration 185 :  185,The Grand Budapest Hotel,2014,8.1,\"Adventure,Comedy,Crime\",R,1h 39m,ventureComedyCrime,25000000,173082189,\"Ralph Fiennes,F. Murray Abraham,Mathieu Amalric,Adrien Brody,Willem Dafoe,Jeff Goldblum,Harvey Keitel,Jude Law,Bill Murray,Edward Norton,Saoirse Ronan,Jason Schwartzman,Léa Seydoux,Tilda Swinton,Tom Wilkinson,Owen Wilson,Tony Revolori,Larry Pine\",Wes Anderson,\"Stefan Zweig,Wes Anderson,Hugo Guinness\"\n",
            "\n",
            "Iteration 186 :  186,Wild Strawberries,1957,8.1,\"Drama,Romance\",Not Rated,1h 31m,\"\"\"We are such stuff as dreams are made on, and our little life is rounded with a sleep.\"\" Shakespeare - The Tempest\",Not Available,60418,\"Victor Sjöström,Bibi Andersson,Ingrid Thulin,Gunnar Björnstrand,Jullan Kindahl,Folke Sundquist,Björn Bjelfvenstam,Naima Wifstrand,Gunnel Broström,Gertrud Fridh,Sif Ruud,Gunnar Sjöberg,Max von Sydow,Åke Fridell,Yngve Nordwall,Per Sjöstrand,Gio Petré,Gunnel Lindblom\",Ingmar Bergman,Ingmar Bergman\n",
            "\n",
            "Iteration 187 :  187,The General,1926,8.1,\"Action,Adventure,Comedy\",Passed,1h 7m,\"Buster drives \"\"The General\"\" to trainload of laughter. (Trade paper ad).\",750000,750000 (estimated),\"Buster Keaton,Marion Mack,Glen Cavender,Jim Farley,Frederick Vroom,Frank Barnes,Charles Henry Smith,Joe Keaton,Mike Donlin,Tom Nawn,Henry Baird,Joe Bricher,Jimmy Bryant,Sergeant Bukowski,C.C. Cruson,Jack Dempster,Keith Fennell,Budd Fine\",\"Clyde Bruckman,Buster Keaton\",\"Buster Keaton,Clyde Bruckman,Al Boasberg\"\n",
            "\n",
            "Iteration 188 :  188,The Third Man,1949,8.1,\"Film-Noir,Mystery,Thriller\",Approved,1h 33m,Carol Reed's Classic Thriller,Not Available,1226507,\"Orson Welles,Joseph Cotten,Alida Valli,Trevor Howard,Paul Hörbiger,Ernst Deutsch,Erich Ponto,Siegfried Breuer,Hedwig Bleibtreu,Bernard Lee,Wilfrid Hyde-White,Nelly Arno,Jack Arrow,Harold Ayer,Harry Belcher,Leo Bieber,Paul Birch,Martin Boddey\",Carol Reed,\"Graham Greene,Orson Welles,Alexander Korda\"\n",
            "\n",
            "Iteration 189 :  189,In the Name of the Father,1993,8.1,\"Biography,Crime,Drama\",R,2h 13m,Falsely accused.  Wrongly imprisoned.  He fought for justice to clear his father's name.,Not Available,Not Available,\"Daniel Day-Lewis,Pete Postlethwaite,Alison Crosbie,Philip King,Emma Thompson,Nye Heron,Anthony Brophy,Frankie McCafferty,Paul Warriner,Julian Walsh,Stuart Wolfenden,Jo Connor,Karen Carlisle,Seamus Moran,Billy Byrne,Maureen McBride,Jane Nolan,Laurence Griffin\",Jim Sheridan,\"Gerry Conlon,Terry George,Jim Sheridan\"\n",
            "\n",
            "Iteration 190 :  190,The Deer Hunter,1978,8.1,\"Drama,War\",R,3h 3m,One of the most important and powerful films of all time!,15000000,49074379,\"Robert De Niro,Christopher Walken,John Cazale,John Savage,Meryl Streep,George Dzundza,Chuck Aspegren,Shirley Stoler,Rutanya Alda,Pierre Segui,Mady Kaplan,Amy Wright,Mary Ann Haenel,Richard Kuss,Joe Grifasi,Christopher Colombi Jr.,Victoria Karnafel,Jack Scardino\",Michael Cimino,\"Michael Cimino,Deric Washburn,Louis Garfinkle\"\n",
            "\n",
            "Iteration 191 :  191,Barry Lyndon,1975,8.1,\"Adventure,Drama,War\",PG,3h 5m,At long last Redmond Barry became a gentleman -- and that was his tragedy.,11000000,199632,\"Ryan O'Neal,Marisa Berenson,Patrick Magee,Hardy Krüger,Steven Berkoff,Gay Hamilton,Marie Kean,Diana Körner,Murray Melvin,Frank Middlemass,André Morell,Arthur O'Sullivan,Godfrey Quigley,Leonard Rossiter,Philip Stone,Leon Vitali,John Bindon,Roger Booth\",Stanley Kubrick,\"Stanley Kubrick,William Makepeace Thackeray\"\n",
            "\n",
            "Iteration 192 :  192,Hacksaw Ridge,2016,8.1,\"Biography,Drama,History\",R,2h 19m,Based on the incredible true story.,40000000,180563636,\"Andrew Garfield,Sam Worthington,Luke Bracey,Teresa Palmer,Richard Pyros,Jacob Warner,Milo Gibson,Darcy Bryce,Roman Guerriero,James Lugton,Kasia Stelmach,Hugo Weaving,Rachel Griffiths,Jarin Towney,Tim McGarry,Tyler Coppin,Richard Platt,Nathaniel Buzolic\",Mel Gibson,\"Robert Schenkkan,Andrew Knight\"\n",
            "\n",
            "Iteration 193 :  193,The Wages of Fear,1953,8.2,\"Adventure,Drama,Thriller\",Not Rated,2h 11m,The complete restored version of the 1953 French classic [reissue],Not Available,1098,\"Yves Montand,Charles Vanel,Peter van Eyck,Folco Lulli,Véra Clouzot,William Tubbs,Darío Moreno,Jo Dest,Antonio Centa,Luis De Lima,Grégoire Gromoff,Josep Palau i Fabre,Faustini,Seguna,Darling Légitimus,René Baranger,Pat Hurst,Evelio Larenagas\",Henri-Georges Clouzot,\"Georges Arnaud,Henri-Georges Clouzot,Jérôme Géronimi\"\n",
            "\n",
            "Iteration 194 :  194,Memories of Murder,2003,8.1,\"Crime,Drama,Mystery\",Not Rated,2h 12m,\"1986 in a small town...for two detectives, everything was new.\",2800000,1166717,\"Song Kang-ho,Kim Sang-kyung,Roe-ha Kim,Jae-ho Song,Byun Hee-Bong,Seo-hie Ko,Tae-ho Ryu,No-shik Park,Park Hae-il,Mi-seon Jeon,Young-hwa Seo,Woo Go-na,Ok-joo Lee,Jong-ryol Choi,Seung-mok Yoo,Hun-Kyung Lee,Shin Hyun-jong,Jae-eung Lee\",Bong Joon Ho,\"Bong Joon Ho,Kwang-rim Kim,Sung-bo Shim\"\n",
            "\n",
            "Iteration 195 :  195,Sherlock Jr.,1924,8.2,\"Action,Comedy,Romance\",Passed,45m,every inch of footage holds such a laugh!,Not Available,Not Available,\"Buster Keaton,Kathryn McGuire,Joe Keaton,Erwin Connelly,Ward Crane,Jane Connelly,George Davis,Doris Deane,Christine Francis,Betsy Ann Hisle,Kewpie Morgan,Steve Murphy,John Patrick,Ford West\",Buster Keaton,\"Jean C. Havez,Joseph A. Mitchell,Clyde Bruckman\"\n",
            "\n",
            "Iteration 196 :  196,Wild Tales,2014,8.1,\"Comedy,Drama,Thriller\",R,2h 2m,We can all lose control,Not Available,Not Available,\"Darío Grandinetti,María Marull,Mónica Villa,Diego Starosta,Marcelo Frasca,Lucila Mangone,María Laura Caccamo,Carlos Alberto Vavassori,Pablo Machado,Horacio Vay,Javier Pedersoli,Héctor Drachtman,María Rosa López Ottonello,Rita Cortese,Julieta Zylberberg,César Bordón,Juan Santiago Linari,Leonardo Sbaraglia\",Damián Szifron,\"Germán Servidio,Damián Szifron\"\n",
            "\n",
            "Iteration 197 :  197,Mr. Smith Goes to Washington,1939,8.1,\"Comedy,Drama\",Passed,2h 9m,\"OUR OPERATOR SAYS..\"\"IT'S GOING TO BE A PLEASURE TO RUN \"\"MR. SMITH GOES TO WASHINGTON\"\" 5 DAYS STARTING SUNDAY, NOV.7) (print ad - Lubbock Morning Avalanche - Cactus Theatre - Lubbock Texas - November 2, 1938 - all caps)\",1900000,144738,\"James Stewart,Jean Arthur,Claude Rains,Edward Arnold,Guy Kibbee,Thomas Mitchell,Eugene Pallette,Beulah Bondi,H.B. Warner,Harry Carey,Astrid Allwyn,Ruth Donnelly,Grant Mitchell,Porter Hall,H.V. Kaltenborn,Charles Lane,Pierre Watkin,Dick Elliott\",Frank Capra,\"Sidney Buchman,Lewis R. Foster,Myles Connolly\"\n",
            "\n",
            "Iteration 198 :  198,Mad Max: Fury Road,2015,8.1,\"Action,Adventure,Sci-Fi\",R,2h,WHAT A LOVELY DAY (all caps One Sheet),150000000,415261382,\"Tom Hardy,Charlize Theron,Nicholas Hoult,Zoë Kravitz,Hugh Keays-Byrne,Josh Helman,Nathan Jones,Rosie Huntington-Whiteley,Riley Keough,Abbey Lee,Courtney Eaton,John Howard,Richard Carter,Iota,Angus Sampson,Jennifer Hagan,Megan Gale,Melissa Jaffer\",George Miller,\"George Miller,Brendan McCarthy,Nick Lathouris\"\n",
            "\n",
            "Iteration 199 :  199,The Seventh Seal,1957,8.1,\"Drama,Fantasy\",Not Rated,1h 36m,\"A film of visual scope, of imaginative concept, of powerful content, written and directed by Ingmar Bergman, twice honored by the Interational Jury at the Cannes Film Festival 1956,1957\",150000,311212,\"Max von Sydow,Gunnar Björnstrand,Bengt Ekerot,Nils Poppe,Bibi Andersson,Inga Gill,Maud Hansson,Inga Landgré,Gunnel Lindblom,Bertil Anderberg,Anders Ek,Åke Fridell,Gunnar Olsson,Erik Strandmark,Siv Aleros,Sten Ardenstam,Harry Asklund,Benkt-Åke Benktsson\",Ingmar Bergman,Ingmar Bergman\n",
            "\n",
            "Iteration 200 :  200,Mary and Max,2009,8.1,\"Animation,Comedy,Drama\",Not Rated,1h 32m,Two unlikely people. Two different worlds come together in a story about a most unusual friendship.,$8240000,1740429,\"Toni Collette,Philip Seymour Hoffman,Eric Bana,Barry Humphries,Christopher Massey,Oliver Marks,Daisy Kocher,Daniel Marks,Hamish Hughes,Dan Doherty,Julie Forsyth,Mandy Mao,Patrick McCabe,Adam Elliot,Mr. Peck,Michael James Allen,Bill Murphy,Shaun Patten\",Adam Elliot,Adam Elliot\n",
            "\n",
            "Iteration 201 :  201,How to Train Your Dragon,2010,8.1,\"Animation,Action,Adventure\",PG,1h 38m,One adventure will change two worlds,165000000,494879471,\"Jay Baruchel,Gerard Butler,Christopher Mintz-Plasse,Craig Ferguson,America Ferrera,Jonah Hill,T.J. Miller,Kristen Wiig,Robin Atkin Downes,Philip McGrade,Kieron Elliott,Ashley Jensen,David Tennant\",\"Dean DeBlois,Chris Sanders\",\"Will Davies,Dean DeBlois,Chris Sanders\"\n",
            "\n",
            "Iteration 202 :  202,Room,2015,8.1,\"Drama,Thriller\",R,1h 58m,Love knows no boundaries,13000000,35401758,\"Brie Larson,Jacob Tremblay,Sean Bridgers,Wendy Crewson,Sandy McMaster,Matt Gordon,Amanda Brugel,Joe Pingue,Joan Allen,Zarrin Darnell-Martin,Cas Anvar,William H. Macy,Jee-Yun Lee,Randal Edwards,Justin Mader,Ola Sturik,Rodrigo Fernandez-Stoll,Rory O'Shea\",Lenny Abrahamson,Emma Donoghue\n",
            "\n",
            "Iteration 203 :  203,\"Monsters, Inc.\",2001,8.1,\"Animation,Adventure,Comedy\",G,1h 32m,\"Monsters, Inc. : We Scare Because We Care\",115000000,579707738,\"Billy Crystal,John Goodman,Mary Gibbs,Steve Buscemi,James Coburn,Jennifer Tilly,Bob Peterson,John Ratzenberger,Frank Oz,Daniel Gerson,Steve Susskind,Bonnie Hunt,Jeff Pidgeon,Samuel Lord Black,Jack Angel,Bob Bergen,Rodger Bumpass,Gino Conforti\",\"Pete Docter,David Silverman(co-director),Lee Unkrich(co-director)\",\"Pete Docter,Jill Culton,Jeff Pidgeon\"\n",
            "\n",
            "Iteration 204 :  204,Jaws,1975,8.1,\"Adventure,Thriller\",PG,2h 4m,Amity Island had everything. Clear skies. Gentle surf. Warm water. People flocked there every summer. It was the perfect feeding ground.,7000000,476512065,\"Roy Scheider,Robert Shaw,Richard Dreyfuss,Lorraine Gary,Murray Hamilton,Carl Gottlieb,Jeffrey Kramer,Susan Backlinie,Jonathan Filley,Ted Grossman,Chris Rebello,Jay Mello,Lee Fierro,Jeffrey Voorhees,Craig Kingsbury,Robert Nevin,Peter Benchley,Jonathan Searle\",Steven Spielberg,\"Peter Benchley,Carl Gottlieb\"\n",
            "\n",
            "Iteration 205 :  205,Dead Poets Society,1989,8.1,\"Comedy,Drama\",PG,2h 8m,He was their inspiration. He made their lives extraordinary.,16400000,235860116,\"Robin Williams,Robert Sean Leonard,Ethan Hawke,Josh Charles,Gale Hansen,Dylan Kussman,Allelon Ruggiero,James Waterston,Norman Lloyd,Kurtwood Smith,Carla Belver,Leon Pownall,George Martin,Joe Aufiery,Matt Carey,Kevin Cooney,Jane Moore,Lara Flynn Boyle\",Peter Weir,Tom Schulman\n",
            "\n",
            "Iteration 206 :  206,The Big Lebowski,1998,8.1,\"Comedy,Crime\",R,1h 57m,Hay quienes tratan de ganarse la vida sin mover un dedo... otros tienen que cortarlos. (Mexico),15000000,46969409,\"Jeff Bridges,John Goodman,Julianne Moore,Steve Buscemi,David Huddleston,Philip Seymour Hoffman,Tara Reid,Philip Moon,Mark Pellegrino,Peter Stormare,Flea,Torsten Voges,Jimmie Dale Gilmore,Jack Kehler,John Turturro,James G. Hoosier,Carlos Leon,Terrence Burton\",\"Joel Coen,Ethan Coen(uncredited)\",\"Ethan Coen,Joel Coen\"\n",
            "\n",
            "Iteration 207 :  207,Tokyo Story,1953,8.2,Drama,Not Rated,2h 16m,\"As long as life goes on, relationships between parents and children will bring boundless joy and endless grief.\",Not Available,Not Available,\"Chishû Ryû,Chieko Higashiyama,Sô Yamamura,Setsuko Hara,Haruko Sugimura,Kuniko Miyake,Kyôko Kagawa,Eijirô Tôno,Nobuo Nakamura,Shirô Ôsaka,Hisao Toake,Teruko Nagaoka,Mutsuko Sakura,Toyo Takahashi,Tôru Abe,Sachiko Mitani,Zen Murase,Mitsuhiro Môri\",Yasujirô Ozu,\"Kôgo Noda,Yasujirô Ozu\"\n",
            "\n",
            "Iteration 208 :  208,The Passion of Joan of Arc,1928,8.2,\"Biography,Drama,History\",Passed,1h 54m,JOAN of ARC PICTURES Inc. presents,Not Available,Not Available,\"Maria Falconetti,Eugene Silvain,André Berley,Maurice Schutz,Antonin Artaud,Michel Simon,Jean d'Yd,Louis Ravet,Armand Lurville,Jacques Arnna,Alexandre Mihalesco,Léon Larive,Jean Aymé,Camille Bardou,Gilbert Dacheux,Gilbert Dalleu,Paul Delauzac,Dimitri Dimitriev\",Carl Theodor Dreyer,\"Joseph Delteil,Carl Theodor Dreyer\"\n",
            "\n",
            "Iteration 209 :  209,Hotel Rwanda,2004,8.1,\"Biography,Drama,History\",PG-13,2h 1m,\"When a country descended into madness and the world turned its back, one man had to make a choice\",17500000,33882243,\"Don Cheadle,Sophie Okonedo,Joaquin Phoenix,Xolani Mali,Desmond Dube,Hakeem Kae-Kazim,Tony Kgoroge,Rosie Motene,Neil McCarthy,Mabutho 'Kid' Sithole,Nick Nolte,Fana Mokoena,Jeremiah Ndlovu,Lebo Mashile,Antonio David Lyons,Leleti Khumalo,Kgomotso Seitshohlo,Lerato Mokgotho\",Terry George,\"Keir Pearson,Terry George\"\n",
            "\n",
            "Iteration 210 :  210,Ford v Ferrari,2019,8.1,\"Action,Biography,Drama\",PG-13,2h 32m,They took the American dream for a ride.,97600000,225508210,\"Matt Damon,Christian Bale,Jon Bernthal,Caitríona Balfe,Josh Lucas,Noah Jupe,Tracy Letts,Remo Girone,Ray McKinnon,JJ Feild,Jack McMullen,Corrado Invernizzi,Joe Williamson,Ian Harding,Christopher Darga,Shawn Law,Emil Beheshti,Darrin Prescott\",James Mangold,\"Jez Butterworth,John-Henry Butterworth,Jason Keller\"\n",
            "\n",
            "Iteration 211 :  211,Rocky,1976,8.1,\"Drama,Sport\",PG,2h,You have a ringside seat for the bloodiest bicentennial in history!,960000,117250402,\"Sylvester Stallone,Talia Shire,Burt Young,Carl Weathers,Burgess Meredith,Thayer David,Joe Spinell,Jimmy Gambina,Bill Baldwin,Al Silvani,George Memmoli,Jodi Letizia,Diana Lewis,George O'Hanlon,Larry Carroll,Stan Shaw,Don Sherman,Billy Sands\",John G. Avildsen,Sylvester Stallone\n",
            "\n",
            "Iteration 212 :  212,Platoon,1986,8.1,\"Drama,War\",R,2h,The first casualty of war is innocence.,6000000,138545632,\"Charlie Sheen,Tom Berenger,Willem Dafoe,Keith David,Forest Whitaker,Francesco Quinn,Kevin Dillon,John C. McGinley,Reggie Johnson,Mark Moses,Corey Glover,Johnny Depp,Chris Pedersen,Bob Orwig,Corkey Ford,David Neidorf,Richard Edson,Tony Todd\",Oliver Stone,Oliver Stone\n",
            "\n",
            "Iteration 213 :  213,Ratatouille,2007,8.1,\"Animation,Adventure,Comedy\",G,1h 51m,Dinner is served... Summer 2007,150000000,623726085,\"Brad Garrett,Lou Romano,Patton Oswalt,Ian Holm,Brian Dennehy,Peter Sohn,Peter O'Toole,Janeane Garofalo,Will Arnett,Julius Callahan,James Remar,John Ratzenberger,Teddy Newton,Tony Fucile,Jake Steinfeld,Brad Bird,Stéphane Roux,Jack Bird\",\"Brad Bird,Jan Pinkava(co-director)\",\"Brad Bird,Jan Pinkava,Jim Capobianco\"\n",
            "\n",
            "Iteration 214 :  214,Spotlight,2015,8.1,\"Biography,Crime,Drama\",R,2h 9m,Break the story. Break the silence.,20000000,98690254,\"Mark Ruffalo,Michael Keaton,Rachel McAdams,Liev Schreiber,John Slattery,Brian d'Arcy James,Stanley Tucci,Elena Wohl,Gene Amoroso,Doug Murray,Sharon McFarlane,Jamey Sheridan,Neal Huff,Billy Crudup,Robert B. Kennedy,Duane Murray,Brian Chamberlain,Michael Cyril Creighton\",Tom McCarthy,\"Josh Singer,Tom McCarthy\"\n",
            "\n",
            "Iteration 215 :  215,The Terminator,1984,8.1,\"Action,Sci-Fi\",R,1h 47m,\"La sua missione e una sola: distruggere, uccidere... (His one and only mission: to destroy, to kill...) (Italian DVD)\",6400000,78371200,\"Arnold Schwarzenegger,Linda Hamilton,Michael Biehn,Paul Winfield,Lance Henriksen,Rick Rossovich,Bess Motta,Earl Boen,Dick Miller,Shawn Schepps,Bruce M. Kerner,Franco Columbu,Bill Paxton,Brad Rearden,Brian Thompson,William Wisher,Ken Fritz,Tom Oberhaus\",James Cameron,\"James Cameron,Gale Anne Hurd,William Wisher\"\n",
            "\n",
            "Iteration 216 :  216,Logan,2017,8.1,\"Action,Drama,Sci-Fi\",R,2h 17m,His time has come,97000000,619179950,\"Hugh Jackman,Patrick Stewart,Dafne Keen,Boyd Holbrook,Stephen Merchant,Elizabeth Rodriguez,Richard E. Grant,Eriq La Salle,Elise Neal,Quincy Fouse,Al Coronel,Frank Gallegos,Anthony Escobar,Reynaldo Gallegos,Krzysztof Soszynski,Stephen Dunlevy,Daniel Bernhardt,Ryan Sturz\",James Mangold,\"James Mangold,Scott Frank,Michael Green\"\n",
            "\n",
            "Iteration 217 :  217,Stand by Me,1986,8.1,\"Adventure,Drama\",13+,1h 29m,\"For some, it's the last real taste of innocence, and the first real taste of life. But for everyone, it's the time that memories are made of.\",8000000,52287414,\"Wil Wheaton,River Phoenix,Corey Feldman,Jerry O'Connell,Kiefer Sutherland,Casey Siemaszko,Gary Riley,Bradley Gregg,Jason Oliver Lipsett,Marshall Bell,Frances Lee McCain,Bruce Kirby,William Bronder,Scott Beach,Richard Dreyfuss,John Cusack,Madeleine Swift,Popeye\",Rob Reiner,\"Stephen King,Raynold Gideon,Bruce A. Evans\"\n",
            "\n",
            "Iteration 218 :  218,Rush,2013,8.1,\"Action,Biography,Drama\",R,2h 3m,Everyone's driven by something.,38000000,96983009,\"Daniel Brühl,Chris Hemsworth,Olivia Wilde,Alexandra Maria Lara,Pierfrancesco Favino,David Calder,Natalie Dormer,Stephen Mangan,Christian McKay,Alistair Petrie,Julian Rhind-Tutt,Colin Stinton,Jamie de Courcey,Augusto Dallara,Ilario Calvo,Patrick Baladi,Vincent Riotta,Martin Savage\",Ron Howard,Peter Morgan\n",
            "\n",
            "Iteration 219 :  219,Network,1976,8.1,Drama,R,2h 1m,\"\"\"NETWORK\"\"... the humanoids, the love story, the trials and tribulations, the savior of television, the attempted suicides, the assassination -- it's ALL coming along with a galaxy of stars you know and love!\",3800000,23690757,\"Faye Dunaway,William Holden,Peter Finch,Robert Duvall,Wesley Addy,Ned Beatty,Arthur Burghardt,Bill Burrows,John Carpenter,Jordan Charney,Kathy Cronkite,Ed Crowley,Jerome Dempsey,Conchata Ferrell,Gene Gross,Stanley Grover,Cindy Grover,Darryl Hickman\",Sidney Lumet,Paddy Chayefsky\n",
            "\n",
            "Iteration 220 :  220,Into the Wild,2007,8.1,\"Adventure,Biography,Drama\",R,2h 28m,Into the heart Into the soul,15000000,56675895,\"Emile Hirsch,Vince Vaughn,Catherine Keener,Marcia Gay Harden,William Hurt,Jena Malone,Brian H. Dierker,Kristen Stewart,Hal Holbrook,Jim Gallien,James O'Neill,Malinda McCollum,Paul Knauls,Zach Galifianakis,Craig Mutsch,Jim Beidler,John Decker,John Hofer\",Sean Penn,\"Sean Penn,Jon Krakauer\"\n",
            "\n",
            "Iteration 221 :  221,Before Sunset,2004,8.1,\"Drama,Romance\",R,1h 20m,What if you had a second chance with the one that got away?,Not Available,Not Available,\"Ethan Hawke,Julie Delpy,Vernon Dobtcheff,Louise Lemoine Torrès,Rodolphe Pauly,Mariane Plasteig,Diabolo,Denis Evrard,Albert Delpy,Marie Pillet\",Richard Linklater,\"Richard Linklater,Julie Delpy,Ethan Hawke\"\n",
            "\n",
            "Iteration 222 :  222,The Wizard of Oz,1939,8.1,\"Adventure,Family,Fantasy\",G,1h 42m,Mighty Miracle Show Of 1000 Delights !,2777000,25637669,\"Judy Garland,Frank Morgan,Ray Bolger,Bert Lahr,Jack Haley,Billie Burke,Margaret Hamilton,Charley Grapewin,Pat Walshe,Clara Blandick,Terry,The Singer Midgets,Franz Balluck,Josefine Balluck,Dorothy Barrett,Amelia Batchelor,Charles Becker,Freda Betsky\",\"Victor Fleming,George Cukor(uncredited),Mervyn LeRoy(uncredited)\",\"Noel Langley,Florence Ryerson,Edgar Allan Woolf\"\n",
            "\n",
            "Iteration 223 :  223,Pather Panchali,1955,8.3,Drama,Not Rated,2h 5m,The Saga of an Indian Family,Not Available,135342,\"Kanu Bannerjee,Karuna Bannerjee,Subir Banerjee,Chunibala Devi,Uma Das Gupta,Runki Banerjee,Reba Devi,Aparna Devi,Tulsi Chakraborty,Haren Banerjee,Rampada Das,Nibhanani Devi,Rama Gangopadhaya,Roma Ganguli,Binoy Mukherjee,Haridhan Nag,Harimohan Nag,Kshirod Roy\",Satyajit Ray,\"Bibhutibhushan Bandyopadhyay,Satyajit Ray\"\n",
            "\n",
            "Iteration 224 :  224,Groundhog Day,1993,8.1,\"Comedy,Drama,Fantasy\",PG,1h 41m,What would you do if you were stuck in the same day... over and over? Anything you want and everything your heart desires.,14600000,71108591,\"Bill Murray,Andie MacDowell,Chris Elliott,Stephen Tobolowsky,Brian Doyle-Murray,Marita Geraghty,Angela Paton,Rick Ducommun,Rick Overton,Robin Duke,Carol Bivins,Willie Garson,Ken Hudson Campbell,Les Podewell,Rod Sell,Tom Milanovich,John M. Watson Sr.,Peggy Roeder\",Harold Ramis,\"Danny Rubin,Harold Ramis\"\n",
            "\n",
            "Iteration 225 :  225,The Best Years of Our Lives,1946,8.1,\"Drama,Romance,War\",Approved,2h 50m,THE SCREEN'S GREATEST LOVE STORY IS THE BEST FILM THIS YEAR FROM HOLLYWOOD!,2100000,23661347,\"Myrna Loy,Dana Andrews,Fredric March,Teresa Wright,Virginia Mayo,Cathy O'Donnell,Hoagy Carmichael,Harold Russell,Gladys George,Roman Bohnen,Ray Collins,Minna Gombell,Walter Baldwin,Steve Cochran,Dorothy Adams,Don Beddoe,Marlene Aames,Charles Halton\",William Wyler,\"Robert E. Sherwood,MacKinlay Kantor\"\n",
            "\n",
            "Iteration 226 :  226,The Exorcist,1973,8.1,Horror,R,2h 2m,The movie you've been waiting for...without the wait.,11000000,441306145,\"Ellen Burstyn,Max von Sydow,Linda Blair,Lee J. Cobb,Kitty Winn,Jack MacGowran,Jason Miller,William O'Malley,Barton Heyman,Peter Masterson,Rudolf Schündler,Gina Petrushka,Robert Symonds,Arthur Storch,Thomas Bermingham,Vasiliki Maliaros,Titos Vandis,John Mahon\",William Friedkin,William Peter Blatty\n",
            "\n",
            "Iteration 227 :  227,The Incredibles,2004,8.0,\"Animation,Action,Adventure\",PG,1h 55m,Save The Day,92000000,631607053,\"Craig T. Nelson,Samuel L. Jackson,Holly Hunter,Jason Lee,Dominique Louis,Teddy Newton,Jean Sincere,Eli Fucile,Maeve Andrews,Wallace Shawn,Spencer Fox,Lou Romano,Wayne Canney,Sarah Vowell,Michael Bird,Elizabeth Peña,Bud Luckey,Brad Bird\",Brad Bird,Brad Bird\n",
            "\n",
            "Iteration 228 :  228,To Be or Not to Be,1942,8.2,\"Comedy,Romance,War\",Passed,1h 39m,The Picture Everyone Wants To See.,Not Available,Not Available,\"Carole Lombard,Jack Benny,Robert Stack,Felix Bressart,Lionel Atwill,Stanley Ridges,Sig Ruman,Tom Dugan,Charles Halton,George Lynn,Henry Victor,Maude Eburne,Halliwell Hobbes,Miles Mander,Rudolph Anders,Paul Barrett,Sven Hugo Borg,Danny Borzage\",Ernst Lubitsch,\"Melchior Lengyel,Edwin Justus Mayer,Ernst Lubitsch\"\n",
            "\n",
            "Iteration 229 :  229,La haine,1995,8.1,\"Crime,Drama\",Not Rated,1h 38m,\"So far, so good\",Not Available,Not Available,\"Vincent Cassel,Hubert Koundé,Saïd Taghmaoui,Abdel Ahmed Ghili,Solo,Joseph Momo,Héloïse Rauth,Rywka Wajsbrot,Olga Abrego,Laurent Labasse,Choukri Gabteni,Nabil Ben Mhamed,Benoît Magimel,Médard Niang,Arash Mansour,Abdel-Moulah Boujdouni,Mathilde Vitry,Christian Moro\",Mathieu Kassovitz,Mathieu Kassovitz\n",
            "\n",
            "Iteration 230 :  230,The Battle of Algiers,1966,8.1,\"Drama,War\",Not Rated,2h 1m,The French Colonel...who was forced even to torture! One of the many women...who stopped at nothing to win! The Algerian Street Boy...who became a rebel hero!,800000,962002,\"Brahim Hadjadj,Jean Martin,Yacef Saadi,Samia Kerbash,Ugo Paletti,Fusia El Kader,Mohamed Ben Kassen,Franco Moruzzi,Tommaso Neri,Rouïched,Gene Wesson\",Gillo Pontecorvo,\"Franco Solinas,Gillo Pontecorvo\"\n",
            "\n",
            "Iteration 231 :  231,Pirates of the Caribbean: The Curse of the Black Pearl,2003,8.1,\"Action,Adventure,Fantasy\",PG-13,2h 23m,Prepare to be blown out of the water.,140000000,654264015,\"Johnny Depp,Geoffrey Rush,Orlando Bloom,Keira Knightley,Jack Davenport,Jonathan Pryce,Lee Arenberg,Mackenzie Crook,Damian O'Hare,Giles New,Angus Barnett,David Bailie,Michael Berry Jr.,Isaac C. Singleton Jr.,Kevin McNally,Treva Etienne,Zoe Saldana,Guy Siner\",Gore Verbinski,\"Ted Elliott,Terry Rossio,Stuart Beattie\"\n",
            "\n",
            "Iteration 232 :  232,Hachi: A Dog's Tale,2009,8.1,\"Biography,Drama,Family\",G,1h 33m,\"A true story of faith, devotion and undying love.\",Not Available,Not Available,\"Richard Gere,Joan Allen,Cary-Hiroyuki Tagawa,Sarah Roemer,Jason Alexander,Erick Avari,Davenia McFadden,Robbie Sublett,Kevin DeCoste,Rob Degnan,Tora Hallström,Donna Sorbello,Frank S. Aronson,Troy Doherty,Ian Sherman,Timothy Crowe,Denece Ryland,Blake Friedman\",Lasse Hallström,\"Stephen P. Lindsey,Kaneto Shindô\"\n",
            "\n",
            "Iteration 233 :  233,The Grapes of Wrath,1940,8.1,Drama,Passed,2h 9m,The thousands who have read the book will know why WE WILL NOT SELL ANY CHILDREN TICKETS to see this picture!,800000,800000 (estimated),\"Henry Fonda,Jane Darwell,John Carradine,Charley Grapewin,Dorris Bowdon,Russell Simpson,O.Z. Whitehead,John Qualen,Eddie Quillan,Zeffie Tilbury,Frank Sully,Frank Darien,Darryl Hickman,Shirley Mills,Roger Imhof,Grant Mitchell,Charles D. Brown,John Arledge\",John Ford,\"Nunnally Johnson,John Steinbeck\"\n",
            "\n",
            "Iteration 234 :  234,Jai Bhim,2021,8.8,\"Crime,Drama,Mystery\",TV-MA,2h 44m,imeDramaMystery,Not Available,Not Available,\"Suriya,Lijo Mol Jose,Manikandan K.,Rajisha Vijayan,Prakash Raj,Rao Ramesh,Guru Somasundaram,M.S. Bhaskar,V. Jayaprakash,Sibi Thomas,Ilavarasu,Jayarao,Sujatha Sivakumar,Ravi Venkatraman,Tamizh,Kumaravel,Supergood Subramani,Bala Hasan\",T.J. Gnanavel,\"T.J. Gnanavel,Rajendra Sapre\"\n",
            "\n",
            "Iteration 235 :  235,My Father and My Son,2005,8.2,\"Drama,Family\",Not Rated,1h 52m,\"Give him a room dad, he has no place to go...\",Not Available,Not Available,\"Çetin Tekindor,Fikret Kuskan,Hümeyra,Ege Tanman,Serif Sezer,Yetkin Dikinciler,Binnur Kaya,Mahmut Gökgöz,Nergis Çorakçi,Bilge Sen,Tuba Büyüküstün,Özge Özberk,Erdal Tosun,Halit Ergenç,Tugyan Akay Kavukçu,Ege Kaya,Muzaffer Demirel,Burak Akçakaya\",Çagan Irmak,Çagan Irmak\n",
            "\n",
            "Iteration 236 :  236,Amores Perros,2000,8.1,\"Drama,Thriller\",R,2h 34m,Love. Betrayal. Death.,2000000,20908467,\"Emilio Echevarría,Gael García Bernal,Goya Toledo,Álvaro Guerrero,Vanessa Bauche,Jorge Salinas,Marco Pérez,Rodrigo Murray,Humberto Busto,Gerardo Campbell,Rosa María Bianchi,Dunia Saldívar,Adriana Barraza,José Sefami,Lourdes Echevarría,Laura Almela,Ricardo Dalmacci,Gustavo Sánchez Parra\",Alejandro G. Iñárritu,Guillermo Arriaga\n",
            "\n",
            "Iteration 237 :  237,Rebecca,1940,8.1,\"Drama,Film-Noir,Mystery\",Approved,2h 10m,\"THE MIGHTY NOVEL LEAPS TO TURBULENT LIFE ON THE SCREEN! (Print Ad- Syracuse Herald-American, ((Syracuse, NY)) 24 March 1940)\",1288000,72275,\"Laurence Olivier,Joan Fontaine,George Sanders,Judith Anderson,Nigel Bruce,Reginald Denny,C. Aubrey Smith,Gladys Cooper,Florence Bates,Melville Cooper,Leo G. Carroll,Leonard Carey,Lumsden Hare,Edward Fielding,Philip Winter,Forrester Harvey,Bunny Beatty,Billy Bevan\",Alfred Hitchcock,\"Daphne Du Maurier,Robert E. Sherwood,Joan Harrison\"\n",
            "\n",
            "Iteration 238 :  238,Cool Hand Luke,1967,8.1,\"Crime,Drama\",GP,2h 7m,\"\"\"What we've got here is failure to communicate.\"\"\",3200000,67,\"Paul Newman,George Kennedy,Strother Martin,J.D. Cannon,Lou Antonio,Robert Drivas,Jo Van Fleet,Clifton James,Morgan Woodward,Luke Askew,Marc Cavell,Richard Davalos,Robert Donner,Warren Finnerty,Dennis Hopper,John McLiam,Wayne Rogers,Harry Dean Stanton\",Stuart Rosenberg,\"Donn Pearce,Frank Pierson,Hal Dresner\"\n",
            "\n",
            "Iteration 239 :  239,The Handmaiden,2016,8.1,\"Drama,Romance,Thriller\",Not Rated,2h 25m,Never did they expect to get into a controversial relationship...,Not Available,Not Available,\"Kim Min-hee,Ha Jung-woo,Cho Jin-woong,Moon So-ri,Kim Tae-ri,Yong-nyeo Lee,Min-chae Yoo,Dong-hwi Lee,Kim Hae-sook,Kyu-jung Lee,Si-eun Kim,Si-yeon Ha,Rina Takagi,Geun-hee Won,Jong-Dae Kim,Han-sun Jang,Eun-yeong Kim,Ri-woo Kim\",Park Chan-wook,\"Sarah Waters,Chung Seo-kyung,Park Chan-wook\"\n",
            "\n",
            "Iteration 240 :  240,The 400 Blows,1959,8.1,\"Crime,Drama\",Not Rated,1h 39m,From the Vanguard of New Film-Makers Comes an Extraordinary Motion Picture,Not Available,127244,\"Jean-Pierre Léaud,Albert Rémy,Claire Maurier,Guy Decomble,Georges Flamant,Patrick Auffay,Daniel Couturier,François Nocher,Richard Kanayan,Renaud Fontanarosa,Michel Girard,Serge Moati,Bernard Abbou,Jean-François Bergouignan,Michel Lesignor,Luc Andrieux,Robert Beauvais,Bouchon\",François Truffaut,\"François Truffaut,Marcel Moussy\"\n",
            "\n",
            "Iteration 241 :  241,The Sound of Music,1965,8.1,\"Biography,Drama,Family\",G,2h 52m,RADIANCE THAT FLOODS THE SCREEN...AND WARMS THE HEART!,8200000,159428329,\"Julie Andrews,Christopher Plummer,Eleanor Parker,Richard Haydn,Peggy Wood,Charmian Carr,Heather Menzies-Urich,Nicholas Hammond,Duane Chase,Angela Cartwright,Debbie Turner,Kym Karath,Anna Lee,Portia Nelson,Ben Wright,Daniel Truhitte,Norma Varden,Gilchrist Stuart\",Robert Wise,\"Georg Hurdalek,Howard Lindsay,Russel Crouse\"\n",
            "\n",
            "Iteration 242 :  242,It Happened One Night,1934,8.1,\"Comedy,Romance\",Passed,1h 45m,Two great lovers of the screen in the grandest of romantic comedies !,325000,11477,\"Clark Gable,Claudette Colbert,Walter Connolly,Roscoe Karns,Jameson Thomas,Alan Hale,Arthur Hoyt,Blanche Friderici,Charles C. Wilson,Ernie Adams,Jessie Arnold,Irving Bacon,William Bailey,William Begg,William A. Boardway,Ward Bond,Harry C. Bradley,George P. Breakston\",Frank Capra,\"Robert Riskin,Samuel Hopkins Adams\"\n",
            "\n",
            "Iteration 243 :  243,Persona,1966,8.1,\"Drama,Thriller\",Not Rated,1h 23m,A new film by Ingmar Bergman,Not Available,Not Available,\"Bibi Andersson,Liv Ullmann,Margaretha Krook,Gunnar Björnstrand,Jörgen Lindström\",Ingmar Bergman,Ingmar Bergman\n",
            "\n",
            "Iteration 244 :  244,Life of Brian,1979,8.0,Comedy,R,1h 34m,A motion picture destined to offend nearly two thirds of the civilized world. And severely annoy the other third.,4000000,20745728,\"Graham Chapman,John Cleese,Michael Palin,Terry Gilliam,Eric Idle,Terry Jones,Terence Bayler,Carol Cleveland,Kenneth Colley,Neil Innes,Charles McKeown,John Young,Gwen Taylor,Sue Jones-Davies,Peter Brett,John Case,Chris Langham,Andrew MacLachlan\",Terry Jones,\"Graham Chapman,John Cleese,Terry Gilliam\"\n",
            "\n",
            "Iteration 245 :  245,The Iron Giant,1999,8.1,\"Animation,Action,Adventure\",PG,1h 26m,Some secrets are too huge to hide,70000000,23335817,\"Eli Marienthal,Harry Connick Jr.,Jennifer Aniston,Vin Diesel,James Gammon,Cloris Leachman,Christopher McDonald,John Mahoney,M. Emmet Walsh,Jack Angel,Bob Bergen,Mary Kay Bergman,Michael Bird,Devon Cole Borisoff,Rodger Bumpass,Robert Clotworthy,Jennifer Darling,Zack Eginton\",Brad Bird,\"Tim McCanlies,Brad Bird,Ted Hughes\"\n",
            "\n",
            "Iteration 246 :  246,The Help,2011,8.1,Drama,PG-13,2h 26m,Change begins with a whisper.,25000000,216639112,\"Viola Davis,Emma Stone,Octavia Spencer,Bryce Dallas Howard,Jessica Chastain,Ahna O'Reilly,Allison Janney,Anna Camp,Eleanor Henry,Emma Henry,Christopher Lowell,Cicely Tyson,Mike Vogel,Sissy Spacek,Brian Kerwin,Wes Chatham,Aunjanue Ellis,Ted Welch\",Tate Taylor,\"Tate Taylor,Kathryn Stockett\"\n",
            "\n",
            "Iteration 247 :  247,Dersu Uzala,1975,8.2,\"Adventure,Biography,Drama\",G,2h 22m,There is man and beast at nature's mercy. There is awe and love and reverence. And there is the man called...,4000000,14480,\"Maksim Munzuk,Yuriy Solomin,Mikhail Bychkov,Vladimir Khrulyov,V. Lastochkin,Stanislav Marin,Igor Sykhra,Vladimir Sergiyakov,Yanis Yakobsons,Vladimir Khlestov,G. Polunin,V. Koldin,M. Tetov,S. Sinyavskiy,Vladimir Sverba,V. Ignatov,Vladimir Kremena,Aleksandr Pyatkov\",Akira Kurosawa,\"Akira Kurosawa,Yuriy Nagibin,Vladimir Arsenev\"\n",
            "\n",
            "Iteration 248 :  248,Aladdin,1992,8.0,\"Animation,Adventure,Comedy\",G,1h 30m,Wish granted! (DVD re-release),Not Available,Not Available,\"Scott Weinger,Robin Williams,Linda Larkin,Jonathan Freeman,Frank Welker,Gilbert Gottfried,Douglas Seale,Charlie Adler,Jack Angel,Corey Burton,Philip L. Clarke,Jim Cummings,Jennifer Darling,Debi Derryberry,Bruce Gooch,Jerry Houser,Vera Lockwood,Sherry Lynn\",\"Ron Clements,John Musker\",\"Ron Clements,John Musker,Ted Elliott\"\n",
            "\n",
            "Iteration 249 :  249,Gandhi,1982,8.0,\"Biography,Drama,History\",PG,3h 11m,His Triumph Changed The World Forever.,22000000,52767889,\"Ben Kingsley,John Gielgud,Rohini Hattangadi,Roshan Seth,Candice Bergen,Edward Fox,Trevor Howard,John Mills,Martin Sheen,Ian Charleson,Günther Maria Halmer,Athol Fugard,Saeed Jaffrey,Geraldine James,Alyque Padamsee,Amrish Puri,Ian Bannen,Michael Bryant\",Richard Attenborough,John Briley\n",
            "\n",
            "Iteration 250 :  250,Dances with Wolves,1990,8.0,\"Adventure,Drama,Western\",PG-13,3h 1m,Inside everyone is a frontier waiting to be discovered.,22000000,424208848,\"Kevin Costner,Mary McDonnell,Graham Greene,Rodney A. Grant,Floyd 'Red Crow' Westerman,Tantoo Cardinal,Robert Pastorelli,Charles Rocket,Maury Chaykin,Jimmy Herman,Nathan Lee Chasing His Horse,Michael Spears,Jason R. Lone Hill,Tony Pierce,Doris Leader Charge,Tom Everett,Larry Joshua,Kirk Baltz\",Kevin Costner,Michael Blake\n",
            "\n"
          ]
        }
      ]
    },
    {
      "cell_type": "code",
      "source": [
        "# Read one line\n",
        "with open('/content/IMDB Top 250 Movies.csv', 'r') as file:\n",
        "   print(file.readline())"
      ],
      "metadata": {
        "id": "UD-Zu_sfgB0X",
        "colab": {
          "base_uri": "https://localhost:8080/"
        },
        "outputId": "371bac8d-536b-4b61-de4f-43fe3777c983"
      },
      "execution_count": 85,
      "outputs": [
        {
          "output_type": "stream",
          "name": "stdout",
          "text": [
            "rank,name,year,rating,genre,certificate,run_time,tagline,budget,box_office,casts,directors,writers\n",
            "\n"
          ]
        }
      ]
    },
    {
      "cell_type": "code",
      "source": [
        "# to read 2nd line then 3rd line so first to do is  Read all lines and save as a list\n",
        "with open('/content/IMDB Top 250 Movies.csv', 'r') as file:\n",
        "  file_as_list = file.readlines()"
      ],
      "metadata": {
        "id": "4tX1RuuIieI0"
      },
      "execution_count": 86,
      "outputs": []
    },
    {
      "cell_type": "code",
      "source": [
        "# now to print 1st line\n",
        "file_as_list[0]"
      ],
      "metadata": {
        "colab": {
          "base_uri": "https://localhost:8080/",
          "height": 36
        },
        "id": "cRQqbjktjyFD",
        "outputId": "c8a3cf0b-01b4-4ef7-ac64-1b011b37ab87"
      },
      "execution_count": 87,
      "outputs": [
        {
          "output_type": "execute_result",
          "data": {
            "text/plain": [
              "'rank,name,year,rating,genre,certificate,run_time,tagline,budget,box_office,casts,directors,writers\\n'"
            ],
            "application/vnd.google.colaboratory.intrinsic+json": {
              "type": "string"
            }
          },
          "metadata": {},
          "execution_count": 87
        }
      ]
    },
    {
      "cell_type": "code",
      "source": [
        "#to print 2nd line\n",
        "file_as_list[1]"
      ],
      "metadata": {
        "id": "NdBP9SBbj79d",
        "colab": {
          "base_uri": "https://localhost:8080/",
          "height": 73
        },
        "outputId": "c7909c7a-8983-44a3-f065-02b9eec966a6"
      },
      "execution_count": 88,
      "outputs": [
        {
          "output_type": "execute_result",
          "data": {
            "text/plain": [
              "'1,The Shawshank Redemption,1994,9.3,Drama,R,2h 22m,Fear can hold you prisoner. Hope can set you free.,25000000,28884504,\"Tim Robbins,Morgan Freeman,Bob Gunton,William Sadler,Clancy Brown,Gil Bellows,Mark Rolston,James Whitmore,Jeffrey DeMunn,Larry Brandenburg,Neil Giuntoli,Brian Libby,David Proval,Joseph Ragno,Jude Ciccolella,Paul McCrane,Renee Blaine,Scott Mann\",Frank Darabont,\"Stephen King,Frank Darabont\"\\n'"
            ],
            "application/vnd.google.colaboratory.intrinsic+json": {
              "type": "string"
            }
          },
          "metadata": {},
          "execution_count": 88
        }
      ]
    },
    {
      "cell_type": "markdown",
      "source": [
        "#Pandas"
      ],
      "metadata": {
        "id": "fQF1PqlhCNLG"
      }
    },
    {
      "cell_type": "code",
      "source": [
        "import pandas as pd\n",
        "\n",
        "data = pd.read_csv('/content/IMDB Top 250 Movies.csv')"
      ],
      "metadata": {
        "id": "0pggaImUkRrY"
      },
      "execution_count": 89,
      "outputs": []
    },
    {
      "cell_type": "code",
      "source": [
        "#to read file\n",
        "data.head()"
      ],
      "metadata": {
        "id": "YA7CoDWP9O_l",
        "colab": {
          "base_uri": "https://localhost:8080/",
          "height": 608
        },
        "outputId": "cb54ff21-d376-4954-bfcb-c098c2153ba3"
      },
      "execution_count": 90,
      "outputs": [
        {
          "output_type": "execute_result",
          "data": {
            "text/plain": [
              "   rank                      name  year  rating               genre  \\\n",
              "0     1  The Shawshank Redemption  1994     9.3               Drama   \n",
              "1     2             The Godfather  1972     9.2         Crime,Drama   \n",
              "2     3           The Dark Knight  2008     9.0  Action,Crime,Drama   \n",
              "3     4     The Godfather Part II  1974     9.0         Crime,Drama   \n",
              "4     5              12 Angry Men  1957     9.0         Crime,Drama   \n",
              "\n",
              "  certificate run_time                                            tagline  \\\n",
              "0           R   2h 22m  Fear can hold you prisoner. Hope can set you f...   \n",
              "1           R   2h 55m                         An offer you can't refuse.   \n",
              "2       PG-13   2h 32m                                    Why So Serious?   \n",
              "3           R   3h 22m       All the power on earth can't change destiny.   \n",
              "4    Approved   1h 36m  Life Is In Their Hands -- Death Is On Their Mi...   \n",
              "\n",
              "      budget  box_office                                              casts  \\\n",
              "0   25000000    28884504  Tim Robbins,Morgan Freeman,Bob Gunton,William ...   \n",
              "1    6000000   250341816  Marlon Brando,Al Pacino,James Caan,Diane Keato...   \n",
              "2  185000000  1006234167  Christian Bale,Heath Ledger,Aaron Eckhart,Mich...   \n",
              "3   13000000    47961919  Al Pacino,Robert De Niro,Robert Duvall,Diane K...   \n",
              "4     350000         955  Henry Fonda,Lee J. Cobb,Martin Balsam,John Fie...   \n",
              "\n",
              "              directors                                          writers  \n",
              "0        Frank Darabont                      Stephen King,Frank Darabont  \n",
              "1  Francis Ford Coppola                  Mario Puzo,Francis Ford Coppola  \n",
              "2     Christopher Nolan  Jonathan Nolan,Christopher Nolan,David S. Goyer  \n",
              "3  Francis Ford Coppola                  Francis Ford Coppola,Mario Puzo  \n",
              "4          Sidney Lumet                                    Reginald Rose  "
            ],
            "text/html": [
              "\n",
              "  <div id=\"df-46372ad4-c0f9-4eb5-abd9-7707ff1c05c2\" class=\"colab-df-container\">\n",
              "    <div>\n",
              "<style scoped>\n",
              "    .dataframe tbody tr th:only-of-type {\n",
              "        vertical-align: middle;\n",
              "    }\n",
              "\n",
              "    .dataframe tbody tr th {\n",
              "        vertical-align: top;\n",
              "    }\n",
              "\n",
              "    .dataframe thead th {\n",
              "        text-align: right;\n",
              "    }\n",
              "</style>\n",
              "<table border=\"1\" class=\"dataframe\">\n",
              "  <thead>\n",
              "    <tr style=\"text-align: right;\">\n",
              "      <th></th>\n",
              "      <th>rank</th>\n",
              "      <th>name</th>\n",
              "      <th>year</th>\n",
              "      <th>rating</th>\n",
              "      <th>genre</th>\n",
              "      <th>certificate</th>\n",
              "      <th>run_time</th>\n",
              "      <th>tagline</th>\n",
              "      <th>budget</th>\n",
              "      <th>box_office</th>\n",
              "      <th>casts</th>\n",
              "      <th>directors</th>\n",
              "      <th>writers</th>\n",
              "    </tr>\n",
              "  </thead>\n",
              "  <tbody>\n",
              "    <tr>\n",
              "      <th>0</th>\n",
              "      <td>1</td>\n",
              "      <td>The Shawshank Redemption</td>\n",
              "      <td>1994</td>\n",
              "      <td>9.3</td>\n",
              "      <td>Drama</td>\n",
              "      <td>R</td>\n",
              "      <td>2h 22m</td>\n",
              "      <td>Fear can hold you prisoner. Hope can set you f...</td>\n",
              "      <td>25000000</td>\n",
              "      <td>28884504</td>\n",
              "      <td>Tim Robbins,Morgan Freeman,Bob Gunton,William ...</td>\n",
              "      <td>Frank Darabont</td>\n",
              "      <td>Stephen King,Frank Darabont</td>\n",
              "    </tr>\n",
              "    <tr>\n",
              "      <th>1</th>\n",
              "      <td>2</td>\n",
              "      <td>The Godfather</td>\n",
              "      <td>1972</td>\n",
              "      <td>9.2</td>\n",
              "      <td>Crime,Drama</td>\n",
              "      <td>R</td>\n",
              "      <td>2h 55m</td>\n",
              "      <td>An offer you can't refuse.</td>\n",
              "      <td>6000000</td>\n",
              "      <td>250341816</td>\n",
              "      <td>Marlon Brando,Al Pacino,James Caan,Diane Keato...</td>\n",
              "      <td>Francis Ford Coppola</td>\n",
              "      <td>Mario Puzo,Francis Ford Coppola</td>\n",
              "    </tr>\n",
              "    <tr>\n",
              "      <th>2</th>\n",
              "      <td>3</td>\n",
              "      <td>The Dark Knight</td>\n",
              "      <td>2008</td>\n",
              "      <td>9.0</td>\n",
              "      <td>Action,Crime,Drama</td>\n",
              "      <td>PG-13</td>\n",
              "      <td>2h 32m</td>\n",
              "      <td>Why So Serious?</td>\n",
              "      <td>185000000</td>\n",
              "      <td>1006234167</td>\n",
              "      <td>Christian Bale,Heath Ledger,Aaron Eckhart,Mich...</td>\n",
              "      <td>Christopher Nolan</td>\n",
              "      <td>Jonathan Nolan,Christopher Nolan,David S. Goyer</td>\n",
              "    </tr>\n",
              "    <tr>\n",
              "      <th>3</th>\n",
              "      <td>4</td>\n",
              "      <td>The Godfather Part II</td>\n",
              "      <td>1974</td>\n",
              "      <td>9.0</td>\n",
              "      <td>Crime,Drama</td>\n",
              "      <td>R</td>\n",
              "      <td>3h 22m</td>\n",
              "      <td>All the power on earth can't change destiny.</td>\n",
              "      <td>13000000</td>\n",
              "      <td>47961919</td>\n",
              "      <td>Al Pacino,Robert De Niro,Robert Duvall,Diane K...</td>\n",
              "      <td>Francis Ford Coppola</td>\n",
              "      <td>Francis Ford Coppola,Mario Puzo</td>\n",
              "    </tr>\n",
              "    <tr>\n",
              "      <th>4</th>\n",
              "      <td>5</td>\n",
              "      <td>12 Angry Men</td>\n",
              "      <td>1957</td>\n",
              "      <td>9.0</td>\n",
              "      <td>Crime,Drama</td>\n",
              "      <td>Approved</td>\n",
              "      <td>1h 36m</td>\n",
              "      <td>Life Is In Their Hands -- Death Is On Their Mi...</td>\n",
              "      <td>350000</td>\n",
              "      <td>955</td>\n",
              "      <td>Henry Fonda,Lee J. Cobb,Martin Balsam,John Fie...</td>\n",
              "      <td>Sidney Lumet</td>\n",
              "      <td>Reginald Rose</td>\n",
              "    </tr>\n",
              "  </tbody>\n",
              "</table>\n",
              "</div>\n",
              "    <div class=\"colab-df-buttons\">\n",
              "\n",
              "  <div class=\"colab-df-container\">\n",
              "    <button class=\"colab-df-convert\" onclick=\"convertToInteractive('df-46372ad4-c0f9-4eb5-abd9-7707ff1c05c2')\"\n",
              "            title=\"Convert this dataframe to an interactive table.\"\n",
              "            style=\"display:none;\">\n",
              "\n",
              "  <svg xmlns=\"http://www.w3.org/2000/svg\" height=\"24px\" viewBox=\"0 -960 960 960\">\n",
              "    <path d=\"M120-120v-720h720v720H120Zm60-500h600v-160H180v160Zm220 220h160v-160H400v160Zm0 220h160v-160H400v160ZM180-400h160v-160H180v160Zm440 0h160v-160H620v160ZM180-180h160v-160H180v160Zm440 0h160v-160H620v160Z\"/>\n",
              "  </svg>\n",
              "    </button>\n",
              "\n",
              "  <style>\n",
              "    .colab-df-container {\n",
              "      display:flex;\n",
              "      gap: 12px;\n",
              "    }\n",
              "\n",
              "    .colab-df-convert {\n",
              "      background-color: #E8F0FE;\n",
              "      border: none;\n",
              "      border-radius: 50%;\n",
              "      cursor: pointer;\n",
              "      display: none;\n",
              "      fill: #1967D2;\n",
              "      height: 32px;\n",
              "      padding: 0 0 0 0;\n",
              "      width: 32px;\n",
              "    }\n",
              "\n",
              "    .colab-df-convert:hover {\n",
              "      background-color: #E2EBFA;\n",
              "      box-shadow: 0px 1px 2px rgba(60, 64, 67, 0.3), 0px 1px 3px 1px rgba(60, 64, 67, 0.15);\n",
              "      fill: #174EA6;\n",
              "    }\n",
              "\n",
              "    .colab-df-buttons div {\n",
              "      margin-bottom: 4px;\n",
              "    }\n",
              "\n",
              "    [theme=dark] .colab-df-convert {\n",
              "      background-color: #3B4455;\n",
              "      fill: #D2E3FC;\n",
              "    }\n",
              "\n",
              "    [theme=dark] .colab-df-convert:hover {\n",
              "      background-color: #434B5C;\n",
              "      box-shadow: 0px 1px 3px 1px rgba(0, 0, 0, 0.15);\n",
              "      filter: drop-shadow(0px 1px 2px rgba(0, 0, 0, 0.3));\n",
              "      fill: #FFFFFF;\n",
              "    }\n",
              "  </style>\n",
              "\n",
              "    <script>\n",
              "      const buttonEl =\n",
              "        document.querySelector('#df-46372ad4-c0f9-4eb5-abd9-7707ff1c05c2 button.colab-df-convert');\n",
              "      buttonEl.style.display =\n",
              "        google.colab.kernel.accessAllowed ? 'block' : 'none';\n",
              "\n",
              "      async function convertToInteractive(key) {\n",
              "        const element = document.querySelector('#df-46372ad4-c0f9-4eb5-abd9-7707ff1c05c2');\n",
              "        const dataTable =\n",
              "          await google.colab.kernel.invokeFunction('convertToInteractive',\n",
              "                                                    [key], {});\n",
              "        if (!dataTable) return;\n",
              "\n",
              "        const docLinkHtml = 'Like what you see? Visit the ' +\n",
              "          '<a target=\"_blank\" href=https://colab.research.google.com/notebooks/data_table.ipynb>data table notebook</a>'\n",
              "          + ' to learn more about interactive tables.';\n",
              "        element.innerHTML = '';\n",
              "        dataTable['output_type'] = 'display_data';\n",
              "        await google.colab.output.renderOutput(dataTable, element);\n",
              "        const docLink = document.createElement('div');\n",
              "        docLink.innerHTML = docLinkHtml;\n",
              "        element.appendChild(docLink);\n",
              "      }\n",
              "    </script>\n",
              "  </div>\n",
              "\n",
              "\n",
              "<div id=\"df-2646d31d-c723-42bc-97ac-d600f4a49317\">\n",
              "  <button class=\"colab-df-quickchart\" onclick=\"quickchart('df-2646d31d-c723-42bc-97ac-d600f4a49317')\"\n",
              "            title=\"Suggest charts.\"\n",
              "            style=\"display:none;\">\n",
              "\n",
              "<svg xmlns=\"http://www.w3.org/2000/svg\" height=\"24px\"viewBox=\"0 0 24 24\"\n",
              "     width=\"24px\">\n",
              "    <g>\n",
              "        <path d=\"M19 3H5c-1.1 0-2 .9-2 2v14c0 1.1.9 2 2 2h14c1.1 0 2-.9 2-2V5c0-1.1-.9-2-2-2zM9 17H7v-7h2v7zm4 0h-2V7h2v10zm4 0h-2v-4h2v4z\"/>\n",
              "    </g>\n",
              "</svg>\n",
              "  </button>\n",
              "\n",
              "<style>\n",
              "  .colab-df-quickchart {\n",
              "    background-color: #E8F0FE;\n",
              "    border: none;\n",
              "    border-radius: 50%;\n",
              "    cursor: pointer;\n",
              "    display: none;\n",
              "    fill: #1967D2;\n",
              "    height: 32px;\n",
              "    padding: 0 0 0 0;\n",
              "    width: 32px;\n",
              "  }\n",
              "\n",
              "  .colab-df-quickchart:hover {\n",
              "    background-color: #E2EBFA;\n",
              "    box-shadow: 0px 1px 2px rgba(60, 64, 67, 0.3), 0px 1px 3px 1px rgba(60, 64, 67, 0.15);\n",
              "    fill: #174EA6;\n",
              "  }\n",
              "\n",
              "  [theme=dark] .colab-df-quickchart {\n",
              "    background-color: #3B4455;\n",
              "    fill: #D2E3FC;\n",
              "  }\n",
              "\n",
              "  [theme=dark] .colab-df-quickchart:hover {\n",
              "    background-color: #434B5C;\n",
              "    box-shadow: 0px 1px 3px 1px rgba(0, 0, 0, 0.15);\n",
              "    filter: drop-shadow(0px 1px 2px rgba(0, 0, 0, 0.3));\n",
              "    fill: #FFFFFF;\n",
              "  }\n",
              "</style>\n",
              "\n",
              "  <script>\n",
              "    async function quickchart(key) {\n",
              "      const charts = await google.colab.kernel.invokeFunction(\n",
              "          'suggestCharts', [key], {});\n",
              "    }\n",
              "    (() => {\n",
              "      let quickchartButtonEl =\n",
              "        document.querySelector('#df-2646d31d-c723-42bc-97ac-d600f4a49317 button');\n",
              "      quickchartButtonEl.style.display =\n",
              "        google.colab.kernel.accessAllowed ? 'block' : 'none';\n",
              "    })();\n",
              "  </script>\n",
              "</div>\n",
              "    </div>\n",
              "  </div>\n"
            ]
          },
          "metadata": {},
          "execution_count": 90
        }
      ]
    },
    {
      "cell_type": "code",
      "source": [
        "#to see specific columns\n",
        "x = data[['name','year']]\n",
        "x.head(5)"
      ],
      "metadata": {
        "id": "bLTlcaez9TFc",
        "colab": {
          "base_uri": "https://localhost:8080/",
          "height": 206
        },
        "outputId": "4eca2c3b-5d8c-4411-9666-7089c7942b4b"
      },
      "execution_count": 91,
      "outputs": [
        {
          "output_type": "execute_result",
          "data": {
            "text/plain": [
              "                       name  year\n",
              "0  The Shawshank Redemption  1994\n",
              "1             The Godfather  1972\n",
              "2           The Dark Knight  2008\n",
              "3     The Godfather Part II  1974\n",
              "4              12 Angry Men  1957"
            ],
            "text/html": [
              "\n",
              "  <div id=\"df-e0e637dc-a110-41db-b38f-ef6c758f91c4\" class=\"colab-df-container\">\n",
              "    <div>\n",
              "<style scoped>\n",
              "    .dataframe tbody tr th:only-of-type {\n",
              "        vertical-align: middle;\n",
              "    }\n",
              "\n",
              "    .dataframe tbody tr th {\n",
              "        vertical-align: top;\n",
              "    }\n",
              "\n",
              "    .dataframe thead th {\n",
              "        text-align: right;\n",
              "    }\n",
              "</style>\n",
              "<table border=\"1\" class=\"dataframe\">\n",
              "  <thead>\n",
              "    <tr style=\"text-align: right;\">\n",
              "      <th></th>\n",
              "      <th>name</th>\n",
              "      <th>year</th>\n",
              "    </tr>\n",
              "  </thead>\n",
              "  <tbody>\n",
              "    <tr>\n",
              "      <th>0</th>\n",
              "      <td>The Shawshank Redemption</td>\n",
              "      <td>1994</td>\n",
              "    </tr>\n",
              "    <tr>\n",
              "      <th>1</th>\n",
              "      <td>The Godfather</td>\n",
              "      <td>1972</td>\n",
              "    </tr>\n",
              "    <tr>\n",
              "      <th>2</th>\n",
              "      <td>The Dark Knight</td>\n",
              "      <td>2008</td>\n",
              "    </tr>\n",
              "    <tr>\n",
              "      <th>3</th>\n",
              "      <td>The Godfather Part II</td>\n",
              "      <td>1974</td>\n",
              "    </tr>\n",
              "    <tr>\n",
              "      <th>4</th>\n",
              "      <td>12 Angry Men</td>\n",
              "      <td>1957</td>\n",
              "    </tr>\n",
              "  </tbody>\n",
              "</table>\n",
              "</div>\n",
              "    <div class=\"colab-df-buttons\">\n",
              "\n",
              "  <div class=\"colab-df-container\">\n",
              "    <button class=\"colab-df-convert\" onclick=\"convertToInteractive('df-e0e637dc-a110-41db-b38f-ef6c758f91c4')\"\n",
              "            title=\"Convert this dataframe to an interactive table.\"\n",
              "            style=\"display:none;\">\n",
              "\n",
              "  <svg xmlns=\"http://www.w3.org/2000/svg\" height=\"24px\" viewBox=\"0 -960 960 960\">\n",
              "    <path d=\"M120-120v-720h720v720H120Zm60-500h600v-160H180v160Zm220 220h160v-160H400v160Zm0 220h160v-160H400v160ZM180-400h160v-160H180v160Zm440 0h160v-160H620v160ZM180-180h160v-160H180v160Zm440 0h160v-160H620v160Z\"/>\n",
              "  </svg>\n",
              "    </button>\n",
              "\n",
              "  <style>\n",
              "    .colab-df-container {\n",
              "      display:flex;\n",
              "      gap: 12px;\n",
              "    }\n",
              "\n",
              "    .colab-df-convert {\n",
              "      background-color: #E8F0FE;\n",
              "      border: none;\n",
              "      border-radius: 50%;\n",
              "      cursor: pointer;\n",
              "      display: none;\n",
              "      fill: #1967D2;\n",
              "      height: 32px;\n",
              "      padding: 0 0 0 0;\n",
              "      width: 32px;\n",
              "    }\n",
              "\n",
              "    .colab-df-convert:hover {\n",
              "      background-color: #E2EBFA;\n",
              "      box-shadow: 0px 1px 2px rgba(60, 64, 67, 0.3), 0px 1px 3px 1px rgba(60, 64, 67, 0.15);\n",
              "      fill: #174EA6;\n",
              "    }\n",
              "\n",
              "    .colab-df-buttons div {\n",
              "      margin-bottom: 4px;\n",
              "    }\n",
              "\n",
              "    [theme=dark] .colab-df-convert {\n",
              "      background-color: #3B4455;\n",
              "      fill: #D2E3FC;\n",
              "    }\n",
              "\n",
              "    [theme=dark] .colab-df-convert:hover {\n",
              "      background-color: #434B5C;\n",
              "      box-shadow: 0px 1px 3px 1px rgba(0, 0, 0, 0.15);\n",
              "      filter: drop-shadow(0px 1px 2px rgba(0, 0, 0, 0.3));\n",
              "      fill: #FFFFFF;\n",
              "    }\n",
              "  </style>\n",
              "\n",
              "    <script>\n",
              "      const buttonEl =\n",
              "        document.querySelector('#df-e0e637dc-a110-41db-b38f-ef6c758f91c4 button.colab-df-convert');\n",
              "      buttonEl.style.display =\n",
              "        google.colab.kernel.accessAllowed ? 'block' : 'none';\n",
              "\n",
              "      async function convertToInteractive(key) {\n",
              "        const element = document.querySelector('#df-e0e637dc-a110-41db-b38f-ef6c758f91c4');\n",
              "        const dataTable =\n",
              "          await google.colab.kernel.invokeFunction('convertToInteractive',\n",
              "                                                    [key], {});\n",
              "        if (!dataTable) return;\n",
              "\n",
              "        const docLinkHtml = 'Like what you see? Visit the ' +\n",
              "          '<a target=\"_blank\" href=https://colab.research.google.com/notebooks/data_table.ipynb>data table notebook</a>'\n",
              "          + ' to learn more about interactive tables.';\n",
              "        element.innerHTML = '';\n",
              "        dataTable['output_type'] = 'display_data';\n",
              "        await google.colab.output.renderOutput(dataTable, element);\n",
              "        const docLink = document.createElement('div');\n",
              "        docLink.innerHTML = docLinkHtml;\n",
              "        element.appendChild(docLink);\n",
              "      }\n",
              "    </script>\n",
              "  </div>\n",
              "\n",
              "\n",
              "<div id=\"df-a9c0a8cc-f529-4884-883e-2745e1a37ba1\">\n",
              "  <button class=\"colab-df-quickchart\" onclick=\"quickchart('df-a9c0a8cc-f529-4884-883e-2745e1a37ba1')\"\n",
              "            title=\"Suggest charts.\"\n",
              "            style=\"display:none;\">\n",
              "\n",
              "<svg xmlns=\"http://www.w3.org/2000/svg\" height=\"24px\"viewBox=\"0 0 24 24\"\n",
              "     width=\"24px\">\n",
              "    <g>\n",
              "        <path d=\"M19 3H5c-1.1 0-2 .9-2 2v14c0 1.1.9 2 2 2h14c1.1 0 2-.9 2-2V5c0-1.1-.9-2-2-2zM9 17H7v-7h2v7zm4 0h-2V7h2v10zm4 0h-2v-4h2v4z\"/>\n",
              "    </g>\n",
              "</svg>\n",
              "  </button>\n",
              "\n",
              "<style>\n",
              "  .colab-df-quickchart {\n",
              "    background-color: #E8F0FE;\n",
              "    border: none;\n",
              "    border-radius: 50%;\n",
              "    cursor: pointer;\n",
              "    display: none;\n",
              "    fill: #1967D2;\n",
              "    height: 32px;\n",
              "    padding: 0 0 0 0;\n",
              "    width: 32px;\n",
              "  }\n",
              "\n",
              "  .colab-df-quickchart:hover {\n",
              "    background-color: #E2EBFA;\n",
              "    box-shadow: 0px 1px 2px rgba(60, 64, 67, 0.3), 0px 1px 3px 1px rgba(60, 64, 67, 0.15);\n",
              "    fill: #174EA6;\n",
              "  }\n",
              "\n",
              "  [theme=dark] .colab-df-quickchart {\n",
              "    background-color: #3B4455;\n",
              "    fill: #D2E3FC;\n",
              "  }\n",
              "\n",
              "  [theme=dark] .colab-df-quickchart:hover {\n",
              "    background-color: #434B5C;\n",
              "    box-shadow: 0px 1px 3px 1px rgba(0, 0, 0, 0.15);\n",
              "    filter: drop-shadow(0px 1px 2px rgba(0, 0, 0, 0.3));\n",
              "    fill: #FFFFFF;\n",
              "  }\n",
              "</style>\n",
              "\n",
              "  <script>\n",
              "    async function quickchart(key) {\n",
              "      const charts = await google.colab.kernel.invokeFunction(\n",
              "          'suggestCharts', [key], {});\n",
              "    }\n",
              "    (() => {\n",
              "      let quickchartButtonEl =\n",
              "        document.querySelector('#df-a9c0a8cc-f529-4884-883e-2745e1a37ba1 button');\n",
              "      quickchartButtonEl.style.display =\n",
              "        google.colab.kernel.accessAllowed ? 'block' : 'none';\n",
              "    })();\n",
              "  </script>\n",
              "</div>\n",
              "    </div>\n",
              "  </div>\n"
            ]
          },
          "metadata": {},
          "execution_count": 91
        }
      ]
    },
    {
      "cell_type": "code",
      "source": [
        "#to find the unique elements in any column\n",
        "y = data['year'].unique()\n",
        "y"
      ],
      "metadata": {
        "id": "ppPV2j3WDWes",
        "colab": {
          "base_uri": "https://localhost:8080/"
        },
        "outputId": "89e84a76-df3b-4b75-c387-ef63c9039138"
      },
      "execution_count": 92,
      "outputs": [
        {
          "output_type": "execute_result",
          "data": {
            "text/plain": [
              "array([1994, 1972, 2008, 1974, 1957, 1993, 2003, 2001, 1966, 1999, 2002,\n",
              "       2010, 1980, 1990, 1975, 1995, 1954, 1946, 1991, 1998, 2014, 1997,\n",
              "       1977, 1985, 1960, 2019, 2000, 2006, 1942, 1988, 1962, 2011, 1936,\n",
              "       1968, 1979, 1931, 2012, 1981, 1950, 1940, 2018, 1986, 1964, 2009,\n",
              "       1984, 2017, 2016, 1952, 1963, 1983, 2004, 1992, 1941, 1959, 1958,\n",
              "       1971, 1944, 1987, 2022, 2020, 1973, 1927, 1976, 1989, 1948, 2007,\n",
              "       1965, 2005, 1921, 2013, 1961, 2021, 1982, 1939, 2015, 1996, 1925,\n",
              "       1926, 1949, 1978, 1953, 1924, 1928, 1955, 1967, 1934])"
            ]
          },
          "metadata": {},
          "execution_count": 92
        }
      ]
    },
    {
      "cell_type": "code",
      "source": [
        "sorted(y)"
      ],
      "metadata": {
        "id": "6kR53HgQET8q",
        "colab": {
          "base_uri": "https://localhost:8080/"
        },
        "outputId": "bdc1f95f-dac3-409f-c5f5-810b2ce22ccf"
      },
      "execution_count": 93,
      "outputs": [
        {
          "output_type": "execute_result",
          "data": {
            "text/plain": [
              "[1921,\n",
              " 1924,\n",
              " 1925,\n",
              " 1926,\n",
              " 1927,\n",
              " 1928,\n",
              " 1931,\n",
              " 1934,\n",
              " 1936,\n",
              " 1939,\n",
              " 1940,\n",
              " 1941,\n",
              " 1942,\n",
              " 1944,\n",
              " 1946,\n",
              " 1948,\n",
              " 1949,\n",
              " 1950,\n",
              " 1952,\n",
              " 1953,\n",
              " 1954,\n",
              " 1955,\n",
              " 1957,\n",
              " 1958,\n",
              " 1959,\n",
              " 1960,\n",
              " 1961,\n",
              " 1962,\n",
              " 1963,\n",
              " 1964,\n",
              " 1965,\n",
              " 1966,\n",
              " 1967,\n",
              " 1968,\n",
              " 1971,\n",
              " 1972,\n",
              " 1973,\n",
              " 1974,\n",
              " 1975,\n",
              " 1976,\n",
              " 1977,\n",
              " 1978,\n",
              " 1979,\n",
              " 1980,\n",
              " 1981,\n",
              " 1982,\n",
              " 1983,\n",
              " 1984,\n",
              " 1985,\n",
              " 1986,\n",
              " 1987,\n",
              " 1988,\n",
              " 1989,\n",
              " 1990,\n",
              " 1991,\n",
              " 1992,\n",
              " 1993,\n",
              " 1994,\n",
              " 1995,\n",
              " 1996,\n",
              " 1997,\n",
              " 1998,\n",
              " 1999,\n",
              " 2000,\n",
              " 2001,\n",
              " 2002,\n",
              " 2003,\n",
              " 2004,\n",
              " 2005,\n",
              " 2006,\n",
              " 2007,\n",
              " 2008,\n",
              " 2009,\n",
              " 2010,\n",
              " 2011,\n",
              " 2012,\n",
              " 2013,\n",
              " 2014,\n",
              " 2015,\n",
              " 2016,\n",
              " 2017,\n",
              " 2018,\n",
              " 2019,\n",
              " 2020,\n",
              " 2021,\n",
              " 2022]"
            ]
          },
          "metadata": {},
          "execution_count": 93
        }
      ]
    },
    {
      "cell_type": "code",
      "source": [
        "#to check any film release before 1920\n",
        "check_film_before = data[data['year']<=1930]\n",
        "check_film_before"
      ],
      "metadata": {
        "id": "DLaED5lCE3XD",
        "colab": {
          "base_uri": "https://localhost:8080/",
          "height": 639
        },
        "outputId": "ef512631-584e-4689-b083-f392a503c1a3"
      },
      "execution_count": 94,
      "outputs": [
        {
          "output_type": "execute_result",
          "data": {
            "text/plain": [
              "     rank                        name  year  rating                    genre  \\\n",
              "114   115                  Metropolis  1927     8.3             Drama,Sci-Fi   \n",
              "127   128                     The Kid  1921     8.3      Comedy,Drama,Family   \n",
              "176   177               The Gold Rush  1925     8.1   Adventure,Comedy,Drama   \n",
              "186   187                 The General  1926     8.1  Action,Adventure,Comedy   \n",
              "194   195                Sherlock Jr.  1924     8.2    Action,Comedy,Romance   \n",
              "207   208  The Passion of Joan of Arc  1928     8.2  Biography,Drama,History   \n",
              "\n",
              "    certificate run_time                                            tagline  \\\n",
              "114   Not Rated   2h 33m  Fritz Lang's 1927 Masterpiece Now With 25 Minu...   \n",
              "127      Passed    1h 8m  This is the great film he has been working on ...   \n",
              "176      Passed   1h 35m  \"The Picture I Want to Be Remembered by.\" -Cha...   \n",
              "186      Passed    1h 7m  Buster drives \"The General\" to trainload of la...   \n",
              "194      Passed      45m          every inch of footage holds such a laugh!   \n",
              "207      Passed   1h 54m                 JOAN of ARC PICTURES Inc. presents   \n",
              "\n",
              "            budget          box_office  \\\n",
              "114     EM 6000000             1349711   \n",
              "127         250000               41960   \n",
              "176         923000               29328   \n",
              "186         750000  750000 (estimated)   \n",
              "194  Not Available       Not Available   \n",
              "207  Not Available       Not Available   \n",
              "\n",
              "                                                 casts  \\\n",
              "114  Brigitte Helm,Alfred Abel,Gustav Fröhlich,Rudo...   \n",
              "127  Charles Chaplin,Edna Purviance,Jackie Coogan,C...   \n",
              "176  Charles Chaplin,Mack Swain,Tom Murray,Henry Be...   \n",
              "186  Buster Keaton,Marion Mack,Glen Cavender,Jim Fa...   \n",
              "194  Buster Keaton,Kathryn McGuire,Joe Keaton,Erwin...   \n",
              "207  Maria Falconetti,Eugene Silvain,André Berley,M...   \n",
              "\n",
              "                        directors  \\\n",
              "114                    Fritz Lang   \n",
              "127               Charles Chaplin   \n",
              "176               Charles Chaplin   \n",
              "186  Clyde Bruckman,Buster Keaton   \n",
              "194                 Buster Keaton   \n",
              "207           Carl Theodor Dreyer   \n",
              "\n",
              "                                             writers  \n",
              "114                       Thea von Harbou,Fritz Lang  \n",
              "127                                  Charles Chaplin  \n",
              "176                                  Charles Chaplin  \n",
              "186         Buster Keaton,Clyde Bruckman,Al Boasberg  \n",
              "194  Jean C. Havez,Joseph A. Mitchell,Clyde Bruckman  \n",
              "207               Joseph Delteil,Carl Theodor Dreyer  "
            ],
            "text/html": [
              "\n",
              "  <div id=\"df-6d525d7f-013f-413c-bad2-8b4956ca9738\" class=\"colab-df-container\">\n",
              "    <div>\n",
              "<style scoped>\n",
              "    .dataframe tbody tr th:only-of-type {\n",
              "        vertical-align: middle;\n",
              "    }\n",
              "\n",
              "    .dataframe tbody tr th {\n",
              "        vertical-align: top;\n",
              "    }\n",
              "\n",
              "    .dataframe thead th {\n",
              "        text-align: right;\n",
              "    }\n",
              "</style>\n",
              "<table border=\"1\" class=\"dataframe\">\n",
              "  <thead>\n",
              "    <tr style=\"text-align: right;\">\n",
              "      <th></th>\n",
              "      <th>rank</th>\n",
              "      <th>name</th>\n",
              "      <th>year</th>\n",
              "      <th>rating</th>\n",
              "      <th>genre</th>\n",
              "      <th>certificate</th>\n",
              "      <th>run_time</th>\n",
              "      <th>tagline</th>\n",
              "      <th>budget</th>\n",
              "      <th>box_office</th>\n",
              "      <th>casts</th>\n",
              "      <th>directors</th>\n",
              "      <th>writers</th>\n",
              "    </tr>\n",
              "  </thead>\n",
              "  <tbody>\n",
              "    <tr>\n",
              "      <th>114</th>\n",
              "      <td>115</td>\n",
              "      <td>Metropolis</td>\n",
              "      <td>1927</td>\n",
              "      <td>8.3</td>\n",
              "      <td>Drama,Sci-Fi</td>\n",
              "      <td>Not Rated</td>\n",
              "      <td>2h 33m</td>\n",
              "      <td>Fritz Lang's 1927 Masterpiece Now With 25 Minu...</td>\n",
              "      <td>EM 6000000</td>\n",
              "      <td>1349711</td>\n",
              "      <td>Brigitte Helm,Alfred Abel,Gustav Fröhlich,Rudo...</td>\n",
              "      <td>Fritz Lang</td>\n",
              "      <td>Thea von Harbou,Fritz Lang</td>\n",
              "    </tr>\n",
              "    <tr>\n",
              "      <th>127</th>\n",
              "      <td>128</td>\n",
              "      <td>The Kid</td>\n",
              "      <td>1921</td>\n",
              "      <td>8.3</td>\n",
              "      <td>Comedy,Drama,Family</td>\n",
              "      <td>Passed</td>\n",
              "      <td>1h 8m</td>\n",
              "      <td>This is the great film he has been working on ...</td>\n",
              "      <td>250000</td>\n",
              "      <td>41960</td>\n",
              "      <td>Charles Chaplin,Edna Purviance,Jackie Coogan,C...</td>\n",
              "      <td>Charles Chaplin</td>\n",
              "      <td>Charles Chaplin</td>\n",
              "    </tr>\n",
              "    <tr>\n",
              "      <th>176</th>\n",
              "      <td>177</td>\n",
              "      <td>The Gold Rush</td>\n",
              "      <td>1925</td>\n",
              "      <td>8.1</td>\n",
              "      <td>Adventure,Comedy,Drama</td>\n",
              "      <td>Passed</td>\n",
              "      <td>1h 35m</td>\n",
              "      <td>\"The Picture I Want to Be Remembered by.\" -Cha...</td>\n",
              "      <td>923000</td>\n",
              "      <td>29328</td>\n",
              "      <td>Charles Chaplin,Mack Swain,Tom Murray,Henry Be...</td>\n",
              "      <td>Charles Chaplin</td>\n",
              "      <td>Charles Chaplin</td>\n",
              "    </tr>\n",
              "    <tr>\n",
              "      <th>186</th>\n",
              "      <td>187</td>\n",
              "      <td>The General</td>\n",
              "      <td>1926</td>\n",
              "      <td>8.1</td>\n",
              "      <td>Action,Adventure,Comedy</td>\n",
              "      <td>Passed</td>\n",
              "      <td>1h 7m</td>\n",
              "      <td>Buster drives \"The General\" to trainload of la...</td>\n",
              "      <td>750000</td>\n",
              "      <td>750000 (estimated)</td>\n",
              "      <td>Buster Keaton,Marion Mack,Glen Cavender,Jim Fa...</td>\n",
              "      <td>Clyde Bruckman,Buster Keaton</td>\n",
              "      <td>Buster Keaton,Clyde Bruckman,Al Boasberg</td>\n",
              "    </tr>\n",
              "    <tr>\n",
              "      <th>194</th>\n",
              "      <td>195</td>\n",
              "      <td>Sherlock Jr.</td>\n",
              "      <td>1924</td>\n",
              "      <td>8.2</td>\n",
              "      <td>Action,Comedy,Romance</td>\n",
              "      <td>Passed</td>\n",
              "      <td>45m</td>\n",
              "      <td>every inch of footage holds such a laugh!</td>\n",
              "      <td>Not Available</td>\n",
              "      <td>Not Available</td>\n",
              "      <td>Buster Keaton,Kathryn McGuire,Joe Keaton,Erwin...</td>\n",
              "      <td>Buster Keaton</td>\n",
              "      <td>Jean C. Havez,Joseph A. Mitchell,Clyde Bruckman</td>\n",
              "    </tr>\n",
              "    <tr>\n",
              "      <th>207</th>\n",
              "      <td>208</td>\n",
              "      <td>The Passion of Joan of Arc</td>\n",
              "      <td>1928</td>\n",
              "      <td>8.2</td>\n",
              "      <td>Biography,Drama,History</td>\n",
              "      <td>Passed</td>\n",
              "      <td>1h 54m</td>\n",
              "      <td>JOAN of ARC PICTURES Inc. presents</td>\n",
              "      <td>Not Available</td>\n",
              "      <td>Not Available</td>\n",
              "      <td>Maria Falconetti,Eugene Silvain,André Berley,M...</td>\n",
              "      <td>Carl Theodor Dreyer</td>\n",
              "      <td>Joseph Delteil,Carl Theodor Dreyer</td>\n",
              "    </tr>\n",
              "  </tbody>\n",
              "</table>\n",
              "</div>\n",
              "    <div class=\"colab-df-buttons\">\n",
              "\n",
              "  <div class=\"colab-df-container\">\n",
              "    <button class=\"colab-df-convert\" onclick=\"convertToInteractive('df-6d525d7f-013f-413c-bad2-8b4956ca9738')\"\n",
              "            title=\"Convert this dataframe to an interactive table.\"\n",
              "            style=\"display:none;\">\n",
              "\n",
              "  <svg xmlns=\"http://www.w3.org/2000/svg\" height=\"24px\" viewBox=\"0 -960 960 960\">\n",
              "    <path d=\"M120-120v-720h720v720H120Zm60-500h600v-160H180v160Zm220 220h160v-160H400v160Zm0 220h160v-160H400v160ZM180-400h160v-160H180v160Zm440 0h160v-160H620v160ZM180-180h160v-160H180v160Zm440 0h160v-160H620v160Z\"/>\n",
              "  </svg>\n",
              "    </button>\n",
              "\n",
              "  <style>\n",
              "    .colab-df-container {\n",
              "      display:flex;\n",
              "      gap: 12px;\n",
              "    }\n",
              "\n",
              "    .colab-df-convert {\n",
              "      background-color: #E8F0FE;\n",
              "      border: none;\n",
              "      border-radius: 50%;\n",
              "      cursor: pointer;\n",
              "      display: none;\n",
              "      fill: #1967D2;\n",
              "      height: 32px;\n",
              "      padding: 0 0 0 0;\n",
              "      width: 32px;\n",
              "    }\n",
              "\n",
              "    .colab-df-convert:hover {\n",
              "      background-color: #E2EBFA;\n",
              "      box-shadow: 0px 1px 2px rgba(60, 64, 67, 0.3), 0px 1px 3px 1px rgba(60, 64, 67, 0.15);\n",
              "      fill: #174EA6;\n",
              "    }\n",
              "\n",
              "    .colab-df-buttons div {\n",
              "      margin-bottom: 4px;\n",
              "    }\n",
              "\n",
              "    [theme=dark] .colab-df-convert {\n",
              "      background-color: #3B4455;\n",
              "      fill: #D2E3FC;\n",
              "    }\n",
              "\n",
              "    [theme=dark] .colab-df-convert:hover {\n",
              "      background-color: #434B5C;\n",
              "      box-shadow: 0px 1px 3px 1px rgba(0, 0, 0, 0.15);\n",
              "      filter: drop-shadow(0px 1px 2px rgba(0, 0, 0, 0.3));\n",
              "      fill: #FFFFFF;\n",
              "    }\n",
              "  </style>\n",
              "\n",
              "    <script>\n",
              "      const buttonEl =\n",
              "        document.querySelector('#df-6d525d7f-013f-413c-bad2-8b4956ca9738 button.colab-df-convert');\n",
              "      buttonEl.style.display =\n",
              "        google.colab.kernel.accessAllowed ? 'block' : 'none';\n",
              "\n",
              "      async function convertToInteractive(key) {\n",
              "        const element = document.querySelector('#df-6d525d7f-013f-413c-bad2-8b4956ca9738');\n",
              "        const dataTable =\n",
              "          await google.colab.kernel.invokeFunction('convertToInteractive',\n",
              "                                                    [key], {});\n",
              "        if (!dataTable) return;\n",
              "\n",
              "        const docLinkHtml = 'Like what you see? Visit the ' +\n",
              "          '<a target=\"_blank\" href=https://colab.research.google.com/notebooks/data_table.ipynb>data table notebook</a>'\n",
              "          + ' to learn more about interactive tables.';\n",
              "        element.innerHTML = '';\n",
              "        dataTable['output_type'] = 'display_data';\n",
              "        await google.colab.output.renderOutput(dataTable, element);\n",
              "        const docLink = document.createElement('div');\n",
              "        docLink.innerHTML = docLinkHtml;\n",
              "        element.appendChild(docLink);\n",
              "      }\n",
              "    </script>\n",
              "  </div>\n",
              "\n",
              "\n",
              "<div id=\"df-67a5f5da-bef6-497a-8269-8b8f6dbee048\">\n",
              "  <button class=\"colab-df-quickchart\" onclick=\"quickchart('df-67a5f5da-bef6-497a-8269-8b8f6dbee048')\"\n",
              "            title=\"Suggest charts.\"\n",
              "            style=\"display:none;\">\n",
              "\n",
              "<svg xmlns=\"http://www.w3.org/2000/svg\" height=\"24px\"viewBox=\"0 0 24 24\"\n",
              "     width=\"24px\">\n",
              "    <g>\n",
              "        <path d=\"M19 3H5c-1.1 0-2 .9-2 2v14c0 1.1.9 2 2 2h14c1.1 0 2-.9 2-2V5c0-1.1-.9-2-2-2zM9 17H7v-7h2v7zm4 0h-2V7h2v10zm4 0h-2v-4h2v4z\"/>\n",
              "    </g>\n",
              "</svg>\n",
              "  </button>\n",
              "\n",
              "<style>\n",
              "  .colab-df-quickchart {\n",
              "    background-color: #E8F0FE;\n",
              "    border: none;\n",
              "    border-radius: 50%;\n",
              "    cursor: pointer;\n",
              "    display: none;\n",
              "    fill: #1967D2;\n",
              "    height: 32px;\n",
              "    padding: 0 0 0 0;\n",
              "    width: 32px;\n",
              "  }\n",
              "\n",
              "  .colab-df-quickchart:hover {\n",
              "    background-color: #E2EBFA;\n",
              "    box-shadow: 0px 1px 2px rgba(60, 64, 67, 0.3), 0px 1px 3px 1px rgba(60, 64, 67, 0.15);\n",
              "    fill: #174EA6;\n",
              "  }\n",
              "\n",
              "  [theme=dark] .colab-df-quickchart {\n",
              "    background-color: #3B4455;\n",
              "    fill: #D2E3FC;\n",
              "  }\n",
              "\n",
              "  [theme=dark] .colab-df-quickchart:hover {\n",
              "    background-color: #434B5C;\n",
              "    box-shadow: 0px 1px 3px 1px rgba(0, 0, 0, 0.15);\n",
              "    filter: drop-shadow(0px 1px 2px rgba(0, 0, 0, 0.3));\n",
              "    fill: #FFFFFF;\n",
              "  }\n",
              "</style>\n",
              "\n",
              "  <script>\n",
              "    async function quickchart(key) {\n",
              "      const charts = await google.colab.kernel.invokeFunction(\n",
              "          'suggestCharts', [key], {});\n",
              "    }\n",
              "    (() => {\n",
              "      let quickchartButtonEl =\n",
              "        document.querySelector('#df-67a5f5da-bef6-497a-8269-8b8f6dbee048 button');\n",
              "      quickchartButtonEl.style.display =\n",
              "        google.colab.kernel.accessAllowed ? 'block' : 'none';\n",
              "    })();\n",
              "  </script>\n",
              "</div>\n",
              "    </div>\n",
              "  </div>\n"
            ]
          },
          "metadata": {},
          "execution_count": 94
        }
      ]
    },
    {
      "cell_type": "code",
      "source": [
        "#to see integer value of film release before year\n",
        "check_film_before.count()"
      ],
      "metadata": {
        "id": "CtjzW81oGG7D",
        "colab": {
          "base_uri": "https://localhost:8080/"
        },
        "outputId": "415c2738-f516-4b80-ae40-96128b81df6f"
      },
      "execution_count": 95,
      "outputs": [
        {
          "output_type": "execute_result",
          "data": {
            "text/plain": [
              "rank           6\n",
              "name           6\n",
              "year           6\n",
              "rating         6\n",
              "genre          6\n",
              "certificate    6\n",
              "run_time       6\n",
              "tagline        6\n",
              "budget         6\n",
              "box_office     6\n",
              "casts          6\n",
              "directors      6\n",
              "writers        6\n",
              "dtype: int64"
            ]
          },
          "metadata": {},
          "execution_count": 95
        }
      ]
    },
    {
      "cell_type": "code",
      "source": [
        "# to save the updated data\n",
        "check_film_before.to_csv('released year before 1930.csv')"
      ],
      "metadata": {
        "id": "xd1C2m95Gyni"
      },
      "execution_count": 96,
      "outputs": []
    },
    {
      "cell_type": "code",
      "source": [
        "# create own data frame using list and dictonaries\n",
        "data = {\"student\": ['david','samuel','terry','evan'],\n",
        "        \"age\": ['27','24','22','32'],\n",
        "        \"country\": ['uk','canada','china','usa'],\n",
        "        \"course\": ['python','data structure','machine learning','web development'],\n",
        "        \"marks\": [85,72,89,76]}\n",
        "data1 = pd.DataFrame(data)\n",
        "data1"
      ],
      "metadata": {
        "id": "18KgU3stHghd",
        "colab": {
          "base_uri": "https://localhost:8080/",
          "height": 175
        },
        "outputId": "3ce20762-0355-40d2-a287-0d65a6ce6f9f"
      },
      "execution_count": 97,
      "outputs": [
        {
          "output_type": "execute_result",
          "data": {
            "text/plain": [
              "  student age country            course  marks\n",
              "0   david  27      uk            python     85\n",
              "1  samuel  24  canada    data structure     72\n",
              "2   terry  22   china  machine learning     89\n",
              "3    evan  32     usa   web development     76"
            ],
            "text/html": [
              "\n",
              "  <div id=\"df-80c32e72-f211-4262-980e-a9ed930a7014\" class=\"colab-df-container\">\n",
              "    <div>\n",
              "<style scoped>\n",
              "    .dataframe tbody tr th:only-of-type {\n",
              "        vertical-align: middle;\n",
              "    }\n",
              "\n",
              "    .dataframe tbody tr th {\n",
              "        vertical-align: top;\n",
              "    }\n",
              "\n",
              "    .dataframe thead th {\n",
              "        text-align: right;\n",
              "    }\n",
              "</style>\n",
              "<table border=\"1\" class=\"dataframe\">\n",
              "  <thead>\n",
              "    <tr style=\"text-align: right;\">\n",
              "      <th></th>\n",
              "      <th>student</th>\n",
              "      <th>age</th>\n",
              "      <th>country</th>\n",
              "      <th>course</th>\n",
              "      <th>marks</th>\n",
              "    </tr>\n",
              "  </thead>\n",
              "  <tbody>\n",
              "    <tr>\n",
              "      <th>0</th>\n",
              "      <td>david</td>\n",
              "      <td>27</td>\n",
              "      <td>uk</td>\n",
              "      <td>python</td>\n",
              "      <td>85</td>\n",
              "    </tr>\n",
              "    <tr>\n",
              "      <th>1</th>\n",
              "      <td>samuel</td>\n",
              "      <td>24</td>\n",
              "      <td>canada</td>\n",
              "      <td>data structure</td>\n",
              "      <td>72</td>\n",
              "    </tr>\n",
              "    <tr>\n",
              "      <th>2</th>\n",
              "      <td>terry</td>\n",
              "      <td>22</td>\n",
              "      <td>china</td>\n",
              "      <td>machine learning</td>\n",
              "      <td>89</td>\n",
              "    </tr>\n",
              "    <tr>\n",
              "      <th>3</th>\n",
              "      <td>evan</td>\n",
              "      <td>32</td>\n",
              "      <td>usa</td>\n",
              "      <td>web development</td>\n",
              "      <td>76</td>\n",
              "    </tr>\n",
              "  </tbody>\n",
              "</table>\n",
              "</div>\n",
              "    <div class=\"colab-df-buttons\">\n",
              "\n",
              "  <div class=\"colab-df-container\">\n",
              "    <button class=\"colab-df-convert\" onclick=\"convertToInteractive('df-80c32e72-f211-4262-980e-a9ed930a7014')\"\n",
              "            title=\"Convert this dataframe to an interactive table.\"\n",
              "            style=\"display:none;\">\n",
              "\n",
              "  <svg xmlns=\"http://www.w3.org/2000/svg\" height=\"24px\" viewBox=\"0 -960 960 960\">\n",
              "    <path d=\"M120-120v-720h720v720H120Zm60-500h600v-160H180v160Zm220 220h160v-160H400v160Zm0 220h160v-160H400v160ZM180-400h160v-160H180v160Zm440 0h160v-160H620v160ZM180-180h160v-160H180v160Zm440 0h160v-160H620v160Z\"/>\n",
              "  </svg>\n",
              "    </button>\n",
              "\n",
              "  <style>\n",
              "    .colab-df-container {\n",
              "      display:flex;\n",
              "      gap: 12px;\n",
              "    }\n",
              "\n",
              "    .colab-df-convert {\n",
              "      background-color: #E8F0FE;\n",
              "      border: none;\n",
              "      border-radius: 50%;\n",
              "      cursor: pointer;\n",
              "      display: none;\n",
              "      fill: #1967D2;\n",
              "      height: 32px;\n",
              "      padding: 0 0 0 0;\n",
              "      width: 32px;\n",
              "    }\n",
              "\n",
              "    .colab-df-convert:hover {\n",
              "      background-color: #E2EBFA;\n",
              "      box-shadow: 0px 1px 2px rgba(60, 64, 67, 0.3), 0px 1px 3px 1px rgba(60, 64, 67, 0.15);\n",
              "      fill: #174EA6;\n",
              "    }\n",
              "\n",
              "    .colab-df-buttons div {\n",
              "      margin-bottom: 4px;\n",
              "    }\n",
              "\n",
              "    [theme=dark] .colab-df-convert {\n",
              "      background-color: #3B4455;\n",
              "      fill: #D2E3FC;\n",
              "    }\n",
              "\n",
              "    [theme=dark] .colab-df-convert:hover {\n",
              "      background-color: #434B5C;\n",
              "      box-shadow: 0px 1px 3px 1px rgba(0, 0, 0, 0.15);\n",
              "      filter: drop-shadow(0px 1px 2px rgba(0, 0, 0, 0.3));\n",
              "      fill: #FFFFFF;\n",
              "    }\n",
              "  </style>\n",
              "\n",
              "    <script>\n",
              "      const buttonEl =\n",
              "        document.querySelector('#df-80c32e72-f211-4262-980e-a9ed930a7014 button.colab-df-convert');\n",
              "      buttonEl.style.display =\n",
              "        google.colab.kernel.accessAllowed ? 'block' : 'none';\n",
              "\n",
              "      async function convertToInteractive(key) {\n",
              "        const element = document.querySelector('#df-80c32e72-f211-4262-980e-a9ed930a7014');\n",
              "        const dataTable =\n",
              "          await google.colab.kernel.invokeFunction('convertToInteractive',\n",
              "                                                    [key], {});\n",
              "        if (!dataTable) return;\n",
              "\n",
              "        const docLinkHtml = 'Like what you see? Visit the ' +\n",
              "          '<a target=\"_blank\" href=https://colab.research.google.com/notebooks/data_table.ipynb>data table notebook</a>'\n",
              "          + ' to learn more about interactive tables.';\n",
              "        element.innerHTML = '';\n",
              "        dataTable['output_type'] = 'display_data';\n",
              "        await google.colab.output.renderOutput(dataTable, element);\n",
              "        const docLink = document.createElement('div');\n",
              "        docLink.innerHTML = docLinkHtml;\n",
              "        element.appendChild(docLink);\n",
              "      }\n",
              "    </script>\n",
              "  </div>\n",
              "\n",
              "\n",
              "<div id=\"df-02f0d0ac-e317-430f-a2ef-8684058e0dcf\">\n",
              "  <button class=\"colab-df-quickchart\" onclick=\"quickchart('df-02f0d0ac-e317-430f-a2ef-8684058e0dcf')\"\n",
              "            title=\"Suggest charts.\"\n",
              "            style=\"display:none;\">\n",
              "\n",
              "<svg xmlns=\"http://www.w3.org/2000/svg\" height=\"24px\"viewBox=\"0 0 24 24\"\n",
              "     width=\"24px\">\n",
              "    <g>\n",
              "        <path d=\"M19 3H5c-1.1 0-2 .9-2 2v14c0 1.1.9 2 2 2h14c1.1 0 2-.9 2-2V5c0-1.1-.9-2-2-2zM9 17H7v-7h2v7zm4 0h-2V7h2v10zm4 0h-2v-4h2v4z\"/>\n",
              "    </g>\n",
              "</svg>\n",
              "  </button>\n",
              "\n",
              "<style>\n",
              "  .colab-df-quickchart {\n",
              "    background-color: #E8F0FE;\n",
              "    border: none;\n",
              "    border-radius: 50%;\n",
              "    cursor: pointer;\n",
              "    display: none;\n",
              "    fill: #1967D2;\n",
              "    height: 32px;\n",
              "    padding: 0 0 0 0;\n",
              "    width: 32px;\n",
              "  }\n",
              "\n",
              "  .colab-df-quickchart:hover {\n",
              "    background-color: #E2EBFA;\n",
              "    box-shadow: 0px 1px 2px rgba(60, 64, 67, 0.3), 0px 1px 3px 1px rgba(60, 64, 67, 0.15);\n",
              "    fill: #174EA6;\n",
              "  }\n",
              "\n",
              "  [theme=dark] .colab-df-quickchart {\n",
              "    background-color: #3B4455;\n",
              "    fill: #D2E3FC;\n",
              "  }\n",
              "\n",
              "  [theme=dark] .colab-df-quickchart:hover {\n",
              "    background-color: #434B5C;\n",
              "    box-shadow: 0px 1px 3px 1px rgba(0, 0, 0, 0.15);\n",
              "    filter: drop-shadow(0px 1px 2px rgba(0, 0, 0, 0.3));\n",
              "    fill: #FFFFFF;\n",
              "  }\n",
              "</style>\n",
              "\n",
              "  <script>\n",
              "    async function quickchart(key) {\n",
              "      const charts = await google.colab.kernel.invokeFunction(\n",
              "          'suggestCharts', [key], {});\n",
              "    }\n",
              "    (() => {\n",
              "      let quickchartButtonEl =\n",
              "        document.querySelector('#df-02f0d0ac-e317-430f-a2ef-8684058e0dcf button');\n",
              "      quickchartButtonEl.style.display =\n",
              "        google.colab.kernel.accessAllowed ? 'block' : 'none';\n",
              "    })();\n",
              "  </script>\n",
              "</div>\n",
              "    </div>\n",
              "  </div>\n"
            ]
          },
          "metadata": {},
          "execution_count": 97
        }
      ]
    },
    {
      "cell_type": "markdown",
      "source": [
        "- **iloc function use one extra index while mentioning**\n",
        "- **loc function use only exact index**"
      ],
      "metadata": {
        "id": "LrDj4jtZTyuI"
      }
    },
    {
      "cell_type": "code",
      "source": [
        "# Access the value on the first row and the first column\n",
        "data1.iloc[0, 0]"
      ],
      "metadata": {
        "id": "_5t7e_enK1kB",
        "colab": {
          "base_uri": "https://localhost:8080/",
          "height": 36
        },
        "outputId": "7ee970ab-87b6-4b3f-f77b-a29e906abfcf"
      },
      "execution_count": 98,
      "outputs": [
        {
          "output_type": "execute_result",
          "data": {
            "text/plain": [
              "'david'"
            ],
            "application/vnd.google.colaboratory.intrinsic+json": {
              "type": "string"
            }
          },
          "metadata": {},
          "execution_count": 98
        }
      ]
    },
    {
      "cell_type": "code",
      "source": [
        "# Access the value on the first row and the third column\n",
        "data1.iloc[0,2]"
      ],
      "metadata": {
        "id": "1qwcOleKMCyH",
        "colab": {
          "base_uri": "https://localhost:8080/",
          "height": 36
        },
        "outputId": "417acc17-2206-480a-d354-cd5d062cf0c1"
      },
      "execution_count": 99,
      "outputs": [
        {
          "output_type": "execute_result",
          "data": {
            "text/plain": [
              "'uk'"
            ],
            "application/vnd.google.colaboratory.intrinsic+json": {
              "type": "string"
            }
          },
          "metadata": {},
          "execution_count": 99
        }
      ]
    },
    {
      "cell_type": "code",
      "source": [
        "# Access the column using the name\n",
        "data1.loc[0, 'student']"
      ],
      "metadata": {
        "id": "Q-iXgNw6MSYF",
        "colab": {
          "base_uri": "https://localhost:8080/",
          "height": 36
        },
        "outputId": "885bf8aa-14bc-4b40-9d43-604d434fc5e2"
      },
      "execution_count": 100,
      "outputs": [
        {
          "output_type": "execute_result",
          "data": {
            "text/plain": [
              "'david'"
            ],
            "application/vnd.google.colaboratory.intrinsic+json": {
              "type": "string"
            }
          },
          "metadata": {},
          "execution_count": 100
        }
      ]
    },
    {
      "cell_type": "code",
      "source": [
        "# use this .set_index function for set column in place of index\n",
        "\n",
        "updated_data = data1\n",
        "updated_data = updated_data.set_index('student')\n",
        "updated_data"
      ],
      "metadata": {
        "id": "hp64LRliMWUJ",
        "colab": {
          "base_uri": "https://localhost:8080/",
          "height": 206
        },
        "outputId": "acee937a-4bfe-448f-c0ba-373d0548b462"
      },
      "execution_count": 101,
      "outputs": [
        {
          "output_type": "execute_result",
          "data": {
            "text/plain": [
              "        age country            course  marks\n",
              "student                                     \n",
              "david    27      uk            python     85\n",
              "samuel   24  canada    data structure     72\n",
              "terry    22   china  machine learning     89\n",
              "evan     32     usa   web development     76"
            ],
            "text/html": [
              "\n",
              "  <div id=\"df-4b25c9c8-7577-4cae-873f-3de13509331f\" class=\"colab-df-container\">\n",
              "    <div>\n",
              "<style scoped>\n",
              "    .dataframe tbody tr th:only-of-type {\n",
              "        vertical-align: middle;\n",
              "    }\n",
              "\n",
              "    .dataframe tbody tr th {\n",
              "        vertical-align: top;\n",
              "    }\n",
              "\n",
              "    .dataframe thead th {\n",
              "        text-align: right;\n",
              "    }\n",
              "</style>\n",
              "<table border=\"1\" class=\"dataframe\">\n",
              "  <thead>\n",
              "    <tr style=\"text-align: right;\">\n",
              "      <th></th>\n",
              "      <th>age</th>\n",
              "      <th>country</th>\n",
              "      <th>course</th>\n",
              "      <th>marks</th>\n",
              "    </tr>\n",
              "    <tr>\n",
              "      <th>student</th>\n",
              "      <th></th>\n",
              "      <th></th>\n",
              "      <th></th>\n",
              "      <th></th>\n",
              "    </tr>\n",
              "  </thead>\n",
              "  <tbody>\n",
              "    <tr>\n",
              "      <th>david</th>\n",
              "      <td>27</td>\n",
              "      <td>uk</td>\n",
              "      <td>python</td>\n",
              "      <td>85</td>\n",
              "    </tr>\n",
              "    <tr>\n",
              "      <th>samuel</th>\n",
              "      <td>24</td>\n",
              "      <td>canada</td>\n",
              "      <td>data structure</td>\n",
              "      <td>72</td>\n",
              "    </tr>\n",
              "    <tr>\n",
              "      <th>terry</th>\n",
              "      <td>22</td>\n",
              "      <td>china</td>\n",
              "      <td>machine learning</td>\n",
              "      <td>89</td>\n",
              "    </tr>\n",
              "    <tr>\n",
              "      <th>evan</th>\n",
              "      <td>32</td>\n",
              "      <td>usa</td>\n",
              "      <td>web development</td>\n",
              "      <td>76</td>\n",
              "    </tr>\n",
              "  </tbody>\n",
              "</table>\n",
              "</div>\n",
              "    <div class=\"colab-df-buttons\">\n",
              "\n",
              "  <div class=\"colab-df-container\">\n",
              "    <button class=\"colab-df-convert\" onclick=\"convertToInteractive('df-4b25c9c8-7577-4cae-873f-3de13509331f')\"\n",
              "            title=\"Convert this dataframe to an interactive table.\"\n",
              "            style=\"display:none;\">\n",
              "\n",
              "  <svg xmlns=\"http://www.w3.org/2000/svg\" height=\"24px\" viewBox=\"0 -960 960 960\">\n",
              "    <path d=\"M120-120v-720h720v720H120Zm60-500h600v-160H180v160Zm220 220h160v-160H400v160Zm0 220h160v-160H400v160ZM180-400h160v-160H180v160Zm440 0h160v-160H620v160ZM180-180h160v-160H180v160Zm440 0h160v-160H620v160Z\"/>\n",
              "  </svg>\n",
              "    </button>\n",
              "\n",
              "  <style>\n",
              "    .colab-df-container {\n",
              "      display:flex;\n",
              "      gap: 12px;\n",
              "    }\n",
              "\n",
              "    .colab-df-convert {\n",
              "      background-color: #E8F0FE;\n",
              "      border: none;\n",
              "      border-radius: 50%;\n",
              "      cursor: pointer;\n",
              "      display: none;\n",
              "      fill: #1967D2;\n",
              "      height: 32px;\n",
              "      padding: 0 0 0 0;\n",
              "      width: 32px;\n",
              "    }\n",
              "\n",
              "    .colab-df-convert:hover {\n",
              "      background-color: #E2EBFA;\n",
              "      box-shadow: 0px 1px 2px rgba(60, 64, 67, 0.3), 0px 1px 3px 1px rgba(60, 64, 67, 0.15);\n",
              "      fill: #174EA6;\n",
              "    }\n",
              "\n",
              "    .colab-df-buttons div {\n",
              "      margin-bottom: 4px;\n",
              "    }\n",
              "\n",
              "    [theme=dark] .colab-df-convert {\n",
              "      background-color: #3B4455;\n",
              "      fill: #D2E3FC;\n",
              "    }\n",
              "\n",
              "    [theme=dark] .colab-df-convert:hover {\n",
              "      background-color: #434B5C;\n",
              "      box-shadow: 0px 1px 3px 1px rgba(0, 0, 0, 0.15);\n",
              "      filter: drop-shadow(0px 1px 2px rgba(0, 0, 0, 0.3));\n",
              "      fill: #FFFFFF;\n",
              "    }\n",
              "  </style>\n",
              "\n",
              "    <script>\n",
              "      const buttonEl =\n",
              "        document.querySelector('#df-4b25c9c8-7577-4cae-873f-3de13509331f button.colab-df-convert');\n",
              "      buttonEl.style.display =\n",
              "        google.colab.kernel.accessAllowed ? 'block' : 'none';\n",
              "\n",
              "      async function convertToInteractive(key) {\n",
              "        const element = document.querySelector('#df-4b25c9c8-7577-4cae-873f-3de13509331f');\n",
              "        const dataTable =\n",
              "          await google.colab.kernel.invokeFunction('convertToInteractive',\n",
              "                                                    [key], {});\n",
              "        if (!dataTable) return;\n",
              "\n",
              "        const docLinkHtml = 'Like what you see? Visit the ' +\n",
              "          '<a target=\"_blank\" href=https://colab.research.google.com/notebooks/data_table.ipynb>data table notebook</a>'\n",
              "          + ' to learn more about interactive tables.';\n",
              "        element.innerHTML = '';\n",
              "        dataTable['output_type'] = 'display_data';\n",
              "        await google.colab.output.renderOutput(dataTable, element);\n",
              "        const docLink = document.createElement('div');\n",
              "        docLink.innerHTML = docLinkHtml;\n",
              "        element.appendChild(docLink);\n",
              "      }\n",
              "    </script>\n",
              "  </div>\n",
              "\n",
              "\n",
              "<div id=\"df-07c3a813-fce1-44bc-aead-741f6dfedb3f\">\n",
              "  <button class=\"colab-df-quickchart\" onclick=\"quickchart('df-07c3a813-fce1-44bc-aead-741f6dfedb3f')\"\n",
              "            title=\"Suggest charts.\"\n",
              "            style=\"display:none;\">\n",
              "\n",
              "<svg xmlns=\"http://www.w3.org/2000/svg\" height=\"24px\"viewBox=\"0 0 24 24\"\n",
              "     width=\"24px\">\n",
              "    <g>\n",
              "        <path d=\"M19 3H5c-1.1 0-2 .9-2 2v14c0 1.1.9 2 2 2h14c1.1 0 2-.9 2-2V5c0-1.1-.9-2-2-2zM9 17H7v-7h2v7zm4 0h-2V7h2v10zm4 0h-2v-4h2v4z\"/>\n",
              "    </g>\n",
              "</svg>\n",
              "  </button>\n",
              "\n",
              "<style>\n",
              "  .colab-df-quickchart {\n",
              "    background-color: #E8F0FE;\n",
              "    border: none;\n",
              "    border-radius: 50%;\n",
              "    cursor: pointer;\n",
              "    display: none;\n",
              "    fill: #1967D2;\n",
              "    height: 32px;\n",
              "    padding: 0 0 0 0;\n",
              "    width: 32px;\n",
              "  }\n",
              "\n",
              "  .colab-df-quickchart:hover {\n",
              "    background-color: #E2EBFA;\n",
              "    box-shadow: 0px 1px 2px rgba(60, 64, 67, 0.3), 0px 1px 3px 1px rgba(60, 64, 67, 0.15);\n",
              "    fill: #174EA6;\n",
              "  }\n",
              "\n",
              "  [theme=dark] .colab-df-quickchart {\n",
              "    background-color: #3B4455;\n",
              "    fill: #D2E3FC;\n",
              "  }\n",
              "\n",
              "  [theme=dark] .colab-df-quickchart:hover {\n",
              "    background-color: #434B5C;\n",
              "    box-shadow: 0px 1px 3px 1px rgba(0, 0, 0, 0.15);\n",
              "    filter: drop-shadow(0px 1px 2px rgba(0, 0, 0, 0.3));\n",
              "    fill: #FFFFFF;\n",
              "  }\n",
              "</style>\n",
              "\n",
              "  <script>\n",
              "    async function quickchart(key) {\n",
              "      const charts = await google.colab.kernel.invokeFunction(\n",
              "          'suggestCharts', [key], {});\n",
              "    }\n",
              "    (() => {\n",
              "      let quickchartButtonEl =\n",
              "        document.querySelector('#df-07c3a813-fce1-44bc-aead-741f6dfedb3f button');\n",
              "      quickchartButtonEl.style.display =\n",
              "        google.colab.kernel.accessAllowed ? 'block' : 'none';\n",
              "    })();\n",
              "  </script>\n",
              "</div>\n",
              "    </div>\n",
              "  </div>\n"
            ]
          },
          "metadata": {},
          "execution_count": 101
        }
      ]
    },
    {
      "cell_type": "code",
      "source": [
        "#use this function to check specific values for specific element\n",
        "# this function works when you remove index column\n",
        "#to check devid marks\n",
        "updated_data.loc['david','marks']"
      ],
      "metadata": {
        "colab": {
          "base_uri": "https://localhost:8080/"
        },
        "id": "H9NReU8aNVCg",
        "outputId": "837006cd-62ab-4f85-e6bf-bbeef4284d3e"
      },
      "execution_count": 102,
      "outputs": [
        {
          "output_type": "execute_result",
          "data": {
            "text/plain": [
              "85"
            ]
          },
          "metadata": {},
          "execution_count": 102
        }
      ]
    },
    {
      "cell_type": "code",
      "source": [
        "#Define a dictionary 'x'\n",
        "\n",
        "x = {'Name': ['Rose','John', 'Jane', 'Mary'], 'ID': [1, 2, 3, 4], 'Department': ['Architect Group', 'Software Group', 'Design Team', 'Infrastructure'],\n",
        "      'Salary':[100000, 80000, 50000, 60000]}\n",
        "\n",
        "#casting the dictionary to a DataFrame\n",
        "df = pd.DataFrame(x)\n",
        "\n",
        "#display the result df\n",
        "df"
      ],
      "metadata": {
        "id": "yWBlQsmgOZg4",
        "colab": {
          "base_uri": "https://localhost:8080/",
          "height": 175
        },
        "outputId": "4e3fea8d-f45c-43d5-b937-2712a4b5693e"
      },
      "execution_count": 103,
      "outputs": [
        {
          "output_type": "execute_result",
          "data": {
            "text/plain": [
              "   Name  ID       Department  Salary\n",
              "0  Rose   1  Architect Group  100000\n",
              "1  John   2   Software Group   80000\n",
              "2  Jane   3      Design Team   50000\n",
              "3  Mary   4   Infrastructure   60000"
            ],
            "text/html": [
              "\n",
              "  <div id=\"df-d504331a-8d60-4f86-b975-1d066fbd2287\" class=\"colab-df-container\">\n",
              "    <div>\n",
              "<style scoped>\n",
              "    .dataframe tbody tr th:only-of-type {\n",
              "        vertical-align: middle;\n",
              "    }\n",
              "\n",
              "    .dataframe tbody tr th {\n",
              "        vertical-align: top;\n",
              "    }\n",
              "\n",
              "    .dataframe thead th {\n",
              "        text-align: right;\n",
              "    }\n",
              "</style>\n",
              "<table border=\"1\" class=\"dataframe\">\n",
              "  <thead>\n",
              "    <tr style=\"text-align: right;\">\n",
              "      <th></th>\n",
              "      <th>Name</th>\n",
              "      <th>ID</th>\n",
              "      <th>Department</th>\n",
              "      <th>Salary</th>\n",
              "    </tr>\n",
              "  </thead>\n",
              "  <tbody>\n",
              "    <tr>\n",
              "      <th>0</th>\n",
              "      <td>Rose</td>\n",
              "      <td>1</td>\n",
              "      <td>Architect Group</td>\n",
              "      <td>100000</td>\n",
              "    </tr>\n",
              "    <tr>\n",
              "      <th>1</th>\n",
              "      <td>John</td>\n",
              "      <td>2</td>\n",
              "      <td>Software Group</td>\n",
              "      <td>80000</td>\n",
              "    </tr>\n",
              "    <tr>\n",
              "      <th>2</th>\n",
              "      <td>Jane</td>\n",
              "      <td>3</td>\n",
              "      <td>Design Team</td>\n",
              "      <td>50000</td>\n",
              "    </tr>\n",
              "    <tr>\n",
              "      <th>3</th>\n",
              "      <td>Mary</td>\n",
              "      <td>4</td>\n",
              "      <td>Infrastructure</td>\n",
              "      <td>60000</td>\n",
              "    </tr>\n",
              "  </tbody>\n",
              "</table>\n",
              "</div>\n",
              "    <div class=\"colab-df-buttons\">\n",
              "\n",
              "  <div class=\"colab-df-container\">\n",
              "    <button class=\"colab-df-convert\" onclick=\"convertToInteractive('df-d504331a-8d60-4f86-b975-1d066fbd2287')\"\n",
              "            title=\"Convert this dataframe to an interactive table.\"\n",
              "            style=\"display:none;\">\n",
              "\n",
              "  <svg xmlns=\"http://www.w3.org/2000/svg\" height=\"24px\" viewBox=\"0 -960 960 960\">\n",
              "    <path d=\"M120-120v-720h720v720H120Zm60-500h600v-160H180v160Zm220 220h160v-160H400v160Zm0 220h160v-160H400v160ZM180-400h160v-160H180v160Zm440 0h160v-160H620v160ZM180-180h160v-160H180v160Zm440 0h160v-160H620v160Z\"/>\n",
              "  </svg>\n",
              "    </button>\n",
              "\n",
              "  <style>\n",
              "    .colab-df-container {\n",
              "      display:flex;\n",
              "      gap: 12px;\n",
              "    }\n",
              "\n",
              "    .colab-df-convert {\n",
              "      background-color: #E8F0FE;\n",
              "      border: none;\n",
              "      border-radius: 50%;\n",
              "      cursor: pointer;\n",
              "      display: none;\n",
              "      fill: #1967D2;\n",
              "      height: 32px;\n",
              "      padding: 0 0 0 0;\n",
              "      width: 32px;\n",
              "    }\n",
              "\n",
              "    .colab-df-convert:hover {\n",
              "      background-color: #E2EBFA;\n",
              "      box-shadow: 0px 1px 2px rgba(60, 64, 67, 0.3), 0px 1px 3px 1px rgba(60, 64, 67, 0.15);\n",
              "      fill: #174EA6;\n",
              "    }\n",
              "\n",
              "    .colab-df-buttons div {\n",
              "      margin-bottom: 4px;\n",
              "    }\n",
              "\n",
              "    [theme=dark] .colab-df-convert {\n",
              "      background-color: #3B4455;\n",
              "      fill: #D2E3FC;\n",
              "    }\n",
              "\n",
              "    [theme=dark] .colab-df-convert:hover {\n",
              "      background-color: #434B5C;\n",
              "      box-shadow: 0px 1px 3px 1px rgba(0, 0, 0, 0.15);\n",
              "      filter: drop-shadow(0px 1px 2px rgba(0, 0, 0, 0.3));\n",
              "      fill: #FFFFFF;\n",
              "    }\n",
              "  </style>\n",
              "\n",
              "    <script>\n",
              "      const buttonEl =\n",
              "        document.querySelector('#df-d504331a-8d60-4f86-b975-1d066fbd2287 button.colab-df-convert');\n",
              "      buttonEl.style.display =\n",
              "        google.colab.kernel.accessAllowed ? 'block' : 'none';\n",
              "\n",
              "      async function convertToInteractive(key) {\n",
              "        const element = document.querySelector('#df-d504331a-8d60-4f86-b975-1d066fbd2287');\n",
              "        const dataTable =\n",
              "          await google.colab.kernel.invokeFunction('convertToInteractive',\n",
              "                                                    [key], {});\n",
              "        if (!dataTable) return;\n",
              "\n",
              "        const docLinkHtml = 'Like what you see? Visit the ' +\n",
              "          '<a target=\"_blank\" href=https://colab.research.google.com/notebooks/data_table.ipynb>data table notebook</a>'\n",
              "          + ' to learn more about interactive tables.';\n",
              "        element.innerHTML = '';\n",
              "        dataTable['output_type'] = 'display_data';\n",
              "        await google.colab.output.renderOutput(dataTable, element);\n",
              "        const docLink = document.createElement('div');\n",
              "        docLink.innerHTML = docLinkHtml;\n",
              "        element.appendChild(docLink);\n",
              "      }\n",
              "    </script>\n",
              "  </div>\n",
              "\n",
              "\n",
              "<div id=\"df-70abd9bc-e809-4e30-bf56-e64b7fb21ca2\">\n",
              "  <button class=\"colab-df-quickchart\" onclick=\"quickchart('df-70abd9bc-e809-4e30-bf56-e64b7fb21ca2')\"\n",
              "            title=\"Suggest charts.\"\n",
              "            style=\"display:none;\">\n",
              "\n",
              "<svg xmlns=\"http://www.w3.org/2000/svg\" height=\"24px\"viewBox=\"0 0 24 24\"\n",
              "     width=\"24px\">\n",
              "    <g>\n",
              "        <path d=\"M19 3H5c-1.1 0-2 .9-2 2v14c0 1.1.9 2 2 2h14c1.1 0 2-.9 2-2V5c0-1.1-.9-2-2-2zM9 17H7v-7h2v7zm4 0h-2V7h2v10zm4 0h-2v-4h2v4z\"/>\n",
              "    </g>\n",
              "</svg>\n",
              "  </button>\n",
              "\n",
              "<style>\n",
              "  .colab-df-quickchart {\n",
              "    background-color: #E8F0FE;\n",
              "    border: none;\n",
              "    border-radius: 50%;\n",
              "    cursor: pointer;\n",
              "    display: none;\n",
              "    fill: #1967D2;\n",
              "    height: 32px;\n",
              "    padding: 0 0 0 0;\n",
              "    width: 32px;\n",
              "  }\n",
              "\n",
              "  .colab-df-quickchart:hover {\n",
              "    background-color: #E2EBFA;\n",
              "    box-shadow: 0px 1px 2px rgba(60, 64, 67, 0.3), 0px 1px 3px 1px rgba(60, 64, 67, 0.15);\n",
              "    fill: #174EA6;\n",
              "  }\n",
              "\n",
              "  [theme=dark] .colab-df-quickchart {\n",
              "    background-color: #3B4455;\n",
              "    fill: #D2E3FC;\n",
              "  }\n",
              "\n",
              "  [theme=dark] .colab-df-quickchart:hover {\n",
              "    background-color: #434B5C;\n",
              "    box-shadow: 0px 1px 3px 1px rgba(0, 0, 0, 0.15);\n",
              "    filter: drop-shadow(0px 1px 2px rgba(0, 0, 0, 0.3));\n",
              "    fill: #FFFFFF;\n",
              "  }\n",
              "</style>\n",
              "\n",
              "  <script>\n",
              "    async function quickchart(key) {\n",
              "      const charts = await google.colab.kernel.invokeFunction(\n",
              "          'suggestCharts', [key], {});\n",
              "    }\n",
              "    (() => {\n",
              "      let quickchartButtonEl =\n",
              "        document.querySelector('#df-70abd9bc-e809-4e30-bf56-e64b7fb21ca2 button');\n",
              "      quickchartButtonEl.style.display =\n",
              "        google.colab.kernel.accessAllowed ? 'block' : 'none';\n",
              "    })();\n",
              "  </script>\n",
              "</div>\n",
              "    </div>\n",
              "  </div>\n"
            ]
          },
          "metadata": {},
          "execution_count": 103
        }
      ]
    },
    {
      "cell_type": "code",
      "source": [
        "df.iloc[3,2]"
      ],
      "metadata": {
        "id": "ueyVcoQ8RXws",
        "colab": {
          "base_uri": "https://localhost:8080/",
          "height": 36
        },
        "outputId": "c3297675-a558-4661-f117-c1928da712ce"
      },
      "execution_count": 104,
      "outputs": [
        {
          "output_type": "execute_result",
          "data": {
            "text/plain": [
              "'Infrastructure'"
            ],
            "application/vnd.google.colaboratory.intrinsic+json": {
              "type": "string"
            }
          },
          "metadata": {},
          "execution_count": 104
        }
      ]
    },
    {
      "cell_type": "code",
      "source": [
        "df.loc[0:2,'ID':'Department']"
      ],
      "metadata": {
        "id": "_AQ-QND-RzDP",
        "colab": {
          "base_uri": "https://localhost:8080/",
          "height": 143
        },
        "outputId": "2c31be14-cca8-4679-c668-11635e1d4c84"
      },
      "execution_count": 105,
      "outputs": [
        {
          "output_type": "execute_result",
          "data": {
            "text/plain": [
              "   ID       Department\n",
              "0   1  Architect Group\n",
              "1   2   Software Group\n",
              "2   3      Design Team"
            ],
            "text/html": [
              "\n",
              "  <div id=\"df-5d1fbfc8-f1a2-4d49-932f-09b2a481c58a\" class=\"colab-df-container\">\n",
              "    <div>\n",
              "<style scoped>\n",
              "    .dataframe tbody tr th:only-of-type {\n",
              "        vertical-align: middle;\n",
              "    }\n",
              "\n",
              "    .dataframe tbody tr th {\n",
              "        vertical-align: top;\n",
              "    }\n",
              "\n",
              "    .dataframe thead th {\n",
              "        text-align: right;\n",
              "    }\n",
              "</style>\n",
              "<table border=\"1\" class=\"dataframe\">\n",
              "  <thead>\n",
              "    <tr style=\"text-align: right;\">\n",
              "      <th></th>\n",
              "      <th>ID</th>\n",
              "      <th>Department</th>\n",
              "    </tr>\n",
              "  </thead>\n",
              "  <tbody>\n",
              "    <tr>\n",
              "      <th>0</th>\n",
              "      <td>1</td>\n",
              "      <td>Architect Group</td>\n",
              "    </tr>\n",
              "    <tr>\n",
              "      <th>1</th>\n",
              "      <td>2</td>\n",
              "      <td>Software Group</td>\n",
              "    </tr>\n",
              "    <tr>\n",
              "      <th>2</th>\n",
              "      <td>3</td>\n",
              "      <td>Design Team</td>\n",
              "    </tr>\n",
              "  </tbody>\n",
              "</table>\n",
              "</div>\n",
              "    <div class=\"colab-df-buttons\">\n",
              "\n",
              "  <div class=\"colab-df-container\">\n",
              "    <button class=\"colab-df-convert\" onclick=\"convertToInteractive('df-5d1fbfc8-f1a2-4d49-932f-09b2a481c58a')\"\n",
              "            title=\"Convert this dataframe to an interactive table.\"\n",
              "            style=\"display:none;\">\n",
              "\n",
              "  <svg xmlns=\"http://www.w3.org/2000/svg\" height=\"24px\" viewBox=\"0 -960 960 960\">\n",
              "    <path d=\"M120-120v-720h720v720H120Zm60-500h600v-160H180v160Zm220 220h160v-160H400v160Zm0 220h160v-160H400v160ZM180-400h160v-160H180v160Zm440 0h160v-160H620v160ZM180-180h160v-160H180v160Zm440 0h160v-160H620v160Z\"/>\n",
              "  </svg>\n",
              "    </button>\n",
              "\n",
              "  <style>\n",
              "    .colab-df-container {\n",
              "      display:flex;\n",
              "      gap: 12px;\n",
              "    }\n",
              "\n",
              "    .colab-df-convert {\n",
              "      background-color: #E8F0FE;\n",
              "      border: none;\n",
              "      border-radius: 50%;\n",
              "      cursor: pointer;\n",
              "      display: none;\n",
              "      fill: #1967D2;\n",
              "      height: 32px;\n",
              "      padding: 0 0 0 0;\n",
              "      width: 32px;\n",
              "    }\n",
              "\n",
              "    .colab-df-convert:hover {\n",
              "      background-color: #E2EBFA;\n",
              "      box-shadow: 0px 1px 2px rgba(60, 64, 67, 0.3), 0px 1px 3px 1px rgba(60, 64, 67, 0.15);\n",
              "      fill: #174EA6;\n",
              "    }\n",
              "\n",
              "    .colab-df-buttons div {\n",
              "      margin-bottom: 4px;\n",
              "    }\n",
              "\n",
              "    [theme=dark] .colab-df-convert {\n",
              "      background-color: #3B4455;\n",
              "      fill: #D2E3FC;\n",
              "    }\n",
              "\n",
              "    [theme=dark] .colab-df-convert:hover {\n",
              "      background-color: #434B5C;\n",
              "      box-shadow: 0px 1px 3px 1px rgba(0, 0, 0, 0.15);\n",
              "      filter: drop-shadow(0px 1px 2px rgba(0, 0, 0, 0.3));\n",
              "      fill: #FFFFFF;\n",
              "    }\n",
              "  </style>\n",
              "\n",
              "    <script>\n",
              "      const buttonEl =\n",
              "        document.querySelector('#df-5d1fbfc8-f1a2-4d49-932f-09b2a481c58a button.colab-df-convert');\n",
              "      buttonEl.style.display =\n",
              "        google.colab.kernel.accessAllowed ? 'block' : 'none';\n",
              "\n",
              "      async function convertToInteractive(key) {\n",
              "        const element = document.querySelector('#df-5d1fbfc8-f1a2-4d49-932f-09b2a481c58a');\n",
              "        const dataTable =\n",
              "          await google.colab.kernel.invokeFunction('convertToInteractive',\n",
              "                                                    [key], {});\n",
              "        if (!dataTable) return;\n",
              "\n",
              "        const docLinkHtml = 'Like what you see? Visit the ' +\n",
              "          '<a target=\"_blank\" href=https://colab.research.google.com/notebooks/data_table.ipynb>data table notebook</a>'\n",
              "          + ' to learn more about interactive tables.';\n",
              "        element.innerHTML = '';\n",
              "        dataTable['output_type'] = 'display_data';\n",
              "        await google.colab.output.renderOutput(dataTable, element);\n",
              "        const docLink = document.createElement('div');\n",
              "        docLink.innerHTML = docLinkHtml;\n",
              "        element.appendChild(docLink);\n",
              "      }\n",
              "    </script>\n",
              "  </div>\n",
              "\n",
              "\n",
              "<div id=\"df-2c302e22-343a-4dd3-8912-6e3c7bf153b3\">\n",
              "  <button class=\"colab-df-quickchart\" onclick=\"quickchart('df-2c302e22-343a-4dd3-8912-6e3c7bf153b3')\"\n",
              "            title=\"Suggest charts.\"\n",
              "            style=\"display:none;\">\n",
              "\n",
              "<svg xmlns=\"http://www.w3.org/2000/svg\" height=\"24px\"viewBox=\"0 0 24 24\"\n",
              "     width=\"24px\">\n",
              "    <g>\n",
              "        <path d=\"M19 3H5c-1.1 0-2 .9-2 2v14c0 1.1.9 2 2 2h14c1.1 0 2-.9 2-2V5c0-1.1-.9-2-2-2zM9 17H7v-7h2v7zm4 0h-2V7h2v10zm4 0h-2v-4h2v4z\"/>\n",
              "    </g>\n",
              "</svg>\n",
              "  </button>\n",
              "\n",
              "<style>\n",
              "  .colab-df-quickchart {\n",
              "    background-color: #E8F0FE;\n",
              "    border: none;\n",
              "    border-radius: 50%;\n",
              "    cursor: pointer;\n",
              "    display: none;\n",
              "    fill: #1967D2;\n",
              "    height: 32px;\n",
              "    padding: 0 0 0 0;\n",
              "    width: 32px;\n",
              "  }\n",
              "\n",
              "  .colab-df-quickchart:hover {\n",
              "    background-color: #E2EBFA;\n",
              "    box-shadow: 0px 1px 2px rgba(60, 64, 67, 0.3), 0px 1px 3px 1px rgba(60, 64, 67, 0.15);\n",
              "    fill: #174EA6;\n",
              "  }\n",
              "\n",
              "  [theme=dark] .colab-df-quickchart {\n",
              "    background-color: #3B4455;\n",
              "    fill: #D2E3FC;\n",
              "  }\n",
              "\n",
              "  [theme=dark] .colab-df-quickchart:hover {\n",
              "    background-color: #434B5C;\n",
              "    box-shadow: 0px 1px 3px 1px rgba(0, 0, 0, 0.15);\n",
              "    filter: drop-shadow(0px 1px 2px rgba(0, 0, 0, 0.3));\n",
              "    fill: #FFFFFF;\n",
              "  }\n",
              "</style>\n",
              "\n",
              "  <script>\n",
              "    async function quickchart(key) {\n",
              "      const charts = await google.colab.kernel.invokeFunction(\n",
              "          'suggestCharts', [key], {});\n",
              "    }\n",
              "    (() => {\n",
              "      let quickchartButtonEl =\n",
              "        document.querySelector('#df-2c302e22-343a-4dd3-8912-6e3c7bf153b3 button');\n",
              "      quickchartButtonEl.style.display =\n",
              "        google.colab.kernel.accessAllowed ? 'block' : 'none';\n",
              "    })();\n",
              "  </script>\n",
              "</div>\n",
              "    </div>\n",
              "  </div>\n"
            ]
          },
          "metadata": {},
          "execution_count": 105
        }
      ]
    },
    {
      "cell_type": "code",
      "source": [
        "df2=df\n",
        "df2=df2.set_index(\"Name\")\n",
        "df2\n",
        "#if you replace indexing with any column so this column not consider as 0 index"
      ],
      "metadata": {
        "id": "Fcp7MEKoReA8",
        "colab": {
          "base_uri": "https://localhost:8080/",
          "height": 206
        },
        "outputId": "b079e2e1-21f3-4c53-8f23-9180100ce0d6"
      },
      "execution_count": 106,
      "outputs": [
        {
          "output_type": "execute_result",
          "data": {
            "text/plain": [
              "      ID       Department  Salary\n",
              "Name                             \n",
              "Rose   1  Architect Group  100000\n",
              "John   2   Software Group   80000\n",
              "Jane   3      Design Team   50000\n",
              "Mary   4   Infrastructure   60000"
            ],
            "text/html": [
              "\n",
              "  <div id=\"df-f25d12e4-f332-41f9-992f-191555c5cdf6\" class=\"colab-df-container\">\n",
              "    <div>\n",
              "<style scoped>\n",
              "    .dataframe tbody tr th:only-of-type {\n",
              "        vertical-align: middle;\n",
              "    }\n",
              "\n",
              "    .dataframe tbody tr th {\n",
              "        vertical-align: top;\n",
              "    }\n",
              "\n",
              "    .dataframe thead th {\n",
              "        text-align: right;\n",
              "    }\n",
              "</style>\n",
              "<table border=\"1\" class=\"dataframe\">\n",
              "  <thead>\n",
              "    <tr style=\"text-align: right;\">\n",
              "      <th></th>\n",
              "      <th>ID</th>\n",
              "      <th>Department</th>\n",
              "      <th>Salary</th>\n",
              "    </tr>\n",
              "    <tr>\n",
              "      <th>Name</th>\n",
              "      <th></th>\n",
              "      <th></th>\n",
              "      <th></th>\n",
              "    </tr>\n",
              "  </thead>\n",
              "  <tbody>\n",
              "    <tr>\n",
              "      <th>Rose</th>\n",
              "      <td>1</td>\n",
              "      <td>Architect Group</td>\n",
              "      <td>100000</td>\n",
              "    </tr>\n",
              "    <tr>\n",
              "      <th>John</th>\n",
              "      <td>2</td>\n",
              "      <td>Software Group</td>\n",
              "      <td>80000</td>\n",
              "    </tr>\n",
              "    <tr>\n",
              "      <th>Jane</th>\n",
              "      <td>3</td>\n",
              "      <td>Design Team</td>\n",
              "      <td>50000</td>\n",
              "    </tr>\n",
              "    <tr>\n",
              "      <th>Mary</th>\n",
              "      <td>4</td>\n",
              "      <td>Infrastructure</td>\n",
              "      <td>60000</td>\n",
              "    </tr>\n",
              "  </tbody>\n",
              "</table>\n",
              "</div>\n",
              "    <div class=\"colab-df-buttons\">\n",
              "\n",
              "  <div class=\"colab-df-container\">\n",
              "    <button class=\"colab-df-convert\" onclick=\"convertToInteractive('df-f25d12e4-f332-41f9-992f-191555c5cdf6')\"\n",
              "            title=\"Convert this dataframe to an interactive table.\"\n",
              "            style=\"display:none;\">\n",
              "\n",
              "  <svg xmlns=\"http://www.w3.org/2000/svg\" height=\"24px\" viewBox=\"0 -960 960 960\">\n",
              "    <path d=\"M120-120v-720h720v720H120Zm60-500h600v-160H180v160Zm220 220h160v-160H400v160Zm0 220h160v-160H400v160ZM180-400h160v-160H180v160Zm440 0h160v-160H620v160ZM180-180h160v-160H180v160Zm440 0h160v-160H620v160Z\"/>\n",
              "  </svg>\n",
              "    </button>\n",
              "\n",
              "  <style>\n",
              "    .colab-df-container {\n",
              "      display:flex;\n",
              "      gap: 12px;\n",
              "    }\n",
              "\n",
              "    .colab-df-convert {\n",
              "      background-color: #E8F0FE;\n",
              "      border: none;\n",
              "      border-radius: 50%;\n",
              "      cursor: pointer;\n",
              "      display: none;\n",
              "      fill: #1967D2;\n",
              "      height: 32px;\n",
              "      padding: 0 0 0 0;\n",
              "      width: 32px;\n",
              "    }\n",
              "\n",
              "    .colab-df-convert:hover {\n",
              "      background-color: #E2EBFA;\n",
              "      box-shadow: 0px 1px 2px rgba(60, 64, 67, 0.3), 0px 1px 3px 1px rgba(60, 64, 67, 0.15);\n",
              "      fill: #174EA6;\n",
              "    }\n",
              "\n",
              "    .colab-df-buttons div {\n",
              "      margin-bottom: 4px;\n",
              "    }\n",
              "\n",
              "    [theme=dark] .colab-df-convert {\n",
              "      background-color: #3B4455;\n",
              "      fill: #D2E3FC;\n",
              "    }\n",
              "\n",
              "    [theme=dark] .colab-df-convert:hover {\n",
              "      background-color: #434B5C;\n",
              "      box-shadow: 0px 1px 3px 1px rgba(0, 0, 0, 0.15);\n",
              "      filter: drop-shadow(0px 1px 2px rgba(0, 0, 0, 0.3));\n",
              "      fill: #FFFFFF;\n",
              "    }\n",
              "  </style>\n",
              "\n",
              "    <script>\n",
              "      const buttonEl =\n",
              "        document.querySelector('#df-f25d12e4-f332-41f9-992f-191555c5cdf6 button.colab-df-convert');\n",
              "      buttonEl.style.display =\n",
              "        google.colab.kernel.accessAllowed ? 'block' : 'none';\n",
              "\n",
              "      async function convertToInteractive(key) {\n",
              "        const element = document.querySelector('#df-f25d12e4-f332-41f9-992f-191555c5cdf6');\n",
              "        const dataTable =\n",
              "          await google.colab.kernel.invokeFunction('convertToInteractive',\n",
              "                                                    [key], {});\n",
              "        if (!dataTable) return;\n",
              "\n",
              "        const docLinkHtml = 'Like what you see? Visit the ' +\n",
              "          '<a target=\"_blank\" href=https://colab.research.google.com/notebooks/data_table.ipynb>data table notebook</a>'\n",
              "          + ' to learn more about interactive tables.';\n",
              "        element.innerHTML = '';\n",
              "        dataTable['output_type'] = 'display_data';\n",
              "        await google.colab.output.renderOutput(dataTable, element);\n",
              "        const docLink = document.createElement('div');\n",
              "        docLink.innerHTML = docLinkHtml;\n",
              "        element.appendChild(docLink);\n",
              "      }\n",
              "    </script>\n",
              "  </div>\n",
              "\n",
              "\n",
              "<div id=\"df-1e3ff061-5a72-428b-9bda-8d342e3c4f97\">\n",
              "  <button class=\"colab-df-quickchart\" onclick=\"quickchart('df-1e3ff061-5a72-428b-9bda-8d342e3c4f97')\"\n",
              "            title=\"Suggest charts.\"\n",
              "            style=\"display:none;\">\n",
              "\n",
              "<svg xmlns=\"http://www.w3.org/2000/svg\" height=\"24px\"viewBox=\"0 0 24 24\"\n",
              "     width=\"24px\">\n",
              "    <g>\n",
              "        <path d=\"M19 3H5c-1.1 0-2 .9-2 2v14c0 1.1.9 2 2 2h14c1.1 0 2-.9 2-2V5c0-1.1-.9-2-2-2zM9 17H7v-7h2v7zm4 0h-2V7h2v10zm4 0h-2v-4h2v4z\"/>\n",
              "    </g>\n",
              "</svg>\n",
              "  </button>\n",
              "\n",
              "<style>\n",
              "  .colab-df-quickchart {\n",
              "    background-color: #E8F0FE;\n",
              "    border: none;\n",
              "    border-radius: 50%;\n",
              "    cursor: pointer;\n",
              "    display: none;\n",
              "    fill: #1967D2;\n",
              "    height: 32px;\n",
              "    padding: 0 0 0 0;\n",
              "    width: 32px;\n",
              "  }\n",
              "\n",
              "  .colab-df-quickchart:hover {\n",
              "    background-color: #E2EBFA;\n",
              "    box-shadow: 0px 1px 2px rgba(60, 64, 67, 0.3), 0px 1px 3px 1px rgba(60, 64, 67, 0.15);\n",
              "    fill: #174EA6;\n",
              "  }\n",
              "\n",
              "  [theme=dark] .colab-df-quickchart {\n",
              "    background-color: #3B4455;\n",
              "    fill: #D2E3FC;\n",
              "  }\n",
              "\n",
              "  [theme=dark] .colab-df-quickchart:hover {\n",
              "    background-color: #434B5C;\n",
              "    box-shadow: 0px 1px 3px 1px rgba(0, 0, 0, 0.15);\n",
              "    filter: drop-shadow(0px 1px 2px rgba(0, 0, 0, 0.3));\n",
              "    fill: #FFFFFF;\n",
              "  }\n",
              "</style>\n",
              "\n",
              "  <script>\n",
              "    async function quickchart(key) {\n",
              "      const charts = await google.colab.kernel.invokeFunction(\n",
              "          'suggestCharts', [key], {});\n",
              "    }\n",
              "    (() => {\n",
              "      let quickchartButtonEl =\n",
              "        document.querySelector('#df-1e3ff061-5a72-428b-9bda-8d342e3c4f97 button');\n",
              "      quickchartButtonEl.style.display =\n",
              "        google.colab.kernel.accessAllowed ? 'block' : 'none';\n",
              "    })();\n",
              "  </script>\n",
              "</div>\n",
              "    </div>\n",
              "  </div>\n"
            ]
          },
          "metadata": {},
          "execution_count": 106
        }
      ]
    },
    {
      "cell_type": "code",
      "source": [
        "df2.iloc[3,2]"
      ],
      "metadata": {
        "id": "PiYQr8xoRuFL",
        "colab": {
          "base_uri": "https://localhost:8080/"
        },
        "outputId": "2670856f-e846-4e0b-99da-00fc515d34ee"
      },
      "execution_count": 107,
      "outputs": [
        {
          "output_type": "execute_result",
          "data": {
            "text/plain": [
              "60000"
            ]
          },
          "metadata": {},
          "execution_count": 107
        }
      ]
    },
    {
      "cell_type": "code",
      "source": [
        "df2.loc['Rose':'Jane', 'ID':'Department']"
      ],
      "metadata": {
        "id": "80t3J0-MTMU5",
        "colab": {
          "base_uri": "https://localhost:8080/",
          "height": 175
        },
        "outputId": "cd9b8e04-daec-4455-bd09-c086c3303a1a"
      },
      "execution_count": 108,
      "outputs": [
        {
          "output_type": "execute_result",
          "data": {
            "text/plain": [
              "      ID       Department\n",
              "Name                     \n",
              "Rose   1  Architect Group\n",
              "John   2   Software Group\n",
              "Jane   3      Design Team"
            ],
            "text/html": [
              "\n",
              "  <div id=\"df-fb83dfd7-c5c7-4955-b0aa-f51259b27175\" class=\"colab-df-container\">\n",
              "    <div>\n",
              "<style scoped>\n",
              "    .dataframe tbody tr th:only-of-type {\n",
              "        vertical-align: middle;\n",
              "    }\n",
              "\n",
              "    .dataframe tbody tr th {\n",
              "        vertical-align: top;\n",
              "    }\n",
              "\n",
              "    .dataframe thead th {\n",
              "        text-align: right;\n",
              "    }\n",
              "</style>\n",
              "<table border=\"1\" class=\"dataframe\">\n",
              "  <thead>\n",
              "    <tr style=\"text-align: right;\">\n",
              "      <th></th>\n",
              "      <th>ID</th>\n",
              "      <th>Department</th>\n",
              "    </tr>\n",
              "    <tr>\n",
              "      <th>Name</th>\n",
              "      <th></th>\n",
              "      <th></th>\n",
              "    </tr>\n",
              "  </thead>\n",
              "  <tbody>\n",
              "    <tr>\n",
              "      <th>Rose</th>\n",
              "      <td>1</td>\n",
              "      <td>Architect Group</td>\n",
              "    </tr>\n",
              "    <tr>\n",
              "      <th>John</th>\n",
              "      <td>2</td>\n",
              "      <td>Software Group</td>\n",
              "    </tr>\n",
              "    <tr>\n",
              "      <th>Jane</th>\n",
              "      <td>3</td>\n",
              "      <td>Design Team</td>\n",
              "    </tr>\n",
              "  </tbody>\n",
              "</table>\n",
              "</div>\n",
              "    <div class=\"colab-df-buttons\">\n",
              "\n",
              "  <div class=\"colab-df-container\">\n",
              "    <button class=\"colab-df-convert\" onclick=\"convertToInteractive('df-fb83dfd7-c5c7-4955-b0aa-f51259b27175')\"\n",
              "            title=\"Convert this dataframe to an interactive table.\"\n",
              "            style=\"display:none;\">\n",
              "\n",
              "  <svg xmlns=\"http://www.w3.org/2000/svg\" height=\"24px\" viewBox=\"0 -960 960 960\">\n",
              "    <path d=\"M120-120v-720h720v720H120Zm60-500h600v-160H180v160Zm220 220h160v-160H400v160Zm0 220h160v-160H400v160ZM180-400h160v-160H180v160Zm440 0h160v-160H620v160ZM180-180h160v-160H180v160Zm440 0h160v-160H620v160Z\"/>\n",
              "  </svg>\n",
              "    </button>\n",
              "\n",
              "  <style>\n",
              "    .colab-df-container {\n",
              "      display:flex;\n",
              "      gap: 12px;\n",
              "    }\n",
              "\n",
              "    .colab-df-convert {\n",
              "      background-color: #E8F0FE;\n",
              "      border: none;\n",
              "      border-radius: 50%;\n",
              "      cursor: pointer;\n",
              "      display: none;\n",
              "      fill: #1967D2;\n",
              "      height: 32px;\n",
              "      padding: 0 0 0 0;\n",
              "      width: 32px;\n",
              "    }\n",
              "\n",
              "    .colab-df-convert:hover {\n",
              "      background-color: #E2EBFA;\n",
              "      box-shadow: 0px 1px 2px rgba(60, 64, 67, 0.3), 0px 1px 3px 1px rgba(60, 64, 67, 0.15);\n",
              "      fill: #174EA6;\n",
              "    }\n",
              "\n",
              "    .colab-df-buttons div {\n",
              "      margin-bottom: 4px;\n",
              "    }\n",
              "\n",
              "    [theme=dark] .colab-df-convert {\n",
              "      background-color: #3B4455;\n",
              "      fill: #D2E3FC;\n",
              "    }\n",
              "\n",
              "    [theme=dark] .colab-df-convert:hover {\n",
              "      background-color: #434B5C;\n",
              "      box-shadow: 0px 1px 3px 1px rgba(0, 0, 0, 0.15);\n",
              "      filter: drop-shadow(0px 1px 2px rgba(0, 0, 0, 0.3));\n",
              "      fill: #FFFFFF;\n",
              "    }\n",
              "  </style>\n",
              "\n",
              "    <script>\n",
              "      const buttonEl =\n",
              "        document.querySelector('#df-fb83dfd7-c5c7-4955-b0aa-f51259b27175 button.colab-df-convert');\n",
              "      buttonEl.style.display =\n",
              "        google.colab.kernel.accessAllowed ? 'block' : 'none';\n",
              "\n",
              "      async function convertToInteractive(key) {\n",
              "        const element = document.querySelector('#df-fb83dfd7-c5c7-4955-b0aa-f51259b27175');\n",
              "        const dataTable =\n",
              "          await google.colab.kernel.invokeFunction('convertToInteractive',\n",
              "                                                    [key], {});\n",
              "        if (!dataTable) return;\n",
              "\n",
              "        const docLinkHtml = 'Like what you see? Visit the ' +\n",
              "          '<a target=\"_blank\" href=https://colab.research.google.com/notebooks/data_table.ipynb>data table notebook</a>'\n",
              "          + ' to learn more about interactive tables.';\n",
              "        element.innerHTML = '';\n",
              "        dataTable['output_type'] = 'display_data';\n",
              "        await google.colab.output.renderOutput(dataTable, element);\n",
              "        const docLink = document.createElement('div');\n",
              "        docLink.innerHTML = docLinkHtml;\n",
              "        element.appendChild(docLink);\n",
              "      }\n",
              "    </script>\n",
              "  </div>\n",
              "\n",
              "\n",
              "<div id=\"df-0eee4e4d-cf9b-45bf-8d6e-ee9fc4fc7165\">\n",
              "  <button class=\"colab-df-quickchart\" onclick=\"quickchart('df-0eee4e4d-cf9b-45bf-8d6e-ee9fc4fc7165')\"\n",
              "            title=\"Suggest charts.\"\n",
              "            style=\"display:none;\">\n",
              "\n",
              "<svg xmlns=\"http://www.w3.org/2000/svg\" height=\"24px\"viewBox=\"0 0 24 24\"\n",
              "     width=\"24px\">\n",
              "    <g>\n",
              "        <path d=\"M19 3H5c-1.1 0-2 .9-2 2v14c0 1.1.9 2 2 2h14c1.1 0 2-.9 2-2V5c0-1.1-.9-2-2-2zM9 17H7v-7h2v7zm4 0h-2V7h2v10zm4 0h-2v-4h2v4z\"/>\n",
              "    </g>\n",
              "</svg>\n",
              "  </button>\n",
              "\n",
              "<style>\n",
              "  .colab-df-quickchart {\n",
              "    background-color: #E8F0FE;\n",
              "    border: none;\n",
              "    border-radius: 50%;\n",
              "    cursor: pointer;\n",
              "    display: none;\n",
              "    fill: #1967D2;\n",
              "    height: 32px;\n",
              "    padding: 0 0 0 0;\n",
              "    width: 32px;\n",
              "  }\n",
              "\n",
              "  .colab-df-quickchart:hover {\n",
              "    background-color: #E2EBFA;\n",
              "    box-shadow: 0px 1px 2px rgba(60, 64, 67, 0.3), 0px 1px 3px 1px rgba(60, 64, 67, 0.15);\n",
              "    fill: #174EA6;\n",
              "  }\n",
              "\n",
              "  [theme=dark] .colab-df-quickchart {\n",
              "    background-color: #3B4455;\n",
              "    fill: #D2E3FC;\n",
              "  }\n",
              "\n",
              "  [theme=dark] .colab-df-quickchart:hover {\n",
              "    background-color: #434B5C;\n",
              "    box-shadow: 0px 1px 3px 1px rgba(0, 0, 0, 0.15);\n",
              "    filter: drop-shadow(0px 1px 2px rgba(0, 0, 0, 0.3));\n",
              "    fill: #FFFFFF;\n",
              "  }\n",
              "</style>\n",
              "\n",
              "  <script>\n",
              "    async function quickchart(key) {\n",
              "      const charts = await google.colab.kernel.invokeFunction(\n",
              "          'suggestCharts', [key], {});\n",
              "    }\n",
              "    (() => {\n",
              "      let quickchartButtonEl =\n",
              "        document.querySelector('#df-0eee4e4d-cf9b-45bf-8d6e-ee9fc4fc7165 button');\n",
              "      quickchartButtonEl.style.display =\n",
              "        google.colab.kernel.accessAllowed ? 'block' : 'none';\n",
              "    })();\n",
              "  </script>\n",
              "</div>\n",
              "    </div>\n",
              "  </div>\n"
            ]
          },
          "metadata": {},
          "execution_count": 108
        }
      ]
    },
    {
      "cell_type": "markdown",
      "source": [
        "#one Dimensional Numpy"
      ],
      "metadata": {
        "id": "83M3eRh0rqSN"
      }
    },
    {
      "cell_type": "markdown",
      "source": [
        "for one dimension array"
      ],
      "metadata": {
        "id": "Hy4bUhPav0kW"
      }
    },
    {
      "cell_type": "code",
      "source": [
        "import numpy as np\n",
        "a = np.array([1,2,5,4,3,6])"
      ],
      "metadata": {
        "id": "6_ZyUCjdTVK-"
      },
      "execution_count": 109,
      "outputs": []
    },
    {
      "cell_type": "code",
      "source": [
        "#check the size of array\n",
        "a.size"
      ],
      "metadata": {
        "id": "L3112ka6ryjE",
        "colab": {
          "base_uri": "https://localhost:8080/"
        },
        "outputId": "e7aab2e0-4aeb-4d3b-9b3b-fb6b3213590f"
      },
      "execution_count": 110,
      "outputs": [
        {
          "output_type": "execute_result",
          "data": {
            "text/plain": [
              "6"
            ]
          },
          "metadata": {},
          "execution_count": 110
        }
      ]
    },
    {
      "cell_type": "code",
      "source": [
        "#check dimention of array\n",
        "a.ndim"
      ],
      "metadata": {
        "id": "DlLCk_WDr_XU",
        "colab": {
          "base_uri": "https://localhost:8080/"
        },
        "outputId": "a25b464b-61b8-4dc6-fb1a-d0e2e6f73d41"
      },
      "execution_count": 111,
      "outputs": [
        {
          "output_type": "execute_result",
          "data": {
            "text/plain": [
              "1"
            ]
          },
          "metadata": {},
          "execution_count": 111
        }
      ]
    },
    {
      "cell_type": "code",
      "source": [
        "#size of array in each dimention\n",
        "a.shape"
      ],
      "metadata": {
        "id": "6iCfbwOGsNvL",
        "colab": {
          "base_uri": "https://localhost:8080/"
        },
        "outputId": "34b90985-5425-4874-b6a8-1a194f3b2915"
      },
      "execution_count": 112,
      "outputs": [
        {
          "output_type": "execute_result",
          "data": {
            "text/plain": [
              "(6,)"
            ]
          },
          "metadata": {},
          "execution_count": 112
        }
      ]
    },
    {
      "cell_type": "code",
      "source": [
        "#to check type of array\n",
        "type(a)"
      ],
      "metadata": {
        "id": "4bu2Q9PhsX_A",
        "colab": {
          "base_uri": "https://localhost:8080/"
        },
        "outputId": "635f83ea-5f58-4fd6-ea67-a783f2a17ee5"
      },
      "execution_count": 113,
      "outputs": [
        {
          "output_type": "execute_result",
          "data": {
            "text/plain": [
              "numpy.ndarray"
            ]
          },
          "metadata": {},
          "execution_count": 113
        }
      ]
    },
    {
      "cell_type": "code",
      "source": [
        "#to check data type present in array\n",
        "a.dtype"
      ],
      "metadata": {
        "id": "VpUaBW3fshlL",
        "colab": {
          "base_uri": "https://localhost:8080/"
        },
        "outputId": "e9c5fd0f-0cec-4c99-f972-0a389cf7c3cf"
      },
      "execution_count": 114,
      "outputs": [
        {
          "output_type": "execute_result",
          "data": {
            "text/plain": [
              "dtype('int64')"
            ]
          },
          "metadata": {},
          "execution_count": 114
        }
      ]
    },
    {
      "cell_type": "code",
      "source": [
        "#to replace any element with another\n",
        "a[0] = 10\n",
        "a"
      ],
      "metadata": {
        "id": "vD9j7c79sog7",
        "colab": {
          "base_uri": "https://localhost:8080/"
        },
        "outputId": "059b647d-3007-4baa-8c18-3f2660c60fce"
      },
      "execution_count": 115,
      "outputs": [
        {
          "output_type": "execute_result",
          "data": {
            "text/plain": [
              "array([10,  2,  5,  4,  3,  6])"
            ]
          },
          "metadata": {},
          "execution_count": 115
        }
      ]
    },
    {
      "cell_type": "markdown",
      "source": [
        "slicing in array"
      ],
      "metadata": {
        "id": "yolSpkkHtU4e"
      }
    },
    {
      "cell_type": "code",
      "source": [
        "b = np.array([1,2,3,4,5])"
      ],
      "metadata": {
        "id": "abGtz0b0tFDn"
      },
      "execution_count": 116,
      "outputs": []
    },
    {
      "cell_type": "code",
      "source": [
        "#to print 1--->4 using slicing\n",
        "c = b[0:4]\n",
        "c"
      ],
      "metadata": {
        "id": "orFA6X6yth3h",
        "colab": {
          "base_uri": "https://localhost:8080/"
        },
        "outputId": "67677382-59f3-46ba-e054-e1493378c58c"
      },
      "execution_count": 117,
      "outputs": [
        {
          "output_type": "execute_result",
          "data": {
            "text/plain": [
              "array([1, 2, 3, 4])"
            ]
          },
          "metadata": {},
          "execution_count": 117
        }
      ]
    },
    {
      "cell_type": "code",
      "source": [
        "# to rreplace values using slicing\n",
        "b[2:4] = 300,400\n",
        "b"
      ],
      "metadata": {
        "id": "M6adnI18twpu",
        "colab": {
          "base_uri": "https://localhost:8080/"
        },
        "outputId": "f43ffb52-c1de-4392-ee00-92e4a6ea1643"
      },
      "execution_count": 118,
      "outputs": [
        {
          "output_type": "execute_result",
          "data": {
            "text/plain": [
              "array([  1,   2, 300, 400,   5])"
            ]
          },
          "metadata": {},
          "execution_count": 118
        }
      ]
    },
    {
      "cell_type": "markdown",
      "source": [
        "vector addition"
      ],
      "metadata": {
        "id": "pjy5S5pYyXAY"
      }
    },
    {
      "cell_type": "code",
      "source": [
        "u = np.array([1,2])\n",
        "v = np.array([2,3])\n",
        "z = u + v\n",
        "z"
      ],
      "metadata": {
        "id": "1N_Q7mrQuJAv",
        "colab": {
          "base_uri": "https://localhost:8080/"
        },
        "outputId": "d6cbffea-f5d0-4a53-c9d7-8e3417b72317"
      },
      "execution_count": 119,
      "outputs": [
        {
          "output_type": "execute_result",
          "data": {
            "text/plain": [
              "array([3, 5])"
            ]
          },
          "metadata": {},
          "execution_count": 119
        }
      ]
    },
    {
      "cell_type": "markdown",
      "source": [
        "vector subtraction"
      ],
      "metadata": {
        "id": "-TatpXvCy0g4"
      }
    },
    {
      "cell_type": "code",
      "source": [
        "u = np.array([1,2])\n",
        "v = np.array([2,3])\n",
        "z = u - v\n",
        "z"
      ],
      "metadata": {
        "id": "ubdFIdqbykYC",
        "colab": {
          "base_uri": "https://localhost:8080/"
        },
        "outputId": "80e95a0d-e241-404c-94ae-7489a3f3e6ae"
      },
      "execution_count": 120,
      "outputs": [
        {
          "output_type": "execute_result",
          "data": {
            "text/plain": [
              "array([-1, -1])"
            ]
          },
          "metadata": {},
          "execution_count": 120
        }
      ]
    },
    {
      "cell_type": "markdown",
      "source": [
        "vector multiplication"
      ],
      "metadata": {
        "id": "h_8PWaHezLc4"
      }
    },
    {
      "cell_type": "code",
      "source": [
        "u = np.array([1,2])\n",
        "z = 2*u\n",
        "z"
      ],
      "metadata": {
        "id": "6Ygppjx-y5_k",
        "colab": {
          "base_uri": "https://localhost:8080/"
        },
        "outputId": "2529373a-d356-4168-b5a5-04e4baae0936"
      },
      "execution_count": 121,
      "outputs": [
        {
          "output_type": "execute_result",
          "data": {
            "text/plain": [
              "array([2, 4])"
            ]
          },
          "metadata": {},
          "execution_count": 121
        }
      ]
    },
    {
      "cell_type": "markdown",
      "source": [
        "cross product of two vector"
      ],
      "metadata": {
        "id": "qZ6cZ6F3z167"
      }
    },
    {
      "cell_type": "code",
      "source": [
        "u = np.array([1,2])\n",
        "v = np.array([2,3])\n",
        "z = u * v\n",
        "z"
      ],
      "metadata": {
        "id": "lzBO61GLzUn0",
        "colab": {
          "base_uri": "https://localhost:8080/"
        },
        "outputId": "120537ff-8e7d-4b44-cb51-89dbe4e2edf8"
      },
      "execution_count": 122,
      "outputs": [
        {
          "output_type": "execute_result",
          "data": {
            "text/plain": [
              "array([2, 6])"
            ]
          },
          "metadata": {},
          "execution_count": 122
        }
      ]
    },
    {
      "cell_type": "markdown",
      "source": [
        "dot product of two vector"
      ],
      "metadata": {
        "id": "b8hzKPaYz8wY"
      }
    },
    {
      "cell_type": "code",
      "source": [
        "u = np.array([1,2])\n",
        "v = np.array([2,3])\n",
        "z = np.dot(u,v)\n",
        "z"
      ],
      "metadata": {
        "id": "D1oY9MwDzjrR",
        "colab": {
          "base_uri": "https://localhost:8080/"
        },
        "outputId": "f8cae8df-39f8-489e-fb5b-2b728c5e9e96"
      },
      "execution_count": 123,
      "outputs": [
        {
          "output_type": "execute_result",
          "data": {
            "text/plain": [
              "8"
            ]
          },
          "metadata": {},
          "execution_count": 123
        }
      ]
    },
    {
      "cell_type": "markdown",
      "source": [
        "Adding constant to array"
      ],
      "metadata": {
        "id": "h_Npi99O0pcg"
      }
    },
    {
      "cell_type": "code",
      "source": [
        "u = np.array([1,2,4,6])\n",
        "z = u+1\n",
        "z"
      ],
      "metadata": {
        "id": "I5xJXjSz0VpZ",
        "colab": {
          "base_uri": "https://localhost:8080/"
        },
        "outputId": "70a0b502-b2b6-44fb-af72-309a5757a218"
      },
      "execution_count": 124,
      "outputs": [
        {
          "output_type": "execute_result",
          "data": {
            "text/plain": [
              "array([2, 3, 5, 7])"
            ]
          },
          "metadata": {},
          "execution_count": 124
        }
      ]
    },
    {
      "cell_type": "markdown",
      "source": [
        "**universal function**\n",
        "- find mean value of any array"
      ],
      "metadata": {
        "id": "F9evh9eJ0-wp"
      }
    },
    {
      "cell_type": "code",
      "source": [
        "u = np.array([1,2,4,6])\n",
        "u.mean()"
      ],
      "metadata": {
        "id": "wBnNMFyt00Qs",
        "colab": {
          "base_uri": "https://localhost:8080/"
        },
        "outputId": "34decefb-e627-4ee3-f9e3-b417ff195663"
      },
      "execution_count": 125,
      "outputs": [
        {
          "output_type": "execute_result",
          "data": {
            "text/plain": [
              "3.25"
            ]
          },
          "metadata": {},
          "execution_count": 125
        }
      ]
    },
    {
      "cell_type": "markdown",
      "source": [
        "standard daviation"
      ],
      "metadata": {
        "id": "RnwYjPey-KHG"
      }
    },
    {
      "cell_type": "code",
      "source": [
        "u.std()"
      ],
      "metadata": {
        "colab": {
          "base_uri": "https://localhost:8080/"
        },
        "id": "R_fHKyuI-Jiu",
        "outputId": "ed62ef25-c843-4181-d267-e6b9d3963ba6"
      },
      "execution_count": 126,
      "outputs": [
        {
          "output_type": "execute_result",
          "data": {
            "text/plain": [
              "1.920286436967152"
            ]
          },
          "metadata": {},
          "execution_count": 126
        }
      ]
    },
    {
      "cell_type": "markdown",
      "source": [
        "find maximum value of array"
      ],
      "metadata": {
        "id": "i5ICnGPD1Vi0"
      }
    },
    {
      "cell_type": "code",
      "source": [
        "u = np.array([1,2,4,6])\n",
        "u.max()"
      ],
      "metadata": {
        "id": "tLO02p631LTP",
        "colab": {
          "base_uri": "https://localhost:8080/"
        },
        "outputId": "9e6a1234-e572-4acd-c511-fdce5f7a7275"
      },
      "execution_count": 127,
      "outputs": [
        {
          "output_type": "execute_result",
          "data": {
            "text/plain": [
              "6"
            ]
          },
          "metadata": {},
          "execution_count": 127
        }
      ]
    },
    {
      "cell_type": "code",
      "source": [
        "# function of pie\n",
        "np.pi"
      ],
      "metadata": {
        "id": "mS7OcX5r1bnr",
        "colab": {
          "base_uri": "https://localhost:8080/"
        },
        "outputId": "db1c8fab-4616-4516-e202-a27d2d834541"
      },
      "execution_count": 128,
      "outputs": [
        {
          "output_type": "execute_result",
          "data": {
            "text/plain": [
              "3.141592653589793"
            ]
          },
          "metadata": {},
          "execution_count": 128
        }
      ]
    },
    {
      "cell_type": "code",
      "source": [
        "a = np.array([0, np.pi/2, np.pi])\n",
        "a"
      ],
      "metadata": {
        "id": "vCIVgUlE1ytA",
        "colab": {
          "base_uri": "https://localhost:8080/"
        },
        "outputId": "9af4ae98-15f3-41c1-c403-5341b18a8b93"
      },
      "execution_count": 129,
      "outputs": [
        {
          "output_type": "execute_result",
          "data": {
            "text/plain": [
              "array([0.        , 1.57079633, 3.14159265])"
            ]
          },
          "metadata": {},
          "execution_count": 129
        }
      ]
    },
    {
      "cell_type": "code",
      "source": [
        "#linspace return evenly spaced numbers (start,end, num = space)\n",
        "np.linspace(-2,2,num = 5)"
      ],
      "metadata": {
        "id": "hzvQVSYC2BVS",
        "colab": {
          "base_uri": "https://localhost:8080/"
        },
        "outputId": "0e26426a-2ded-4fee-a4c4-c985e38d46f2"
      },
      "execution_count": 130,
      "outputs": [
        {
          "output_type": "execute_result",
          "data": {
            "text/plain": [
              "array([-2., -1.,  0.,  1.,  2.])"
            ]
          },
          "metadata": {},
          "execution_count": 130
        }
      ]
    },
    {
      "cell_type": "code",
      "source": [
        "np.linspace(-2,2,num = 9)"
      ],
      "metadata": {
        "id": "O237h08k4LUX",
        "colab": {
          "base_uri": "https://localhost:8080/"
        },
        "outputId": "4230f0e2-5991-4652-9280-d2a8b95d70ea"
      },
      "execution_count": 131,
      "outputs": [
        {
          "output_type": "execute_result",
          "data": {
            "text/plain": [
              "array([-2. , -1.5, -1. , -0.5,  0. ,  0.5,  1. ,  1.5,  2. ])"
            ]
          },
          "metadata": {},
          "execution_count": 131
        }
      ]
    },
    {
      "cell_type": "code",
      "source": [
        "# find value of sinx in this array\n",
        "u = np.array([0,2,4,6])\n",
        "y = np.sin(u)\n",
        "y"
      ],
      "metadata": {
        "id": "1UrbNfMA5AVA",
        "colab": {
          "base_uri": "https://localhost:8080/"
        },
        "outputId": "2ded68a4-fc71-40c0-d02f-fcb592a45ead"
      },
      "execution_count": 132,
      "outputs": [
        {
          "output_type": "execute_result",
          "data": {
            "text/plain": [
              "array([ 0.        ,  0.90929743, -0.7568025 , -0.2794155 ])"
            ]
          },
          "metadata": {},
          "execution_count": 132
        }
      ]
    },
    {
      "cell_type": "markdown",
      "source": [
        "you can draw a plot of sin x using numpy and metplotlib"
      ],
      "metadata": {
        "id": "f3ys8Pe36Q5o"
      }
    },
    {
      "cell_type": "code",
      "source": [
        "import matplotlib.pyplot as plt\n",
        "%matplotlib inline\n",
        "plt.plot(u,y)"
      ],
      "metadata": {
        "id": "jahCR2e35ml_",
        "colab": {
          "base_uri": "https://localhost:8080/",
          "height": 448
        },
        "outputId": "a9d1d56d-2fba-4103-f3ac-54430627d3c7"
      },
      "execution_count": 133,
      "outputs": [
        {
          "output_type": "execute_result",
          "data": {
            "text/plain": [
              "[<matplotlib.lines.Line2D at 0x7f0c964b2e00>]"
            ]
          },
          "metadata": {},
          "execution_count": 133
        },
        {
          "output_type": "display_data",
          "data": {
            "text/plain": [
              "<Figure size 640x480 with 1 Axes>"
            ],
            "image/png": "[encoded data removed]"
          },
          "metadata": {}
        }
      ]
    },
    {
      "cell_type": "code",
      "source": [
        "x = np.array([0,2,4,6])\n",
        "y = np.array([1,3,5,9])\n",
        "plt.plot(x,y)"
      ],
      "metadata": {
        "id": "IiNblluc6wMS",
        "colab": {
          "base_uri": "https://localhost:8080/",
          "height": 448
        },
        "outputId": "3833ccc8-0f79-44f4-9bcb-265b696b61a2"
      },
      "execution_count": 134,
      "outputs": [
        {
          "output_type": "execute_result",
          "data": {
            "text/plain": [
              "[<matplotlib.lines.Line2D at 0x7f0c96a55810>]"
            ]
          },
          "metadata": {},
          "execution_count": 134
        },
        {
          "output_type": "display_data",
          "data": {
            "text/plain": [
              "<Figure size 640x480 with 1 Axes>"
            ],
            "image/png": "[encoded data removed]"
          },
          "metadata": {}
        }
      ]
    },
    {
      "cell_type": "markdown",
      "source": [
        "# Two Dimensional numpy"
      ],
      "metadata": {
        "id": "8KBuOOnADBCI"
      }
    },
    {
      "cell_type": "code",
      "source": [
        "import numpy as np\n",
        "a = np.array([[11,12,13],[21,22,23],[31,32,33]])\n",
        "a"
      ],
      "metadata": {
        "id": "czVIqNS3695V",
        "colab": {
          "base_uri": "https://localhost:8080/"
        },
        "outputId": "7b0bd10e-21cc-4198-c2b6-47f5ff35990b"
      },
      "execution_count": 135,
      "outputs": [
        {
          "output_type": "execute_result",
          "data": {
            "text/plain": [
              "array([[11, 12, 13],\n",
              "       [21, 22, 23],\n",
              "       [31, 32, 33]])"
            ]
          },
          "metadata": {},
          "execution_count": 135
        }
      ]
    },
    {
      "cell_type": "code",
      "source": [
        "a.size"
      ],
      "metadata": {
        "id": "qHajqgJow6T0",
        "colab": {
          "base_uri": "https://localhost:8080/"
        },
        "outputId": "bc911069-97bd-40f7-bce9-305402535914"
      },
      "execution_count": 136,
      "outputs": [
        {
          "output_type": "execute_result",
          "data": {
            "text/plain": [
              "9"
            ]
          },
          "metadata": {},
          "execution_count": 136
        }
      ]
    },
    {
      "cell_type": "code",
      "source": [
        "a.ndim"
      ],
      "metadata": {
        "id": "Y0iN7EjFxQ0w",
        "colab": {
          "base_uri": "https://localhost:8080/"
        },
        "outputId": "909c95be-b39d-4f21-995c-007e80c97fb5"
      },
      "execution_count": 137,
      "outputs": [
        {
          "output_type": "execute_result",
          "data": {
            "text/plain": [
              "2"
            ]
          },
          "metadata": {},
          "execution_count": 137
        }
      ]
    },
    {
      "cell_type": "code",
      "source": [
        "a.shape"
      ],
      "metadata": {
        "id": "q4ipQC7axS0h",
        "colab": {
          "base_uri": "https://localhost:8080/"
        },
        "outputId": "dfea3913-9e70-4d41-f97f-1553e183d293"
      },
      "execution_count": 138,
      "outputs": [
        {
          "output_type": "execute_result",
          "data": {
            "text/plain": [
              "(3, 3)"
            ]
          },
          "metadata": {},
          "execution_count": 138
        }
      ]
    },
    {
      "cell_type": "code",
      "source": [
        "# to print first element of the 2d array\n",
        "a[0,0]"
      ],
      "metadata": {
        "id": "yHgM6974xUUB",
        "colab": {
          "base_uri": "https://localhost:8080/"
        },
        "outputId": "3b0f4367-1b3d-4074-8d41-d0631aa93b69"
      },
      "execution_count": 139,
      "outputs": [
        {
          "output_type": "execute_result",
          "data": {
            "text/plain": [
              "11"
            ]
          },
          "metadata": {},
          "execution_count": 139
        }
      ]
    },
    {
      "cell_type": "code",
      "source": [
        "# to print 11&12 element using slicing\n",
        "# a[ first_row, access first two column]\n",
        "a[0,0:2]"
      ],
      "metadata": {
        "id": "JmpW6dKkx_Hf",
        "colab": {
          "base_uri": "https://localhost:8080/"
        },
        "outputId": "723f5b88-8021-49a1-cd8c-c137f416b2ea"
      },
      "execution_count": 140,
      "outputs": [
        {
          "output_type": "execute_result",
          "data": {
            "text/plain": [
              "array([11, 12])"
            ]
          },
          "metadata": {},
          "execution_count": 140
        }
      ]
    },
    {
      "cell_type": "code",
      "source": [
        "# to print 13&23 element using slicing\n",
        "# a[ access first two row,last column]\n",
        "a[0:2,2]"
      ],
      "metadata": {
        "id": "7QZhuOQhyJq1",
        "colab": {
          "base_uri": "https://localhost:8080/"
        },
        "outputId": "e88d1cfe-764b-4203-b530-a6a518df6fbb"
      },
      "execution_count": 141,
      "outputs": [
        {
          "output_type": "execute_result",
          "data": {
            "text/plain": [
              "array([13, 23])"
            ]
          },
          "metadata": {},
          "execution_count": 141
        }
      ]
    },
    {
      "cell_type": "code",
      "source": [
        "#addition in 2D array\n",
        "\n",
        "x = np.array([[1,0],[1,2]])\n",
        "y = np.array([[2,3],[1,3]])\n",
        "\n",
        "z = x+y\n",
        "z"
      ],
      "metadata": {
        "id": "9pf8503Fyq4M",
        "colab": {
          "base_uri": "https://localhost:8080/"
        },
        "outputId": "339bc1cc-c8b7-4c24-dec9-110c055734ea"
      },
      "execution_count": 142,
      "outputs": [
        {
          "output_type": "execute_result",
          "data": {
            "text/plain": [
              "array([[3, 3],\n",
              "       [2, 5]])"
            ]
          },
          "metadata": {},
          "execution_count": 142
        }
      ]
    },
    {
      "cell_type": "code",
      "source": [
        "#multiply in 2D array\n",
        "x = np.array([[1,0],[1,2]])\n",
        "z = 2*x\n",
        "z"
      ],
      "metadata": {
        "id": "QUOv5ggY0B-a",
        "colab": {
          "base_uri": "https://localhost:8080/"
        },
        "outputId": "962b671f-d280-4686-ff59-d33f3e13c8a1"
      },
      "execution_count": 143,
      "outputs": [
        {
          "output_type": "execute_result",
          "data": {
            "text/plain": [
              "array([[2, 0],\n",
              "       [2, 4]])"
            ]
          },
          "metadata": {},
          "execution_count": 143
        }
      ]
    },
    {
      "cell_type": "code",
      "source": [
        "# cross product\n",
        "x = np.array([[1,0],[1,2]])\n",
        "y = np.array([[2,3],[1,3]])\n",
        "\n",
        "z = x*y\n",
        "z"
      ],
      "metadata": {
        "id": "EGdTVXtN0LvS",
        "colab": {
          "base_uri": "https://localhost:8080/"
        },
        "outputId": "db66dde1-7438-4c52-87c9-a54abbf25743"
      },
      "execution_count": 144,
      "outputs": [
        {
          "output_type": "execute_result",
          "data": {
            "text/plain": [
              "array([[2, 0],\n",
              "       [1, 6]])"
            ]
          },
          "metadata": {},
          "execution_count": 144
        }
      ]
    },
    {
      "cell_type": "code",
      "source": [
        "#dot product\n",
        "z = np.dot(x,y)\n",
        "z"
      ],
      "metadata": {
        "id": "7_BlrYJP0NJM",
        "colab": {
          "base_uri": "https://localhost:8080/"
        },
        "outputId": "6dde5cc1-ca93-4c4c-f13b-ca38d82a0123"
      },
      "execution_count": 145,
      "outputs": [
        {
          "output_type": "execute_result",
          "data": {
            "text/plain": [
              "array([[2, 3],\n",
              "       [4, 9]])"
            ]
          },
          "metadata": {},
          "execution_count": 145
        }
      ]
    },
    {
      "cell_type": "code",
      "source": [
        "#to transpose this array matrix\n",
        "a = np.array([[2,3],[1,3]])\n",
        "a.T"
      ],
      "metadata": {
        "id": "wNUiejSN1Rau",
        "colab": {
          "base_uri": "https://localhost:8080/"
        },
        "outputId": "d9c8a019-74aa-44d8-de73-5f3a078a6bcf"
      },
      "execution_count": 146,
      "outputs": [
        {
          "output_type": "execute_result",
          "data": {
            "text/plain": [
              "array([[2, 1],\n",
              "       [3, 3]])"
            ]
          },
          "metadata": {},
          "execution_count": 146
        }
      ]
    },
    {
      "cell_type": "markdown",
      "source": [
        "#Simple API"
      ],
      "metadata": {
        "id": "g0iIJGH8RLNI"
      }
    },
    {
      "cell_type": "markdown",
      "source": [
        "Downloading And Scraping The Contents Of A Web Page"
      ],
      "metadata": {
        "id": "58GASD5Xm7xe"
      }
    },
    {
      "cell_type": "code",
      "source": [
        "from bs4 import BeautifulSoup\n",
        "import requests"
      ],
      "metadata": {
        "id": "Zc5KiYQEiaSH"
      },
      "execution_count": 147,
      "outputs": []
    },
    {
      "cell_type": "markdown",
      "source": [
        "We Download the contents of the web page:"
      ],
      "metadata": {
        "id": "IxsBNS8qnCvR"
      }
    },
    {
      "cell_type": "code",
      "source": [
        "url = 'https://www.ibm.com'"
      ],
      "metadata": {
        "id": "OjhXEcqs5E3v"
      },
      "execution_count": 148,
      "outputs": []
    },
    {
      "cell_type": "markdown",
      "source": [
        "We use get to download the contents of the webpage in text format and store in a variable called data"
      ],
      "metadata": {
        "id": "vnOcXsBKnIvr"
      }
    },
    {
      "cell_type": "code",
      "source": [
        "data = requests.get(url).text"
      ],
      "metadata": {
        "id": "JS8VXbNJ5GWe"
      },
      "execution_count": 149,
      "outputs": []
    },
    {
      "cell_type": "markdown",
      "source": [
        "We create a BeautifulSoup object using the BeautifulSoup constructor"
      ],
      "metadata": {
        "id": "Syq56KAMnLYF"
      }
    },
    {
      "cell_type": "code",
      "source": [
        "# create a soup object using the variable 'data'\n",
        "soup = BeautifulSoup(data, 'html.parser')"
      ],
      "metadata": {
        "id": "lTBE3T-tTBzz"
      },
      "execution_count": 150,
      "outputs": []
    },
    {
      "cell_type": "code",
      "source": [
        "#Scrape all links\n",
        "for link in soup.find_all('a', href=True):\n",
        "    print(link.get('href'))"
      ],
      "metadata": {
        "id": "SjN7_tzbjHvI",
        "colab": {
          "base_uri": "https://localhost:8080/"
        },
        "outputId": "2d22753c-9753-4c39-cd04-630d79b9830a"
      },
      "execution_count": 151,
      "outputs": [
        {
          "output_type": "stream",
          "name": "stdout",
          "text": [
            "https://newsroom.ibm.com/2023-08-22-IBM-Unveils-watsonx-Generative-AI-Capabilities-to-Accelerate-Mainframe-Application-Modernization\n",
            "https://www.ibm.com/community/ibm-techxchange-conference\n",
            "https://www.ibm.com/products/watsonx-ai\n",
            "https://www.ibm.com/products/watsonx-data\n",
            "https://www.ibm.com/products/spss-statistics/pricing\n",
            "https://www.ibm.com/sports/usopen\n",
            "https://www.ibm.com/cloud?lnk=flatitem\n",
            "https://www.ibm.com/products\n",
            "https://www.ibm.com/consulting\n",
            "https://www.ibm.com/about\n",
            "https://www.ibm.com/\n"
          ]
        }
      ]
    },
    {
      "cell_type": "code",
      "source": [
        "#Scrape all images\n",
        "for img in soup.find_all('img'):\n",
        "   print(img)\n",
        "   print(img.get('src'))"
      ],
      "metadata": {
        "id": "IJvxsjw2jxNs",
        "colab": {
          "base_uri": "https://localhost:8080/"
        },
        "outputId": "2808b1d0-bc75-49c0-b247-11bd32973960"
      },
      "execution_count": 152,
      "outputs": [
        {
          "output_type": "stream",
          "name": "stdout",
          "text": [
            "<img alt=\"Tennis player returns serve in Wimbledon stadium\" class=\"bx--image__img\" src=\"https://1.dam.s81c.com/p/0c627169442d5243/ibm_watsonx_data_closeup_still_4k.jpg.global.sr_1x1.jpg\"/>\n",
            "https://1.dam.s81c.com/p/0c627169442d5243/ibm_watsonx_data_closeup_still_4k.jpg.global.sr_1x1.jpg\n",
            "<img alt=\"Concentric illustration showing watsonx.ai capabilities\" aria-describedby=\"bx--image-3\" class=\"bx--image__img\" src=\"https://1.dam.s81c.com/p/0c3ce2dfcccd1f24/watsonx-data-square.jpg\"/>\n",
            "https://1.dam.s81c.com/p/0c3ce2dfcccd1f24/watsonx-data-square.jpg\n",
            "<img alt=\"Illustration of workers digital planning with blue dots and post-its\" aria-describedby=\"bx--image-4\" class=\"bx--image__img\" src=\"https://1.dam.s81c.com/p/0c3ce2dfcccd1f25/watsonx-ai-square.jpg\"/>\n",
            "https://1.dam.s81c.com/p/0c3ce2dfcccd1f25/watsonx-ai-square.jpg\n",
            "<img alt=\"Illustration of people at large digital dashboard\" aria-describedby=\"bx--image-5\" class=\"bx--image__img\" src=\"https://1.dam.s81c.com/p/0b5258b292cc8c3c/ibm-SPSS-home-card.png.global.xs_1x1.png\"/>\n",
            "https://1.dam.s81c.com/p/0b5258b292cc8c3c/ibm-SPSS-home-card.png.global.xs_1x1.png\n",
            "<img alt=\"Aerial view of crowded Arthur Ashe Stadium during the US Open\" aria-describedby=\"bx--image-6\" class=\"bx--image__img\" src=\"https://1.dam.s81c.com/p/0b5208b4cbcc2792/MikeLawrenceUSTA.jpg.global.xs_1x1.png\"/>\n",
            "https://1.dam.s81c.com/p/0b5208b4cbcc2792/MikeLawrenceUSTA.jpg.global.xs_1x1.png\n",
            "<img alt=\"Grid of IBM consultant portraits\" class=\"bx--image__img\" src=\"https://1.dam.s81c.com/p/0aac9cf57bcbf324/dotcom-1-overview.jpg\"/>\n",
            "https://1.dam.s81c.com/p/0aac9cf57bcbf324/dotcom-1-overview.jpg\n"
          ]
        }
      ]
    },
    {
      "cell_type": "markdown",
      "source": [
        "Scrape data from HTML tables"
      ],
      "metadata": {
        "id": "rXr8KdZtnf2U"
      }
    },
    {
      "cell_type": "code",
      "source": [
        "#The below url contains an html table with data about colors and color codes.\n",
        "url = \"https://cf-courses-data.s3.us.cloud-object-storage.appdomain.cloud/IBM-DA0321EN-SkillsNetwork/labs/datasets/HTMLColorCodes.html\""
      ],
      "metadata": {
        "id": "koDmjC7dkiS1"
      },
      "execution_count": 153,
      "outputs": []
    },
    {
      "cell_type": "markdown",
      "source": [
        "Before proceeding to scrape a web site, you need to examine the contents, and the way data is organized on the website. Open the above url in your browser and check how many rows and columns are there in the color table."
      ],
      "metadata": {
        "id": "l4Ma4uMmnmQZ"
      }
    },
    {
      "cell_type": "code",
      "source": [
        "# get the contents of the webpage in text format and store in a variable called data\n",
        "data = requests.get(url).text"
      ],
      "metadata": {
        "id": "sul_E5FklGLC"
      },
      "execution_count": 154,
      "outputs": []
    },
    {
      "cell_type": "code",
      "source": [
        "soup = BeautifulSoup(data,\"html.parser\")"
      ],
      "metadata": {
        "id": "8TALjJlMmPRO"
      },
      "execution_count": 155,
      "outputs": []
    },
    {
      "cell_type": "code",
      "source": [
        "#find a html table in the web page\n",
        "table = soup.find('table')  # in html table is represented by the tag <table>"
      ],
      "metadata": {
        "id": "lo4Cv6kDlZvG"
      },
      "execution_count": 156,
      "outputs": []
    },
    {
      "cell_type": "code",
      "source": [
        "#Get all rows from the table\n",
        "for row in table.find_all('tr'): # in html table row is represented by the tag <tr>\n",
        "    # Get all columns in each row.\n",
        "    cols = row.find_all('td') # in html a column is represented by the tag <td>\n",
        "    color_name = cols[2].string # store the value in column 3 as color_name\n",
        "    color_code = cols[3].string # store the value in column 4 as color_code\n",
        "    print(\"{}--->{}\".format(color_name,color_code))"
      ],
      "metadata": {
        "id": "GX4el8cHli6c",
        "colab": {
          "base_uri": "https://localhost:8080/"
        },
        "outputId": "92a7d29d-6087-48ba-83f2-6e4fbc1e134e"
      },
      "execution_count": 157,
      "outputs": [
        {
          "output_type": "stream",
          "name": "stdout",
          "text": [
            "Color Name--->None\n",
            "lightsalmon--->#FFA07A\n",
            "salmon--->#FA8072\n",
            "darksalmon--->#E9967A\n",
            "lightcoral--->#F08080\n",
            "coral--->#FF7F50\n",
            "tomato--->#FF6347\n",
            "orangered--->#FF4500\n",
            "gold--->#FFD700\n",
            "orange--->#FFA500\n",
            "darkorange--->#FF8C00\n",
            "lightyellow--->#FFFFE0\n",
            "lemonchiffon--->#FFFACD\n",
            "papayawhip--->#FFEFD5\n",
            "moccasin--->#FFE4B5\n",
            "peachpuff--->#FFDAB9\n",
            "palegoldenrod--->#EEE8AA\n",
            "khaki--->#F0E68C\n",
            "darkkhaki--->#BDB76B\n",
            "yellow--->#FFFF00\n",
            "lawngreen--->#7CFC00\n",
            "chartreuse--->#7FFF00\n",
            "limegreen--->#32CD32\n",
            "lime--->#00FF00\n",
            "forestgreen--->#228B22\n",
            "green--->#008000\n",
            "powderblue--->#B0E0E6\n",
            "lightblue--->#ADD8E6\n",
            "lightskyblue--->#87CEFA\n",
            "skyblue--->#87CEEB\n",
            "deepskyblue--->#00BFFF\n",
            "lightsteelblue--->#B0C4DE\n",
            "dodgerblue--->#1E90FF\n"
          ]
        }
      ]
    },
    {
      "cell_type": "markdown",
      "source": [
        "Scrape data from HTML tables into a DataFrame using BeautifulSoup and Pandas"
      ],
      "metadata": {
        "id": "IxvJmY5an3Tv"
      }
    },
    {
      "cell_type": "code",
      "source": [
        "import pandas as pd\n",
        "import requests\n",
        "from bs4 import BeautifulSoup\n",
        "url = \"https://en.wikipedia.org/wiki/World_population\""
      ],
      "metadata": {
        "id": "h3i6U13Bl4MR"
      },
      "execution_count": 158,
      "outputs": []
    },
    {
      "cell_type": "code",
      "source": [
        "data = requests.get(url).text"
      ],
      "metadata": {
        "id": "njCI-KQxmzeO"
      },
      "execution_count": 159,
      "outputs": []
    },
    {
      "cell_type": "code",
      "source": [
        "soup = BeautifulSoup(data, 'html.parser')"
      ],
      "metadata": {
        "id": "WRucADnan_Gk"
      },
      "execution_count": 160,
      "outputs": []
    },
    {
      "cell_type": "code",
      "source": [
        "tables = soup.find_all('table')"
      ],
      "metadata": {
        "id": "3d2H8EVAoJbe"
      },
      "execution_count": 161,
      "outputs": []
    },
    {
      "cell_type": "code",
      "source": [
        "# we can see how many tables were found by checking the length of the tables list\n",
        "len('tables')"
      ],
      "metadata": {
        "colab": {
          "base_uri": "https://localhost:8080/"
        },
        "id": "ZU2aDYYooUEv",
        "outputId": "20a7c340-6a2e-4b58-d263-499a4a868809"
      },
      "execution_count": 162,
      "outputs": [
        {
          "output_type": "execute_result",
          "data": {
            "text/plain": [
              "6"
            ]
          },
          "metadata": {},
          "execution_count": 162
        }
      ]
    },
    {
      "cell_type": "markdown",
      "source": [
        "Assume that we are looking for the 10 most densly populated countries table, we can look through the tables list and find the right one we are look for based on the data in each table or we can search for the table name if it is in the table but this option might not always work."
      ],
      "metadata": {
        "id": "Lv374nqipG1Y"
      }
    },
    {
      "cell_type": "code",
      "source": [
        "for index,table in enumerate(tables):\n",
        "    if (\"10 most densely populated countries\" in str(tables)):\n",
        "        table_index = index\n",
        "print(table_index)"
      ],
      "metadata": {
        "colab": {
          "base_uri": "https://localhost:8080/"
        },
        "id": "uJ2GVNKXoaHE",
        "outputId": "0babcee9-5d4f-4924-82d9-59db6293af5a"
      },
      "execution_count": 163,
      "outputs": [
        {
          "output_type": "stream",
          "name": "stdout",
          "text": [
            "28\n"
          ]
        }
      ]
    },
    {
      "cell_type": "code",
      "source": [
        "#See if you can locate the table name of the table, 10 most densly populated countries, below.\n",
        "print(tables[table_index].prettify())"
      ],
      "metadata": {
        "id": "Y5UuGP7do1_s",
        "colab": {
          "base_uri": "https://localhost:8080/"
        },
        "outputId": "49c0c4e3-a34d-4c9c-863c-d29a520f792c"
      },
      "execution_count": 164,
      "outputs": [
        {
          "output_type": "stream",
          "name": "stdout",
          "text": [
            "<table class=\"nowraplinks hlist navbox-inner\" style=\"border-spacing:0;background:transparent;color:inherit\">\n",
            " <tbody>\n",
            "  <tr>\n",
            "   <th class=\"navbox-group\" scope=\"row\" style=\"width:1%\">\n",
            "    <a href=\"/wiki/Help:Authority_control\" title=\"Help:Authority control\">\n",
            "     Authority control\n",
            "    </a>\n",
            "    : National\n",
            "    <span class=\"mw-valign-text-top noprint\" typeof=\"mw:File/Frameless\">\n",
            "     <a href=\"https://www.wikidata.org/wiki/Q11188#identifiers\" title=\"Edit this at Wikidata\">\n",
            "      <img alt=\"Edit this at Wikidata\" class=\"mw-file-element\" data-file-height=\"20\" data-file-width=\"20\" decoding=\"async\" height=\"10\" src=\"//upload.wikimedia.org/wikipedia/en/thumb/8/8a/OOjs_UI_icon_edit-ltr-progressive.svg/10px-OOjs_UI_icon_edit-ltr-progressive.svg.png\" srcset=\"//upload.wikimedia.org/wikipedia/en/thumb/8/8a/OOjs_UI_icon_edit-ltr-progressive.svg/15px-OOjs_UI_icon_edit-ltr-progressive.svg.png 1.5x, //upload.wikimedia.org/wikipedia/en/thumb/8/8a/OOjs_UI_icon_edit-ltr-progressive.svg/20px-OOjs_UI_icon_edit-ltr-progressive.svg.png 2x\" width=\"10\"/>\n",
            "     </a>\n",
            "    </span>\n",
            "   </th>\n",
            "   <td class=\"navbox-list-with-group navbox-list navbox-odd\" style=\"width:100%;padding:0\">\n",
            "    <div style=\"padding:0 0.25em\">\n",
            "     <ul>\n",
            "      <li>\n",
            "       <span class=\"uid\">\n",
            "        <a class=\"external text\" href=\"https://d-nb.info/gnd/4125901-4\" rel=\"nofollow\">\n",
            "         Germany\n",
            "        </a>\n",
            "       </span>\n",
            "      </li>\n",
            "     </ul>\n",
            "    </div>\n",
            "   </td>\n",
            "  </tr>\n",
            " </tbody>\n",
            "</table>\n"
          ]
        }
      ]
    },
    {
      "cell_type": "markdown",
      "source": [
        "Scrape data from HTML tables into a DataFrame using BeautifulSoup and read_html"
      ],
      "metadata": {
        "id": "UbJAkhKvaO6M"
      }
    },
    {
      "cell_type": "code",
      "source": [
        "#Using the same url, data, soup, and tables object as in the last section we can use the read_html function to create a DataFrame.\n",
        "# you can change tables[] index ---> 0,1,2,3,4,5,6 because len of tables is 6\n",
        "pd.read_html(str(tables[5]), flavor='bs4')"
      ],
      "metadata": {
        "id": "b9CTdtx5SAwo",
        "colab": {
          "base_uri": "https://localhost:8080/"
        },
        "outputId": "85524d05-bd78-4a5b-d822-6af40472d908"
      },
      "execution_count": 165,
      "outputs": [
        {
          "output_type": "execute_result",
          "data": {
            "text/plain": [
              "[                                                             #  \\\n",
              "    Graphs are temporarily unavailable due to technical issues.   \n",
              "    Graphs are temporarily unavailable due to technical issues.   \n",
              "    Graphs are temporarily unavailable due to technical issues.   \n",
              "    Graphs are temporarily unavailable due to technical issues.   \n",
              "    Graphs are temporarily unavailable due to technical issues.   \n",
              "    Graphs are temporarily unavailable due to technical issues.   \n",
              "    Graphs are temporarily unavailable due to technical issues.   \n",
              "    Graphs are temporarily unavailable due to technical issues.   \n",
              "    Graphs are temporarily unavailable due to technical issues.   \n",
              "    Graphs are temporarily unavailable due to technical issues.   \n",
              "    Graphs are temporarily unavailable due to technical issues.   \n",
              " 0                                                 NaN            \n",
              " 1                                                   1            \n",
              " 2                                                   2            \n",
              " 3                                                   3            \n",
              " 4                                                   4            \n",
              " 5                                                   5            \n",
              " 6                                                   6            \n",
              " 7                                                   7            \n",
              " 8                                                   8            \n",
              " 9                                                   9            \n",
              " 10                                                 10            \n",
              " 11                                                NaN            \n",
              " 12  Notes: .mw-parser-output .reflist{font-size:90...            \n",
              " \n",
              "                               Most populous countries  \\\n",
              "                                    Unnamed: 1_level_1   \n",
              "                                    Unnamed: 1_level_2   \n",
              "                                    Unnamed: 1_level_3   \n",
              "                                    Unnamed: 1_level_4   \n",
              "                                    Unnamed: 1_level_5   \n",
              "                                    Unnamed: 1_level_6   \n",
              "                                    Unnamed: 1_level_7   \n",
              "                                    Unnamed: 1_level_8   \n",
              "                                    Unnamed: 1_level_9   \n",
              "                                   Unnamed: 1_level_10   \n",
              "                                   Unnamed: 1_level_11   \n",
              " 0   Graphs are temporarily unavailable due to tech...   \n",
              " 1                                            China[B]   \n",
              " 2                                               India   \n",
              " 3                                       United States   \n",
              " 4                                           Indonesia   \n",
              " 5                                            Pakistan   \n",
              " 6                                              Brazil   \n",
              " 7                                             Nigeria   \n",
              " 8                                          Bangladesh   \n",
              " 9                                              Russia   \n",
              " 10                                             Mexico   \n",
              " 11                                        World total   \n",
              " 12  Notes: .mw-parser-output .reflist{font-size:90...   \n",
              " \n",
              "                                                  2000  \\\n",
              "                                    Unnamed: 2_level_1   \n",
              "                                    Unnamed: 2_level_2   \n",
              "                                    Unnamed: 2_level_3   \n",
              "                                    Unnamed: 2_level_4   \n",
              "                                    Unnamed: 2_level_5   \n",
              "                                    Unnamed: 2_level_6   \n",
              "                                    Unnamed: 2_level_7   \n",
              "                                    Unnamed: 2_level_8   \n",
              "                                    Unnamed: 2_level_9   \n",
              "                                   Unnamed: 2_level_10   \n",
              "                                   Unnamed: 2_level_11   \n",
              " 0                                                 NaN   \n",
              " 1                                                1270   \n",
              " 2                                                1053   \n",
              " 3                                                 283   \n",
              " 4                                                 212   \n",
              " 5                                                 136   \n",
              " 6                                                 176   \n",
              " 7                                                 123   \n",
              " 8                                                 131   \n",
              " 9                                                 146   \n",
              " 10                                                103   \n",
              " 11                                               6127   \n",
              " 12  Notes: .mw-parser-output .reflist{font-size:90...   \n",
              " \n",
              "                                                  2015  \\\n",
              "                                    Unnamed: 3_level_1   \n",
              "                                    Unnamed: 3_level_2   \n",
              "                                    Unnamed: 3_level_3   \n",
              "                                    Unnamed: 3_level_4   \n",
              "                                    Unnamed: 3_level_5   \n",
              "                                    Unnamed: 3_level_6   \n",
              "                                    Unnamed: 3_level_7   \n",
              "                                    Unnamed: 3_level_8   \n",
              "                                    Unnamed: 3_level_9   \n",
              "                                   Unnamed: 3_level_10   \n",
              "                                   Unnamed: 3_level_11   \n",
              " 0                                                 NaN   \n",
              " 1                                                1376   \n",
              " 2                                                1311   \n",
              " 3                                                 322   \n",
              " 4                                                 258   \n",
              " 5                                                 208   \n",
              " 6                                                 206   \n",
              " 7                                                 182   \n",
              " 8                                                 161   \n",
              " 9                                                 146   \n",
              " 10                                                127   \n",
              " 11                                               7349   \n",
              " 12  Notes: .mw-parser-output .reflist{font-size:90...   \n",
              " \n",
              "                                               2030[A]  \\\n",
              "                                    Unnamed: 4_level_1   \n",
              "                                    Unnamed: 4_level_2   \n",
              "                                    Unnamed: 4_level_3   \n",
              "                                    Unnamed: 4_level_4   \n",
              "                                    Unnamed: 4_level_5   \n",
              "                                    Unnamed: 4_level_6   \n",
              "                                    Unnamed: 4_level_7   \n",
              "                                    Unnamed: 4_level_8   \n",
              "                                    Unnamed: 4_level_9   \n",
              "                                   Unnamed: 4_level_10   \n",
              "                                   Unnamed: 4_level_11   \n",
              " 0                                                 NaN   \n",
              " 1                                                1416   \n",
              " 2                                                1528   \n",
              " 3                                                 356   \n",
              " 4                                                 295   \n",
              " 5                                                 245   \n",
              " 6                                                 228   \n",
              " 7                                                 263   \n",
              " 8                                                 186   \n",
              " 9                                                 149   \n",
              " 10                                                148   \n",
              " 11                                               8501   \n",
              " 12  Notes: .mw-parser-output .reflist{font-size:90...   \n",
              " \n",
              "    Graphs are temporarily unavailable due to technical issues.  \n",
              "                                             Unnamed: 5_level_1  \n",
              "                                             Unnamed: 5_level_2  \n",
              "                                             Unnamed: 5_level_3  \n",
              "                                             Unnamed: 5_level_4  \n",
              "                                             Unnamed: 5_level_5  \n",
              "                                             Unnamed: 5_level_6  \n",
              "                                             Unnamed: 5_level_7  \n",
              "                                             Unnamed: 5_level_8  \n",
              "                                             Unnamed: 5_level_9  \n",
              "                                            Unnamed: 5_level_10  \n",
              "                                            Unnamed: 5_level_11  \n",
              " 0                                                 NaN           \n",
              " 1                                                 NaN           \n",
              " 2                                                 NaN           \n",
              " 3                                                 NaN           \n",
              " 4                                                 NaN           \n",
              " 5                                                 NaN           \n",
              " 6                                                 NaN           \n",
              " 7                                                 NaN           \n",
              " 8                                                 NaN           \n",
              " 9                                                 NaN           \n",
              " 10                                                NaN           \n",
              " 11                                                NaN           \n",
              " 12  Notes: .mw-parser-output .reflist{font-size:90...           ,\n",
              "     0                                                  1\n",
              " 0 NaN  Graphs are temporarily unavailable due to tech...]"
            ]
          },
          "metadata": {},
          "execution_count": 165
        }
      ]
    },
    {
      "cell_type": "code",
      "source": [
        "#The function read_html always returns a list of DataFrames so we must pick the one we want out of the\n",
        "population_data_read_html = pd.read_html(str(tables[5]), flavor='bs4')[0]\n",
        "\n",
        "population_data_read_html"
      ],
      "metadata": {
        "id": "4VMZpJzbUq4Z",
        "colab": {
          "base_uri": "https://localhost:8080/",
          "height": 1000
        },
        "outputId": "ed9dbb59-b67b-443e-9179-f996a80c94fa"
      },
      "execution_count": 166,
      "outputs": [
        {
          "output_type": "execute_result",
          "data": {
            "text/plain": [
              "                                                             #  \\\n",
              "   Graphs are temporarily unavailable due to technical issues.   \n",
              "   Graphs are temporarily unavailable due to technical issues.   \n",
              "   Graphs are temporarily unavailable due to technical issues.   \n",
              "   Graphs are temporarily unavailable due to technical issues.   \n",
              "   Graphs are temporarily unavailable due to technical issues.   \n",
              "   Graphs are temporarily unavailable due to technical issues.   \n",
              "   Graphs are temporarily unavailable due to technical issues.   \n",
              "   Graphs are temporarily unavailable due to technical issues.   \n",
              "   Graphs are temporarily unavailable due to technical issues.   \n",
              "   Graphs are temporarily unavailable due to technical issues.   \n",
              "   Graphs are temporarily unavailable due to technical issues.   \n",
              "0                                                 NaN            \n",
              "1                                                   1            \n",
              "2                                                   2            \n",
              "3                                                   3            \n",
              "4                                                   4            \n",
              "5                                                   5            \n",
              "6                                                   6            \n",
              "7                                                   7            \n",
              "8                                                   8            \n",
              "9                                                   9            \n",
              "10                                                 10            \n",
              "11                                                NaN            \n",
              "12  Notes: .mw-parser-output .reflist{font-size:90...            \n",
              "\n",
              "                              Most populous countries  \\\n",
              "                                   Unnamed: 1_level_1   \n",
              "                                   Unnamed: 1_level_2   \n",
              "                                   Unnamed: 1_level_3   \n",
              "                                   Unnamed: 1_level_4   \n",
              "                                   Unnamed: 1_level_5   \n",
              "                                   Unnamed: 1_level_6   \n",
              "                                   Unnamed: 1_level_7   \n",
              "                                   Unnamed: 1_level_8   \n",
              "                                   Unnamed: 1_level_9   \n",
              "                                  Unnamed: 1_level_10   \n",
              "                                  Unnamed: 1_level_11   \n",
              "0   Graphs are temporarily unavailable due to tech...   \n",
              "1                                            China[B]   \n",
              "2                                               India   \n",
              "3                                       United States   \n",
              "4                                           Indonesia   \n",
              "5                                            Pakistan   \n",
              "6                                              Brazil   \n",
              "7                                             Nigeria   \n",
              "8                                          Bangladesh   \n",
              "9                                              Russia   \n",
              "10                                             Mexico   \n",
              "11                                        World total   \n",
              "12  Notes: .mw-parser-output .reflist{font-size:90...   \n",
              "\n",
              "                                                 2000  \\\n",
              "                                   Unnamed: 2_level_1   \n",
              "                                   Unnamed: 2_level_2   \n",
              "                                   Unnamed: 2_level_3   \n",
              "                                   Unnamed: 2_level_4   \n",
              "                                   Unnamed: 2_level_5   \n",
              "                                   Unnamed: 2_level_6   \n",
              "                                   Unnamed: 2_level_7   \n",
              "                                   Unnamed: 2_level_8   \n",
              "                                   Unnamed: 2_level_9   \n",
              "                                  Unnamed: 2_level_10   \n",
              "                                  Unnamed: 2_level_11   \n",
              "0                                                 NaN   \n",
              "1                                                1270   \n",
              "2                                                1053   \n",
              "3                                                 283   \n",
              "4                                                 212   \n",
              "5                                                 136   \n",
              "6                                                 176   \n",
              "7                                                 123   \n",
              "8                                                 131   \n",
              "9                                                 146   \n",
              "10                                                103   \n",
              "11                                               6127   \n",
              "12  Notes: .mw-parser-output .reflist{font-size:90...   \n",
              "\n",
              "                                                 2015  \\\n",
              "                                   Unnamed: 3_level_1   \n",
              "                                   Unnamed: 3_level_2   \n",
              "                                   Unnamed: 3_level_3   \n",
              "                                   Unnamed: 3_level_4   \n",
              "                                   Unnamed: 3_level_5   \n",
              "                                   Unnamed: 3_level_6   \n",
              "                                   Unnamed: 3_level_7   \n",
              "                                   Unnamed: 3_level_8   \n",
              "                                   Unnamed: 3_level_9   \n",
              "                                  Unnamed: 3_level_10   \n",
              "                                  Unnamed: 3_level_11   \n",
              "0                                                 NaN   \n",
              "1                                                1376   \n",
              "2                                                1311   \n",
              "3                                                 322   \n",
              "4                                                 258   \n",
              "5                                                 208   \n",
              "6                                                 206   \n",
              "7                                                 182   \n",
              "8                                                 161   \n",
              "9                                                 146   \n",
              "10                                                127   \n",
              "11                                               7349   \n",
              "12  Notes: .mw-parser-output .reflist{font-size:90...   \n",
              "\n",
              "                                              2030[A]  \\\n",
              "                                   Unnamed: 4_level_1   \n",
              "                                   Unnamed: 4_level_2   \n",
              "                                   Unnamed: 4_level_3   \n",
              "                                   Unnamed: 4_level_4   \n",
              "                                   Unnamed: 4_level_5   \n",
              "                                   Unnamed: 4_level_6   \n",
              "                                   Unnamed: 4_level_7   \n",
              "                                   Unnamed: 4_level_8   \n",
              "                                   Unnamed: 4_level_9   \n",
              "                                  Unnamed: 4_level_10   \n",
              "                                  Unnamed: 4_level_11   \n",
              "0                                                 NaN   \n",
              "1                                                1416   \n",
              "2                                                1528   \n",
              "3                                                 356   \n",
              "4                                                 295   \n",
              "5                                                 245   \n",
              "6                                                 228   \n",
              "7                                                 263   \n",
              "8                                                 186   \n",
              "9                                                 149   \n",
              "10                                                148   \n",
              "11                                               8501   \n",
              "12  Notes: .mw-parser-output .reflist{font-size:90...   \n",
              "\n",
              "   Graphs are temporarily unavailable due to technical issues.  \n",
              "                                            Unnamed: 5_level_1  \n",
              "                                            Unnamed: 5_level_2  \n",
              "                                            Unnamed: 5_level_3  \n",
              "                                            Unnamed: 5_level_4  \n",
              "                                            Unnamed: 5_level_5  \n",
              "                                            Unnamed: 5_level_6  \n",
              "                                            Unnamed: 5_level_7  \n",
              "                                            Unnamed: 5_level_8  \n",
              "                                            Unnamed: 5_level_9  \n",
              "                                           Unnamed: 5_level_10  \n",
              "                                           Unnamed: 5_level_11  \n",
              "0                                                 NaN           \n",
              "1                                                 NaN           \n",
              "2                                                 NaN           \n",
              "3                                                 NaN           \n",
              "4                                                 NaN           \n",
              "5                                                 NaN           \n",
              "6                                                 NaN           \n",
              "7                                                 NaN           \n",
              "8                                                 NaN           \n",
              "9                                                 NaN           \n",
              "10                                                NaN           \n",
              "11                                                NaN           \n",
              "12  Notes: .mw-parser-output .reflist{font-size:90...           "
            ],
            "text/html": [
              "\n",
              "  <div id=\"df-7c733a0f-22f7-4c79-b334-61e20d716f1e\" class=\"colab-df-container\">\n",
              "    <div>\n",
              "<style scoped>\n",
              "    .dataframe tbody tr th:only-of-type {\n",
              "        vertical-align: middle;\n",
              "    }\n",
              "\n",
              "    .dataframe tbody tr th {\n",
              "        vertical-align: top;\n",
              "    }\n",
              "\n",
              "    .dataframe thead tr th {\n",
              "        text-align: left;\n",
              "    }\n",
              "</style>\n",
              "<table border=\"1\" class=\"dataframe\">\n",
              "  <thead>\n",
              "    <tr>\n",
              "      <th></th>\n",
              "      <th>#</th>\n",
              "      <th>Most populous countries</th>\n",
              "      <th>2000</th>\n",
              "      <th>2015</th>\n",
              "      <th>2030[A]</th>\n",
              "      <th>Graphs are temporarily unavailable due to technical issues.</th>\n",
              "    </tr>\n",
              "    <tr>\n",
              "      <th></th>\n",
              "      <th>Graphs are temporarily unavailable due to technical issues.</th>\n",
              "      <th>Unnamed: 1_level_1</th>\n",
              "      <th>Unnamed: 2_level_1</th>\n",
              "      <th>Unnamed: 3_level_1</th>\n",
              "      <th>Unnamed: 4_level_1</th>\n",
              "      <th>Unnamed: 5_level_1</th>\n",
              "    </tr>\n",
              "    <tr>\n",
              "      <th></th>\n",
              "      <th>Graphs are temporarily unavailable due to technical issues.</th>\n",
              "      <th>Unnamed: 1_level_2</th>\n",
              "      <th>Unnamed: 2_level_2</th>\n",
              "      <th>Unnamed: 3_level_2</th>\n",
              "      <th>Unnamed: 4_level_2</th>\n",
              "      <th>Unnamed: 5_level_2</th>\n",
              "    </tr>\n",
              "    <tr>\n",
              "      <th></th>\n",
              "      <th>Graphs are temporarily unavailable due to technical issues.</th>\n",
              "      <th>Unnamed: 1_level_3</th>\n",
              "      <th>Unnamed: 2_level_3</th>\n",
              "      <th>Unnamed: 3_level_3</th>\n",
              "      <th>Unnamed: 4_level_3</th>\n",
              "      <th>Unnamed: 5_level_3</th>\n",
              "    </tr>\n",
              "    <tr>\n",
              "      <th></th>\n",
              "      <th>Graphs are temporarily unavailable due to technical issues.</th>\n",
              "      <th>Unnamed: 1_level_4</th>\n",
              "      <th>Unnamed: 2_level_4</th>\n",
              "      <th>Unnamed: 3_level_4</th>\n",
              "      <th>Unnamed: 4_level_4</th>\n",
              "      <th>Unnamed: 5_level_4</th>\n",
              "    </tr>\n",
              "    <tr>\n",
              "      <th></th>\n",
              "      <th>Graphs are temporarily unavailable due to technical issues.</th>\n",
              "      <th>Unnamed: 1_level_5</th>\n",
              "      <th>Unnamed: 2_level_5</th>\n",
              "      <th>Unnamed: 3_level_5</th>\n",
              "      <th>Unnamed: 4_level_5</th>\n",
              "      <th>Unnamed: 5_level_5</th>\n",
              "    </tr>\n",
              "    <tr>\n",
              "      <th></th>\n",
              "      <th>Graphs are temporarily unavailable due to technical issues.</th>\n",
              "      <th>Unnamed: 1_level_6</th>\n",
              "      <th>Unnamed: 2_level_6</th>\n",
              "      <th>Unnamed: 3_level_6</th>\n",
              "      <th>Unnamed: 4_level_6</th>\n",
              "      <th>Unnamed: 5_level_6</th>\n",
              "    </tr>\n",
              "    <tr>\n",
              "      <th></th>\n",
              "      <th>Graphs are temporarily unavailable due to technical issues.</th>\n",
              "      <th>Unnamed: 1_level_7</th>\n",
              "      <th>Unnamed: 2_level_7</th>\n",
              "      <th>Unnamed: 3_level_7</th>\n",
              "      <th>Unnamed: 4_level_7</th>\n",
              "      <th>Unnamed: 5_level_7</th>\n",
              "    </tr>\n",
              "    <tr>\n",
              "      <th></th>\n",
              "      <th>Graphs are temporarily unavailable due to technical issues.</th>\n",
              "      <th>Unnamed: 1_level_8</th>\n",
              "      <th>Unnamed: 2_level_8</th>\n",
              "      <th>Unnamed: 3_level_8</th>\n",
              "      <th>Unnamed: 4_level_8</th>\n",
              "      <th>Unnamed: 5_level_8</th>\n",
              "    </tr>\n",
              "    <tr>\n",
              "      <th></th>\n",
              "      <th>Graphs are temporarily unavailable due to technical issues.</th>\n",
              "      <th>Unnamed: 1_level_9</th>\n",
              "      <th>Unnamed: 2_level_9</th>\n",
              "      <th>Unnamed: 3_level_9</th>\n",
              "      <th>Unnamed: 4_level_9</th>\n",
              "      <th>Unnamed: 5_level_9</th>\n",
              "    </tr>\n",
              "    <tr>\n",
              "      <th></th>\n",
              "      <th>Graphs are temporarily unavailable due to technical issues.</th>\n",
              "      <th>Unnamed: 1_level_10</th>\n",
              "      <th>Unnamed: 2_level_10</th>\n",
              "      <th>Unnamed: 3_level_10</th>\n",
              "      <th>Unnamed: 4_level_10</th>\n",
              "      <th>Unnamed: 5_level_10</th>\n",
              "    </tr>\n",
              "    <tr>\n",
              "      <th></th>\n",
              "      <th>Graphs are temporarily unavailable due to technical issues.</th>\n",
              "      <th>Unnamed: 1_level_11</th>\n",
              "      <th>Unnamed: 2_level_11</th>\n",
              "      <th>Unnamed: 3_level_11</th>\n",
              "      <th>Unnamed: 4_level_11</th>\n",
              "      <th>Unnamed: 5_level_11</th>\n",
              "    </tr>\n",
              "  </thead>\n",
              "  <tbody>\n",
              "    <tr>\n",
              "      <th>0</th>\n",
              "      <td>NaN</td>\n",
              "      <td>Graphs are temporarily unavailable due to tech...</td>\n",
              "      <td>NaN</td>\n",
              "      <td>NaN</td>\n",
              "      <td>NaN</td>\n",
              "      <td>NaN</td>\n",
              "    </tr>\n",
              "    <tr>\n",
              "      <th>1</th>\n",
              "      <td>1</td>\n",
              "      <td>China[B]</td>\n",
              "      <td>1270</td>\n",
              "      <td>1376</td>\n",
              "      <td>1416</td>\n",
              "      <td>NaN</td>\n",
              "    </tr>\n",
              "    <tr>\n",
              "      <th>2</th>\n",
              "      <td>2</td>\n",
              "      <td>India</td>\n",
              "      <td>1053</td>\n",
              "      <td>1311</td>\n",
              "      <td>1528</td>\n",
              "      <td>NaN</td>\n",
              "    </tr>\n",
              "    <tr>\n",
              "      <th>3</th>\n",
              "      <td>3</td>\n",
              "      <td>United States</td>\n",
              "      <td>283</td>\n",
              "      <td>322</td>\n",
              "      <td>356</td>\n",
              "      <td>NaN</td>\n",
              "    </tr>\n",
              "    <tr>\n",
              "      <th>4</th>\n",
              "      <td>4</td>\n",
              "      <td>Indonesia</td>\n",
              "      <td>212</td>\n",
              "      <td>258</td>\n",
              "      <td>295</td>\n",
              "      <td>NaN</td>\n",
              "    </tr>\n",
              "    <tr>\n",
              "      <th>5</th>\n",
              "      <td>5</td>\n",
              "      <td>Pakistan</td>\n",
              "      <td>136</td>\n",
              "      <td>208</td>\n",
              "      <td>245</td>\n",
              "      <td>NaN</td>\n",
              "    </tr>\n",
              "    <tr>\n",
              "      <th>6</th>\n",
              "      <td>6</td>\n",
              "      <td>Brazil</td>\n",
              "      <td>176</td>\n",
              "      <td>206</td>\n",
              "      <td>228</td>\n",
              "      <td>NaN</td>\n",
              "    </tr>\n",
              "    <tr>\n",
              "      <th>7</th>\n",
              "      <td>7</td>\n",
              "      <td>Nigeria</td>\n",
              "      <td>123</td>\n",
              "      <td>182</td>\n",
              "      <td>263</td>\n",
              "      <td>NaN</td>\n",
              "    </tr>\n",
              "    <tr>\n",
              "      <th>8</th>\n",
              "      <td>8</td>\n",
              "      <td>Bangladesh</td>\n",
              "      <td>131</td>\n",
              "      <td>161</td>\n",
              "      <td>186</td>\n",
              "      <td>NaN</td>\n",
              "    </tr>\n",
              "    <tr>\n",
              "      <th>9</th>\n",
              "      <td>9</td>\n",
              "      <td>Russia</td>\n",
              "      <td>146</td>\n",
              "      <td>146</td>\n",
              "      <td>149</td>\n",
              "      <td>NaN</td>\n",
              "    </tr>\n",
              "    <tr>\n",
              "      <th>10</th>\n",
              "      <td>10</td>\n",
              "      <td>Mexico</td>\n",
              "      <td>103</td>\n",
              "      <td>127</td>\n",
              "      <td>148</td>\n",
              "      <td>NaN</td>\n",
              "    </tr>\n",
              "    <tr>\n",
              "      <th>11</th>\n",
              "      <td>NaN</td>\n",
              "      <td>World total</td>\n",
              "      <td>6127</td>\n",
              "      <td>7349</td>\n",
              "      <td>8501</td>\n",
              "      <td>NaN</td>\n",
              "    </tr>\n",
              "    <tr>\n",
              "      <th>12</th>\n",
              "      <td>Notes: .mw-parser-output .reflist{font-size:90...</td>\n",
              "      <td>Notes: .mw-parser-output .reflist{font-size:90...</td>\n",
              "      <td>Notes: .mw-parser-output .reflist{font-size:90...</td>\n",
              "      <td>Notes: .mw-parser-output .reflist{font-size:90...</td>\n",
              "      <td>Notes: .mw-parser-output .reflist{font-size:90...</td>\n",
              "      <td>Notes: .mw-parser-output .reflist{font-size:90...</td>\n",
              "    </tr>\n",
              "  </tbody>\n",
              "</table>\n",
              "</div>\n",
              "    <div class=\"colab-df-buttons\">\n",
              "\n",
              "  <div class=\"colab-df-container\">\n",
              "    <button class=\"colab-df-convert\" onclick=\"convertToInteractive('df-7c733a0f-22f7-4c79-b334-61e20d716f1e')\"\n",
              "            title=\"Convert this dataframe to an interactive table.\"\n",
              "            style=\"display:none;\">\n",
              "\n",
              "  <svg xmlns=\"http://www.w3.org/2000/svg\" height=\"24px\" viewBox=\"0 -960 960 960\">\n",
              "    <path d=\"M120-120v-720h720v720H120Zm60-500h600v-160H180v160Zm220 220h160v-160H400v160Zm0 220h160v-160H400v160ZM180-400h160v-160H180v160Zm440 0h160v-160H620v160ZM180-180h160v-160H180v160Zm440 0h160v-160H620v160Z\"/>\n",
              "  </svg>\n",
              "    </button>\n",
              "\n",
              "  <style>\n",
              "    .colab-df-container {\n",
              "      display:flex;\n",
              "      gap: 12px;\n",
              "    }\n",
              "\n",
              "    .colab-df-convert {\n",
              "      background-color: #E8F0FE;\n",
              "      border: none;\n",
              "      border-radius: 50%;\n",
              "      cursor: pointer;\n",
              "      display: none;\n",
              "      fill: #1967D2;\n",
              "      height: 32px;\n",
              "      padding: 0 0 0 0;\n",
              "      width: 32px;\n",
              "    }\n",
              "\n",
              "    .colab-df-convert:hover {\n",
              "      background-color: #E2EBFA;\n",
              "      box-shadow: 0px 1px 2px rgba(60, 64, 67, 0.3), 0px 1px 3px 1px rgba(60, 64, 67, 0.15);\n",
              "      fill: #174EA6;\n",
              "    }\n",
              "\n",
              "    .colab-df-buttons div {\n",
              "      margin-bottom: 4px;\n",
              "    }\n",
              "\n",
              "    [theme=dark] .colab-df-convert {\n",
              "      background-color: #3B4455;\n",
              "      fill: #D2E3FC;\n",
              "    }\n",
              "\n",
              "    [theme=dark] .colab-df-convert:hover {\n",
              "      background-color: #434B5C;\n",
              "      box-shadow: 0px 1px 3px 1px rgba(0, 0, 0, 0.15);\n",
              "      filter: drop-shadow(0px 1px 2px rgba(0, 0, 0, 0.3));\n",
              "      fill: #FFFFFF;\n",
              "    }\n",
              "  </style>\n",
              "\n",
              "    <script>\n",
              "      const buttonEl =\n",
              "        document.querySelector('#df-7c733a0f-22f7-4c79-b334-61e20d716f1e button.colab-df-convert');\n",
              "      buttonEl.style.display =\n",
              "        google.colab.kernel.accessAllowed ? 'block' : 'none';\n",
              "\n",
              "      async function convertToInteractive(key) {\n",
              "        const element = document.querySelector('#df-7c733a0f-22f7-4c79-b334-61e20d716f1e');\n",
              "        const dataTable =\n",
              "          await google.colab.kernel.invokeFunction('convertToInteractive',\n",
              "                                                    [key], {});\n",
              "        if (!dataTable) return;\n",
              "\n",
              "        const docLinkHtml = 'Like what you see? Visit the ' +\n",
              "          '<a target=\"_blank\" href=https://colab.research.google.com/notebooks/data_table.ipynb>data table notebook</a>'\n",
              "          + ' to learn more about interactive tables.';\n",
              "        element.innerHTML = '';\n",
              "        dataTable['output_type'] = 'display_data';\n",
              "        await google.colab.output.renderOutput(dataTable, element);\n",
              "        const docLink = document.createElement('div');\n",
              "        docLink.innerHTML = docLinkHtml;\n",
              "        element.appendChild(docLink);\n",
              "      }\n",
              "    </script>\n",
              "  </div>\n",
              "\n",
              "\n",
              "<div id=\"df-e2201ee3-1e52-4f53-b124-371af0ecaf5e\">\n",
              "  <button class=\"colab-df-quickchart\" onclick=\"quickchart('df-e2201ee3-1e52-4f53-b124-371af0ecaf5e')\"\n",
              "            title=\"Suggest charts.\"\n",
              "            style=\"display:none;\">\n",
              "\n",
              "<svg xmlns=\"http://www.w3.org/2000/svg\" height=\"24px\"viewBox=\"0 0 24 24\"\n",
              "     width=\"24px\">\n",
              "    <g>\n",
              "        <path d=\"M19 3H5c-1.1 0-2 .9-2 2v14c0 1.1.9 2 2 2h14c1.1 0 2-.9 2-2V5c0-1.1-.9-2-2-2zM9 17H7v-7h2v7zm4 0h-2V7h2v10zm4 0h-2v-4h2v4z\"/>\n",
              "    </g>\n",
              "</svg>\n",
              "  </button>\n",
              "\n",
              "<style>\n",
              "  .colab-df-quickchart {\n",
              "    background-color: #E8F0FE;\n",
              "    border: none;\n",
              "    border-radius: 50%;\n",
              "    cursor: pointer;\n",
              "    display: none;\n",
              "    fill: #1967D2;\n",
              "    height: 32px;\n",
              "    padding: 0 0 0 0;\n",
              "    width: 32px;\n",
              "  }\n",
              "\n",
              "  .colab-df-quickchart:hover {\n",
              "    background-color: #E2EBFA;\n",
              "    box-shadow: 0px 1px 2px rgba(60, 64, 67, 0.3), 0px 1px 3px 1px rgba(60, 64, 67, 0.15);\n",
              "    fill: #174EA6;\n",
              "  }\n",
              "\n",
              "  [theme=dark] .colab-df-quickchart {\n",
              "    background-color: #3B4455;\n",
              "    fill: #D2E3FC;\n",
              "  }\n",
              "\n",
              "  [theme=dark] .colab-df-quickchart:hover {\n",
              "    background-color: #434B5C;\n",
              "    box-shadow: 0px 1px 3px 1px rgba(0, 0, 0, 0.15);\n",
              "    filter: drop-shadow(0px 1px 2px rgba(0, 0, 0, 0.3));\n",
              "    fill: #FFFFFF;\n",
              "  }\n",
              "</style>\n",
              "\n",
              "  <script>\n",
              "    async function quickchart(key) {\n",
              "      const charts = await google.colab.kernel.invokeFunction(\n",
              "          'suggestCharts', [key], {});\n",
              "    }\n",
              "    (() => {\n",
              "      let quickchartButtonEl =\n",
              "        document.querySelector('#df-e2201ee3-1e52-4f53-b124-371af0ecaf5e button');\n",
              "      quickchartButtonEl.style.display =\n",
              "        google.colab.kernel.accessAllowed ? 'block' : 'none';\n",
              "    })();\n",
              "  </script>\n",
              "</div>\n",
              "    </div>\n",
              "  </div>\n"
            ]
          },
          "metadata": {},
          "execution_count": 166
        }
      ]
    },
    {
      "cell_type": "code",
      "source": [
        "population_data_read_html = pd.read_html(str(tables[4]), flavor='bs4')[0]\n",
        "\n",
        "population_data_read_html"
      ],
      "metadata": {
        "id": "S8XkU1XLa4C-",
        "colab": {
          "base_uri": "https://localhost:8080/",
          "height": 363
        },
        "outputId": "b2fb11f5-82bb-45bc-ab3e-90efacf6904b"
      },
      "execution_count": 167,
      "outputs": [
        {
          "output_type": "execute_result",
          "data": {
            "text/plain": [
              "   Rank Country / Dependency  Population Percentage of the world         Date  \\\n",
              "0     1                India  1425775850                   17.7%  14 Apr 2023   \n",
              "1     2                China  1412600000                   17.5%  31 Dec 2021   \n",
              "2     3        United States   335293884                   4.16%  23 Aug 2023   \n",
              "3     4            Indonesia   275773800                   3.42%   1 Jul 2022   \n",
              "4     5             Pakistan   229488994                   2.85%   1 Jul 2022   \n",
              "5     6              Nigeria   216746934                   2.69%   1 Jul 2022   \n",
              "6     7               Brazil   216558476                   2.69%  23 Aug 2023   \n",
              "7     8           Bangladesh   168220000                   2.09%   1 Jul 2020   \n",
              "8     9               Russia   147190000                   1.83%   1 Oct 2021   \n",
              "9    10               Mexico   128271248                   1.59%  31 Mar 2022   \n",
              "\n",
              "  Source (official or from the United Nations)  \n",
              "0                            UN projection[92]  \n",
              "1                 National annual estimate[93]  \n",
              "2                National population clock[94]  \n",
              "3                 National annual estimate[95]  \n",
              "4                            UN projection[96]  \n",
              "5                            UN projection[96]  \n",
              "6                National population clock[97]  \n",
              "7               Annual Population Estimate[98]  \n",
              "8          2021 preliminary census results[99]  \n",
              "9                                          NaN  "
            ],
            "text/html": [
              "\n",
              "  <div id=\"df-20165ec6-5a88-47c0-81b5-d0d82edbe61a\" class=\"colab-df-container\">\n",
              "    <div>\n",
              "<style scoped>\n",
              "    .dataframe tbody tr th:only-of-type {\n",
              "        vertical-align: middle;\n",
              "    }\n",
              "\n",
              "    .dataframe tbody tr th {\n",
              "        vertical-align: top;\n",
              "    }\n",
              "\n",
              "    .dataframe thead th {\n",
              "        text-align: right;\n",
              "    }\n",
              "</style>\n",
              "<table border=\"1\" class=\"dataframe\">\n",
              "  <thead>\n",
              "    <tr style=\"text-align: right;\">\n",
              "      <th></th>\n",
              "      <th>Rank</th>\n",
              "      <th>Country / Dependency</th>\n",
              "      <th>Population</th>\n",
              "      <th>Percentage of the world</th>\n",
              "      <th>Date</th>\n",
              "      <th>Source (official or from the United Nations)</th>\n",
              "    </tr>\n",
              "  </thead>\n",
              "  <tbody>\n",
              "    <tr>\n",
              "      <th>0</th>\n",
              "      <td>1</td>\n",
              "      <td>India</td>\n",
              "      <td>1425775850</td>\n",
              "      <td>17.7%</td>\n",
              "      <td>14 Apr 2023</td>\n",
              "      <td>UN projection[92]</td>\n",
              "    </tr>\n",
              "    <tr>\n",
              "      <th>1</th>\n",
              "      <td>2</td>\n",
              "      <td>China</td>\n",
              "      <td>1412600000</td>\n",
              "      <td>17.5%</td>\n",
              "      <td>31 Dec 2021</td>\n",
              "      <td>National annual estimate[93]</td>\n",
              "    </tr>\n",
              "    <tr>\n",
              "      <th>2</th>\n",
              "      <td>3</td>\n",
              "      <td>United States</td>\n",
              "      <td>335293884</td>\n",
              "      <td>4.16%</td>\n",
              "      <td>23 Aug 2023</td>\n",
              "      <td>National population clock[94]</td>\n",
              "    </tr>\n",
              "    <tr>\n",
              "      <th>3</th>\n",
              "      <td>4</td>\n",
              "      <td>Indonesia</td>\n",
              "      <td>275773800</td>\n",
              "      <td>3.42%</td>\n",
              "      <td>1 Jul 2022</td>\n",
              "      <td>National annual estimate[95]</td>\n",
              "    </tr>\n",
              "    <tr>\n",
              "      <th>4</th>\n",
              "      <td>5</td>\n",
              "      <td>Pakistan</td>\n",
              "      <td>229488994</td>\n",
              "      <td>2.85%</td>\n",
              "      <td>1 Jul 2022</td>\n",
              "      <td>UN projection[96]</td>\n",
              "    </tr>\n",
              "    <tr>\n",
              "      <th>5</th>\n",
              "      <td>6</td>\n",
              "      <td>Nigeria</td>\n",
              "      <td>216746934</td>\n",
              "      <td>2.69%</td>\n",
              "      <td>1 Jul 2022</td>\n",
              "      <td>UN projection[96]</td>\n",
              "    </tr>\n",
              "    <tr>\n",
              "      <th>6</th>\n",
              "      <td>7</td>\n",
              "      <td>Brazil</td>\n",
              "      <td>216558476</td>\n",
              "      <td>2.69%</td>\n",
              "      <td>23 Aug 2023</td>\n",
              "      <td>National population clock[97]</td>\n",
              "    </tr>\n",
              "    <tr>\n",
              "      <th>7</th>\n",
              "      <td>8</td>\n",
              "      <td>Bangladesh</td>\n",
              "      <td>168220000</td>\n",
              "      <td>2.09%</td>\n",
              "      <td>1 Jul 2020</td>\n",
              "      <td>Annual Population Estimate[98]</td>\n",
              "    </tr>\n",
              "    <tr>\n",
              "      <th>8</th>\n",
              "      <td>9</td>\n",
              "      <td>Russia</td>\n",
              "      <td>147190000</td>\n",
              "      <td>1.83%</td>\n",
              "      <td>1 Oct 2021</td>\n",
              "      <td>2021 preliminary census results[99]</td>\n",
              "    </tr>\n",
              "    <tr>\n",
              "      <th>9</th>\n",
              "      <td>10</td>\n",
              "      <td>Mexico</td>\n",
              "      <td>128271248</td>\n",
              "      <td>1.59%</td>\n",
              "      <td>31 Mar 2022</td>\n",
              "      <td>NaN</td>\n",
              "    </tr>\n",
              "  </tbody>\n",
              "</table>\n",
              "</div>\n",
              "    <div class=\"colab-df-buttons\">\n",
              "\n",
              "  <div class=\"colab-df-container\">\n",
              "    <button class=\"colab-df-convert\" onclick=\"convertToInteractive('df-20165ec6-5a88-47c0-81b5-d0d82edbe61a')\"\n",
              "            title=\"Convert this dataframe to an interactive table.\"\n",
              "            style=\"display:none;\">\n",
              "\n",
              "  <svg xmlns=\"http://www.w3.org/2000/svg\" height=\"24px\" viewBox=\"0 -960 960 960\">\n",
              "    <path d=\"M120-120v-720h720v720H120Zm60-500h600v-160H180v160Zm220 220h160v-160H400v160Zm0 220h160v-160H400v160ZM180-400h160v-160H180v160Zm440 0h160v-160H620v160ZM180-180h160v-160H180v160Zm440 0h160v-160H620v160Z\"/>\n",
              "  </svg>\n",
              "    </button>\n",
              "\n",
              "  <style>\n",
              "    .colab-df-container {\n",
              "      display:flex;\n",
              "      gap: 12px;\n",
              "    }\n",
              "\n",
              "    .colab-df-convert {\n",
              "      background-color: #E8F0FE;\n",
              "      border: none;\n",
              "      border-radius: 50%;\n",
              "      cursor: pointer;\n",
              "      display: none;\n",
              "      fill: #1967D2;\n",
              "      height: 32px;\n",
              "      padding: 0 0 0 0;\n",
              "      width: 32px;\n",
              "    }\n",
              "\n",
              "    .colab-df-convert:hover {\n",
              "      background-color: #E2EBFA;\n",
              "      box-shadow: 0px 1px 2px rgba(60, 64, 67, 0.3), 0px 1px 3px 1px rgba(60, 64, 67, 0.15);\n",
              "      fill: #174EA6;\n",
              "    }\n",
              "\n",
              "    .colab-df-buttons div {\n",
              "      margin-bottom: 4px;\n",
              "    }\n",
              "\n",
              "    [theme=dark] .colab-df-convert {\n",
              "      background-color: #3B4455;\n",
              "      fill: #D2E3FC;\n",
              "    }\n",
              "\n",
              "    [theme=dark] .colab-df-convert:hover {\n",
              "      background-color: #434B5C;\n",
              "      box-shadow: 0px 1px 3px 1px rgba(0, 0, 0, 0.15);\n",
              "      filter: drop-shadow(0px 1px 2px rgba(0, 0, 0, 0.3));\n",
              "      fill: #FFFFFF;\n",
              "    }\n",
              "  </style>\n",
              "\n",
              "    <script>\n",
              "      const buttonEl =\n",
              "        document.querySelector('#df-20165ec6-5a88-47c0-81b5-d0d82edbe61a button.colab-df-convert');\n",
              "      buttonEl.style.display =\n",
              "        google.colab.kernel.accessAllowed ? 'block' : 'none';\n",
              "\n",
              "      async function convertToInteractive(key) {\n",
              "        const element = document.querySelector('#df-20165ec6-5a88-47c0-81b5-d0d82edbe61a');\n",
              "        const dataTable =\n",
              "          await google.colab.kernel.invokeFunction('convertToInteractive',\n",
              "                                                    [key], {});\n",
              "        if (!dataTable) return;\n",
              "\n",
              "        const docLinkHtml = 'Like what you see? Visit the ' +\n",
              "          '<a target=\"_blank\" href=https://colab.research.google.com/notebooks/data_table.ipynb>data table notebook</a>'\n",
              "          + ' to learn more about interactive tables.';\n",
              "        element.innerHTML = '';\n",
              "        dataTable['output_type'] = 'display_data';\n",
              "        await google.colab.output.renderOutput(dataTable, element);\n",
              "        const docLink = document.createElement('div');\n",
              "        docLink.innerHTML = docLinkHtml;\n",
              "        element.appendChild(docLink);\n",
              "      }\n",
              "    </script>\n",
              "  </div>\n",
              "\n",
              "\n",
              "<div id=\"df-a921d580-7cd0-477e-a9cb-4b96fba22f59\">\n",
              "  <button class=\"colab-df-quickchart\" onclick=\"quickchart('df-a921d580-7cd0-477e-a9cb-4b96fba22f59')\"\n",
              "            title=\"Suggest charts.\"\n",
              "            style=\"display:none;\">\n",
              "\n",
              "<svg xmlns=\"http://www.w3.org/2000/svg\" height=\"24px\"viewBox=\"0 0 24 24\"\n",
              "     width=\"24px\">\n",
              "    <g>\n",
              "        <path d=\"M19 3H5c-1.1 0-2 .9-2 2v14c0 1.1.9 2 2 2h14c1.1 0 2-.9 2-2V5c0-1.1-.9-2-2-2zM9 17H7v-7h2v7zm4 0h-2V7h2v10zm4 0h-2v-4h2v4z\"/>\n",
              "    </g>\n",
              "</svg>\n",
              "  </button>\n",
              "\n",
              "<style>\n",
              "  .colab-df-quickchart {\n",
              "    background-color: #E8F0FE;\n",
              "    border: none;\n",
              "    border-radius: 50%;\n",
              "    cursor: pointer;\n",
              "    display: none;\n",
              "    fill: #1967D2;\n",
              "    height: 32px;\n",
              "    padding: 0 0 0 0;\n",
              "    width: 32px;\n",
              "  }\n",
              "\n",
              "  .colab-df-quickchart:hover {\n",
              "    background-color: #E2EBFA;\n",
              "    box-shadow: 0px 1px 2px rgba(60, 64, 67, 0.3), 0px 1px 3px 1px rgba(60, 64, 67, 0.15);\n",
              "    fill: #174EA6;\n",
              "  }\n",
              "\n",
              "  [theme=dark] .colab-df-quickchart {\n",
              "    background-color: #3B4455;\n",
              "    fill: #D2E3FC;\n",
              "  }\n",
              "\n",
              "  [theme=dark] .colab-df-quickchart:hover {\n",
              "    background-color: #434B5C;\n",
              "    box-shadow: 0px 1px 3px 1px rgba(0, 0, 0, 0.15);\n",
              "    filter: drop-shadow(0px 1px 2px rgba(0, 0, 0, 0.3));\n",
              "    fill: #FFFFFF;\n",
              "  }\n",
              "</style>\n",
              "\n",
              "  <script>\n",
              "    async function quickchart(key) {\n",
              "      const charts = await google.colab.kernel.invokeFunction(\n",
              "          'suggestCharts', [key], {});\n",
              "    }\n",
              "    (() => {\n",
              "      let quickchartButtonEl =\n",
              "        document.querySelector('#df-a921d580-7cd0-477e-a9cb-4b96fba22f59 button');\n",
              "      quickchartButtonEl.style.display =\n",
              "        google.colab.kernel.accessAllowed ? 'block' : 'none';\n",
              "    })();\n",
              "  </script>\n",
              "</div>\n",
              "    </div>\n",
              "  </div>\n"
            ]
          },
          "metadata": {},
          "execution_count": 167
        }
      ]
    },
    {
      "cell_type": "markdown",
      "source": [
        "Scrape data from HTML tables into a DataFrame using read_html"
      ],
      "metadata": {
        "id": "1igg85GObGyF"
      }
    },
    {
      "cell_type": "code",
      "source": [
        "dataframe_list = pd.read_html(url, flavor='bs4')"
      ],
      "metadata": {
        "id": "IbrF2M2zZLhD"
      },
      "execution_count": 168,
      "outputs": []
    },
    {
      "cell_type": "code",
      "source": [
        "len(dataframe_list)"
      ],
      "metadata": {
        "id": "_tc3kVS_Zpru",
        "colab": {
          "base_uri": "https://localhost:8080/"
        },
        "outputId": "95fe99a8-af8a-4efd-f9e8-beda792de15c"
      },
      "execution_count": 169,
      "outputs": [
        {
          "output_type": "execute_result",
          "data": {
            "text/plain": [
              "26"
            ]
          },
          "metadata": {},
          "execution_count": 169
        }
      ]
    },
    {
      "cell_type": "code",
      "source": [
        "dataframe_list[5]"
      ],
      "metadata": {
        "id": "0AqTgxJiZtST",
        "colab": {
          "base_uri": "https://localhost:8080/",
          "height": 1000
        },
        "outputId": "0b96d877-5f47-4199-e166-2be23c5deb89"
      },
      "execution_count": 170,
      "outputs": [
        {
          "output_type": "execute_result",
          "data": {
            "text/plain": [
              "                                                             #  \\\n",
              "   Graphs are temporarily unavailable due to technical issues.   \n",
              "   Graphs are temporarily unavailable due to technical issues.   \n",
              "   Graphs are temporarily unavailable due to technical issues.   \n",
              "   Graphs are temporarily unavailable due to technical issues.   \n",
              "   Graphs are temporarily unavailable due to technical issues.   \n",
              "   Graphs are temporarily unavailable due to technical issues.   \n",
              "   Graphs are temporarily unavailable due to technical issues.   \n",
              "   Graphs are temporarily unavailable due to technical issues.   \n",
              "   Graphs are temporarily unavailable due to technical issues.   \n",
              "   Graphs are temporarily unavailable due to technical issues.   \n",
              "   Graphs are temporarily unavailable due to technical issues.   \n",
              "0                                                 NaN            \n",
              "1                                                   1            \n",
              "2                                                   2            \n",
              "3                                                   3            \n",
              "4                                                   4            \n",
              "5                                                   5            \n",
              "6                                                   6            \n",
              "7                                                   7            \n",
              "8                                                   8            \n",
              "9                                                   9            \n",
              "10                                                 10            \n",
              "11                                                NaN            \n",
              "12  Notes: .mw-parser-output .reflist{font-size:90...            \n",
              "\n",
              "                              Most populous countries  \\\n",
              "                                   Unnamed: 1_level_1   \n",
              "                                   Unnamed: 1_level_2   \n",
              "                                   Unnamed: 1_level_3   \n",
              "                                   Unnamed: 1_level_4   \n",
              "                                   Unnamed: 1_level_5   \n",
              "                                   Unnamed: 1_level_6   \n",
              "                                   Unnamed: 1_level_7   \n",
              "                                   Unnamed: 1_level_8   \n",
              "                                   Unnamed: 1_level_9   \n",
              "                                  Unnamed: 1_level_10   \n",
              "                                  Unnamed: 1_level_11   \n",
              "0   Graphs are temporarily unavailable due to tech...   \n",
              "1                                            China[B]   \n",
              "2                                               India   \n",
              "3                                       United States   \n",
              "4                                           Indonesia   \n",
              "5                                            Pakistan   \n",
              "6                                              Brazil   \n",
              "7                                             Nigeria   \n",
              "8                                          Bangladesh   \n",
              "9                                              Russia   \n",
              "10                                             Mexico   \n",
              "11                                        World total   \n",
              "12  Notes: .mw-parser-output .reflist{font-size:90...   \n",
              "\n",
              "                                                 2000  \\\n",
              "                                   Unnamed: 2_level_1   \n",
              "                                   Unnamed: 2_level_2   \n",
              "                                   Unnamed: 2_level_3   \n",
              "                                   Unnamed: 2_level_4   \n",
              "                                   Unnamed: 2_level_5   \n",
              "                                   Unnamed: 2_level_6   \n",
              "                                   Unnamed: 2_level_7   \n",
              "                                   Unnamed: 2_level_8   \n",
              "                                   Unnamed: 2_level_9   \n",
              "                                  Unnamed: 2_level_10   \n",
              "                                  Unnamed: 2_level_11   \n",
              "0                                                 NaN   \n",
              "1                                                1270   \n",
              "2                                                1053   \n",
              "3                                                 283   \n",
              "4                                                 212   \n",
              "5                                                 136   \n",
              "6                                                 176   \n",
              "7                                                 123   \n",
              "8                                                 131   \n",
              "9                                                 146   \n",
              "10                                                103   \n",
              "11                                               6127   \n",
              "12  Notes: .mw-parser-output .reflist{font-size:90...   \n",
              "\n",
              "                                                 2015  \\\n",
              "                                   Unnamed: 3_level_1   \n",
              "                                   Unnamed: 3_level_2   \n",
              "                                   Unnamed: 3_level_3   \n",
              "                                   Unnamed: 3_level_4   \n",
              "                                   Unnamed: 3_level_5   \n",
              "                                   Unnamed: 3_level_6   \n",
              "                                   Unnamed: 3_level_7   \n",
              "                                   Unnamed: 3_level_8   \n",
              "                                   Unnamed: 3_level_9   \n",
              "                                  Unnamed: 3_level_10   \n",
              "                                  Unnamed: 3_level_11   \n",
              "0                                                 NaN   \n",
              "1                                                1376   \n",
              "2                                                1311   \n",
              "3                                                 322   \n",
              "4                                                 258   \n",
              "5                                                 208   \n",
              "6                                                 206   \n",
              "7                                                 182   \n",
              "8                                                 161   \n",
              "9                                                 146   \n",
              "10                                                127   \n",
              "11                                               7349   \n",
              "12  Notes: .mw-parser-output .reflist{font-size:90...   \n",
              "\n",
              "                                              2030[A]  \\\n",
              "                                   Unnamed: 4_level_1   \n",
              "                                   Unnamed: 4_level_2   \n",
              "                                   Unnamed: 4_level_3   \n",
              "                                   Unnamed: 4_level_4   \n",
              "                                   Unnamed: 4_level_5   \n",
              "                                   Unnamed: 4_level_6   \n",
              "                                   Unnamed: 4_level_7   \n",
              "                                   Unnamed: 4_level_8   \n",
              "                                   Unnamed: 4_level_9   \n",
              "                                  Unnamed: 4_level_10   \n",
              "                                  Unnamed: 4_level_11   \n",
              "0                                                 NaN   \n",
              "1                                                1416   \n",
              "2                                                1528   \n",
              "3                                                 356   \n",
              "4                                                 295   \n",
              "5                                                 245   \n",
              "6                                                 228   \n",
              "7                                                 263   \n",
              "8                                                 186   \n",
              "9                                                 149   \n",
              "10                                                148   \n",
              "11                                               8501   \n",
              "12  Notes: .mw-parser-output .reflist{font-size:90...   \n",
              "\n",
              "   Graphs are temporarily unavailable due to technical issues.  \n",
              "                                            Unnamed: 5_level_1  \n",
              "                                            Unnamed: 5_level_2  \n",
              "                                            Unnamed: 5_level_3  \n",
              "                                            Unnamed: 5_level_4  \n",
              "                                            Unnamed: 5_level_5  \n",
              "                                            Unnamed: 5_level_6  \n",
              "                                            Unnamed: 5_level_7  \n",
              "                                            Unnamed: 5_level_8  \n",
              "                                            Unnamed: 5_level_9  \n",
              "                                           Unnamed: 5_level_10  \n",
              "                                           Unnamed: 5_level_11  \n",
              "0                                                 NaN           \n",
              "1                                                 NaN           \n",
              "2                                                 NaN           \n",
              "3                                                 NaN           \n",
              "4                                                 NaN           \n",
              "5                                                 NaN           \n",
              "6                                                 NaN           \n",
              "7                                                 NaN           \n",
              "8                                                 NaN           \n",
              "9                                                 NaN           \n",
              "10                                                NaN           \n",
              "11                                                NaN           \n",
              "12  Notes: .mw-parser-output .reflist{font-size:90...           "
            ],
            "text/html": [
              "\n",
              "  <div id=\"df-2ded8ce8-089e-45cb-acdb-d98968f2825a\" class=\"colab-df-container\">\n",
              "    <div>\n",
              "<style scoped>\n",
              "    .dataframe tbody tr th:only-of-type {\n",
              "        vertical-align: middle;\n",
              "    }\n",
              "\n",
              "    .dataframe tbody tr th {\n",
              "        vertical-align: top;\n",
              "    }\n",
              "\n",
              "    .dataframe thead tr th {\n",
              "        text-align: left;\n",
              "    }\n",
              "</style>\n",
              "<table border=\"1\" class=\"dataframe\">\n",
              "  <thead>\n",
              "    <tr>\n",
              "      <th></th>\n",
              "      <th>#</th>\n",
              "      <th>Most populous countries</th>\n",
              "      <th>2000</th>\n",
              "      <th>2015</th>\n",
              "      <th>2030[A]</th>\n",
              "      <th>Graphs are temporarily unavailable due to technical issues.</th>\n",
              "    </tr>\n",
              "    <tr>\n",
              "      <th></th>\n",
              "      <th>Graphs are temporarily unavailable due to technical issues.</th>\n",
              "      <th>Unnamed: 1_level_1</th>\n",
              "      <th>Unnamed: 2_level_1</th>\n",
              "      <th>Unnamed: 3_level_1</th>\n",
              "      <th>Unnamed: 4_level_1</th>\n",
              "      <th>Unnamed: 5_level_1</th>\n",
              "    </tr>\n",
              "    <tr>\n",
              "      <th></th>\n",
              "      <th>Graphs are temporarily unavailable due to technical issues.</th>\n",
              "      <th>Unnamed: 1_level_2</th>\n",
              "      <th>Unnamed: 2_level_2</th>\n",
              "      <th>Unnamed: 3_level_2</th>\n",
              "      <th>Unnamed: 4_level_2</th>\n",
              "      <th>Unnamed: 5_level_2</th>\n",
              "    </tr>\n",
              "    <tr>\n",
              "      <th></th>\n",
              "      <th>Graphs are temporarily unavailable due to technical issues.</th>\n",
              "      <th>Unnamed: 1_level_3</th>\n",
              "      <th>Unnamed: 2_level_3</th>\n",
              "      <th>Unnamed: 3_level_3</th>\n",
              "      <th>Unnamed: 4_level_3</th>\n",
              "      <th>Unnamed: 5_level_3</th>\n",
              "    </tr>\n",
              "    <tr>\n",
              "      <th></th>\n",
              "      <th>Graphs are temporarily unavailable due to technical issues.</th>\n",
              "      <th>Unnamed: 1_level_4</th>\n",
              "      <th>Unnamed: 2_level_4</th>\n",
              "      <th>Unnamed: 3_level_4</th>\n",
              "      <th>Unnamed: 4_level_4</th>\n",
              "      <th>Unnamed: 5_level_4</th>\n",
              "    </tr>\n",
              "    <tr>\n",
              "      <th></th>\n",
              "      <th>Graphs are temporarily unavailable due to technical issues.</th>\n",
              "      <th>Unnamed: 1_level_5</th>\n",
              "      <th>Unnamed: 2_level_5</th>\n",
              "      <th>Unnamed: 3_level_5</th>\n",
              "      <th>Unnamed: 4_level_5</th>\n",
              "      <th>Unnamed: 5_level_5</th>\n",
              "    </tr>\n",
              "    <tr>\n",
              "      <th></th>\n",
              "      <th>Graphs are temporarily unavailable due to technical issues.</th>\n",
              "      <th>Unnamed: 1_level_6</th>\n",
              "      <th>Unnamed: 2_level_6</th>\n",
              "      <th>Unnamed: 3_level_6</th>\n",
              "      <th>Unnamed: 4_level_6</th>\n",
              "      <th>Unnamed: 5_level_6</th>\n",
              "    </tr>\n",
              "    <tr>\n",
              "      <th></th>\n",
              "      <th>Graphs are temporarily unavailable due to technical issues.</th>\n",
              "      <th>Unnamed: 1_level_7</th>\n",
              "      <th>Unnamed: 2_level_7</th>\n",
              "      <th>Unnamed: 3_level_7</th>\n",
              "      <th>Unnamed: 4_level_7</th>\n",
              "      <th>Unnamed: 5_level_7</th>\n",
              "    </tr>\n",
              "    <tr>\n",
              "      <th></th>\n",
              "      <th>Graphs are temporarily unavailable due to technical issues.</th>\n",
              "      <th>Unnamed: 1_level_8</th>\n",
              "      <th>Unnamed: 2_level_8</th>\n",
              "      <th>Unnamed: 3_level_8</th>\n",
              "      <th>Unnamed: 4_level_8</th>\n",
              "      <th>Unnamed: 5_level_8</th>\n",
              "    </tr>\n",
              "    <tr>\n",
              "      <th></th>\n",
              "      <th>Graphs are temporarily unavailable due to technical issues.</th>\n",
              "      <th>Unnamed: 1_level_9</th>\n",
              "      <th>Unnamed: 2_level_9</th>\n",
              "      <th>Unnamed: 3_level_9</th>\n",
              "      <th>Unnamed: 4_level_9</th>\n",
              "      <th>Unnamed: 5_level_9</th>\n",
              "    </tr>\n",
              "    <tr>\n",
              "      <th></th>\n",
              "      <th>Graphs are temporarily unavailable due to technical issues.</th>\n",
              "      <th>Unnamed: 1_level_10</th>\n",
              "      <th>Unnamed: 2_level_10</th>\n",
              "      <th>Unnamed: 3_level_10</th>\n",
              "      <th>Unnamed: 4_level_10</th>\n",
              "      <th>Unnamed: 5_level_10</th>\n",
              "    </tr>\n",
              "    <tr>\n",
              "      <th></th>\n",
              "      <th>Graphs are temporarily unavailable due to technical issues.</th>\n",
              "      <th>Unnamed: 1_level_11</th>\n",
              "      <th>Unnamed: 2_level_11</th>\n",
              "      <th>Unnamed: 3_level_11</th>\n",
              "      <th>Unnamed: 4_level_11</th>\n",
              "      <th>Unnamed: 5_level_11</th>\n",
              "    </tr>\n",
              "  </thead>\n",
              "  <tbody>\n",
              "    <tr>\n",
              "      <th>0</th>\n",
              "      <td>NaN</td>\n",
              "      <td>Graphs are temporarily unavailable due to tech...</td>\n",
              "      <td>NaN</td>\n",
              "      <td>NaN</td>\n",
              "      <td>NaN</td>\n",
              "      <td>NaN</td>\n",
              "    </tr>\n",
              "    <tr>\n",
              "      <th>1</th>\n",
              "      <td>1</td>\n",
              "      <td>China[B]</td>\n",
              "      <td>1270</td>\n",
              "      <td>1376</td>\n",
              "      <td>1416</td>\n",
              "      <td>NaN</td>\n",
              "    </tr>\n",
              "    <tr>\n",
              "      <th>2</th>\n",
              "      <td>2</td>\n",
              "      <td>India</td>\n",
              "      <td>1053</td>\n",
              "      <td>1311</td>\n",
              "      <td>1528</td>\n",
              "      <td>NaN</td>\n",
              "    </tr>\n",
              "    <tr>\n",
              "      <th>3</th>\n",
              "      <td>3</td>\n",
              "      <td>United States</td>\n",
              "      <td>283</td>\n",
              "      <td>322</td>\n",
              "      <td>356</td>\n",
              "      <td>NaN</td>\n",
              "    </tr>\n",
              "    <tr>\n",
              "      <th>4</th>\n",
              "      <td>4</td>\n",
              "      <td>Indonesia</td>\n",
              "      <td>212</td>\n",
              "      <td>258</td>\n",
              "      <td>295</td>\n",
              "      <td>NaN</td>\n",
              "    </tr>\n",
              "    <tr>\n",
              "      <th>5</th>\n",
              "      <td>5</td>\n",
              "      <td>Pakistan</td>\n",
              "      <td>136</td>\n",
              "      <td>208</td>\n",
              "      <td>245</td>\n",
              "      <td>NaN</td>\n",
              "    </tr>\n",
              "    <tr>\n",
              "      <th>6</th>\n",
              "      <td>6</td>\n",
              "      <td>Brazil</td>\n",
              "      <td>176</td>\n",
              "      <td>206</td>\n",
              "      <td>228</td>\n",
              "      <td>NaN</td>\n",
              "    </tr>\n",
              "    <tr>\n",
              "      <th>7</th>\n",
              "      <td>7</td>\n",
              "      <td>Nigeria</td>\n",
              "      <td>123</td>\n",
              "      <td>182</td>\n",
              "      <td>263</td>\n",
              "      <td>NaN</td>\n",
              "    </tr>\n",
              "    <tr>\n",
              "      <th>8</th>\n",
              "      <td>8</td>\n",
              "      <td>Bangladesh</td>\n",
              "      <td>131</td>\n",
              "      <td>161</td>\n",
              "      <td>186</td>\n",
              "      <td>NaN</td>\n",
              "    </tr>\n",
              "    <tr>\n",
              "      <th>9</th>\n",
              "      <td>9</td>\n",
              "      <td>Russia</td>\n",
              "      <td>146</td>\n",
              "      <td>146</td>\n",
              "      <td>149</td>\n",
              "      <td>NaN</td>\n",
              "    </tr>\n",
              "    <tr>\n",
              "      <th>10</th>\n",
              "      <td>10</td>\n",
              "      <td>Mexico</td>\n",
              "      <td>103</td>\n",
              "      <td>127</td>\n",
              "      <td>148</td>\n",
              "      <td>NaN</td>\n",
              "    </tr>\n",
              "    <tr>\n",
              "      <th>11</th>\n",
              "      <td>NaN</td>\n",
              "      <td>World total</td>\n",
              "      <td>6127</td>\n",
              "      <td>7349</td>\n",
              "      <td>8501</td>\n",
              "      <td>NaN</td>\n",
              "    </tr>\n",
              "    <tr>\n",
              "      <th>12</th>\n",
              "      <td>Notes: .mw-parser-output .reflist{font-size:90...</td>\n",
              "      <td>Notes: .mw-parser-output .reflist{font-size:90...</td>\n",
              "      <td>Notes: .mw-parser-output .reflist{font-size:90...</td>\n",
              "      <td>Notes: .mw-parser-output .reflist{font-size:90...</td>\n",
              "      <td>Notes: .mw-parser-output .reflist{font-size:90...</td>\n",
              "      <td>Notes: .mw-parser-output .reflist{font-size:90...</td>\n",
              "    </tr>\n",
              "  </tbody>\n",
              "</table>\n",
              "</div>\n",
              "    <div class=\"colab-df-buttons\">\n",
              "\n",
              "  <div class=\"colab-df-container\">\n",
              "    <button class=\"colab-df-convert\" onclick=\"convertToInteractive('df-2ded8ce8-089e-45cb-acdb-d98968f2825a')\"\n",
              "            title=\"Convert this dataframe to an interactive table.\"\n",
              "            style=\"display:none;\">\n",
              "\n",
              "  <svg xmlns=\"http://www.w3.org/2000/svg\" height=\"24px\" viewBox=\"0 -960 960 960\">\n",
              "    <path d=\"M120-120v-720h720v720H120Zm60-500h600v-160H180v160Zm220 220h160v-160H400v160Zm0 220h160v-160H400v160ZM180-400h160v-160H180v160Zm440 0h160v-160H620v160ZM180-180h160v-160H180v160Zm440 0h160v-160H620v160Z\"/>\n",
              "  </svg>\n",
              "    </button>\n",
              "\n",
              "  <style>\n",
              "    .colab-df-container {\n",
              "      display:flex;\n",
              "      gap: 12px;\n",
              "    }\n",
              "\n",
              "    .colab-df-convert {\n",
              "      background-color: #E8F0FE;\n",
              "      border: none;\n",
              "      border-radius: 50%;\n",
              "      cursor: pointer;\n",
              "      display: none;\n",
              "      fill: #1967D2;\n",
              "      height: 32px;\n",
              "      padding: 0 0 0 0;\n",
              "      width: 32px;\n",
              "    }\n",
              "\n",
              "    .colab-df-convert:hover {\n",
              "      background-color: #E2EBFA;\n",
              "      box-shadow: 0px 1px 2px rgba(60, 64, 67, 0.3), 0px 1px 3px 1px rgba(60, 64, 67, 0.15);\n",
              "      fill: #174EA6;\n",
              "    }\n",
              "\n",
              "    .colab-df-buttons div {\n",
              "      margin-bottom: 4px;\n",
              "    }\n",
              "\n",
              "    [theme=dark] .colab-df-convert {\n",
              "      background-color: #3B4455;\n",
              "      fill: #D2E3FC;\n",
              "    }\n",
              "\n",
              "    [theme=dark] .colab-df-convert:hover {\n",
              "      background-color: #434B5C;\n",
              "      box-shadow: 0px 1px 3px 1px rgba(0, 0, 0, 0.15);\n",
              "      filter: drop-shadow(0px 1px 2px rgba(0, 0, 0, 0.3));\n",
              "      fill: #FFFFFF;\n",
              "    }\n",
              "  </style>\n",
              "\n",
              "    <script>\n",
              "      const buttonEl =\n",
              "        document.querySelector('#df-2ded8ce8-089e-45cb-acdb-d98968f2825a button.colab-df-convert');\n",
              "      buttonEl.style.display =\n",
              "        google.colab.kernel.accessAllowed ? 'block' : 'none';\n",
              "\n",
              "      async function convertToInteractive(key) {\n",
              "        const element = document.querySelector('#df-2ded8ce8-089e-45cb-acdb-d98968f2825a');\n",
              "        const dataTable =\n",
              "          await google.colab.kernel.invokeFunction('convertToInteractive',\n",
              "                                                    [key], {});\n",
              "        if (!dataTable) return;\n",
              "\n",
              "        const docLinkHtml = 'Like what you see? Visit the ' +\n",
              "          '<a target=\"_blank\" href=https://colab.research.google.com/notebooks/data_table.ipynb>data table notebook</a>'\n",
              "          + ' to learn more about interactive tables.';\n",
              "        element.innerHTML = '';\n",
              "        dataTable['output_type'] = 'display_data';\n",
              "        await google.colab.output.renderOutput(dataTable, element);\n",
              "        const docLink = document.createElement('div');\n",
              "        docLink.innerHTML = docLinkHtml;\n",
              "        element.appendChild(docLink);\n",
              "      }\n",
              "    </script>\n",
              "  </div>\n",
              "\n",
              "\n",
              "<div id=\"df-6ac7d6fc-3f92-4b99-9d59-c6cef5f09c7c\">\n",
              "  <button class=\"colab-df-quickchart\" onclick=\"quickchart('df-6ac7d6fc-3f92-4b99-9d59-c6cef5f09c7c')\"\n",
              "            title=\"Suggest charts.\"\n",
              "            style=\"display:none;\">\n",
              "\n",
              "<svg xmlns=\"http://www.w3.org/2000/svg\" height=\"24px\"viewBox=\"0 0 24 24\"\n",
              "     width=\"24px\">\n",
              "    <g>\n",
              "        <path d=\"M19 3H5c-1.1 0-2 .9-2 2v14c0 1.1.9 2 2 2h14c1.1 0 2-.9 2-2V5c0-1.1-.9-2-2-2zM9 17H7v-7h2v7zm4 0h-2V7h2v10zm4 0h-2v-4h2v4z\"/>\n",
              "    </g>\n",
              "</svg>\n",
              "  </button>\n",
              "\n",
              "<style>\n",
              "  .colab-df-quickchart {\n",
              "    background-color: #E8F0FE;\n",
              "    border: none;\n",
              "    border-radius: 50%;\n",
              "    cursor: pointer;\n",
              "    display: none;\n",
              "    fill: #1967D2;\n",
              "    height: 32px;\n",
              "    padding: 0 0 0 0;\n",
              "    width: 32px;\n",
              "  }\n",
              "\n",
              "  .colab-df-quickchart:hover {\n",
              "    background-color: #E2EBFA;\n",
              "    box-shadow: 0px 1px 2px rgba(60, 64, 67, 0.3), 0px 1px 3px 1px rgba(60, 64, 67, 0.15);\n",
              "    fill: #174EA6;\n",
              "  }\n",
              "\n",
              "  [theme=dark] .colab-df-quickchart {\n",
              "    background-color: #3B4455;\n",
              "    fill: #D2E3FC;\n",
              "  }\n",
              "\n",
              "  [theme=dark] .colab-df-quickchart:hover {\n",
              "    background-color: #434B5C;\n",
              "    box-shadow: 0px 1px 3px 1px rgba(0, 0, 0, 0.15);\n",
              "    filter: drop-shadow(0px 1px 2px rgba(0, 0, 0, 0.3));\n",
              "    fill: #FFFFFF;\n",
              "  }\n",
              "</style>\n",
              "\n",
              "  <script>\n",
              "    async function quickchart(key) {\n",
              "      const charts = await google.colab.kernel.invokeFunction(\n",
              "          'suggestCharts', [key], {});\n",
              "    }\n",
              "    (() => {\n",
              "      let quickchartButtonEl =\n",
              "        document.querySelector('#df-6ac7d6fc-3f92-4b99-9d59-c6cef5f09c7c button');\n",
              "      quickchartButtonEl.style.display =\n",
              "        google.colab.kernel.accessAllowed ? 'block' : 'none';\n",
              "    })();\n",
              "  </script>\n",
              "</div>\n",
              "    </div>\n",
              "  </div>\n"
            ]
          },
          "metadata": {},
          "execution_count": 170
        }
      ]
    },
    {
      "cell_type": "code",
      "source": [
        "#We can also use the match parameter to select the specific table we want. If the table contains a string matching the text it will be read.\n",
        "pd.read_html(url, match=\"10 most densely populated countries\", flavor='bs4')[0]"
      ],
      "metadata": {
        "id": "wXY4Z7sAbQPQ",
        "colab": {
          "base_uri": "https://localhost:8080/",
          "height": 363
        },
        "outputId": "63157e60-1378-4ff4-de9b-7095a8ec11c6"
      },
      "execution_count": 171,
      "outputs": [
        {
          "output_type": "execute_result",
          "data": {
            "text/plain": [
              "   Rank                 Country  Population  Area (km2)  Density (pop/km2)\n",
              "0     1               Singapore     5921231         719               8235\n",
              "1     2              Bangladesh   165650475      148460               1116\n",
              "2     3  Palestine[note 3][103]     5223000        6025                867\n",
              "3     4          Taiwan[note 4]    23580712       35980                655\n",
              "4     5             South Korea    51844834       99720                520\n",
              "5     6                 Lebanon     5296814       10400                509\n",
              "6     7                  Rwanda    13173730       26338                500\n",
              "7     8                 Burundi    12696478       27830                456\n",
              "8     9                   India  1389637446     3287263                423\n",
              "9    10             Netherlands    17400824       41543                419"
            ],
            "text/html": [
              "\n",
              "  <div id=\"df-3b7aa0b9-1b17-43ef-b63d-91c963cb08c5\" class=\"colab-df-container\">\n",
              "    <div>\n",
              "<style scoped>\n",
              "    .dataframe tbody tr th:only-of-type {\n",
              "        vertical-align: middle;\n",
              "    }\n",
              "\n",
              "    .dataframe tbody tr th {\n",
              "        vertical-align: top;\n",
              "    }\n",
              "\n",
              "    .dataframe thead th {\n",
              "        text-align: right;\n",
              "    }\n",
              "</style>\n",
              "<table border=\"1\" class=\"dataframe\">\n",
              "  <thead>\n",
              "    <tr style=\"text-align: right;\">\n",
              "      <th></th>\n",
              "      <th>Rank</th>\n",
              "      <th>Country</th>\n",
              "      <th>Population</th>\n",
              "      <th>Area (km2)</th>\n",
              "      <th>Density (pop/km2)</th>\n",
              "    </tr>\n",
              "  </thead>\n",
              "  <tbody>\n",
              "    <tr>\n",
              "      <th>0</th>\n",
              "      <td>1</td>\n",
              "      <td>Singapore</td>\n",
              "      <td>5921231</td>\n",
              "      <td>719</td>\n",
              "      <td>8235</td>\n",
              "    </tr>\n",
              "    <tr>\n",
              "      <th>1</th>\n",
              "      <td>2</td>\n",
              "      <td>Bangladesh</td>\n",
              "      <td>165650475</td>\n",
              "      <td>148460</td>\n",
              "      <td>1116</td>\n",
              "    </tr>\n",
              "    <tr>\n",
              "      <th>2</th>\n",
              "      <td>3</td>\n",
              "      <td>Palestine[note 3][103]</td>\n",
              "      <td>5223000</td>\n",
              "      <td>6025</td>\n",
              "      <td>867</td>\n",
              "    </tr>\n",
              "    <tr>\n",
              "      <th>3</th>\n",
              "      <td>4</td>\n",
              "      <td>Taiwan[note 4]</td>\n",
              "      <td>23580712</td>\n",
              "      <td>35980</td>\n",
              "      <td>655</td>\n",
              "    </tr>\n",
              "    <tr>\n",
              "      <th>4</th>\n",
              "      <td>5</td>\n",
              "      <td>South Korea</td>\n",
              "      <td>51844834</td>\n",
              "      <td>99720</td>\n",
              "      <td>520</td>\n",
              "    </tr>\n",
              "    <tr>\n",
              "      <th>5</th>\n",
              "      <td>6</td>\n",
              "      <td>Lebanon</td>\n",
              "      <td>5296814</td>\n",
              "      <td>10400</td>\n",
              "      <td>509</td>\n",
              "    </tr>\n",
              "    <tr>\n",
              "      <th>6</th>\n",
              "      <td>7</td>\n",
              "      <td>Rwanda</td>\n",
              "      <td>13173730</td>\n",
              "      <td>26338</td>\n",
              "      <td>500</td>\n",
              "    </tr>\n",
              "    <tr>\n",
              "      <th>7</th>\n",
              "      <td>8</td>\n",
              "      <td>Burundi</td>\n",
              "      <td>12696478</td>\n",
              "      <td>27830</td>\n",
              "      <td>456</td>\n",
              "    </tr>\n",
              "    <tr>\n",
              "      <th>8</th>\n",
              "      <td>9</td>\n",
              "      <td>India</td>\n",
              "      <td>1389637446</td>\n",
              "      <td>3287263</td>\n",
              "      <td>423</td>\n",
              "    </tr>\n",
              "    <tr>\n",
              "      <th>9</th>\n",
              "      <td>10</td>\n",
              "      <td>Netherlands</td>\n",
              "      <td>17400824</td>\n",
              "      <td>41543</td>\n",
              "      <td>419</td>\n",
              "    </tr>\n",
              "  </tbody>\n",
              "</table>\n",
              "</div>\n",
              "    <div class=\"colab-df-buttons\">\n",
              "\n",
              "  <div class=\"colab-df-container\">\n",
              "    <button class=\"colab-df-convert\" onclick=\"convertToInteractive('df-3b7aa0b9-1b17-43ef-b63d-91c963cb08c5')\"\n",
              "            title=\"Convert this dataframe to an interactive table.\"\n",
              "            style=\"display:none;\">\n",
              "\n",
              "  <svg xmlns=\"http://www.w3.org/2000/svg\" height=\"24px\" viewBox=\"0 -960 960 960\">\n",
              "    <path d=\"M120-120v-720h720v720H120Zm60-500h600v-160H180v160Zm220 220h160v-160H400v160Zm0 220h160v-160H400v160ZM180-400h160v-160H180v160Zm440 0h160v-160H620v160ZM180-180h160v-160H180v160Zm440 0h160v-160H620v160Z\"/>\n",
              "  </svg>\n",
              "    </button>\n",
              "\n",
              "  <style>\n",
              "    .colab-df-container {\n",
              "      display:flex;\n",
              "      gap: 12px;\n",
              "    }\n",
              "\n",
              "    .colab-df-convert {\n",
              "      background-color: #E8F0FE;\n",
              "      border: none;\n",
              "      border-radius: 50%;\n",
              "      cursor: pointer;\n",
              "      display: none;\n",
              "      fill: #1967D2;\n",
              "      height: 32px;\n",
              "      padding: 0 0 0 0;\n",
              "      width: 32px;\n",
              "    }\n",
              "\n",
              "    .colab-df-convert:hover {\n",
              "      background-color: #E2EBFA;\n",
              "      box-shadow: 0px 1px 2px rgba(60, 64, 67, 0.3), 0px 1px 3px 1px rgba(60, 64, 67, 0.15);\n",
              "      fill: #174EA6;\n",
              "    }\n",
              "\n",
              "    .colab-df-buttons div {\n",
              "      margin-bottom: 4px;\n",
              "    }\n",
              "\n",
              "    [theme=dark] .colab-df-convert {\n",
              "      background-color: #3B4455;\n",
              "      fill: #D2E3FC;\n",
              "    }\n",
              "\n",
              "    [theme=dark] .colab-df-convert:hover {\n",
              "      background-color: #434B5C;\n",
              "      box-shadow: 0px 1px 3px 1px rgba(0, 0, 0, 0.15);\n",
              "      filter: drop-shadow(0px 1px 2px rgba(0, 0, 0, 0.3));\n",
              "      fill: #FFFFFF;\n",
              "    }\n",
              "  </style>\n",
              "\n",
              "    <script>\n",
              "      const buttonEl =\n",
              "        document.querySelector('#df-3b7aa0b9-1b17-43ef-b63d-91c963cb08c5 button.colab-df-convert');\n",
              "      buttonEl.style.display =\n",
              "        google.colab.kernel.accessAllowed ? 'block' : 'none';\n",
              "\n",
              "      async function convertToInteractive(key) {\n",
              "        const element = document.querySelector('#df-3b7aa0b9-1b17-43ef-b63d-91c963cb08c5');\n",
              "        const dataTable =\n",
              "          await google.colab.kernel.invokeFunction('convertToInteractive',\n",
              "                                                    [key], {});\n",
              "        if (!dataTable) return;\n",
              "\n",
              "        const docLinkHtml = 'Like what you see? Visit the ' +\n",
              "          '<a target=\"_blank\" href=https://colab.research.google.com/notebooks/data_table.ipynb>data table notebook</a>'\n",
              "          + ' to learn more about interactive tables.';\n",
              "        element.innerHTML = '';\n",
              "        dataTable['output_type'] = 'display_data';\n",
              "        await google.colab.output.renderOutput(dataTable, element);\n",
              "        const docLink = document.createElement('div');\n",
              "        docLink.innerHTML = docLinkHtml;\n",
              "        element.appendChild(docLink);\n",
              "      }\n",
              "    </script>\n",
              "  </div>\n",
              "\n",
              "\n",
              "<div id=\"df-22e6bb74-27bb-4300-9bc2-e51e5df2c840\">\n",
              "  <button class=\"colab-df-quickchart\" onclick=\"quickchart('df-22e6bb74-27bb-4300-9bc2-e51e5df2c840')\"\n",
              "            title=\"Suggest charts.\"\n",
              "            style=\"display:none;\">\n",
              "\n",
              "<svg xmlns=\"http://www.w3.org/2000/svg\" height=\"24px\"viewBox=\"0 0 24 24\"\n",
              "     width=\"24px\">\n",
              "    <g>\n",
              "        <path d=\"M19 3H5c-1.1 0-2 .9-2 2v14c0 1.1.9 2 2 2h14c1.1 0 2-.9 2-2V5c0-1.1-.9-2-2-2zM9 17H7v-7h2v7zm4 0h-2V7h2v10zm4 0h-2v-4h2v4z\"/>\n",
              "    </g>\n",
              "</svg>\n",
              "  </button>\n",
              "\n",
              "<style>\n",
              "  .colab-df-quickchart {\n",
              "    background-color: #E8F0FE;\n",
              "    border: none;\n",
              "    border-radius: 50%;\n",
              "    cursor: pointer;\n",
              "    display: none;\n",
              "    fill: #1967D2;\n",
              "    height: 32px;\n",
              "    padding: 0 0 0 0;\n",
              "    width: 32px;\n",
              "  }\n",
              "\n",
              "  .colab-df-quickchart:hover {\n",
              "    background-color: #E2EBFA;\n",
              "    box-shadow: 0px 1px 2px rgba(60, 64, 67, 0.3), 0px 1px 3px 1px rgba(60, 64, 67, 0.15);\n",
              "    fill: #174EA6;\n",
              "  }\n",
              "\n",
              "  [theme=dark] .colab-df-quickchart {\n",
              "    background-color: #3B4455;\n",
              "    fill: #D2E3FC;\n",
              "  }\n",
              "\n",
              "  [theme=dark] .colab-df-quickchart:hover {\n",
              "    background-color: #434B5C;\n",
              "    box-shadow: 0px 1px 3px 1px rgba(0, 0, 0, 0.15);\n",
              "    filter: drop-shadow(0px 1px 2px rgba(0, 0, 0, 0.3));\n",
              "    fill: #FFFFFF;\n",
              "  }\n",
              "</style>\n",
              "\n",
              "  <script>\n",
              "    async function quickchart(key) {\n",
              "      const charts = await google.colab.kernel.invokeFunction(\n",
              "          'suggestCharts', [key], {});\n",
              "    }\n",
              "    (() => {\n",
              "      let quickchartButtonEl =\n",
              "        document.querySelector('#df-22e6bb74-27bb-4300-9bc2-e51e5df2c840 button');\n",
              "      quickchartButtonEl.style.display =\n",
              "        google.colab.kernel.accessAllowed ? 'block' : 'none';\n",
              "    })();\n",
              "  </script>\n",
              "</div>\n",
              "    </div>\n",
              "  </div>\n"
            ]
          },
          "metadata": {},
          "execution_count": 171
        }
      ]
    },
    {
      "cell_type": "code",
      "source": [],
      "metadata": {
        "id": "n_3tWPLEbddj"
      },
      "execution_count": 171,
      "outputs": []
    }
  ]
}